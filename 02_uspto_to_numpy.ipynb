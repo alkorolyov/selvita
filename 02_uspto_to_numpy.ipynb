{
 "cells": [
  {
   "cell_type": "code",
   "execution_count": 214,
   "metadata": {
    "collapsed": true
   },
   "outputs": [
    {
     "name": "stdout",
     "output_type": "stream",
     "text": [
      "The autoreload extension is already loaded. To reload it, use:\n",
      "  %reload_ext autoreload\n"
     ]
    }
   ],
   "source": [
    "import random\n",
    "from glob import glob\n",
    "from time import time\n",
    "from typing import Union\n",
    "\n",
    "\n",
    "import pandas as pd\n",
    "import numpy as np\n",
    "from ord_data_load import ORD_PATH, ORD_REPO_PATH\n",
    "\n",
    "\n",
    "\n",
    "pd.set_option('display.max_rows', 500)\n",
    "pd.set_option('display.max_columns', 500)\n",
    "pd.set_option('display.width', 1000)\n",
    "\n",
    "#to disable warnings\n",
    "from rdkit import RDLogger\n",
    "RDLogger.DisableLog('rdApp.*')\n",
    "\n",
    "\n",
    "import os\n",
    "import multiprocessing as mp\n",
    "import gzip\n",
    "from google import protobuf\n",
    "\n",
    "from ord_schema import message_helpers\n",
    "from ord_schema.proto import dataset_pb2\n",
    "from ord_schema.proto import reaction_pb2\n",
    "\n",
    "from time import time\n",
    "from ord_data_load import load_dataset, filter_uspto_filenames\n",
    "\n",
    "%load_ext autoreload\n",
    "%autoreload 2"
   ]
  },
  {
   "cell_type": "code",
   "execution_count": 215,
   "outputs": [
    {
     "name": "stdout",
     "output_type": "stream",
     "text": [
      "CPU times: total: 0 ns\n",
      "Wall time: 0 ns\n"
     ]
    }
   ],
   "source": [
    "%%time\n",
    "# all_reactions = pd.read_pickle(f\"{ORD_PATH}/all_reactions.pkl\")\n",
    "# uspto_df = all_reactions.loc[~all_reactions.patent.isna()]"
   ],
   "metadata": {
    "collapsed": false
   }
  },
  {
   "cell_type": "code",
   "execution_count": 216,
   "outputs": [
    {
     "name": "stdout",
     "output_type": "stream",
     "text": [
      "515 / 515: parsing dataset 134.3s\n"
     ]
    }
   ],
   "source": [
    "# uspto_filenames = []\n",
    "# N = len(glob(f'{ORD_REPO_PATH}/data/*/*.pb.gz'))\n",
    "#\n",
    "# start = time()\n",
    "# for i, pb in enumerate(glob(f'{ORD_REPO_PATH}/data/*/*.pb.gz'), 1):\n",
    "#     print(f\"{i:3d} / {N}: parsing dataset {time() - start:.1f}s\", end=\"\\r\")\n",
    "#     dataset = load_dataset(pb)\n",
    "#     if \"uspto\" in dataset.name:\n",
    "#         uspto_filenames.append(pb)\n",
    "#\n",
    "# len(uspto_filenames)\n",
    "\n",
    "print(\"515 / 515: parsing dataset 134.3s\")"
   ],
   "metadata": {
    "collapsed": false
   }
  },
  {
   "cell_type": "code",
   "execution_count": 217,
   "outputs": [
    {
     "name": "stdout",
     "output_type": "stream",
     "text": [
      "Wall time: 28.6 s\n"
     ]
    }
   ],
   "source": [
    "# %%time\n",
    "# n_cores = 24\n",
    "#\n",
    "# with mp.Pool(n_cores) as p:\n",
    "#     uspto_filenames = p.map(filter_uspto_filenames, glob(f'{ORD_REPO_PATH}/data/*/*.pb.gz'))\n",
    "\n",
    "print(\"Wall time: 28.6 s\")"
   ],
   "metadata": {
    "collapsed": false
   }
  },
  {
   "cell_type": "code",
   "execution_count": 218,
   "outputs": [],
   "source": [
    "# save results\n",
    "# uspto_files = pd.Series(uspto_filenames).dropna()\n",
    "# uspto_files.to_csv(f\"{ORD_PATH}/uspto_files.csv\", index=False, header=False)"
   ],
   "metadata": {
    "collapsed": false
   }
  },
  {
   "cell_type": "code",
   "execution_count": 219,
   "outputs": [
    {
     "data": {
      "text/plain": "'./ord-data/data\\\\ac\\\\ord_dataset-ac1c7aa04d6c4e588e723e3e05721681.pb.gz'"
     },
     "execution_count": 219,
     "metadata": {},
     "output_type": "execute_result"
    }
   ],
   "source": [
    "uspto_files = pd.read_csv(f\"{ORD_PATH}/uspto_files.csv\").squeeze()\n",
    "\n",
    "pb = uspto_files.sample().iat[0]\n",
    "pb"
   ],
   "metadata": {
    "collapsed": false
   }
  },
  {
   "cell_type": "code",
   "execution_count": 220,
   "outputs": [
    {
     "name": "stdout",
     "output_type": "stream",
     "text": [
      "CPU times: total: 1.11 s\n",
      "Wall time: 1.11 s\n"
     ]
    }
   ],
   "source": [
    "%%time\n",
    "pb = glob(f'{ORD_REPO_PATH}/data/*/*c3c1091f873b4f40827973a6f1f9b685.pb.gz')[0]\n",
    "dataset = load_dataset(pb)"
   ],
   "metadata": {
    "collapsed": false
   }
  },
  {
   "cell_type": "code",
   "execution_count": 221,
   "outputs": [
    {
     "name": "stdout",
     "output_type": "stream",
     "text": [
      "uspto-grants-2014_09\n",
      "CML filenames: I20140902.xml,I20140909.xml,I20140916.xml,I20140923.xml,I20140930.xml\n",
      "17639\n"
     ]
    }
   ],
   "source": [
    "print(dataset.name)\n",
    "print(dataset.description)\n",
    "print(len(dataset.reactions))"
   ],
   "metadata": {
    "collapsed": false
   }
  },
  {
   "cell_type": "code",
   "execution_count": 222,
   "outputs": [
    {
     "data": {
      "text/plain": "'REACTANT'"
     },
     "execution_count": 222,
     "metadata": {},
     "output_type": "execute_result"
    }
   ],
   "source": [
    "def get_rxn_role(val):\n",
    "    return reaction_pb2.ReactionRole.ReactionRoleType.Name(val)\n",
    "\n",
    "get_rxn_role(1)"
   ],
   "metadata": {
    "collapsed": false
   }
  },
  {
   "cell_type": "code",
   "execution_count": 223,
   "outputs": [
    {
     "name": "stdout",
     "output_type": "stream",
     "text": [
      "name: 2-(2,6-difluorophenoxy)-5,5,6,6-tetramethyl-5,6-dihydro-1,4,3-oxathiazine 4,4-dioxide\n",
      "smiles:  FC1=C(OC=2OC(C(S(N2)(=O)=O)(C)C)(C)C)C(=CC=C1)F\n",
      "role: REACTANT\n",
      "=========================================================================\n",
      "name: (S)-1-phenylethylamine\n",
      "smiles:  C1(=CC=CC=C1)[C@H](C)N\n",
      "role: REACTANT\n",
      "=========================================================================\n",
      "name: ethyl acetate\n",
      "smiles:  C(C)(=O)OCC\n",
      "role: WORKUP\n",
      "=========================================================================\n",
      "name: MgSO4\n",
      "smiles:  [O-]S(=O)(=O)[O-].[Mg+2]\n",
      "role: WORKUP\n",
      "=========================================================================\n",
      "name: product\n",
      "name: ((S)-1-Phenylethyl)-(5,5,6,6-tetramethyl-4,4-dioxo-5,6-dihydro-4H-4lambda6-[1,4,3]oxathiazin-2-yl)amine\n",
      "smiles:  C1(=CC=CC=C1)[C@H](C)NC=1OC(C(S(N1)(=O)=O)(C)C)(C)C\n",
      "role: PRODUCT\n",
      "=========================================================================\n",
      "procedure_details: \"A mixture of 194 mg of 2-(2,6-difluorophenoxy)-5,5,6,6-tetramethyl-5,6-dihydro-1,4,3-oxathiazine 4,4-dioxide and 737 mg of (S)-1-phenylethylamine was stirred at room temperature for 16 hours and then purified in a purification laboratory by means of preparative HPLC. The combined product-containing fractions were alkalized with 25% aqueous ammonia solution and extracted three times with 30 ml of ethyl acetate, and the combined organic phases were dried over MgSO4 and concentrated by rotary evaporation. This gave the product (96 mg) with a molecular weight of 310.4 g/mol (C15H22N2O3S); MS (ESI): m/e=311 (M+H+).\"\n",
      "\n",
      "CPU times: total: 0 ns\n",
      "Wall time: 1e+03 µs\n"
     ]
    }
   ],
   "source": [
    "%%time\n",
    "rxn = random.choice(dataset.reactions)\n",
    "for cmpd in message_helpers.find_submessages(rxn, reaction_pb2.Compound):\n",
    "    for i in cmpd.identifiers:\n",
    "        if i.type == reaction_pb2.CompoundIdentifier.NAME:\n",
    "            print(\"name:\", i.value)\n",
    "        if i.type == reaction_pb2.CompoundIdentifier.SMILES:\n",
    "            print(\"smiles: \", i.value)\n",
    "    print(\"role:\", get_rxn_role(cmpd.reaction_role))\n",
    "    print(\"=========================================================================\")\n",
    "for cmpd in message_helpers.find_submessages(rxn, reaction_pb2.ProductCompound):\n",
    "    for i in cmpd.identifiers:\n",
    "        if i.type == reaction_pb2.CompoundIdentifier.NAME:\n",
    "            print(\"name:\", i.value)\n",
    "        if i.type == reaction_pb2.CompoundIdentifier.SMILES:\n",
    "            print(\"smiles: \", i.value)\n",
    "    print(\"role:\", get_rxn_role(cmpd.reaction_role))\n",
    "    print(\"=========================================================================\")\n",
    "print(rxn.notes)"
   ],
   "metadata": {
    "collapsed": false
   }
  },
  {
   "cell_type": "code",
   "execution_count": 224,
   "outputs": [
    {
     "name": "stdout",
     "output_type": "stream",
     "text": [
      "Total reactions parsed: 4593\n",
      "Total compounds parsed: 36656\n",
      "Compounds per rxn     : 7.980840409318528\n",
      "CPU times: total: 2.02 s\n",
      "Wall time: 2.02 s\n"
     ]
    }
   ],
   "source": [
    "%%time\n",
    "pb = random.choice(uspto_files)\n",
    "# pb = glob(f'{ORD_REPO_PATH}/data/*/*c3c1091f873b4f40827973a6f1f9b685.pb.gz')[0]\n",
    "\n",
    "dataset = load_dataset(pb)\n",
    "cmpd_count = 0\n",
    "for rxn in dataset.reactions:\n",
    "    cmpd_count += len(message_helpers.find_submessages(rxn, reaction_pb2.Compound))\n",
    "    cmpd_count += len(message_helpers.find_submessages(rxn, reaction_pb2.ProductCompound))\n",
    "\n",
    "print(\"Total reactions parsed:\", len(dataset.reactions))\n",
    "print(\"Total compounds parsed:\", cmpd_count)\n",
    "print(\"Compounds per rxn     :\", cmpd_count / len(dataset.reactions))"
   ],
   "metadata": {
    "collapsed": false
   }
  },
  {
   "cell_type": "code",
   "execution_count": 225,
   "outputs": [
    {
     "name": "stdout",
     "output_type": "stream",
     "text": [
      "=================================================\n",
      "Fraction of multinames: 3.139323161926289e-05\n",
      "max len: 2\n",
      "CPU times: total: 984 ms\n",
      "Wall time: 977 ms\n"
     ]
    }
   ],
   "source": [
    "%%time\n",
    "cmpd_count = 0\n",
    "max_len = 0\n",
    "for rxn in dataset.reactions:\n",
    "    for cmpd in message_helpers.find_submessages(rxn, reaction_pb2.Compound):\n",
    "    # for cmpd in message_helpers.find_submessages(rxn, reaction_pb2.ProductCompound):\n",
    "        cmpd_count += 1\n",
    "\n",
    "        names = []\n",
    "        for i in cmpd.identifiers:\n",
    "            if i.type == reaction_pb2.CompoundIdentifier.NAME:\n",
    "                names.append(i.value)\n",
    "        if len(names) > 1:\n",
    "            # pass\n",
    "            # print(names)\n",
    "            if len(names) > max_len:\n",
    "                max_len = len(names)\n",
    "\n",
    "\n",
    "print(\"=================================================\")\n",
    "print(\"Fraction of multinames:\", len(names) / cmpd_count)\n",
    "print(\"max len:\", max_len)"
   ],
   "metadata": {
    "collapsed": false
   }
  },
  {
   "cell_type": "code",
   "execution_count": 226,
   "outputs": [
    {
     "data": {
      "text/plain": "'REAGENT'"
     },
     "execution_count": 226,
     "metadata": {},
     "output_type": "execute_result"
    }
   ],
   "source": [
    "get_rxn_role(2)"
   ],
   "metadata": {
    "collapsed": false
   }
  },
  {
   "cell_type": "code",
   "execution_count": 236,
   "outputs": [
    {
     "name": "stdout",
     "output_type": "stream",
     "text": [
      "Dataset uspto-grants-2014_09 loaded in 1.14s\n",
      "Dataset uspto-grants-2014_09 parsed in 1.42s\n",
      "(99416, 5)\n",
      "Total reactions parsed: 17639\n",
      "Total compounds parsed: 99416\n",
      "Compounds per rxn     : 5.63614717387607\n",
      "Size                 : 3.8MB\n",
      "Size per rxn         : 225B\n"
     ]
    }
   ],
   "source": [
    "\"\"\"\n",
    "    Numpy array of compounds with two indexes [0 .. total_cmpd_numer, field_idx]\n",
    "    - first idx:\n",
    "        Compound index\n",
    "    - second idx:\n",
    "        Corresponding field index\n",
    "        ['second name', 'name', 'smiles', 'role', 'rxn_id']\n",
    "        arr[i, 0] - (str/optional), trivial name or compound label in the patent\n",
    "        arr[i, 1] - (str), systematic name\n",
    "        arr[i, 2] - (str), smiles\n",
    "        arr[i, 3] - (int), reaction role enum from reaction_pb2.ReactionRole.ReactionRoleType,\n",
    "                           e.g. \"REACTANT\" - 1, \"SOLVENT\" - 3, \"CATALYST\" - 4, \"PRODUCT\" - 8\n",
    "        arr[i, 4] - (str), reaction_id, e.g. \"ord-43d5b7a6265d46a0ab8a7e2b2db5ad33\"\n",
    "\n",
    "\"\"\"\n",
    "\n",
    "def parse_compound(arr: np.array,\n",
    "                   idx: int,\n",
    "                   rxn: reaction_pb2.Reaction,\n",
    "                   cmpd: Union[reaction_pb2.Compound, reaction_pb2.ProductCompound]\n",
    "                   ):\n",
    "    names = []\n",
    "    for i in cmpd.identifiers:\n",
    "        if i.type == reaction_pb2.CompoundIdentifier.NAME:\n",
    "            names.append(i.value)\n",
    "        if i.type == reaction_pb2.CompoundIdentifier.SMILES:\n",
    "            arr[idx, 2] = i.value\n",
    "\n",
    "    if len(names) == 1:\n",
    "        arr[idx, 1] = names[0]\n",
    "    else:\n",
    "        arr[idx, 0] = names[0]\n",
    "        arr[idx, 1] = names[1]\n",
    "\n",
    "    arr[idx, 3] = cmpd.reaction_role\n",
    "    arr[idx, 4] = rxn.reaction_id\n",
    "\n",
    "\n",
    "start = time()\n",
    "pb = glob(f'{ORD_REPO_PATH}/data/*/*c3c1091f873b4f40827973a6f1f9b685.pb.gz')[0]\n",
    "# pb = random.choice(uspto_files)\n",
    "dataset = load_dataset(pb)\n",
    "print(f\"Dataset {dataset.name} loaded in {time() - start:.2f}s\", )\n",
    "\n",
    "start = time()\n",
    "\n",
    "\n",
    "def parse_dataset(dataset: dataset_pb2.Dataset) -> np.array:\n",
    "    N = len(dataset.reactions)\n",
    "    arr = np.empty((N*10, 5), dtype=object)\n",
    "    idx = 0\n",
    "\n",
    "    for rxn in dataset.reactions:\n",
    "        compounds = []\n",
    "\n",
    "        for key in rxn.inputs:\n",
    "            compounds.extend(rxn.inputs[key].components)\n",
    "        compounds.extend(rxn.outcomes[0].products)\n",
    "\n",
    "        for cmpd in compounds:\n",
    "            parse_compound(arr, idx, rxn, cmpd)\n",
    "            idx += 1\n",
    "    arr = np.resize(arr, (idx, 5))\n",
    "    return arr\n",
    "\n",
    "arr = parse_dataset(dataset)\n",
    "\n",
    "print(f\"Dataset {dataset.name} parsed in {time() - start:.2f}s\", )\n",
    "print(arr.shape)\n",
    "print(\"Total reactions parsed:\", len(dataset.reactions))\n",
    "print(\"Total compounds parsed:\", len(arr))\n",
    "print(\"Compounds per rxn     :\", len(arr) / len(dataset.reactions))\n",
    "# print(\"Max NAME len          :\", np.char.str_len(reactants[:, 0]).max())\n",
    "# print(\"Max SMILES len        :\", np.char.str_len(reactants[:, 1]).max())\n",
    "print(f\"Size                 : {arr.nbytes / 1024 / 1024:.1f}MB\")\n",
    "print(f\"Size per rxn         : {arr.nbytes / len(dataset.reactions):.0f}B\")\n",
    "\n"
   ],
   "metadata": {
    "collapsed": false
   }
  },
  {
   "cell_type": "code",
   "execution_count": 237,
   "outputs": [
    {
     "data": {
      "text/plain": "array([[None, '3-amino-2-naphthol', 'NC=1C(=CC2=CC=CC=C2C1)O', 1,\n        'ord-43d5b7a6265d46a0ab8a7e2b2db5ad33'],\n       [None, 'sodium carbonate', 'C([O-])([O-])=O.[Na+].[Na+]', 1,\n        'ord-43d5b7a6265d46a0ab8a7e2b2db5ad33'],\n       [None, 'acetone', 'CC(=O)C', 3,\n        'ord-43d5b7a6265d46a0ab8a7e2b2db5ad33'],\n       ...,\n       [None, 'trifluoroacetic acid', 'FC(C(=O)O)(F)F', 1,\n        'ord-470523d3fae643daa127a94a8bc31299'],\n       [None, 'dichloromethane', 'ClCCl', 3,\n        'ord-470523d3fae643daa127a94a8bc31299'],\n       [None,\n        '(1R,3aS,5aR,5bR,7aR,11aR,11bR,13aR,13bR)-3a-amino-5a,5b,8,8,11a-pentamethyl-1-(prop-1-en-2-yl)-2,3,3a,4,5,5a,5b,6,7,7a,8,11,11a,11b,12,13,13a,13b-octadecahydro-1H-cyclopenta[a]chrysen-9-yl trifluoromethanesulfonate',\n        'FC(S(=O)(=O)OC=1C([C@@H]2CC[C@]3([C@@]4(CC[C@@]5([C@@H]([C@H]4CC[C@@H]3[C@]2(CC1)C)[C@@H](CC5)C(=C)C)N)C)C)(C)C)(F)F',\n        8, 'ord-470523d3fae643daa127a94a8bc31299']], dtype=object)"
     },
     "execution_count": 237,
     "metadata": {},
     "output_type": "execute_result"
    }
   ],
   "source": [
    "arr"
   ],
   "metadata": {
    "collapsed": false
   }
  },
  {
   "cell_type": "code",
   "execution_count": 238,
   "outputs": [
    {
     "data": {
      "text/plain": "array([['D3', 'cholecalciferol',\n        'C[C@H](CCCC(C)C)[C@H]1CC[C@@H]\\\\2[C@@]1(CCC/C2=C\\\\C=C/3\\\\C[C@H](CCC3=C)O)C',\n        1, 'ord-a2dadd22025a409987662a0f64ebd88e'],\n       ['product',\n        'N-allyl-N-methyl-3-[(3-methyl-4-nitrophenyl)amino]-N-{3-[(3-methyl-4-nitrophenyl)amino]propyl}-1-propanaminium p-toluene sulfonate',\n        'C1(=CC=C(C=C1)S(=O)(=O)[O-])C.C(C=C)[N+](CCCNC1=CC(=C(C=C1)[N+](=O)[O-])C)(CCCNC1=CC(=C(C=C1)[N+](=O)[O-])C)C',\n        8, 'ord-36d795d1da95405ea6c75daa91c54980'],\n       ['title compound', 'Auristatin F hydroxypropylamide',\n        'CC[C@H](C)[C@@H]([C@@H](CC(=O)N1CCC[C@H]1[C@@H]([C@@H](C)C(=O)N[C@@H](CC2=CC=CC=C2)C(=O)O)OC)OC)N(C)C(=O)[C@H](C(C)C)NC(=O)[C@H](C(C)C)N(C)C.OCCC[NH-]',\n        8, 'ord-e1e02cc4069141228fd25e1f04d271b5'],\n       ...,\n       ['title compound',\n        '4-((1R,3aS,5aR,5bR,7aR,11aS,11bR,13aR,13bR)-3a-((2-(4-(cyclopropanecarbonyl)piperazin-1-yl)ethyl)amino)-5a,5b,8,8,11a-pentamethyl-1-(prop-1-en-2-yl)-2,3,3a,4,5,5a,5b,6,7,7a,8,11,11a,11b,12,13,13a,13b-octadecahydro-1H-cyclopenta[a]chrysen-9-yl)benzoic acid',\n        'C1(CC1)C(=O)N1CCN(CC1)CCN[C@]12[C@@H]([C@H]3CC[C@@H]4[C@]5(CC=C(C([C@@H]5CC[C@]4([C@@]3(CC1)C)C)(C)C)C1=CC=C(C(=O)O)C=C1)C)[C@@H](CC2)C(=C)C',\n        8, 'ord-25928c66ea1d423eb04f53245398339b'],\n       ['title compound',\n        '4-((1R,3aS,5aR,5bR,7aR,11aS,11bR,13aR,13bR)-5a,5b,8,8,11a-pentamethyl-3a-((2-(4-(1-methylcyclopropanecarbonyl)piperazin-1-yl)ethyl)amino)-1-(prop-1-en-2-yl)-2,3,3a,4,5,5a,5b,6,7,7a,8,11,11a,11b,12,13,13a,13b-octadecahydro-1H-cyclopenta[a]chrysen-9-yl)benzoic acid',\n        'C[C@]12CC[C@@]3([C@@H]([C@H]2CC[C@@H]2[C@]4(CC=C(C([C@@H]4CC[C@@]12C)(C)C)C1=CC=C(C(=O)O)C=C1)C)[C@@H](CC3)C(=C)C)NCCN3CCN(CC3)C(=O)C3(CC3)C',\n        8, 'ord-892ab286480d4efe8d5f2448e8628d1d'],\n       ['title compound',\n        '4-((1R,3aS,5aR,5bR,7aR,11aS,11bR,13aR,13bR)-3a-((2-(4-isobutyrylpiperazin-1-yl)ethyl)amino)-5a,5b,8,8,11a-pentamethyl-1-(prop-1-en-2-yl)-2,3,3a,4,5,5a,5b,6,7,7a,8,11,11a,11b,12,13,13a,13b-octadecahydro-1H-cyclopenta[a]chrysen-9-yl)benzoic acid',\n        'C(C(C)C)(=O)N1CCN(CC1)CCN[C@]12[C@@H]([C@H]3CC[C@@H]4[C@]5(CC=C(C([C@@H]5CC[C@]4([C@@]3(CC1)C)C)(C)C)C1=CC=C(C(=O)O)C=C1)C)[C@@H](CC2)C(=C)C',\n        8, 'ord-9c7869850d9f43d9914f974c8487843e']], dtype=object)"
     },
     "execution_count": 238,
     "metadata": {},
     "output_type": "execute_result"
    }
   ],
   "source": [
    "arr[~np.equal(arr[:, 0], None)]"
   ],
   "metadata": {
    "collapsed": false
   }
  },
  {
   "cell_type": "code",
   "execution_count": 239,
   "outputs": [],
   "source": [
    "names_unique = np.unique(arr[~np.equal(arr[:, 1], None)][:, 1], return_counts=True)\n",
    "# np.unique(arr[:, 1])"
   ],
   "metadata": {
    "collapsed": false
   }
  },
  {
   "cell_type": "code",
   "execution_count": 240,
   "outputs": [
    {
     "data": {
      "text/plain": "array(['acetonitrile', 'acetic acid', 'dioxane', 'toluene', 'Water',\n       'potassium carbonate', 'CH2Cl2', 'EtOAc', 'MeOH', 'ethanol',\n       'triethylamine', 'DCM', 'tetrahydrofuran', 'HCl', 'methanol',\n       'ethyl acetate', 'dichloromethane', 'DMF', 'THF', 'water'],\n      dtype=object)"
     },
     "execution_count": 240,
     "metadata": {},
     "output_type": "execute_result"
    }
   ],
   "source": [
    "names_unique[0][np.argsort(names_unique[1])][-20:]"
   ],
   "metadata": {
    "collapsed": false
   }
  },
  {
   "cell_type": "code",
   "execution_count": 241,
   "outputs": [
    {
     "name": "stdout",
     "output_type": "stream",
     "text": [
      "CPU times: total: 31.2 ms\n",
      "Wall time: 28 ms\n"
     ]
    },
    {
     "data": {
      "text/plain": "320"
     },
     "execution_count": 241,
     "metadata": {},
     "output_type": "execute_result"
    }
   ],
   "source": [
    "%%time\n",
    "len_vect = np.vectorize(lambda x: len(str(x)))\n",
    "len_vect(arr[:, 1]).max()"
   ],
   "metadata": {
    "collapsed": false
   }
  }
 ],
 "metadata": {
  "kernelspec": {
   "display_name": "Python 3",
   "language": "python",
   "name": "python3"
  },
  "language_info": {
   "codemirror_mode": {
    "name": "ipython",
    "version": 2
   },
   "file_extension": ".py",
   "mimetype": "text/x-python",
   "name": "python",
   "nbconvert_exporter": "python",
   "pygments_lexer": "ipython2",
   "version": "2.7.6"
  }
 },
 "nbformat": 4,
 "nbformat_minor": 0
}
