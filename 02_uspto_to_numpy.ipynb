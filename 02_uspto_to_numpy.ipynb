{
 "cells": [
  {
   "cell_type": "code",
   "execution_count": 214,
   "metadata": {
    "collapsed": true
   },
   "outputs": [
    {
     "name": "stdout",
     "output_type": "stream",
     "text": [
      "The autoreload extension is already loaded. To reload it, use:\n",
      "  %reload_ext autoreload\n"
     ]
    }
   ],
   "source": [
    "import random\n",
    "from glob import glob\n",
    "from time import time\n",
    "from typing import Union\n",
    "\n",
    "import pandas as pd\n",
    "import numpy as np\n",
    "from ord_data_load import ORD_PATH, ORD_REPO_PATH\n",
    "\n",
    "pd.set_option('display.max_rows', 500)\n",
    "pd.set_option('display.max_columns', 500)\n",
    "pd.set_option('display.width', 1000)\n",
    "\n",
    "#to disable warnings\n",
    "from rdkit import RDLogger\n",
    "RDLogger.DisableLog('rdApp.*')\n",
    "\n",
    "\n",
    "import os\n",
    "import multiprocessing as mp\n",
    "import gzip\n",
    "from google import protobuf\n",
    "\n",
    "from ord_schema import message_helpers\n",
    "from ord_schema.proto import dataset_pb2\n",
    "from ord_schema.proto import reaction_pb2\n",
    "\n",
    "from time import time\n",
    "from ord_data_load import load_dataset, filter_uspto_filenames\n",
    "\n",
    "%load_ext autoreload\n",
    "%autoreload 2"
   ]
  },
  {
   "cell_type": "code",
   "execution_count": 216,
   "outputs": [
    {
     "name": "stdout",
     "output_type": "stream",
     "text": [
      "515 / 515: parsing dataset 134.3s\n"
     ]
    }
   ],
   "source": [
    "# uspto_filenames = []\n",
    "# N = len(glob(f'{ORD_REPO_PATH}/data/*/*.pb.gz'))\n",
    "#\n",
    "# start = time()\n",
    "# for i, pb in enumerate(glob(f'{ORD_REPO_PATH}/data/*/*.pb.gz'), 1):\n",
    "#     print(f\"{i:3d} / {N}: parsing dataset {time() - start:.1f}s\", end=\"\\r\")\n",
    "#     dataset = load_dataset(pb)\n",
    "#     if \"uspto\" in dataset.name:\n",
    "#         uspto_filenames.append(pb)\n",
    "#\n",
    "# len(uspto_filenames)\n",
    "\n",
    "print(\"515 / 515: parsing dataset 134.3s\")"
   ],
   "metadata": {
    "collapsed": false
   }
  },
  {
   "cell_type": "code",
   "execution_count": 268,
   "outputs": [
    {
     "name": "stdout",
     "output_type": "stream",
     "text": [
      "uspto_files.csv already exists ... loading\n",
      "CPU times: total: 0 ns\n",
      "Wall time: 5 ms\n"
     ]
    }
   ],
   "source": [
    "%%time\n",
    "\n",
    "if os.path.exists(f\"{ORD_PATH}/uspto_files.csv\"):\n",
    "    print(\"uspto_files.csv already exists ... loading\")\n",
    "    uspto_files = pd.read_csv(f\"{ORD_PATH}/uspto_files.csv\").squeeze()\n",
    "else:\n",
    "    print(\"extracting uspto filenames ... \", end=\"\")\n",
    "    n_cores = 24\n",
    "    with mp.Pool(n_cores) as p:\n",
    "        uspto_filenames = p.map(filter_uspto_filenames, glob(f'{ORD_REPO_PATH}/data/*/*.pb.gz'))\n",
    "\n",
    "    # save results\n",
    "    uspto_files = pd.Series(uspto_filenames).dropna()\n",
    "    uspto_files.to_csv(f\"{ORD_PATH}/uspto_files.csv\", index=False, header=False)\n",
    "    print(\"saved to uspto_files.csv\")"
   ],
   "metadata": {
    "collapsed": false
   }
  },
  {
   "cell_type": "markdown",
   "source": [
    "# Create parsing method for USPTO compounds"
   ],
   "metadata": {
    "collapsed": false
   }
  },
  {
   "cell_type": "code",
   "execution_count": 219,
   "outputs": [
    {
     "data": {
      "text/plain": "'./ord-data/data\\\\ac\\\\ord_dataset-ac1c7aa04d6c4e588e723e3e05721681.pb.gz'"
     },
     "execution_count": 219,
     "metadata": {},
     "output_type": "execute_result"
    }
   ],
   "source": [
    "uspto_files = pd.read_csv(f\"{ORD_PATH}/uspto_files.csv\").squeeze()\n",
    "\n",
    "pb = uspto_files.sample().iat[0]\n",
    "pb"
   ],
   "metadata": {
    "collapsed": false
   }
  },
  {
   "cell_type": "code",
   "execution_count": 220,
   "outputs": [
    {
     "name": "stdout",
     "output_type": "stream",
     "text": [
      "CPU times: total: 1.11 s\n",
      "Wall time: 1.11 s\n"
     ]
    }
   ],
   "source": [
    "%%time\n",
    "pb = glob(f'{ORD_REPO_PATH}/data/*/*c3c1091f873b4f40827973a6f1f9b685.pb.gz')[0]\n",
    "dataset = load_dataset(pb)"
   ],
   "metadata": {
    "collapsed": false
   }
  },
  {
   "cell_type": "code",
   "execution_count": 221,
   "outputs": [
    {
     "name": "stdout",
     "output_type": "stream",
     "text": [
      "uspto-grants-2014_09\n",
      "CML filenames: I20140902.xml,I20140909.xml,I20140916.xml,I20140923.xml,I20140930.xml\n",
      "17639\n"
     ]
    }
   ],
   "source": [
    "print(dataset.name)\n",
    "print(dataset.description)\n",
    "print(len(dataset.reactions))"
   ],
   "metadata": {
    "collapsed": false
   }
  },
  {
   "cell_type": "code",
   "execution_count": 222,
   "outputs": [
    {
     "data": {
      "text/plain": "'REACTANT'"
     },
     "execution_count": 222,
     "metadata": {},
     "output_type": "execute_result"
    }
   ],
   "source": [
    "def get_rxn_role(val):\n",
    "    return reaction_pb2.ReactionRole.ReactionRoleType.Name(val)\n",
    "\n",
    "get_rxn_role(1)"
   ],
   "metadata": {
    "collapsed": false
   }
  },
  {
   "cell_type": "code",
   "execution_count": 223,
   "outputs": [
    {
     "name": "stdout",
     "output_type": "stream",
     "text": [
      "name: 2-(2,6-difluorophenoxy)-5,5,6,6-tetramethyl-5,6-dihydro-1,4,3-oxathiazine 4,4-dioxide\n",
      "smiles:  FC1=C(OC=2OC(C(S(N2)(=O)=O)(C)C)(C)C)C(=CC=C1)F\n",
      "role: REACTANT\n",
      "=========================================================================\n",
      "name: (S)-1-phenylethylamine\n",
      "smiles:  C1(=CC=CC=C1)[C@H](C)N\n",
      "role: REACTANT\n",
      "=========================================================================\n",
      "name: ethyl acetate\n",
      "smiles:  C(C)(=O)OCC\n",
      "role: WORKUP\n",
      "=========================================================================\n",
      "name: MgSO4\n",
      "smiles:  [O-]S(=O)(=O)[O-].[Mg+2]\n",
      "role: WORKUP\n",
      "=========================================================================\n",
      "name: product\n",
      "name: ((S)-1-Phenylethyl)-(5,5,6,6-tetramethyl-4,4-dioxo-5,6-dihydro-4H-4lambda6-[1,4,3]oxathiazin-2-yl)amine\n",
      "smiles:  C1(=CC=CC=C1)[C@H](C)NC=1OC(C(S(N1)(=O)=O)(C)C)(C)C\n",
      "role: PRODUCT\n",
      "=========================================================================\n",
      "procedure_details: \"A mixture of 194 mg of 2-(2,6-difluorophenoxy)-5,5,6,6-tetramethyl-5,6-dihydro-1,4,3-oxathiazine 4,4-dioxide and 737 mg of (S)-1-phenylethylamine was stirred at room temperature for 16 hours and then purified in a purification laboratory by means of preparative HPLC. The combined product-containing fractions were alkalized with 25% aqueous ammonia solution and extracted three times with 30 ml of ethyl acetate, and the combined organic phases were dried over MgSO4 and concentrated by rotary evaporation. This gave the product (96 mg) with a molecular weight of 310.4 g/mol (C15H22N2O3S); MS (ESI): m/e=311 (M+H+).\"\n",
      "\n",
      "CPU times: total: 0 ns\n",
      "Wall time: 1e+03 µs\n"
     ]
    }
   ],
   "source": [
    "%%time\n",
    "rxn = random.choice(dataset.reactions)\n",
    "for cmpd in message_helpers.find_submessages(rxn, reaction_pb2.Compound):\n",
    "    for i in cmpd.identifiers:\n",
    "        if i.type == reaction_pb2.CompoundIdentifier.NAME:\n",
    "            print(\"name:\", i.value)\n",
    "        if i.type == reaction_pb2.CompoundIdentifier.SMILES:\n",
    "            print(\"smiles: \", i.value)\n",
    "    print(\"role:\", get_rxn_role(cmpd.reaction_role))\n",
    "    print(\"=========================================================================\")\n",
    "for cmpd in message_helpers.find_submessages(rxn, reaction_pb2.ProductCompound):\n",
    "    for i in cmpd.identifiers:\n",
    "        if i.type == reaction_pb2.CompoundIdentifier.NAME:\n",
    "            print(\"name:\", i.value)\n",
    "        if i.type == reaction_pb2.CompoundIdentifier.SMILES:\n",
    "            print(\"smiles: \", i.value)\n",
    "    print(\"role:\", get_rxn_role(cmpd.reaction_role))\n",
    "    print(\"=========================================================================\")\n",
    "print(rxn.notes)"
   ],
   "metadata": {
    "collapsed": false
   }
  },
  {
   "cell_type": "code",
   "execution_count": 224,
   "outputs": [
    {
     "name": "stdout",
     "output_type": "stream",
     "text": [
      "Total reactions parsed: 4593\n",
      "Total compounds parsed: 36656\n",
      "Compounds per rxn     : 7.980840409318528\n",
      "CPU times: total: 2.02 s\n",
      "Wall time: 2.02 s\n"
     ]
    }
   ],
   "source": [
    "%%time\n",
    "pb = random.choice(uspto_files)\n",
    "# pb = glob(f'{ORD_REPO_PATH}/data/*/*c3c1091f873b4f40827973a6f1f9b685.pb.gz')[0]\n",
    "\n",
    "dataset = load_dataset(pb)\n",
    "cmpd_count = 0\n",
    "for rxn in dataset.reactions:\n",
    "    cmpd_count += len(message_helpers.find_submessages(rxn, reaction_pb2.Compound))\n",
    "    cmpd_count += len(message_helpers.find_submessages(rxn, reaction_pb2.ProductCompound))\n",
    "\n",
    "print(\"Total reactions parsed:\", len(dataset.reactions))\n",
    "print(\"Total compounds parsed:\", cmpd_count)\n",
    "print(\"Compounds per rxn     :\", cmpd_count / len(dataset.reactions))"
   ],
   "metadata": {
    "collapsed": false
   }
  },
  {
   "cell_type": "code",
   "execution_count": 225,
   "outputs": [
    {
     "name": "stdout",
     "output_type": "stream",
     "text": [
      "=================================================\n",
      "Fraction of multinames: 3.139323161926289e-05\n",
      "max len: 2\n",
      "CPU times: total: 984 ms\n",
      "Wall time: 977 ms\n"
     ]
    }
   ],
   "source": [
    "%%time\n",
    "cmpd_count = 0\n",
    "max_len = 0\n",
    "for rxn in dataset.reactions:\n",
    "    for cmpd in message_helpers.find_submessages(rxn, reaction_pb2.Compound):\n",
    "    # for cmpd in message_helpers.find_submessages(rxn, reaction_pb2.ProductCompound):\n",
    "        cmpd_count += 1\n",
    "\n",
    "        names = []\n",
    "        for i in cmpd.identifiers:\n",
    "            if i.type == reaction_pb2.CompoundIdentifier.NAME:\n",
    "                names.append(i.value)\n",
    "        if len(names) > 1:\n",
    "            # pass\n",
    "            # print(names)\n",
    "            if len(names) > max_len:\n",
    "                max_len = len(names)\n",
    "\n",
    "\n",
    "print(\"=================================================\")\n",
    "print(\"Fraction of multinames:\", len(names) / cmpd_count)\n",
    "print(\"max len:\", max_len)"
   ],
   "metadata": {
    "collapsed": false
   }
  },
  {
   "cell_type": "code",
   "execution_count": 226,
   "outputs": [
    {
     "data": {
      "text/plain": "'REAGENT'"
     },
     "execution_count": 226,
     "metadata": {},
     "output_type": "execute_result"
    }
   ],
   "source": [
    "get_rxn_role(2)"
   ],
   "metadata": {
    "collapsed": false
   }
  },
  {
   "cell_type": "code",
   "execution_count": 379,
   "outputs": [
    {
     "name": "stdout",
     "output_type": "stream",
     "text": [
      "Dataset uspto-grants-2014_09 loaded in 1.05s\n",
      "Dataset uspto-grants-2014_09 parsed in 1.44s\n",
      "(99416, 5)\n",
      "Total reactions parsed: 17639\n",
      "Total compounds parsed: 99416\n",
      "Compounds per rxn     : 5.63614717387607\n",
      "Size                 : 3.8MB\n",
      "Size per rxn         : 225B\n"
     ]
    }
   ],
   "source": [
    "\"\"\"\n",
    "    Numpy array of compounds with two indexes [0 .. total_cmpd_numer, field_idx]\n",
    "    - first idx:\n",
    "        Compound index\n",
    "    - second idx:\n",
    "        Corresponding field index\n",
    "        ['second name', 'name', 'smiles', 'role', 'rxn_id']\n",
    "        arr[i, 0] - (str/optional), trivial name or compound label in the patent\n",
    "        arr[i, 1] - (str), systematic name\n",
    "        arr[i, 2] - (str), smiles\n",
    "        arr[i, 3] - (int), reaction role enum from reaction_pb2.ReactionRole.ReactionRoleType,\n",
    "                           e.g. \"REACTANT\" - 1, \"SOLVENT\" - 3, \"CATALYST\" - 4, \"PRODUCT\" - 8\n",
    "        arr[i, 4] - (str), reaction_id, e.g. \"ord-43d5b7a6265d46a0ab8a7e2b2db5ad33\"\n",
    "\n",
    "\"\"\"\n",
    "\n",
    "def parse_compound(arr: np.array,\n",
    "                   idx: int,\n",
    "                   rxn: reaction_pb2.Reaction,\n",
    "                   cmpd: Union[reaction_pb2.Compound, reaction_pb2.ProductCompound]\n",
    "                   ):\n",
    "    names = []\n",
    "    for i in cmpd.identifiers:\n",
    "        if i.type == reaction_pb2.CompoundIdentifier.NAME:\n",
    "            names.append(i.value)\n",
    "        if i.type == reaction_pb2.CompoundIdentifier.SMILES:\n",
    "            arr[idx, 2] = i.value\n",
    "\n",
    "    if len(names) == 1:\n",
    "        arr[idx, 1] = names[0]\n",
    "    else:\n",
    "        arr[idx, 0] = names[0]\n",
    "        arr[idx, 1] = names[1]\n",
    "\n",
    "    arr[idx, 3] = cmpd.reaction_role\n",
    "    arr[idx, 4] = rxn.reaction_id\n",
    "\n",
    "def parse_product(arr: np.array,\n",
    "                   idx: int,\n",
    "                   rxn: reaction_pb2.Reaction,\n",
    "                   cmpd: Union[reaction_pb2.Compound, reaction_pb2.ProductCompound]\n",
    "                   ):\n",
    "\n",
    "    parse_compound(arr, idx, rxn, cmpd)\n",
    "    # products sometimes have UNDEFINED rxn_role\n",
    "    if arr[idx, 3] == 0: # UNDEFINED\n",
    "        arr[idx, 3] = 8 # PRODUCT\n",
    "\n",
    "\n",
    "start = time()\n",
    "pb = glob(f'{ORD_REPO_PATH}/data/*/*c3c1091f873b4f40827973a6f1f9b685.pb.gz')[0]\n",
    "# pb = random.choice(uspto_files)\n",
    "dataset = load_dataset(pb)\n",
    "print(f\"Dataset {dataset.name} loaded in {time() - start:.2f}s\", )\n",
    "\n",
    "start = time()\n",
    "\n",
    "\n",
    "def parse_dataset(dataset: dataset_pb2.Dataset) -> np.array:\n",
    "    N = len(dataset.reactions)\n",
    "    arr = np.empty((N*10, 5), dtype=object) # upper limit ~10x compounds per reaction\n",
    "    idx = 0\n",
    "\n",
    "    for rxn in dataset.reactions:\n",
    "        compounds = []\n",
    "        products = []\n",
    "\n",
    "        for key in rxn.inputs:\n",
    "            compounds.extend(rxn.inputs[key].components)\n",
    "        products.extend(rxn.outcomes[0].products)\n",
    "\n",
    "        for cmpd in compounds:\n",
    "            parse_compound(arr, idx, rxn, cmpd)\n",
    "            idx += 1\n",
    "        for cmpd in products:\n",
    "            parse_product(arr, idx, rxn, cmpd)\n",
    "            idx += 1\n",
    "    arr = np.resize(arr, (idx, 5))\n",
    "    return arr\n",
    "\n",
    "arr = parse_dataset(dataset)\n",
    "\n",
    "print(f\"Dataset {dataset.name} parsed in {time() - start:.2f}s\", )\n",
    "print(arr.shape)\n",
    "print(\"Total reactions parsed:\", len(dataset.reactions))\n",
    "print(\"Total compounds parsed:\", len(arr))\n",
    "print(\"Compounds per rxn     :\", len(arr) / len(dataset.reactions))\n",
    "# print(\"Max NAME len          :\", np.char.str_len(reactants[:, 0]).max())\n",
    "# print(\"Max SMILES len        :\", np.char.str_len(reactants[:, 1]).max())\n",
    "print(f\"Size                 : {arr.nbytes / 1024 / 1024:.1f}MB\")\n",
    "print(f\"Size per rxn         : {arr.nbytes / len(dataset.reactions):.0f}B\")"
   ],
   "metadata": {
    "collapsed": false
   }
  },
  {
   "cell_type": "code",
   "execution_count": 380,
   "outputs": [
    {
     "data": {
      "text/plain": "array([[None, 'acetyl chloride', 'C(C)(=O)Cl', 1,\n        'ord-43d5b7a6265d46a0ab8a7e2b2db5ad33'],\n       [None, 'Hydrochloric acid', 'Cl', 1,\n        'ord-43d5b7a6265d46a0ab8a7e2b2db5ad33'],\n       [None, '3-amino-2-naphthol', 'NC=1C(=CC2=CC=CC=C2C1)O', 1,\n        'ord-43d5b7a6265d46a0ab8a7e2b2db5ad33'],\n       ...,\n       [None, 'trifluoroacetic acid', 'FC(C(=O)O)(F)F', 1,\n        'ord-470523d3fae643daa127a94a8bc31299'],\n       [None, 'dichloromethane', 'ClCCl', 3,\n        'ord-470523d3fae643daa127a94a8bc31299'],\n       [None,\n        '(1R,3aS,5aR,5bR,7aR,11aR,11bR,13aR,13bR)-3a-amino-5a,5b,8,8,11a-pentamethyl-1-(prop-1-en-2-yl)-2,3,3a,4,5,5a,5b,6,7,7a,8,11,11a,11b,12,13,13a,13b-octadecahydro-1H-cyclopenta[a]chrysen-9-yl trifluoromethanesulfonate',\n        'FC(S(=O)(=O)OC=1C([C@@H]2CC[C@]3([C@@]4(CC[C@@]5([C@@H]([C@H]4CC[C@@H]3[C@]2(CC1)C)[C@@H](CC5)C(=C)C)N)C)C)(C)C)(F)F',\n        8, 'ord-470523d3fae643daa127a94a8bc31299']], dtype=object)"
     },
     "execution_count": 380,
     "metadata": {},
     "output_type": "execute_result"
    }
   ],
   "source": [
    "arr"
   ],
   "metadata": {
    "collapsed": false
   }
  },
  {
   "cell_type": "code",
   "execution_count": 381,
   "outputs": [
    {
     "data": {
      "text/plain": "array([['D3', 'cholecalciferol',\n        'C[C@H](CCCC(C)C)[C@H]1CC[C@@H]\\\\2[C@@]1(CCC/C2=C\\\\C=C/3\\\\C[C@H](CCC3=C)O)C',\n        1, 'ord-a2dadd22025a409987662a0f64ebd88e'],\n       ['product',\n        'N-allyl-N-methyl-3-[(3-methyl-4-nitrophenyl)amino]-N-{3-[(3-methyl-4-nitrophenyl)amino]propyl}-1-propanaminium p-toluene sulfonate',\n        'C1(=CC=C(C=C1)S(=O)(=O)[O-])C.C(C=C)[N+](CCCNC1=CC(=C(C=C1)[N+](=O)[O-])C)(CCCNC1=CC(=C(C=C1)[N+](=O)[O-])C)C',\n        8, 'ord-36d795d1da95405ea6c75daa91c54980'],\n       ['title compound', 'Auristatin F hydroxypropylamide',\n        'CC[C@H](C)[C@@H]([C@@H](CC(=O)N1CCC[C@H]1[C@@H]([C@@H](C)C(=O)N[C@@H](CC2=CC=CC=C2)C(=O)O)OC)OC)N(C)C(=O)[C@H](C(C)C)NC(=O)[C@H](C(C)C)N(C)C.OCCC[NH-]',\n        8, 'ord-e1e02cc4069141228fd25e1f04d271b5'],\n       ...,\n       ['title compound',\n        '4-((1R,3aS,5aR,5bR,7aR,11aS,11bR,13aR,13bR)-3a-((2-(4-(cyclopropanecarbonyl)piperazin-1-yl)ethyl)amino)-5a,5b,8,8,11a-pentamethyl-1-(prop-1-en-2-yl)-2,3,3a,4,5,5a,5b,6,7,7a,8,11,11a,11b,12,13,13a,13b-octadecahydro-1H-cyclopenta[a]chrysen-9-yl)benzoic acid',\n        'C1(CC1)C(=O)N1CCN(CC1)CCN[C@]12[C@@H]([C@H]3CC[C@@H]4[C@]5(CC=C(C([C@@H]5CC[C@]4([C@@]3(CC1)C)C)(C)C)C1=CC=C(C(=O)O)C=C1)C)[C@@H](CC2)C(=C)C',\n        8, 'ord-25928c66ea1d423eb04f53245398339b'],\n       ['title compound',\n        '4-((1R,3aS,5aR,5bR,7aR,11aS,11bR,13aR,13bR)-5a,5b,8,8,11a-pentamethyl-3a-((2-(4-(1-methylcyclopropanecarbonyl)piperazin-1-yl)ethyl)amino)-1-(prop-1-en-2-yl)-2,3,3a,4,5,5a,5b,6,7,7a,8,11,11a,11b,12,13,13a,13b-octadecahydro-1H-cyclopenta[a]chrysen-9-yl)benzoic acid',\n        'C[C@]12CC[C@@]3([C@@H]([C@H]2CC[C@@H]2[C@]4(CC=C(C([C@@H]4CC[C@@]12C)(C)C)C1=CC=C(C(=O)O)C=C1)C)[C@@H](CC3)C(=C)C)NCCN3CCN(CC3)C(=O)C3(CC3)C',\n        8, 'ord-892ab286480d4efe8d5f2448e8628d1d'],\n       ['title compound',\n        '4-((1R,3aS,5aR,5bR,7aR,11aS,11bR,13aR,13bR)-3a-((2-(4-isobutyrylpiperazin-1-yl)ethyl)amino)-5a,5b,8,8,11a-pentamethyl-1-(prop-1-en-2-yl)-2,3,3a,4,5,5a,5b,6,7,7a,8,11,11a,11b,12,13,13a,13b-octadecahydro-1H-cyclopenta[a]chrysen-9-yl)benzoic acid',\n        'C(C(C)C)(=O)N1CCN(CC1)CCN[C@]12[C@@H]([C@H]3CC[C@@H]4[C@]5(CC=C(C([C@@H]5CC[C@]4([C@@]3(CC1)C)C)(C)C)C1=CC=C(C(=O)O)C=C1)C)[C@@H](CC2)C(=C)C',\n        8, 'ord-9c7869850d9f43d9914f974c8487843e']], dtype=object)"
     },
     "execution_count": 381,
     "metadata": {},
     "output_type": "execute_result"
    }
   ],
   "source": [
    "arr[~np.equal(arr[:, 0], None)]"
   ],
   "metadata": {
    "collapsed": false
   }
  },
  {
   "cell_type": "code",
   "execution_count": 385,
   "outputs": [
    {
     "data": {
      "text/plain": "18290"
     },
     "execution_count": 385,
     "metadata": {},
     "output_type": "execute_result"
    }
   ],
   "source": [
    "arr[arr[:, 3] == 8].shape[0]"
   ],
   "metadata": {
    "collapsed": false
   }
  },
  {
   "cell_type": "code",
   "execution_count": 389,
   "outputs": [
    {
     "name": "stdout",
     "output_type": "stream",
     "text": [
      "CPU times: total: 0 ns\n",
      "Wall time: 6 ms\n"
     ]
    },
    {
     "data": {
      "text/plain": "array([[None, 'N-(3-hydroxynaphthalen-2-yl)acetamide',\n        'OC=1C(=CC2=CC=CC=C2C1)NC(C)=O', 8,\n        'ord-43d5b7a6265d46a0ab8a7e2b2db5ad33'],\n       [None, 'N-(3-propoxynaphthalen-2-yl)acetamide',\n        'C(CC)OC=1C(=CC2=CC=CC=C2C1)NC(C)=O', 8,\n        'ord-1e9795495fcf41dabac210930fb8b1eb'],\n       [None, '3-propoxynaphthalen-2-ylamine',\n        'C(CC)OC=1C(=CC2=CC=CC=C2C1)N', 8,\n        'ord-531862ea724b4025a6820c232ec276a5'],\n       ...,\n       [None,\n        '(1R,3aS,5aR,5bR,7aR,9S,11aR,11bR,13aR,13bR)-3a-isocyanato-5a,5b,8,8,11a-pentamethyl-1-(prop-1-en-2-yl)icosahydro-1H-cyclopenta[a]chrysen-9-ol',\n        'N(=C=O)[C@]12[C@@H]([C@H]3CC[C@@H]4[C@]5(CC[C@@H](C([C@@H]5CC[C@]4([C@@]3(CC1)C)C)(C)C)O)C)[C@@H](CC2)C(=C)C',\n        8, 'ord-3884eaf8b34b40be8c2bd3129a54742e'],\n       [None,\n        'tert-butyl ((1R,3aS,5aR,5bR,7aR,11aR,11bR,13aR,13bR)-5a,5b,8,8,11a-pentamethyl-9-oxo-1-(prop-1-en-2-yl)icosahydro-1H-cyclopenta[a]chrysen-3a-yl)carbamate',\n        'C[C@]12CC[C@@]3([C@@H]([C@H]2CC[C@@H]2[C@]4(CCC(C([C@@H]4CC[C@@]12C)(C)C)=O)C)[C@@H](CC3)C(=C)C)NC(OC(C)(C)C)=O',\n        8, 'ord-1537db416fbc4622b16b77ac2d9f15d6'],\n       [None,\n        '(1R,3aS,5aR,5bR,7aR,11aR,11bR,13aR,13bR)-3a-amino-5a,5b,8,8,11a-pentamethyl-1-(prop-1-en-2-yl)-2,3,3a,4,5,5a,5b,6,7,7a,8,11,11a,11b,12,13,13a,13b-octadecahydro-1H-cyclopenta[a]chrysen-9-yl trifluoromethanesulfonate',\n        'FC(S(=O)(=O)OC=1C([C@@H]2CC[C@]3([C@@]4(CC[C@@]5([C@@H]([C@H]4CC[C@@H]3[C@]2(CC1)C)[C@@H](CC5)C(=C)C)N)C)C)(C)C)(F)F',\n        8, 'ord-470523d3fae643daa127a94a8bc31299']], dtype=object)"
     },
     "execution_count": 389,
     "metadata": {},
     "output_type": "execute_result"
    }
   ],
   "source": [
    "%%time\n",
    "arr[arr[:, 3] == 8]"
   ],
   "metadata": {
    "collapsed": false
   }
  },
  {
   "cell_type": "code",
   "execution_count": 390,
   "outputs": [
    {
     "name": "stdout",
     "output_type": "stream",
     "text": [
      "CPU times: total: 15.6 ms\n",
      "Wall time: 23 ms\n"
     ]
    },
    {
     "data": {
      "text/plain": "array(['ord-0099398f1d1a4ecea0b0514be075a909',\n       'ord-00a671d0dddb4b06899ba5c0259a586d',\n       'ord-00c409ed36c1428abc020e6a9b357b4e',\n       'ord-00d15985189c4c47b04522dc6b15de83',\n       'ord-010b17c1f572475b8b606553da5c7c93',\n       'ord-012f4d44787242e7a8e70cab32f230d5',\n       'ord-017020620353467182ff82ac45df7da9',\n       'ord-01c13c1fe8664388bf3b8405f5196636',\n       'ord-01f4839d1f2846ee93e0257eb0d561d9',\n       'ord-024dae92cff1471da05371e4cf2a3653',\n       'ord-02f660f5831a40ca9a72dcea729a72c7',\n       'ord-032bc698151a4a73af28dc680686db87',\n       'ord-0349029a989b4c78add46a8315d55694',\n       'ord-03d238cb8bc84486bd2a43f4fafcb5b6',\n       'ord-03d7974576cd4c959a67de3464264e0b',\n       'ord-03fd1c1607454b2a81c292209e67120e',\n       'ord-0421e20749bc42b0aa0fd3b2beaf0007',\n       'ord-0454cfcfff4f4525ae5c8632df657eb0',\n       'ord-050e667941c042f1a9a63cc20ed78f75',\n       'ord-0627357539d24bd09093b16f487d80df',\n       'ord-06da7730e71a485db5d475cb2e417b1d',\n       'ord-071da277ea30492f9755972d5e8511ec',\n       'ord-0739e0d3327c47fbb592dc82457ebcaf',\n       'ord-074f1be6d8a54b74ac9ad2383cf01c35',\n       'ord-077bacc8bcfa4183823fa7d996dbd432',\n       'ord-080a87247c4c4393bd2be12cb8f80654',\n       'ord-0885c80d00b146b894d62cbbe8d3bf15',\n       'ord-0893520f68ac456db25d9da8b8e24c83',\n       'ord-08feaa61083e4e36800ab32b8c74f444',\n       'ord-09171b72b3554738bf5b0a7ea46aac0b',\n       'ord-0924ff5c6bfd4539af6b02492c10d760',\n       'ord-09950f5f74894853a612796375497162',\n       'ord-0a286e3ff5b548f5ad46e9563e234492',\n       'ord-0ada0e0fb11a451090db0b75c4482a86',\n       'ord-0b72c1a008564bdb9254d71f4944088c',\n       'ord-0c9d273df7764b28be7930da7d4fcaf2',\n       'ord-0ca7b46453654acca472e6bfbab7eabf',\n       'ord-0d46852b4f9c46649b96847b46168583',\n       'ord-0d6d3c89f2ae44549d4065be26aaac3e',\n       'ord-0dd29039e3d346dd86d1d74a4dcdd565',\n       'ord-0e4af116d6f14cb794902815f434b6d9',\n       'ord-0e52c9113c4e4600b6034f67f6e66d69',\n       'ord-0ee1c699b9a24e7389f6ff25fa219f7d',\n       'ord-0f13a2e6dc0a4f008c61b5be5423639c',\n       'ord-0fc3d0ac36374441800f405f67582c78',\n       'ord-1042735351e8486ab793684ee6135d7e',\n       'ord-107de9050c8a455a9e0bbdd6fb2e3f1b',\n       'ord-10f1a5ce485b48358892cbbff6e2df8b',\n       'ord-110b88133b064c6e92bebe98f59d1ccc',\n       'ord-12876770d06649658dae0d3e7ec2fd03',\n       'ord-128dc14b2f06485cbc06d55460ff4f97',\n       'ord-128f90194b144d85b272c4d409965671',\n       'ord-13bb777dbf4045ef9deaed4294272239',\n       'ord-13cf0012bdda4fb1adb706c9ade51298',\n       'ord-1463b2aea38f4bdf8cea7bb6241da7fc',\n       'ord-149252e9ce154b5e9ae76bde3686e059',\n       'ord-14bdc556421d4637afd27efc62123dfd',\n       'ord-1624e469561449cc82160ad668b8b8f2',\n       'ord-16d5f39b9bf445a0ad74045b040cd1ae',\n       'ord-16f9e9260c074a81afdcec4b5569e257',\n       'ord-1703c352cb704d2d8f974672e72b98ba',\n       'ord-1722b2cd6ef24340b156edf76241621a',\n       'ord-1731daddedc04c29aa71092bf5504a35',\n       'ord-187986b35c214013bf8b9e9acf5416d4',\n       'ord-194c497a9ff64d559d0fd2a79c8c5b0f',\n       'ord-19a1bec3ede94b669c9aac4e46b2f15b',\n       'ord-1a8cd1e0cf5d49da96072a4478cdd9fc',\n       'ord-1ac244e76a5f44f680528f21320e1bce',\n       'ord-1ad384c9c3794e78b48bd69d9a21ca1e',\n       'ord-1c54b8639c3e46d9a691df941ae82c4d',\n       'ord-1cf1f385987c4e01b5fd7aac76253241',\n       'ord-1d42c6a62ba648a69c404144ffb5b899',\n       'ord-1ddef37346744936946e7026649bb908',\n       'ord-1e19bda0b23f4a049223573c0023ef3a',\n       'ord-1e1a5b3a6c874b618cc49fb5ca63f446',\n       'ord-1e1e23de1283402f8b30763ecf49d42a',\n       'ord-1f34d6afa9a0402880ac381533fe2133',\n       'ord-1f38193c34e349a08001da579084a40b',\n       'ord-1f918c871f7b4ad0b499b4dee8c331a6',\n       'ord-1fe6748c50bc4b0697fa5590b97fe52e',\n       'ord-2007fba41ec34858b54f206b0f87a139',\n       'ord-212e7e6947c5488984cdbd83e5ff1afa',\n       'ord-21f934036060467195ce27e630d43164',\n       'ord-2302825d079e47f0adefdbb94b9c8aa3',\n       'ord-234d7494093b4491a10850600e7de7ba',\n       'ord-239972a973c64e848793200ed60ab21a',\n       'ord-23d6257325894789ba327a40df7272e6',\n       'ord-251ad675361d46bdb76cb056766543cc',\n       'ord-2540b885f84d4c2f8ae76ca1def8b818',\n       'ord-25badc96350049749e55811fc1a8a795',\n       'ord-25bfbaed23bb4609b724b4d93c031e2d',\n       'ord-25f7f8a9b6804759a6f3f8934bfda887',\n       'ord-261ccf64a29d41a0a833c005d184fa3e',\n       'ord-262e553a27c44f969cd6bf6fe0afe17a',\n       'ord-2717fc37248644e194c035bed4de455b',\n       'ord-273852aed25842b8a5e3df46c6bd4fc4',\n       'ord-274243220eae4859921604cb8134f577',\n       'ord-2744b4db45e24ad68eba16d25b07aaea',\n       'ord-276b14c759d648aca173c0009bc34269',\n       'ord-278158b939ea421c9214b502ed029f5d',\n       'ord-280ae93d54f44323be0c59735b64cdc5',\n       'ord-29a97a4affdc422abe28ffd2721749b1',\n       'ord-29ce5ff7e02d49bf8efbe6a1daa0406b',\n       'ord-2aa42e2d16a7451995b8d9779e985718',\n       'ord-2acb7fc34287407db16f9a9da77ddd4e',\n       'ord-2b2d5accadd4475499d96b744ae89d8d',\n       'ord-2b908e7049c449d3af99139e3cc777e8',\n       'ord-2b94e9356fd7445083ecb52d597b5ab1',\n       'ord-2ca92916a9bd45aabe9678e64824b521',\n       'ord-2cef8486ac064fdf91af2336ed5ae8d7',\n       'ord-2d13aa2085ef4a49a7e096862b1ac27f',\n       'ord-2d65931bbfa7416b8739f813d3395e7f',\n       'ord-2e21514fcfb644c3a86a999ced72cf53',\n       'ord-2e2b472f0601458a821796680bf36f47',\n       'ord-2efe291aa64d430aa30bf48034b78005',\n       'ord-2f4dc75a7bce43f790e903cf328d85b7',\n       'ord-2f890499e45a4280b50a0114ff2b4995',\n       'ord-2fcbcedeb9d14b41a0cbe4d7e24211c0',\n       'ord-3080e2058de345b89d9a39c24730ff71',\n       'ord-3121fa39df234ee09ca8bb9d34c239bd',\n       'ord-315d07067760471fb7d6f5768a2b2ab6',\n       'ord-316396789a7c4d02b7952d953ef4bd68',\n       'ord-33236a61ea54479eb15a5d75e6194cf5',\n       'ord-33848afc06574e7288b8338ac9572e89',\n       'ord-33b201f5a01b498eadf45c09e2a1cfbc',\n       'ord-343beed2f6ab42908ad93c7c48c7374e',\n       'ord-34782be3b5e24bdc9a73eb3b2095e94a',\n       'ord-35215514541b46a3accf798d353cd070',\n       'ord-3523c3973ecd4e8dbe9df9f34b21dc67',\n       'ord-355ad432c06348d082c3b944eafb9ba6',\n       'ord-35f13e360d96448f9430109667183d79',\n       'ord-36051ea289fc4cfc99d26aac560692b9',\n       'ord-3690cc64a7084b7cbf1014fa2564e15b',\n       'ord-36a01d5c79ca47c29d5d29b673e370eb',\n       'ord-36de434695f84921a6b84d658f29faa3',\n       'ord-37303e6f6f2448eaaebb5429e9b1089f',\n       'ord-374a7814a5724e60899f63758f487acb',\n       'ord-376e286b8d604fb5ad3897ccec8a0208',\n       'ord-379085084d0b4edab057520715868510',\n       'ord-3833a6814ee54e898f9a27a9d2547012',\n       'ord-3880bfdab573446e805326443415ea25',\n       'ord-38f42cd5c9cf4714bf58274e66373df2',\n       'ord-391bddb5c2434073bc29016c4ba3b3b9',\n       'ord-3988cf381eb54c49b209498699e34d49',\n       'ord-39900b3f3ff04ae5b23668af34e3bc84',\n       'ord-3aad0c114a174703b4b9e5e47515be03',\n       'ord-3af6065af7af466e9a9bfa26e015ab72',\n       'ord-3b5e1451d7df4aa682a79677a4aa2a69',\n       'ord-3b7131fca7064fffac7894f87ece74f2',\n       'ord-3b7e7a14fc614c7697de423d0ee960fc',\n       'ord-3b98f763b5b147b6aeea1d305ecae3ac',\n       'ord-3be38a671910443e9cbcc8fcbfc14d21',\n       'ord-3cab6f98083a497dace07b3381bf902c',\n       'ord-3cff381997144250860a75099f1aee16',\n       'ord-3d581e25f87646a4b58c552ec8c5e56a',\n       'ord-3d6c31474a23444888adbe792250a99a',\n       'ord-3d95a972f34e46c5a6ecba2995226edb',\n       'ord-3d9690deaf21401c82989bd10b89b2ae',\n       'ord-3da5d0370acc4214b9452e07e6db9efd',\n       'ord-3ebf7363f90f421092e6020c3c9b93ba',\n       'ord-3f5d8d5502b94c38ac7d5a18bbf70ff7',\n       'ord-4009a4568cb3412f8b1c9006bd7af816',\n       'ord-40b06be3b95b459bbc29c0e3fdc6fc4c',\n       'ord-411a1ef214fc4351a2e252fffc35fdcc',\n       'ord-4125a6643c8d4c218acd18334dce6cfb',\n       'ord-4141a931bb384baa9da159d84048e1fb',\n       'ord-41fa00a8efb24a7789f2e808396d6da7',\n       'ord-4224a8950ff94943bf636879af490ba0',\n       'ord-42bc12a8e8aa4652ad482317cfda17d5',\n       'ord-435cc6a4a64d4babba70fdcd6a88a699',\n       'ord-4377b2a8f7b341b4be9cfa3c6fbf1cff',\n       'ord-439d7e5bc3924651ae616e20ce30f302',\n       'ord-43a4028b1e1c46e4bcd04625a3f43999',\n       'ord-43cd971a09fe477f94dbc32ab4600550',\n       'ord-452416d08d30498392f0e646bbb4fa05',\n       'ord-45777a62c3a540f0aec199c98e0a898a',\n       'ord-45bd7f97684b4b00b4eeb22820a7ae6c',\n       'ord-46104b89fc5d4c40a21055120b169f7a',\n       'ord-463e358661f44be39e718fccf419be62',\n       'ord-4674169b944548b5b97622984304a7cd',\n       'ord-473726b46df84bc288d7fd15b186b02a',\n       'ord-4793c0f054824d92b4890ed10b62cfb1',\n       'ord-4906f9074c6948a3acf12c3d10a1950f',\n       'ord-4939bdb5d3534aa68afa6ca7fe165388',\n       'ord-4971729089f9428ab6a472e2066a3db5',\n       'ord-498a1219a05b4e32a893d8c9b4b5971f',\n       'ord-499c52bcb03e4853ae071418f2111c5c',\n       'ord-49c1c94e6013497f8559e773825b7aef',\n       'ord-4a325198d1ef4226adffc2dd3c2b197a',\n       'ord-4b58e871d86145eebf6b50e2046d0fbe',\n       'ord-4b915e102afe45c180e79fc45a756656',\n       'ord-4cd05d2cd3a04a37b9df8517dc695b18',\n       'ord-4ce1bb5d0e3a4222a91f6cd07372f579',\n       'ord-4cea1ea065c24c4dac498bff327fc687',\n       'ord-4d137f48da8e44e4aa322abbce2a8bb7',\n       'ord-4d2ee6170ca5471d8aab123fabda9431',\n       'ord-4d610403326443e2b8cd826b6f260619',\n       'ord-4da613de18954019a0d25fe9def006b9',\n       'ord-4e951da36d544ae3a6211a07e07dbc6e',\n       'ord-4ee6aac4bb994ca0ac2621e3c9d17aa8',\n       'ord-4f44542ea77f41cda9b076698e676aad',\n       'ord-4f6982960c574da0aec635d5630282a9',\n       'ord-4ffe7834994f47478206c7b38c238c55',\n       'ord-4fff0e630275408a938de5290bf32cb3',\n       'ord-507e26805f5b4e05bdca545515a6a10f',\n       'ord-512a077c78e948819b6a603dd47b6759',\n       'ord-5161f3b886eb4559b35bf9d4b9e3048a',\n       'ord-521b0c305ac943fc9b03524b907a1f7b',\n       'ord-52925c7d7d8c4536ac54399e0fe42d73',\n       'ord-52f8d82c94c5449c864c4573ace5c929',\n       'ord-535d4b8c466749d39d03aee7f799d264',\n       'ord-54e89682eca14396a03ddf50be45182f',\n       'ord-55cf0865b1be4f10bc79a598eca25a6f',\n       'ord-563b03dd3c9244afa4da4904bac157cf',\n       'ord-566720c2359d445b9ea60335782a9a2a',\n       'ord-5696a1088c814c75983613d772ed75fd',\n       'ord-5698e2d3fa1346cf8ceba705af681229',\n       'ord-5913475489f04b3b804d4727eca37ed2',\n       'ord-595bc6f258704a6b9b6e365069114c92',\n       'ord-5975855d81d74726ae7df87f40b55d86',\n       'ord-59a2a3a174474170904c8e35fd4bc755',\n       'ord-59c2cf86fb9249348ad51514788884e1',\n       'ord-5a6f9d42fb90485f956684be2b831813',\n       'ord-5aaffe191f3f49f59db22d38e654414f',\n       'ord-5b0dde4aa7fe4e31af6a35833982dbaa',\n       'ord-5b3b354633b84496828c19d0cde1f616',\n       'ord-5b7b8e7f34e0427480e66fa8733de77b',\n       'ord-5c080ca66af54f07991c6dedcba90f0a',\n       'ord-5c3e4af46c2144e1ad24a03da91b4295',\n       'ord-5c53d03dd8614952b188228f43961fdb',\n       'ord-5ceb9119a1ea43b782f95bdd26dc728f',\n       'ord-5da88b0b06974c5f9df6442333da435f',\n       'ord-5df34623653440cc908d46d42259e0e9',\n       'ord-5df918343d3e4682a4c2f060ed77f6dd',\n       'ord-5e1ec3aea6574a1d88a733e20de2ceb7',\n       'ord-5e6de10a690a4901986efb13d173059d',\n       'ord-5e81a2274b2449808f1990ae934c06b6',\n       'ord-5ea8bbc4587248c7be1541e6fb0c0e61',\n       'ord-5f218ddf7b45437bb2d68c60e10d2663',\n       'ord-5f4e81eb6c9d44cca72f66321c991c50',\n       'ord-6082b313b43345e6a615632c8016a597',\n       'ord-611f4051946c4c9ba14a291ffd3f1230',\n       'ord-6188111c03ca4e8cbf96e08302b0baaa',\n       'ord-622e66660b4142a49ad114bff2255d7b',\n       'ord-62f464c01a7a4396ba878a23796e6200',\n       'ord-632f632183384da3aee6972c4a64dcfa',\n       'ord-6397bec98d2d4881903b1d6ae08634cb',\n       'ord-63cc154a584f4c0dbb69321ff3330cc5',\n       'ord-643996dacbdb4d0a9d51cac9366c2166',\n       'ord-64488f60826f440bb8e8f90885f54020',\n       'ord-66042b483df64b93849856760d56d233',\n       'ord-660baeb197cd40388fc44f68da426657',\n       'ord-667929936fdc43448bb4003d8c386b08',\n       'ord-66d4abf65856467594060c2ed7b017f3',\n       'ord-67f2b2ac84e94ffb8d5869c27c66424c',\n       'ord-681ab9db10924198bdab84530717f326',\n       'ord-68343e2ae16c4375b0c07b2b3eeb54c0',\n       'ord-6853222f33454252b837d863d1f067e2',\n       'ord-68a73b7b1e1b403db5f62b2e54a9048b',\n       'ord-693fde58721a4844a1da8607afd13633',\n       'ord-6963aea6cfae443d9bf82d2ea2f307eb',\n       'ord-6a3c27ee3a9b459e93984c0c06996b5c',\n       'ord-6acca60655fb4d00a5b50aa91bcd4bdc',\n       'ord-6b4b05b5c12e4aa68f2b19634dfc2555',\n       'ord-6ba44080b87844829a2de372bff3af70',\n       'ord-6bc51277608841639b6dae6fcf9478d4',\n       'ord-6cad7a1dcb04464688da14b1e661453a',\n       'ord-6caf69ea39a34ebfad8e53675992da38',\n       'ord-6cce49c59faa4b3f9dc87942908d5e21',\n       'ord-6cee78d4a5d74db4a66a923fe66851ac',\n       'ord-6d46c72ac5d145a99d93fe5cbcb84b93',\n       'ord-6db2aa084c884f71bb1f007835f8fee6',\n       'ord-6dd4993bf2a042fab0e5eeafa506d487',\n       'ord-6dfea712672e44c3b783de04cf76c08d',\n       'ord-6dff56ed3fe74068a3e51c326bac322e',\n       'ord-6e19dbce6c784ba1aaafb9b7efb4fa74',\n       'ord-6e37be515f5641bfb27886423122a9ba',\n       'ord-6e6be8c0d7e24347893700023a3b497f',\n       'ord-6f8ff03bb7c147c3bc38dca2ca2b1d22',\n       'ord-701368691d6c476a9b81b030fe989188',\n       'ord-709d81a3c89a470b88e1fb2bd64c70bf',\n       'ord-71131a9bd1eb4b809d5a2960b618a700',\n       'ord-71171d54ed63400eab8b112ec375d866',\n       'ord-716fa9bd99b1400c8396c8b8e1c888fc',\n       'ord-71c01940e7fc498786f55807303445eb',\n       'ord-723c666ae8c8482e93f3065ff4335ef5',\n       'ord-727075a78a524ee886be0b348e677d81',\n       'ord-72b90cee6b8d4917905f3a688a617b53',\n       'ord-739860ace9d244b2b3c944fe243f3fba',\n       'ord-73c3e084ae0d40398da220fab7b2b83c',\n       'ord-7400bea879f94cffaa81b79bc5b2f59e',\n       'ord-740ee38d627d41c58bf0f6f57c090550',\n       'ord-748d3bb69c174e629aa4d159c1ed2ac9',\n       'ord-7582a52ce4644589b277a29da24c0875',\n       'ord-75a3a1029acb46478cf275d50c0806ed',\n       'ord-76272ad4aefa44e19d0eddabb280c846',\n       'ord-76424db16c5441f5976af79db7c4e676',\n       'ord-765b13135e38462aa5a6df94328e8c48',\n       'ord-771ad15c640f4a6db34888342be1153c',\n       'ord-7770224673d74d02952ff7d797f0d730',\n       'ord-778209de1fd14026bddaab9e882e112e',\n       'ord-77857c48996343fbb4aa08359901c104',\n       'ord-77ddce3707084467bfff145942fbb604',\n       'ord-77e6dcba02b64b738ea0739cad4ecfdb',\n       'ord-78c64e97dbf14084b22aa74463006055',\n       'ord-78ed0760cfef441a912e458f48109a79',\n       'ord-78ed8a90d77d44deb77de4c649b46dd3',\n       'ord-794344887b7c49baa4c7c52bcc96db33',\n       'ord-795532c82bf3436db0d3d5140cf94277',\n       'ord-7982f2aceb934c288de6290cfe50f86a',\n       'ord-7a36bf40573e4080b19c075ef0998172',\n       'ord-7a54f4babb91466d9b0c11d4a1ca75d3',\n       'ord-7a803c330f2547e3b8266bc51efdd1d4',\n       'ord-7a8d0f495a6c4233a0c3c1bfb57db4ac',\n       'ord-7b4dd2cfcd1d4b6f93dd38dc3c6fd392',\n       'ord-7b939239d65c40d6a3e35c2b3a526263',\n       'ord-7bfed5c16a1946e6bda0d13963b1db3f',\n       'ord-7c7a23c713a14c0b90d32055d5ea850c',\n       'ord-7ccd338c5fbb421d822032d9cc5cadba',\n       'ord-7dc046c453ce4cc3a856f10a91e3cb5b',\n       'ord-7dd9bc8a53114e0dafb38fee15725778',\n       'ord-7dda852f11474ae2a0d782583e35b68f',\n       'ord-7e5d5dea96fa499d83d3766aa76d04ae',\n       'ord-800f70a6bdb0486192d475cb3af3e952',\n       'ord-80267e6bd54e41f489d44584f0271e02',\n       'ord-80c803f6f0904d3da084c9ff3951ad76',\n       'ord-836c9694f43e4610ada1ad9849df3abd',\n       'ord-836f5c4fbbc24e9d8a0c06f57485f181',\n       'ord-84af22c7505842dcbca9c873322a2956',\n       'ord-84ee7b95d41e4231a34c13fb1b2c48d4',\n       'ord-851abe264ae2447caeeeb1878922558d',\n       'ord-85f5005b038c4cd78e18e59ada939277',\n       'ord-860efa27a51f4dd4820a766f5f8e2dfb',\n       'ord-8624377caf9c4ae2a43f107bade81b5a',\n       'ord-8727bce343f94823b78666f90e2f36f1',\n       'ord-8747dc51e29b4e1a9a2146977d9a62d9',\n       'ord-881d54a7c35d41f48d4970e46546bf5f',\n       'ord-8864d7801c66454185a1b0b630c6c300',\n       'ord-89b6c08ca0f744f696cb6a337bdaae24',\n       'ord-8a74d97f51b541e4ae04acc3c18c5250',\n       'ord-8a8166236a024c8e8ff8cdcc54062738',\n       'ord-8a8d8d99bb504217a807def5aa12902f',\n       'ord-8ae276a152a647ec9acd70cc803ad908',\n       'ord-8af2f4265a024dfe91b0b2dbcf96388c',\n       'ord-8af7bfd4911040bcba9bcfe93eb6c040',\n       'ord-8b130d8ddbf74773a2643cdd973addf3',\n       'ord-8b7b9e4164f2444aa733a1871d24bbf0',\n       'ord-8b8d4e2c49ff46df87e8dfa63c42a497',\n       'ord-8bbddc5574dd4f2697821fbb7f6e5b4e',\n       'ord-8be5735a7d4442afb66d5054a56516ba',\n       'ord-8c078f6580ec424ca1c0d1a26a720e33',\n       'ord-8c41b5a0ef2846f28069bd65bea9d141',\n       'ord-8c4510a8fcba4267b49c6401294d1ada',\n       'ord-8d12691b227548f1baa85a9b80aede5b',\n       'ord-8d2750ce4f34482aab138ad799b74fb8',\n       'ord-8d2f4177c20943378093313060c7d21f',\n       'ord-8de270e2961e40b584112b0213076379',\n       'ord-8dfa727c82c0461897ad3b0665043668',\n       'ord-8e8900f9242844e7b85115ed9dba1080',\n       'ord-8efa148eeba2439fb7ca0394deda3d1c',\n       'ord-8f726569253041f5a628b4cfb5fb7147',\n       'ord-90343137b00742e0a4ac3ebcaf3ee417',\n       'ord-90fc50378e2f470ca890d6833d05d5d6',\n       'ord-913d09a3027d4c1c98f79b1a336c46ec',\n       'ord-91cf2116bb8142e194364d87426c5bf3',\n       'ord-9237ec10850e41e4ad0dbfd9462ebd5c',\n       'ord-92f89a72cbde4d3d83b857a718ca1140',\n       'ord-92fa8f28f2d24bde94debe8af8480d31',\n       'ord-93143a9c3d68487c8b371eff1650ff63',\n       'ord-93cbcb8e94c74ad4bb45ca87ddeb1c13',\n       'ord-94e141d18dd8409ab2e109e3c28815f9',\n       'ord-9525a9c43ae545a2be36e857be7c1265',\n       'ord-9532ec232d8e48b29b74d37a089ccd86',\n       'ord-955069ae43ef40eb8b88290324e08c89',\n       'ord-95635fd9c6434c12b531516aee5e558d',\n       'ord-95cd3855fc53470594d3ef43e816a6d0',\n       'ord-95f0c27df3c146119a33751b52f2ec28',\n       'ord-960654546b55426a858bdc82374e4060',\n       'ord-96f47bdd553b4501a2c68fca98b04fbb',\n       'ord-96fa63a35e3a4c94aa3cdd1b39942b6e',\n       'ord-98c12426d7504f7194ed98cb511de49f',\n       'ord-98c577c469a14d7294407396ae1226e9',\n       'ord-9987fb06f9bc462d9a36962b97c98eb1',\n       'ord-99bcafdfe366442baa77e22fdf385538',\n       'ord-99cd5c693c98413fa9f939399cab95de',\n       'ord-99f898b4185b45aaabdee714fe8b2e5d',\n       'ord-9a6e76300c1f458496abe4d32b227ab1',\n       'ord-9a8867e83df149a583f3a1bd4e6cde07',\n       'ord-9ad52f814abf4597bd635ad8910ca526',\n       'ord-9ae9cffe19f047c69d9e68f43fd2b0eb',\n       'ord-9b0aef7e1e6646b7a09c98197348d3ef',\n       'ord-9b0c055ff29c444b958e89cb412c0cbc',\n       'ord-9c230a846c544cb0a29816917ff931a5',\n       'ord-9c341b032d00464bbb11e05c4adbcd36',\n       'ord-9cd6d9eb8698407b94cb49bbe361d355',\n       'ord-9d23d0c033414c6087bb3cb9b4d8140d',\n       'ord-9d7c1e62238243e79ff875ecba2af36d',\n       'ord-9d914672a2704cfe93eb26a832c14b98',\n       'ord-9dccf2b77a524e0499fe009c59394402',\n       'ord-9e2499e4b83b4abe811afdfbf3734ae0',\n       'ord-9f1a7920997342cfa2aba54ae6ff5762',\n       'ord-9f3c77c383c941e4925e56302a78b2f5',\n       'ord-9fda07a0c76047a8a2facb11f7848c57',\n       'ord-a079aef3361646a284b0abcc8f922011',\n       'ord-a0f148fd76304bc9878e4e4e2eddebbf',\n       'ord-a16d40b316304ada8b2f9eb47de3cb75',\n       'ord-a191a8220eb547aaa62ab4057f4607a2',\n       'ord-a240d3e678cf43de9dd5c77babba9180',\n       'ord-a32bcb39e6b44940b56a115044b90c39',\n       'ord-a37a2de2a7b04a69adc96c50ef488ca5',\n       'ord-a4574d8b15a24988a3cba9ed43ebd7f1',\n       'ord-a47a63c6f0dd476aa1de0d8e734ebe01',\n       'ord-a4d745cc16f74df381c259999f4e2c5f',\n       'ord-a4ea7b3575bb42a39ffe1cfca97286af',\n       'ord-a4f5e7c48c9143ab82cd155c46a4ec4b',\n       'ord-a516e50cadd74692bb9260d03316c985',\n       'ord-a545c7ab5b95492fa061651ed11f2389',\n       'ord-a558cded342d49739f25a14b109cca8a',\n       'ord-a57aec8b6dc6454ea29ec9e7440d9426',\n       'ord-a5e65a8085e24d8d99edb0f74c25b2fc',\n       'ord-a5fc711489fc456fae7b301e436d0991',\n       'ord-a623100dd4d94b999e66e38e1e60cfaa',\n       'ord-a671aaebeebe471fb8e9cfb1a0479c95',\n       'ord-a7091b02514d44df8b669a8650c38874',\n       'ord-a78e7e593c0f430a81e9fb40ea85cb19',\n       'ord-a887addf18ec438d898b6b222f312670',\n       'ord-a8e6857b07574fe5b2a7a3e665fe38ee',\n       'ord-a912281a62bd488db87564a4ab064f46',\n       'ord-a928ededcefd4b99b7423b0724862d6e',\n       'ord-aa171cbfdae64eb08281cd0a3a3ad3e1',\n       'ord-aacc13f622c24d40a07e35f90df44b96',\n       'ord-ab28aebb8f4b45a4bb26e7efa13a4c4c',\n       'ord-ab4654aaf6634015a2a83ea6f2492d93',\n       'ord-aba1e866d2cd413daa1a31e8afd20c22',\n       'ord-aca26d5ffd1c46d49e65854a92e50945',\n       'ord-ad33f7a942df410e8f41f65265c8c6b5',\n       'ord-ad9462dac0964153bcf443371ef3345c',\n       'ord-ae70d9e4fbc240f39dbb9fefd5283c58',\n       'ord-aed6808809394ee3b5a5e39949229bfe',\n       'ord-afb87b145a4448239ccec02efe33df7c',\n       'ord-b03c9a7a8fb94143b82443660a012130',\n       'ord-b09bd9a12fcf484cac5da698969fafd6',\n       'ord-b17ebc8b766b4dbaa407aece016ab29f',\n       'ord-b1b4a969f2314d00b47dd4f13e1d31fa',\n       'ord-b1bc35522bc947ebb0b80d1c4294b401',\n       'ord-b219d40e09d74712a760c2898f6b3d0d',\n       'ord-b235fd55c9f14442a928a3e1f23c7dfa',\n       'ord-b305265547704fbca137176b322373c1',\n       'ord-b37138e97eb8440aa36fde2e19cfa49f',\n       'ord-b3cec6adffb644c09ce4723e70abd249',\n       'ord-b48936d8de9c49ff99c12048be15c5d3',\n       'ord-b4c25ad37af143c9878ff4be02a5494a',\n       'ord-b4d8a4eb4637456abe787d2e2cde9742',\n       'ord-b5aeb59cfbaf45c0a9700175e917eb9b',\n       'ord-b672648e8be94a34932992ea1e0c8898',\n       'ord-b6e2e9cea0f849d092d4da1b9c104acb',\n       'ord-b6e555e4044741439415587736318737',\n       'ord-b73c04a2233042ab89d50b3d6deefbfd',\n       'ord-b7adaac829e54daab5c9b54e344949c4',\n       'ord-b83d897e607f4ce5a44ffe9c06251bbb',\n       'ord-b88b2ffde4c946f4ac8d5f2fc96238bf',\n       'ord-b8c9e44a77234097b3956546c756b42c',\n       'ord-b9553a65c1f64ff8b1bf695b2795a665',\n       'ord-b96956f5f9574bf798c92aa95c1e7a7a',\n       'ord-b9e2cf3317534b21baf781694008f75d',\n       'ord-b9e53c27b3d144719e1a65c84cbfbc84',\n       'ord-baa101715b82401ab0f2f3013ed435aa',\n       'ord-bb07397b3af245e0871d920c1fb01cda',\n       'ord-bb7d2ccd65864154b64f98a9696818a1',\n       'ord-bbaa93a5146b4d9d9957605f7bea428c',\n       'ord-bce394fd86704cb8aed12f57cc631d5d',\n       'ord-bd000ac9664b45088171998e60399da1',\n       'ord-bd03c3c7a3a44aa581cca57f2aa9346d',\n       'ord-bd553274a4454a5692b47b0a45b0e01b',\n       'ord-bd7fb415d6a64242b0e7550638708f0c',\n       'ord-bdfc4f23d7bc48bb9349b39ac219785f',\n       'ord-be0e1ebd37c648bbbb7bb8ab548cbfc7',\n       'ord-be0e5888cad44f5a9674e34fb05aee64',\n       'ord-be1999ba89174bc396a9555d08f6c297',\n       'ord-be423d46aac84bed993dd82512015e56',\n       'ord-bed8b3597309468483d1553451c55f1c',\n       'ord-bf77b31043e1413d9891f860a631d1a6',\n       'ord-bf913cf0e23b45e882f43ade3f130e66',\n       'ord-bfed4498c3a848f4a6e642cbd3a21727',\n       'ord-c03192df48674a22bf467b1e734659bf',\n       'ord-c066ed175c124769b7be4ce44a323053',\n       'ord-c095b5b546854043902eccadba976898',\n       'ord-c0a402347bdc4f3ca3803821ceb06221',\n       'ord-c19a129ac2ee4d8aa1f9c95182e20c45',\n       'ord-c29c149380ad4496a1af2a5a7e4c27bf',\n       'ord-c2ad9115341940e8a9d885fe09601dba',\n       'ord-c390d252c5114299a261096b8cd82137',\n       'ord-c46a081d5cf74b44a79af18b66ffae4d',\n       'ord-c4db36d9c0ca4a6cb0579c62b17d57c3',\n       'ord-c56cdbfc240c46cea9fd2b0f07fb8bc9',\n       'ord-c5cc83a89151498694fca1031a7db691',\n       'ord-c83c3819a7d84064a6c09f245a90bd47',\n       'ord-c8beb4ed0de643da8c214ddd84a06453',\n       'ord-c93bc0096474424caa3c6571cf19ce79',\n       'ord-c9480b5d99e54a50a85da740b274d7f8',\n       'ord-c9494a3fe4b647ce80f8f575bf0825a9',\n       'ord-c9d23b50dbaa409e9f9d4bec583cb24d',\n       'ord-c9e451e93dcf46ad9018867018349a8c',\n       'ord-ca95c1714aa44c74831a93ba209657f3',\n       'ord-cad8b2fa9ee54ef980f9e32eee888155',\n       'ord-cb3363c40ac1473f88cf77cdf41ed85c',\n       'ord-ccb3e869093e4bfd9fa8ab8e17e4d9a1',\n       'ord-ccb8d538cfbb48bca04ab858b6078fd8',\n       'ord-cd341f6566c64530a0ac3e7817106fd5',\n       'ord-ce2c6beb2e6148daa545551708f84bd6',\n       'ord-ce759af05da04b7499bde478514bd873',\n       'ord-ce9de791509e495cb654ac4b0af9eb36',\n       'ord-cec994c1494946eaa7053625582149e5',\n       'ord-cfdfa32d4e394908bc221ba32f40defc',\n       'ord-d0813ab0276745f881554f8324239601',\n       'ord-d0d0d0711a464de6aaec66de1f2f4e31',\n       'ord-d0ee6df68d624ee2a35ca3e3b34f3be5',\n       'ord-d13471f641884217935e82d530bc3cf5',\n       'ord-d205494fb6e94a9c8a8e916e1da150f2',\n       'ord-d23cf62164bc4367aaacad1b5b0f406a',\n       'ord-d2bdad8fad8543cd8a91346be6c25155',\n       'ord-d2d80c6da06f4393a1275495ee8ff960',\n       'ord-d32631dd4ac340e9b5a8a46525fb3c03',\n       'ord-d39f81c18613469f9bdbfc146480288b',\n       'ord-d3f4cc61a7fe47e18c6ff96fc31ff6f9',\n       'ord-d4b6b70399b9472ebdbce97fd404ebe8',\n       'ord-d4f4637b843d4aa48bae86feb58e3754',\n       'ord-d4f92e425b384e89918a54bc9c5a3d56',\n       'ord-d56fe85f2ba64ac698b8eb550fb3a895',\n       'ord-d79a84b0c63641a6b23db223460aa37a',\n       'ord-d89e2cc4665246d48f7c02992972b339',\n       'ord-d8d8b063e05b4152bcb42186af8a356e',\n       'ord-d8e957a5ffe24beeb2bee4c3963eb2ef',\n       'ord-d91f242bf87741d0a699af7f2577ac68',\n       'ord-da055f4be69e406b87761e307dd685da',\n       'ord-da235492691a4280886feb39c8ecb9fa',\n       'ord-daf3cc425b9b405bb9be7e739d5420ff',\n       'ord-dce128ad6b86407a963c937c209974ce',\n       'ord-dd24cb2b5112410fb83d58a9b207c8c1',\n       'ord-de24253aa0ca47fda0833cad45bc6877',\n       'ord-de6033d180274902adc024db54ab88e3',\n       'ord-ded97ebc2630475bb9eed305cd572b04',\n       'ord-df1312fadb1e463eada49a39a6f18411',\n       'ord-df34564870fa44b9bea4bfa8153490d0',\n       'ord-df52fc11bc8940eb8788dd9cd529a35c',\n       'ord-dfd95f5b4fa94cc99ba47c368a7d0de0',\n       'ord-e0081eb5f65b456c9e9b48900b1daf6b',\n       'ord-e064d2f607c041ea9b45dbbea444d96c',\n       'ord-e06be4190b924f53a73e4b83bfec3ab5',\n       'ord-e0765a046ee34822aabdeb0c84755e93',\n       'ord-e11fae2fb1e44140ba00fb019f628a25',\n       'ord-e226669acfbd414396ded5cb12224da8',\n       'ord-e27b373c1e6a4e388b8ecb2abf664fe7',\n       'ord-e28914c8e9d44aadba2d3d378cd891aa',\n       'ord-e2d423d9d006489b940e715357376ebd',\n       'ord-e35a06de4a4c471e999cbb62bb1ad921',\n       'ord-e39f36dbb045417292916c9bd246c6b5',\n       'ord-e41413ddacd74e8ebbc62b50b7eb61c9',\n       'ord-e41bb7713e82480486f4a3fce992ed53',\n       'ord-e42ff991d2d04a9a8e71ac03b5a555f4',\n       'ord-e436117fe9344484a9d22d3fbe3def21',\n       'ord-e4e78fc2852f470bbd32a2eea39b6bc6',\n       'ord-e5b66557d1264b5db1a2c1f45f69e600',\n       'ord-e64691a64e974849bc0052ec310e3b1d',\n       'ord-e6895cd0a2e140c8ae28494cb69898c6',\n       'ord-e77a3b34e4d04362ad0aa34d9abe11a4',\n       'ord-e87bfe007bcb45e6b3d122b13210198b',\n       'ord-e98cca6ee93f4b52a6142c56bbb921f4',\n       'ord-e9a5e9e5b7ac4dfdb3761e660a3077a0',\n       'ord-ea69d8f962a948f0bb9ffe0e0896247a',\n       'ord-ea72114d63de436a879afc0f32312ef3',\n       'ord-ec6f4428d61e4d78b12f04de8b6d9ba1',\n       'ord-ecfa033410c84a599f9bb528277c35d3',\n       'ord-ed396393bf1745368e5bad38161b2326',\n       'ord-ed72250b5751450cbb33c64155cadbd2',\n       'ord-ee851754369340e2b9950e33e971120a',\n       'ord-ee9c804564a44c41bf0c32cde782aaff',\n       'ord-eea2c9e9f1fc4af98dfa158abc6c27aa',\n       'ord-ef3ddb439fb643e3ac4c534ffbc87054',\n       'ord-efe815d492644c4598f3250239cb76fa',\n       'ord-effb80ab4ab64e6da40e2363305d6ebd',\n       'ord-f017931b584746f99e7452558eaa47da',\n       'ord-f0747616e7324ce1bfd5b787f3f97613',\n       'ord-f1436fad342247f695d902acc6d3ac9c',\n       'ord-f157c2c822394b9d8657eb2f9a53d913',\n       'ord-f1662cbb6fb246f4be0376cb71edfe68',\n       'ord-f1ba03fead814deb8191e94a2db9d828',\n       'ord-f362c2660e9e4efb9d297bd821a73b2a',\n       'ord-f388dc5c6fe5417998ccb9cd781054cf',\n       'ord-f3b67a2cc71943fb8f4ca6928a6c431f',\n       'ord-f4e39e7fc0fd469aaeaed200d4e5014a',\n       'ord-f6343928bf434b048c1223c3a9eaff2e',\n       'ord-f66ee864a4874158ae2ad1549b245738',\n       'ord-f69028bfe535400c9b1ab11faf174903',\n       'ord-f7329ee3768d4150af7b8f7c735706e9',\n       'ord-f760e7b2fb894a1abd9ce55ee6c9562b',\n       'ord-f8d90795529c4936bda47a00fc657b43',\n       'ord-f8f12b7e1f6445dfa6d2635c53741af6',\n       'ord-f947fce7ef234512bd882bebb1055e91',\n       'ord-f9bc35480ee241bb95885f8879e54f92',\n       'ord-f9c0216727c64672bbfc071b6c6807d1',\n       'ord-fa18351b66a14282ae5f58ab135f2eac',\n       'ord-faadaff6227549d88cce6f4dc7dd8ce7',\n       'ord-fb7583543c5e4ae7b1af14d67f34695d',\n       'ord-fb7b30651bc04b418d959cc8f48c0eac',\n       'ord-fbaae460b8f4462ca4593d34a5693b86',\n       'ord-fbbe8b3d975c43da93f28066f74a5ee7',\n       'ord-fbd7e72676544726a286dda3512b4cac',\n       'ord-fbea0da40f584780a2215364b75d1ab5',\n       'ord-fbf1fc223107402e9da8b902c239fa18',\n       'ord-fc9a8403acfb4ac0a5367ebe8966940b',\n       'ord-fcafce91d3e64a35ac5c7d43eccd0ee9',\n       'ord-fcbcb06371434fc880c7bc08ed378353',\n       'ord-fccea1e1981b491d9401b1db02f87768',\n       'ord-fdc0e572bcf5464b93bc12bbff16c2bc',\n       'ord-fe2a8ebf4e064c41a6a3def2d333218c',\n       'ord-fe76b6fa03494d19af7878d86e2d2b32',\n       'ord-ff2caca0eef64b8a8e81656a051c760e',\n       'ord-ffde7a9591174629b70fbf52587ce0f1'], dtype=object)"
     },
     "execution_count": 390,
     "metadata": {},
     "output_type": "execute_result"
    }
   ],
   "source": [
    "%%time\n",
    "\n",
    "u, c = np.unique(arr[arr[:, 3] == 8][:, 4], return_counts=True)\n",
    "u[c > 1]"
   ],
   "metadata": {
    "collapsed": false
   }
  },
  {
   "cell_type": "code",
   "execution_count": 386,
   "outputs": [
    {
     "data": {
      "text/plain": "17639"
     },
     "execution_count": 386,
     "metadata": {},
     "output_type": "execute_result"
    }
   ],
   "source": [
    "np.unique(arr[:, 4]).size"
   ],
   "metadata": {
    "collapsed": false
   }
  },
  {
   "cell_type": "code",
   "execution_count": 239,
   "outputs": [],
   "source": [
    "names_unique = np.unique(arr[~np.equal(arr[:, 1], None)][:, 1], return_counts=True)\n",
    "# np.unique(arr[:, 1])"
   ],
   "metadata": {
    "collapsed": false
   }
  },
  {
   "cell_type": "code",
   "execution_count": 240,
   "outputs": [
    {
     "data": {
      "text/plain": "array(['acetonitrile', 'acetic acid', 'dioxane', 'toluene', 'Water',\n       'potassium carbonate', 'CH2Cl2', 'EtOAc', 'MeOH', 'ethanol',\n       'triethylamine', 'DCM', 'tetrahydrofuran', 'HCl', 'methanol',\n       'ethyl acetate', 'dichloromethane', 'DMF', 'THF', 'water'],\n      dtype=object)"
     },
     "execution_count": 240,
     "metadata": {},
     "output_type": "execute_result"
    }
   ],
   "source": [
    "names_unique[0][np.argsort(names_unique[1])][-20:]"
   ],
   "metadata": {
    "collapsed": false
   }
  },
  {
   "cell_type": "code",
   "execution_count": 241,
   "outputs": [
    {
     "name": "stdout",
     "output_type": "stream",
     "text": [
      "CPU times: total: 31.2 ms\n",
      "Wall time: 28 ms\n"
     ]
    },
    {
     "data": {
      "text/plain": "320"
     },
     "execution_count": 241,
     "metadata": {},
     "output_type": "execute_result"
    }
   ],
   "source": [
    "%%time\n",
    "len_vect = np.vectorize(lambda x: len(str(x)))\n",
    "len_vect(arr[:, 1]).max()"
   ],
   "metadata": {
    "collapsed": false
   }
  },
  {
   "cell_type": "markdown",
   "source": [
    "# Parse whole USPTO dataset to numpy array of compounds"
   ],
   "metadata": {
    "collapsed": false
   }
  },
  {
   "cell_type": "code",
   "execution_count": 391,
   "outputs": [],
   "source": [
    "import numpy as np\n",
    "import pandas as pd\n",
    "from ord_data_load import pb2_to_numpy_cmpd, ORD_PATH\n",
    "\n",
    "uspto_files = pd.read_csv(f\"{ORD_PATH}/uspto_files.csv\").squeeze()"
   ],
   "metadata": {
    "collapsed": false
   }
  },
  {
   "cell_type": "code",
   "execution_count": 392,
   "outputs": [
    {
     "name": "stdout",
     "output_type": "stream",
     "text": [
      "CPU times: total: 9.2 s\n",
      "Wall time: 27.3 s\n"
     ]
    },
    {
     "data": {
      "text/plain": "488"
     },
     "execution_count": 392,
     "metadata": {},
     "output_type": "execute_result"
    }
   ],
   "source": [
    "%%time\n",
    "n_cores = 24\n",
    "\n",
    "if __name__ == '__main__':\n",
    "    with mp.Pool(n_cores) as p:\n",
    "        res = p.map(pb2_to_numpy_cmpd, uspto_files)\n",
    "len(res)"
   ],
   "metadata": {
    "collapsed": false
   }
  },
  {
   "cell_type": "code",
   "execution_count": 393,
   "outputs": [
    {
     "data": {
      "text/plain": "array([[None, 'sulfuric acid', 'S(O)(O)(=O)=O', 1,\n        'ord-f05182efc7494917864a6ea459070b88'],\n       [None, 'phosphate rock',\n        '[O-]P(=O)([O-])[O-].[O-]P(=O)([O-])[O-].[O-]P(=O)([O-])[O-].[F-].[Ca+2].[Ca+2].[Ca+2].[Ca+2].[Ca+2]',\n        1, 'ord-f05182efc7494917864a6ea459070b88'],\n       [None, 'phosphoric acid', 'P(O)(O)(O)=O', 1,\n        'ord-f05182efc7494917864a6ea459070b88'],\n       ...,\n       [None, 'NaOMe', 'C[O-].[Na+]', 1,\n        'ord-2b0f97b346414e2083183fb1d64385e2'],\n       [None, 'MeOH', 'CO', 3, 'ord-2b0f97b346414e2083183fb1d64385e2'],\n       [None,\n        'N-hexyl-6-hydroxy-2,5,7,8-tetramethylchroman-2-carboxamide',\n        'C(CCCCC)NC(=O)C1(OC2=C(C(=C(C(=C2CC1)C)O)C)C)C', 8,\n        'ord-2b0f97b346414e2083183fb1d64385e2']], dtype=object)"
     },
     "execution_count": 393,
     "metadata": {},
     "output_type": "execute_result"
    }
   ],
   "source": [
    "cmpd_np = np.vstack(res)\n",
    "cmpd_np"
   ],
   "metadata": {
    "collapsed": false
   }
  },
  {
   "cell_type": "code",
   "execution_count": 397,
   "outputs": [
    {
     "name": "stdout",
     "output_type": "stream",
     "text": [
      "378.1MB\n"
     ]
    }
   ],
   "source": [
    "print(f\"{cmpd_np.nbytes/1024/1024:.1f}MB\")"
   ],
   "metadata": {
    "collapsed": false
   }
  },
  {
   "cell_type": "code",
   "execution_count": 398,
   "outputs": [
    {
     "name": "stdout",
     "output_type": "stream",
     "text": [
      "CPU times: total: 13.1 s\n",
      "Wall time: 13.9 s\n"
     ]
    }
   ],
   "source": [
    "%%time\n",
    "\n",
    "np.save(f'{ORD_PATH}/cmpd_np.npy', cmpd_np)"
   ],
   "metadata": {
    "collapsed": false
   }
  },
  {
   "cell_type": "code",
   "execution_count": 399,
   "outputs": [
    {
     "name": "stdout",
     "output_type": "stream",
     "text": [
      "CPU times: total: 6.86 s\n",
      "Wall time: 6.88 s\n"
     ]
    }
   ],
   "source": [
    "%%time\n",
    "cmpd_np = np.load(f'{ORD_PATH}/cmpd_np.npy', allow_pickle=True)"
   ],
   "metadata": {
    "collapsed": false
   }
  },
  {
   "cell_type": "code",
   "execution_count": 400,
   "outputs": [
    {
     "name": "stdout",
     "output_type": "stream",
     "text": [
      "<class 'pandas.core.frame.DataFrame'>\n",
      "Index: 9912637 entries, ord-000002a8654f41fc85d99dbf87521aa1 to ord-fffffe4d14804a56bd6d6f6d64d98144\n",
      "Data columns (total 4 columns):\n",
      " #   Column    Dtype \n",
      "---  ------    ----- \n",
      " 0   trivial   object\n",
      " 1   name      object\n",
      " 2   smiles    object\n",
      " 3   rxn_role  object\n",
      "dtypes: object(4)\n",
      "memory usage: 378.1+ MB\n",
      "CPU times: total: 20.7 s\n",
      "Wall time: 20.7 s\n"
     ]
    }
   ],
   "source": [
    "%%time\n",
    "df = pd.DataFrame(cmpd_np, columns=['trivial', 'name', 'smiles', 'rxn_role', 'rxn_id'])\n",
    "# df['rxn_role'] = df['rxn_role'].astype(\"category\")\n",
    "df.set_index('rxn_id', inplace=True)\n",
    "df.sort_index(inplace=True)\n",
    "df.info()"
   ],
   "metadata": {
    "collapsed": false
   }
  },
  {
   "cell_type": "code",
   "execution_count": 401,
   "outputs": [
    {
     "name": "stdout",
     "output_type": "stream",
     "text": [
      "CPU times: total: 6.12 s\n",
      "Wall time: 6.14 s\n"
     ]
    }
   ],
   "source": [
    "%%time\n",
    "uniq_rxns = df.index.unique()"
   ],
   "metadata": {
    "collapsed": false
   }
  },
  {
   "cell_type": "code",
   "execution_count": 402,
   "outputs": [],
   "source": [
    "import random"
   ],
   "metadata": {
    "collapsed": false
   }
  },
  {
   "cell_type": "code",
   "execution_count": 408,
   "outputs": [
    {
     "name": "stdout",
     "output_type": "stream",
     "text": [
      "CPU times: total: 31.2 ms\n",
      "Wall time: 1 ms\n"
     ]
    },
    {
     "data": {
      "text/plain": "                                     trivial                                               name                                  smiles rxn_role\nrxn_id                                                                                                                                          \nord-4114c6805913475585401d0f792cfa60    None                          lithium aluminium hydride        [H-].[Al+3].[Li+].[H-].[H-].[H-]        1\nord-4114c6805913475585401d0f792cfa60    None                                              ether                                   CCOCC        3\nord-4114c6805913475585401d0f792cfa60   amine  4-Aminomethyl-4-benzylthio-2,3,5,6-tetrahydro-...               NCC1(CCOCC1)SCC1=CC=CC=C1        8\nord-4114c6805913475585401d0f792cfa60    None  4-benzylthio-2,3,5,6-tetrahydro-4-nitromethyl-...  C(C1=CC=CC=C1)SC1(CCOCC1)C[N+](=O)[O-]        1\nord-4114c6805913475585401d0f792cfa60    None                                              ether                                   CCOCC        3",
      "text/html": "<div>\n<style scoped>\n    .dataframe tbody tr th:only-of-type {\n        vertical-align: middle;\n    }\n\n    .dataframe tbody tr th {\n        vertical-align: top;\n    }\n\n    .dataframe thead th {\n        text-align: right;\n    }\n</style>\n<table border=\"1\" class=\"dataframe\">\n  <thead>\n    <tr style=\"text-align: right;\">\n      <th></th>\n      <th>trivial</th>\n      <th>name</th>\n      <th>smiles</th>\n      <th>rxn_role</th>\n    </tr>\n    <tr>\n      <th>rxn_id</th>\n      <th></th>\n      <th></th>\n      <th></th>\n      <th></th>\n    </tr>\n  </thead>\n  <tbody>\n    <tr>\n      <th>ord-4114c6805913475585401d0f792cfa60</th>\n      <td>None</td>\n      <td>lithium aluminium hydride</td>\n      <td>[H-].[Al+3].[Li+].[H-].[H-].[H-]</td>\n      <td>1</td>\n    </tr>\n    <tr>\n      <th>ord-4114c6805913475585401d0f792cfa60</th>\n      <td>None</td>\n      <td>ether</td>\n      <td>CCOCC</td>\n      <td>3</td>\n    </tr>\n    <tr>\n      <th>ord-4114c6805913475585401d0f792cfa60</th>\n      <td>amine</td>\n      <td>4-Aminomethyl-4-benzylthio-2,3,5,6-tetrahydro-...</td>\n      <td>NCC1(CCOCC1)SCC1=CC=CC=C1</td>\n      <td>8</td>\n    </tr>\n    <tr>\n      <th>ord-4114c6805913475585401d0f792cfa60</th>\n      <td>None</td>\n      <td>4-benzylthio-2,3,5,6-tetrahydro-4-nitromethyl-...</td>\n      <td>C(C1=CC=CC=C1)SC1(CCOCC1)C[N+](=O)[O-]</td>\n      <td>1</td>\n    </tr>\n    <tr>\n      <th>ord-4114c6805913475585401d0f792cfa60</th>\n      <td>None</td>\n      <td>ether</td>\n      <td>CCOCC</td>\n      <td>3</td>\n    </tr>\n  </tbody>\n</table>\n</div>"
     },
     "execution_count": 408,
     "metadata": {},
     "output_type": "execute_result"
    }
   ],
   "source": [
    "%%time\n",
    "df.loc[random.choice(uniq_rxns)]"
   ],
   "metadata": {
    "collapsed": false
   }
  },
  {
   "cell_type": "code",
   "execution_count": 337,
   "outputs": [],
   "source": [
    "x_len = 500000\n",
    "g_len = 200\n",
    "\n",
    "X = np.arange(x_len * 2).reshape(x_len, 2)\n",
    "groups = np.random.randint(0, g_len, x_len)"
   ],
   "metadata": {
    "collapsed": false
   }
  },
  {
   "cell_type": "code",
   "execution_count": 371,
   "outputs": [
    {
     "name": "stdout",
     "output_type": "stream",
     "text": [
      "CPU times: total: 16.5 s\n",
      "Wall time: 16.5 s\n"
     ]
    }
   ],
   "source": [
    "%%time\n",
    "rxn_ids = cmpd_np[:, 4]\n",
    "uniq_rxns = np.unique(cmpd_np[:, 4])\n",
    "is_product = cmpd_np[:, 3] == 8\n",
    "# np.array([(is_product[rxn_ids==id]).sum() for id in rxns[:10]])\n",
    "\n",
    "# np.bincount(uniq_rxns, is_product, len(rxns))"
   ],
   "metadata": {
    "collapsed": false
   }
  }
 ],
 "metadata": {
  "kernelspec": {
   "display_name": "Python 3",
   "language": "python",
   "name": "python3"
  },
  "language_info": {
   "codemirror_mode": {
    "name": "ipython",
    "version": 2
   },
   "file_extension": ".py",
   "mimetype": "text/x-python",
   "name": "python",
   "nbconvert_exporter": "python",
   "pygments_lexer": "ipython2",
   "version": "2.7.6"
  }
 },
 "nbformat": 4,
 "nbformat_minor": 0
}
