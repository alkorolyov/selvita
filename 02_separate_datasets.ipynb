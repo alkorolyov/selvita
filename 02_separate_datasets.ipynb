{
 "cells": [
  {
   "cell_type": "code",
   "execution_count": 5,
   "metadata": {
    "collapsed": true
   },
   "outputs": [
    {
     "name": "stdout",
     "output_type": "stream",
     "text": [
      "The autoreload extension is already loaded. To reload it, use:\n",
      "  %reload_ext autoreload\n"
     ]
    }
   ],
   "source": [
    "import pandas as pd\n",
    "import numpy as np\n",
    "from ord_data_load import ORD_PATH, ORD_REPO_PATH\n",
    "\n",
    "pd.set_option('display.max_rows', 500)\n",
    "pd.set_option('display.max_columns', 500)\n",
    "pd.set_option('display.width', 1000)\n",
    "\n",
    "#to disable warnings\n",
    "from rdkit import RDLogger\n",
    "RDLogger.DisableLog('rdApp.*')\n",
    "\n",
    "from glob import glob\n",
    "import os\n",
    "import multiprocessing as mp\n",
    "import gzip\n",
    "from google import protobuf\n",
    "\n",
    "from ord_schema import message_helpers\n",
    "from ord_schema.proto import dataset_pb2\n",
    "from ord_schema.proto import reaction_pb2\n",
    "\n",
    "from time import time\n",
    "from ord_data_load import load_dataset, filter_uspto_filenames\n",
    "\n",
    "%load_ext autoreload\n",
    "%autoreload 2"
   ]
  },
  {
   "cell_type": "code",
   "execution_count": 6,
   "outputs": [],
   "source": [
    "# all_reactions = pd.read_pickle(f\"{ORD_PATH}/all_reactions.pkl\")"
   ],
   "metadata": {
    "collapsed": false
   }
  },
  {
   "cell_type": "markdown",
   "source": [
    "#TODO treat those datasets separately\n",
    "\n",
    "# Datasets of interest\n",
    "\n",
    "### 1) Pd CAT REACTIONS DATASETS (500-5k cmpds, Good quality, quantitative)\n",
    "\n",
    "750 Buchwald-Hartwig reactions generated from AstraZeneca ELN which is used in yield prediction work\n",
    "*\"Graph Neural Networks for Predicting Chemical Reaction Performance\"*\n",
    "[https://doi.org/10.26434/chemrxiv.14589498.v2](https://doi.org/10.26434/chemrxiv.14589498.v2)\n",
    "[ord_dataset-00005539a1e04c809a9a78647bea649c](https://open-reaction-database.org/client/search?dataset_ids=ord_dataset-00005539a1e04c809a9a78647bea649c)\n",
    "\n",
    "\n",
    "1536 reactions using HTS with Pd cat. Good quality quantitative data.\n",
    "*\"Nanomole-scale high-throughput chemistry for the synthesis of complex molecules\"*\n",
    "[https://doi.org/10.1126/science.1259203](https://doi.org/10.1126/science.1259203)\n",
    "[ord_dataset-7d8f5fd922d4497d91cb81489b052746](https://open-reaction-database.org/client/search?dataset_ids=ord_dataset-7d8f5fd922d4497d91cb81489b052746)\n",
    "\n",
    "5760 Suzuki reactions. Quantitative data. Single scaffold [6-quin]-[4-benzIm]\n",
    "*A platform for automated nanomole-scale reaction screening and micromole-scale synthesis in flow*\n",
    "[https://doi.org/10.1126/science.aap9112](https://doi.org/10.1126/science.aap9112)\n",
    "```ord_dataset-68cb8b4b2b384e3d85b5b1efae58b203```\n",
    "\n",
    "376 Suzuki reactions. Quantitative data.\n",
    "Same as scaffold as ```ord_dataset-68cb8b4b2b384e3d85b5b1efae58b203```\n",
    "[6-quin]-[4-benzIm], but with multiple outcomes as byproducts.\n",
    "```ord_dataset-eeba974d3c284aed86d1c1d442260a1e```\n",
    "\n",
    "\n",
    "4312 C-N cross-coupling reactions. Quantitative data. Single scaffold [Ph-NH-Ph].\n",
    "Different heterocycles - B, Si etc.\n",
    "*\"Predicting reaction performance in C–N cross-coupling using machine learning\"*\n",
    "[https://doi.org/10.1126/science.aar5169](https://doi.org/10.1126/science.aar5169)\n",
    "```ord_dataset-46ff9a32d9e04016b9380b1b1ef949c3```\n",
    "\n",
    "\n",
    "288 Buchwald reactions. Quantitative data. Single reaction:\n",
    "[3-Br-py + 4-Ph-THPyrazine]\n",
    "```ord_dataset-cbcc4048add7468e850b6ec42549c70d```\n",
    "\n",
    "\n",
    "450 Pd/Ni cat reactions. Might be usable. Single Scaffold [Ph-Ph]\n",
    "*\"Linking Mechanistic Analysis of Catalytic Reactivity Cliffs to Ligand Classification\"*\n",
    "[https://doi.org/10.26434/chemrxiv.14388557.v1](https://doi.org/10.26434/chemrxiv.14388557.v1)\n",
    "```ord_dataset-3b5db90e337942ea886b8f5bc5e3aa72```\n",
    "\n",
    "### 2) 500k REACTIONS, NO CONDITIONS, CLEANED SINGLE DATASET.\n",
    "\n",
    "500k reactions. Split to train and test. Different reaction classes. No conditions\n",
    "*\"A graph-convolutional neural network model for the prediction of chemical reactivity\"*\n",
    "[https://doi.org/10.1039/C8SC04228D](https://doi.org/10.1039/C8SC04228D)\n",
    "```\n",
    "ord_dataset-de0979205c84441190feef587fef8d6d\n",
    "ord_dataset-488402f6ec0d441ca2f7d6fabea7c220\n",
    "ord_dataset-5481550056a14935b76e031fb94b88be\n",
    "```\n",
    "\n",
    "### 3) USPTO DATABASE ~1.7kk reactions. Needs cleaning. Raw data\n",
    "Non-zero \"patent\" field\n",
    "\n",
    "\n",
    "### 4) everything else - Low quality or small datasets\n",
    "\n",
    "1728 low variability data.\n",
    "*Nano CN PhotoChemistry Informers Library*\n",
    "```ord_dataset-ac78456835404910b3a4c840248b6ac9```\n",
    "\n",
    "\n",
    "1728 + 256 quantitative data. Imidazole arylation. Single reaction.\n",
    "https://doi.org/10.1038/s41586-021-03213-y\n",
    "```ord_dataset-d26118acda314269becc35db5c22dc59```\n",
    "```ord_dataset-0c75d67751634f0594b24b9f498b77c2```\n",
    "\n",
    "\n"
   ],
   "metadata": {
    "collapsed": false
   }
  },
  {
   "cell_type": "code",
   "execution_count": 7,
   "outputs": [],
   "source": [
    "# uspto_df = all_reactions.loc[~all_reactions.patent.isna()]\n",
    "# uspto_df"
   ],
   "metadata": {
    "collapsed": false
   }
  },
  {
   "cell_type": "code",
   "execution_count": 8,
   "outputs": [
    {
     "name": "stdout",
     "output_type": "stream",
     "text": [
      "515 / 515: parsing dataset 134.3s\n"
     ]
    }
   ],
   "source": [
    "# uspto_filenames = []\n",
    "# N = len(glob(f'{ORD_REPO_PATH}/data/*/*.pb.gz'))\n",
    "#\n",
    "# start = time()\n",
    "# for i, pb in enumerate(glob(f'{ORD_REPO_PATH}/data/*/*.pb.gz'), 1):\n",
    "#     print(f\"{i:3d} / {N}: parsing dataset {time() - start:.1f}s\", end=\"\\r\")\n",
    "#     dataset = load_dataset(pb)\n",
    "#     if \"uspto\" in dataset.name:\n",
    "#         uspto_filenames.append(pb)\n",
    "#\n",
    "# len(uspto_filenames)\n",
    "\n",
    "print(\"515 / 515: parsing dataset 134.3s\")"
   ],
   "metadata": {
    "collapsed": false
   }
  },
  {
   "cell_type": "code",
   "execution_count": 9,
   "outputs": [
    {
     "name": "stdout",
     "output_type": "stream",
     "text": [
      "CPU times: total: 281 ms\n",
      "Wall time: 28.1 s\n"
     ]
    },
    {
     "data": {
      "text/plain": "0                                                   None\n1      ./ord-data/data\\01\\ord_dataset-018fd0e1351f4fd...\n2      ./ord-data/data\\01\\ord_dataset-01dbb772c5e2491...\n3      ./ord-data/data\\02\\ord_dataset-02ee22616630481...\n4      ./ord-data/data\\03\\ord_dataset-0387783899c642a...\n                             ...                        \n510    ./ord-data/data\\fd\\ord_dataset-fdef1f30cad6443...\n511    ./ord-data/data\\fe\\ord_dataset-fe016e2f90e741a...\n512    ./ord-data/data\\fe\\ord_dataset-fea3ada7aaad45a...\n513    ./ord-data/data\\ff\\ord_dataset-ff0bcb6c2300494...\n514    ./ord-data/data\\ff\\ord_dataset-ffbef48837674f3...\nLength: 515, dtype: object"
     },
     "execution_count": 9,
     "metadata": {},
     "output_type": "execute_result"
    }
   ],
   "source": [
    "%%time\n",
    "n_cores = 24\n",
    "\n",
    "with mp.Pool(n_cores) as p:\n",
    "    uspto_filenames = p.map(filter_uspto_filenames, glob(f'{ORD_REPO_PATH}/data/*/*.pb.gz'))\n",
    "\n",
    "pd.Series(uspto_filenames)"
   ],
   "metadata": {
    "collapsed": false
   }
  },
  {
   "cell_type": "code",
   "execution_count": 10,
   "outputs": [],
   "source": [
    "# save results\n",
    "uspto_files = pd.Series(uspto_filenames).dropna() #.apply(lambda x: os.path.basename(x).split(\".\")[0])\n",
    "uspto_files.to_csv(f\"{ORD_PATH}/uspto_files.csv\", index=False, header=False)"
   ],
   "metadata": {
    "collapsed": false
   }
  },
  {
   "cell_type": "code",
   "execution_count": 11,
   "outputs": [
    {
     "data": {
      "text/plain": "'./ord-data/data\\\\2d\\\\ord_dataset-2d6edb8ffd434003bb508360153bd9bb.pb.gz'"
     },
     "execution_count": 11,
     "metadata": {},
     "output_type": "execute_result"
    }
   ],
   "source": [
    "uspto_files = pd.read_csv(f\"{ORD_PATH}/uspto_files.csv\").squeeze()\n",
    "\n",
    "pb = uspto_files.sample().iat[0]\n",
    "pb"
   ],
   "metadata": {
    "collapsed": false
   }
  },
  {
   "cell_type": "code",
   "execution_count": 12,
   "outputs": [],
   "source": [
    "dataset = load_dataset(pb)"
   ],
   "metadata": {
    "collapsed": false
   }
  },
  {
   "cell_type": "code",
   "execution_count": 13,
   "outputs": [
    {
     "name": "stdout",
     "output_type": "stream",
     "text": [
      "name\n",
      "description\n",
      "reactions\n",
      "dataset_id\n"
     ]
    }
   ],
   "source": [
    "for field, value in dataset.ListFields():\n",
    "    print(field.name)\n",
    "\n",
    "# print(dataset.description)\n",
    "# print(len(dataset.reactions))"
   ],
   "metadata": {
    "collapsed": false
   }
  },
  {
   "cell_type": "code",
   "execution_count": 14,
   "outputs": [
    {
     "data": {
      "text/plain": "{'m2': components {\n  identifiers {\n    type: NAME\n    value: \"Pd/C\"\n  }\n  identifiers {\n    type: SMILES\n    value: \"[Pd]\"\n  }\n  identifiers {\n    type: INCHI\n    value: \"InChI=1S/Pd\"\n  }\n  amount {\n    mass {\n      value: 1.2000000476837158\n      units: GRAM\n    }\n  }\n  reaction_role: CATALYST\n}\n, 'm1_m3': components {\n  identifiers {\n    type: NAME\n    value: \"1,3-bis(2,7,9-triphenyl-1,4,5,6-tetrahydropyrido[3,2-h]quinazolin-4-yl)benzene\"\n  }\n  identifiers {\n    type: SMILES\n    value: \"C1(=CC=CC=C1)C=1NC=2C3=C(CCC2C(N1)C1=CC(=CC=C1)C1N=C(NC=2C4=C(CCC12)C(=CC(=N4)C4=CC=CC=C4)C4=CC=CC=C4)C4=CC=CC=C4)C(=CC(=N3)C3=CC=CC=C3)C3=CC=CC=C3\"\n  }\n  identifiers {\n    type: INCHI\n    value: \"InChI=1S/C64H48N6/c1-7-20-41(21-8-1)53-39-55(43-24-11-3-12-25-43)65-59-49(53)34-36-51-57(67-63(69-61(51)59)45-28-15-5-16-29-45)47-32-19-33-48(38-47)58-52-37-35-50-54(42-22-9-2-10-23-42)40-56(44-26-13-4-14-27-44)66-60(50)62(52)70-64(68-58)46-30-17-6-18-31-46/h1-33,38-40,57-58H,34-37H2,(H,67,69)(H,68,70)\"\n  }\n  amount {\n    moles {\n      value: 4.400000095367432\n      units: MILLIMOLE\n    }\n  }\n  reaction_role: REACTANT\n}\ncomponents {\n  identifiers {\n    type: NAME\n    value: \"diethyleneglycol\"\n  }\n  identifiers {\n    type: SMILES\n    value: \"C(COCCO)O\"\n  }\n  identifiers {\n    type: INCHI\n    value: \"InChI=1S/C4H10O3/c5-1-3-7-4-2-6/h5-6H,1-4H2\"\n  }\n  amount {\n    moles {\n      value: 0.0\n      precision: 1.0\n      units: MOLE\n    }\n  }\n  reaction_role: SOLVENT\n}\n}"
     },
     "execution_count": 14,
     "metadata": {},
     "output_type": "execute_result"
    }
   ],
   "source": [
    "dataset.reactions[2].inputs"
   ],
   "metadata": {
    "collapsed": false
   }
  },
  {
   "cell_type": "code",
   "execution_count": 15,
   "outputs": [
    {
     "data": {
      "text/plain": "[identifiers {\n  type: NAME\n  value: \"3-(tritylthio)propanoic acid\"\n}\nidentifiers {\n  type: NAME\n  value: \"3-(tritylthio) propanoic acid\"\n}\nidentifiers {\n  type: SMILES\n  value: \"C(C1=CC=CC=C1)(C1=CC=CC=C1)(C1=CC=CC=C1)SCCC(=O)O\"\n}\nidentifiers {\n  type: INCHI\n  value: \"InChI=1S/C22H20O2S/c23-21(24)16-17-25-22(18-10-4-1-5-11-18,19-12-6-2-7-13-19)20-14-8-3-9-15-20/h1-15H,16-17H2,(H,23,24)\"\n}\nmeasurements {\n  type: AMOUNT\n  details: \"MASS\"\n  amount {\n    mass {\n      value: 9.859999656677246\n      units: GRAM\n    }\n  }\n}\nmeasurements {\n  type: YIELD\n  details: \"CALCULATEDPERCENTYIELD\"\n  percentage {\n    value: 95.69999694824219\n  }\n}\nreaction_role: PRODUCT\n]"
     },
     "execution_count": 15,
     "metadata": {},
     "output_type": "execute_result"
    }
   ],
   "source": [
    "dataset.reactions[4].outcomes[0].products"
   ],
   "metadata": {
    "collapsed": false
   }
  },
  {
   "cell_type": "code",
   "execution_count": 16,
   "outputs": [
    {
     "data": {
      "text/plain": "<MessageFields sequence>"
     },
     "execution_count": 16,
     "metadata": {},
     "output_type": "execute_result"
    }
   ],
   "source": [
    "dataset.reactions[2].DESCRIPTOR.fields"
   ],
   "metadata": {
    "collapsed": false
   }
  },
  {
   "cell_type": "code",
   "execution_count": 17,
   "outputs": [
    {
     "name": "stdout",
     "output_type": "stream",
     "text": [
      "CPU times: total: 6.98 s\n",
      "Wall time: 6.98 s\n"
     ]
    },
    {
     "data": {
      "text/plain": "{'name': 'uspto-grants-2013_07',\n 'description': 'CML filenames: I20130702.xml,I20130709.xml,I20130716.xml,I20130723.xml,I20130730.xml',\n 'reactions[0].identifiers[0].type': 'REACTION_CXSMILES',\n 'reactions[0].identifiers[0].value': '[NH2:1][C:2]1[CH:10]=[CH:9][C:5]([CH2:6][C:7]#[N:8])=[CH:4][CH:3]=1.N1[CH:16]=[CH:15][CH:14]=[CH:13][CH:12]=1.[Cl-].[OH2:18]>>[C:7]([CH2:6][C:5]1[CH:9]=[CH:10][C:2]([NH:1][C:12]([CH:13]2[CH:4]([CH:5]([CH3:9])[CH3:6])[CH2:3][CH2:2][CH:15]([CH3:16])[CH2:14]2)=[O:18])=[CH:3][CH:4]=1)#[N:8]',\n 'reactions[0].identifiers[0].is_mapped': True,\n 'reactions[0].inputs[\"m3_m4\"].components[0].identifiers[0].type': 'NAME',\n 'reactions[0].inputs[\"m3_m4\"].components[0].identifiers[0].value': 'p-menthane-3-carbon',\n 'reactions[0].inputs[\"m3_m4\"].components[0].amount.mass.value': 10.0,\n 'reactions[0].inputs[\"m3_m4\"].components[0].amount.mass.units': 'GRAM',\n 'reactions[0].inputs[\"m3_m4\"].components[0].reaction_role': 'REACTANT',\n 'reactions[0].inputs[\"m3_m4\"].components[1].identifiers[0].type': 'NAME',\n 'reactions[0].inputs[\"m3_m4\"].components[1].identifiers[0].value': 'chloride',\n 'reactions[0].inputs[\"m3_m4\"].components[1].identifiers[1].type': 'SMILES',\n 'reactions[0].inputs[\"m3_m4\"].components[1].identifiers[1].value': '[Cl-]',\n 'reactions[0].inputs[\"m3_m4\"].components[1].identifiers[2].type': 'INCHI',\n 'reactions[0].inputs[\"m3_m4\"].components[1].identifiers[2].value': 'InChI=1S/ClH/h1H/p-1',\n 'reactions[0].inputs[\"m3_m4\"].components[1].amount.moles.value': 0.0,\n 'reactions[0].inputs[\"m3_m4\"].components[1].amount.moles.precision': 1.0,\n 'reactions[0].inputs[\"m3_m4\"].components[1].amount.moles.units': 'MOLE',\n 'reactions[0].inputs[\"m3_m4\"].components[1].reaction_role': 'REACTANT',\n 'reactions[0].inputs[\"m1_m2\"].components[0].identifiers[0].type': 'NAME',\n 'reactions[0].inputs[\"m1_m2\"].components[0].identifiers[0].value': '4-aminobenzyl cyanide',\n 'reactions[0].inputs[\"m1_m2\"].components[0].identifiers[1].type': 'SMILES',\n 'reactions[0].inputs[\"m1_m2\"].components[0].identifiers[1].value': 'NC1=CC=C(CC#N)C=C1',\n 'reactions[0].inputs[\"m1_m2\"].components[0].identifiers[2].type': 'INCHI',\n 'reactions[0].inputs[\"m1_m2\"].components[0].identifiers[2].value': 'InChI=1S/C8H8N2/c9-6-5-7-1-3-8(10)4-2-7/h1-4H,5,10H2',\n 'reactions[0].inputs[\"m1_m2\"].components[0].amount.mass.value': 6.599999904632568,\n 'reactions[0].inputs[\"m1_m2\"].components[0].amount.mass.units': 'GRAM',\n 'reactions[0].inputs[\"m1_m2\"].components[0].reaction_role': 'REACTANT',\n 'reactions[0].inputs[\"m1_m2\"].components[1].identifiers[0].type': 'NAME',\n 'reactions[0].inputs[\"m1_m2\"].components[1].identifiers[0].value': 'pyridine',\n 'reactions[0].inputs[\"m1_m2\"].components[1].identifiers[1].type': 'SMILES',\n 'reactions[0].inputs[\"m1_m2\"].components[1].identifiers[1].value': 'N1=CC=CC=C1',\n 'reactions[0].inputs[\"m1_m2\"].components[1].identifiers[2].type': 'INCHI',\n 'reactions[0].inputs[\"m1_m2\"].components[1].identifiers[2].value': 'InChI=1S/C5H5N/c1-2-4-6-5-3-1/h1-5H',\n 'reactions[0].inputs[\"m1_m2\"].components[1].amount.volume.value': 4.039999961853027,\n 'reactions[0].inputs[\"m1_m2\"].components[1].amount.volume.units': 'MILLILITER',\n 'reactions[0].inputs[\"m1_m2\"].components[1].reaction_role': 'REACTANT',\n 'reactions[0].inputs[\"m5\"].components[0].identifiers[0].type': 'NAME',\n 'reactions[0].inputs[\"m5\"].components[0].identifiers[0].value': 'water',\n 'reactions[0].inputs[\"m5\"].components[0].identifiers[1].type': 'SMILES',\n 'reactions[0].inputs[\"m5\"].components[0].identifiers[1].value': 'O',\n 'reactions[0].inputs[\"m5\"].components[0].identifiers[2].type': 'INCHI',\n 'reactions[0].inputs[\"m5\"].components[0].identifiers[2].value': 'InChI=1S/H2O/h1H2',\n 'reactions[0].inputs[\"m5\"].components[0].amount.volume.value': 50.0,\n 'reactions[0].inputs[\"m5\"].components[0].amount.volume.units': 'MILLILITER',\n 'reactions[0].inputs[\"m5\"].components[0].reaction_role': 'REACTANT',\n 'reactions[0].conditions.stirring.type': 'CUSTOM',\n 'reactions[0].conditions.stirring.details': 'The reaction mixture was stirred for 24 h',\n 'reactions[0].conditions.conditions_are_dynamic': True,\n 'reactions[0].conditions.details': 'See reaction.notes.procedure_details.',\n 'reactions[0].notes.procedure_details': 'To a flask, were added 6.6 g (50 mmol) of 4-aminobenzyl cyanide, 4.04 mL of pyridine and 100 mL MtBE. To this mixture, 10 g of p-menthane-3-carbon*yl chloride were added dropwise over 5 minutes. The reaction mixture was stirred for 24 h. To the reaction mixture, 50 mL of water were added. The mixture was separated. The organic layer was washed with 50 mL of water and 50 mL of brine. The organic layer was dried over MgSO4. The solvent was evaporated in vacuo to afford the crude product, which was recrystallized from hexanes to afford 10.1 g of the desired product with the following spectroscopic properties:',\n 'reactions[0].workups[0].type': 'CUSTOM',\n 'reactions[0].workups[0].details': 'The mixture was separated',\n 'reactions[0].workups[1].type': 'WASH',\n 'reactions[0].workups[1].details': 'The organic layer was washed with 50 mL of water and 50 mL of brine',\n 'reactions[0].workups[1].input.components[0].identifiers[0].type': 'NAME',\n 'reactions[0].workups[1].input.components[0].identifiers[0].value': 'water',\n 'reactions[0].workups[1].input.components[0].identifiers[1].type': 'SMILES',\n 'reactions[0].workups[1].input.components[0].identifiers[1].value': 'O',\n 'reactions[0].workups[1].input.components[0].identifiers[2].type': 'INCHI',\n 'reactions[0].workups[1].input.components[0].identifiers[2].value': 'InChI=1S/H2O/h1H2',\n 'reactions[0].workups[1].input.components[0].amount.volume.value': 50.0,\n 'reactions[0].workups[1].input.components[0].amount.volume.units': 'MILLILITER',\n 'reactions[0].workups[1].input.components[0].reaction_role': 'WORKUP',\n 'reactions[0].workups[1].input.components[1].identifiers[0].type': 'NAME',\n 'reactions[0].workups[1].input.components[1].identifiers[0].value': 'brine',\n 'reactions[0].workups[1].input.components[1].identifiers[1].type': 'SMILES',\n 'reactions[0].workups[1].input.components[1].identifiers[1].value': '[Cl-].[Na+].O',\n 'reactions[0].workups[1].input.components[1].identifiers[2].type': 'INCHI',\n 'reactions[0].workups[1].input.components[1].identifiers[2].value': 'InChI=1S/ClH.Na.H2O/h1H;;1H2/q;+1;/p-1',\n 'reactions[0].workups[1].input.components[1].amount.volume.value': 50.0,\n 'reactions[0].workups[1].input.components[1].amount.volume.units': 'MILLILITER',\n 'reactions[0].workups[1].input.components[1].reaction_role': 'WORKUP',\n 'reactions[0].workups[2].type': 'DRY_WITH_MATERIAL',\n 'reactions[0].workups[2].details': 'The organic layer was dried over MgSO4',\n 'reactions[0].workups[2].input.components[0].identifiers[0].type': 'NAME',\n 'reactions[0].workups[2].input.components[0].identifiers[0].value': 'MgSO4',\n 'reactions[0].workups[2].input.components[0].identifiers[1].type': 'SMILES',\n 'reactions[0].workups[2].input.components[0].identifiers[1].value': '[O-]S(=O)(=O)[O-].[Mg+2]',\n 'reactions[0].workups[2].input.components[0].identifiers[2].type': 'INCHI',\n 'reactions[0].workups[2].input.components[0].identifiers[2].value': 'InChI=1S/Mg.H2O4S/c;1-5(2,3)4/h;(H2,1,2,3,4)/q+2;/p-2',\n 'reactions[0].workups[2].input.components[0].amount.moles.value': 0.0,\n 'reactions[0].workups[2].input.components[0].amount.moles.precision': 1.0,\n 'reactions[0].workups[2].input.components[0].amount.moles.units': 'MOLE',\n 'reactions[0].workups[2].input.components[0].reaction_role': 'WORKUP',\n 'reactions[0].workups[3].type': 'CUSTOM',\n 'reactions[0].workups[3].details': 'The solvent was evaporated in vacuo',\n 'reactions[0].workups[4].type': 'CUSTOM',\n 'reactions[0].workups[4].details': 'to afford the crude product, which',\n 'reactions[0].workups[4].input.components[0].identifiers[0].type': 'NAME',\n 'reactions[0].workups[4].input.components[0].identifiers[0].value': 'crude product',\n 'reactions[0].workups[4].input.components[0].amount.moles.value': 0.0,\n 'reactions[0].workups[4].input.components[0].amount.moles.precision': 1.0,\n 'reactions[0].workups[4].input.components[0].amount.moles.units': 'MOLE',\n 'reactions[0].workups[4].input.components[0].reaction_role': 'WORKUP',\n 'reactions[0].workups[5].type': 'CUSTOM',\n 'reactions[0].workups[5].details': 'was recrystallized from hexanes',\n 'reactions[0].workups[5].input.components[0].identifiers[0].type': 'NAME',\n 'reactions[0].workups[5].input.components[0].identifiers[0].value': 'hexanes',\n 'reactions[0].workups[5].input.components[0].amount.moles.value': 0.0,\n 'reactions[0].workups[5].input.components[0].amount.moles.precision': 1.0,\n 'reactions[0].workups[5].input.components[0].amount.moles.units': 'MOLE',\n 'reactions[0].workups[5].input.components[0].reaction_role': 'WORKUP',\n 'reactions[0].outcomes[0].reaction_time.value': 24.0,\n 'reactions[0].outcomes[0].reaction_time.units': 'HOUR',\n 'reactions[0].outcomes[0].products[0].identifiers[0].type': 'NAME',\n 'reactions[0].outcomes[0].products[0].identifiers[0].value': 'desired product',\n 'reactions[0].outcomes[0].products[0].identifiers[1].type': 'NAME',\n 'reactions[0].outcomes[0].products[0].identifiers[1].value': 'N-(4-cyanomethylphenyl) p-menthanecarboxamide',\n 'reactions[0].outcomes[0].products[0].identifiers[2].type': 'SMILES',\n 'reactions[0].outcomes[0].products[0].identifiers[2].value': 'C(#N)CC1=CC=C(C=C1)NC(=O)C1CC(CCC1C(C)C)C',\n 'reactions[0].outcomes[0].products[0].identifiers[3].type': 'INCHI',\n 'reactions[0].outcomes[0].products[0].identifiers[3].value': 'InChI=1S/C19H26N2O/c1-13(2)17-9-4-14(3)12-18(17)19(22)21-16-7-5-15(6-8-16)10-11-20/h5-8,13-14,17-18H,4,9-10,12H2,1-3H3,(H,21,22)',\n 'reactions[0].outcomes[0].products[0].measurements[0].type': 'AMOUNT',\n 'reactions[0].outcomes[0].products[0].measurements[0].details': 'MASS',\n 'reactions[0].outcomes[0].products[0].measurements[0].amount.mass.value': 10.100000381469727,\n 'reactions[0].outcomes[0].products[0].measurements[0].amount.mass.units': 'GRAM',\n 'reactions[0].outcomes[0].products[0].reaction_role': 'PRODUCT',\n 'reactions[0].provenance.doi': '10.6084/m9.figshare.5104873.v1',\n 'reactions[0].provenance.patent': 'USRE044339E1',\n 'reactions[0].provenance.record_created.time.value': '2022-12-02 19:59:53.258578',\n 'reactions[0].provenance.record_created.person.username': 'skearnes',\n 'reactions[0].provenance.record_created.person.name': 'Steven Kearnes',\n 'reactions[0].provenance.record_created.person.orcid': '0000-0003-4579-4388',\n 'reactions[0].provenance.record_created.person.organization': 'Google LLC',\n 'reactions[0].provenance.record_created.person.email': 'kearnes@google.com',\n 'reactions[0].provenance.record_modified[0].time.value': 'Mon Dec  5 19:11:33 2022',\n 'reactions[0].provenance.record_modified[0].person.username': 'github-actions',\n 'reactions[0].provenance.record_modified[0].person.email': 'github-actions@github.com',\n 'reactions[0].provenance.record_modified[0].details': 'Automatic updates from the submission pipeline.',\n 'reactions[0].reaction_id': 'ord-b02e27fc945948d4979a75e5b131dc9b',\n 'reactions[1].identifiers[0].type': 'REACTION_CXSMILES',\n 'reactions[1].identifiers[0].value': '[O:1]=[C:2]1[C:11]2[O+]=[C:9]([C:12]3[CH:17]=[CH:16][CH:15]=[CH:14][CH:13]=3)[CH:8]=[C:7]([C:18]3[CH:23]=[CH:22][CH:21]=[CH:20][CH:19]=3)[C:6]=2[CH2:5][CH2:4][CH2:3]1.F[B-](F)(F)F.C(=O)([O-])[NH2:30].[NH4+]>O>[C:12]1([C:9]2[CH:8]=[C:7]([C:18]3[CH:23]=[CH:22][CH:21]=[CH:20][CH:19]=3)[C:6]3[CH2:5][CH2:4][CH2:3][C:2](=[O:1])[C:11]=3[N:30]=2)[CH:17]=[CH:16][CH:15]=[CH:14][CH:13]=1 |f:0.1,2.3|',\n 'reactions[1].identifiers[0].is_mapped': True,\n 'reactions[1].inputs[\"m1_m2_m3\"].components[0].identifiers[0].type': 'NAME',\n 'reactions[1].inputs[\"m1_m2_m3\"].components[0].identifiers[0].value': '5,6,7,8-tetrahydro-8-oxo-2,4-diphenyl-1-benzopyrylium tetrafluoroborate',\n 'reactions[1].inputs[\"m1_m2_m3\"].components[0].identifiers[1].type': 'SMILES',\n 'reactions[1].inputs[\"m1_m2_m3\"].components[0].identifiers[1].value': 'O=C1CCCC=2C(=CC(=[O+]C21)C2=CC=CC=C2)C2=CC=CC=C2.F[B-](F)(F)F',\n 'reactions[1].inputs[\"m1_m2_m3\"].components[0].identifiers[2].type': 'INCHI',\n 'reactions[1].inputs[\"m1_m2_m3\"].components[0].identifiers[2].value': 'InChI=1S/C21H17O2.BF4/c22-19-13-7-12-17-18(15-8-3-1-4-9-15)14-20(23-21(17)19)16-10-5-2-6-11-16;2-1(3,4)5/h1-6,8-11,14H,7,12-13H2;/q+1;-1',\n 'reactions[1].inputs[\"m1_m2_m3\"].components[0].amount.moles.value': 0.0,\n 'reactions[1].inputs[\"m1_m2_m3\"].components[0].amount.moles.precision': 1.0,\n 'reactions[1].inputs[\"m1_m2_m3\"].components[0].amount.moles.units': 'MOLE',\n 'reactions[1].inputs[\"m1_m2_m3\"].components[0].reaction_role': 'REACTANT',\n 'reactions[1].inputs[\"m1_m2_m3\"].components[1].identifiers[0].type': 'NAME',\n 'reactions[1].inputs[\"m1_m2_m3\"].components[1].identifiers[0].value': 'ammonium carbamate',\n 'reactions[1].inputs[\"m1_m2_m3\"].components[1].identifiers[1].type': 'SMILES',\n 'reactions[1].inputs[\"m1_m2_m3\"].components[1].identifiers[1].value': 'C(N)([O-])=O.[NH4+]',\n 'reactions[1].inputs[\"m1_m2_m3\"].components[1].identifiers[2].type': 'INCHI',\n 'reactions[1].inputs[\"m1_m2_m3\"].components[1].identifiers[2].value': 'InChI=1S/CH3NO2.H3N/c2-1(3)4;/h2H2,(H,3,4);1H3',\n 'reactions[1].inputs[\"m1_m2_m3\"].components[1].amount.mass.value': 63.099998474121094,\n 'reactions[1].inputs[\"m1_m2_m3\"].components[1].amount.mass.units': 'GRAM',\n 'reactions[1].inputs[\"m1_m2_m3\"].components[1].reaction_role': 'REACTANT',\n 'reactions[1].inputs[\"m1_m2_m3\"].components[2].identifiers[0].type': 'NAME',\n 'reactions[1].inputs[\"m1_m2_m3\"].components[2].identifiers[0].value': 'water',\n 'reactions[1].inputs[\"m1_m2_m3\"].components[2].identifiers[1].type': 'SMILES',\n 'reactions[1].inputs[\"m1_m2_m3\"].components[2].identifiers[1].value': 'O',\n 'reactions[1].inputs[\"m1_m2_m3\"].components[2].identifiers[2].type': 'INCHI',\n 'reactions[1].inputs[\"m1_m2_m3\"].components[2].identifiers[2].value': 'InChI=1S/H2O/h1H2',\n 'reactions[1].inputs[\"m1_m2_m3\"].components[2].amount.volume.value': 600.0,\n 'reactions[1].inputs[\"m1_m2_m3\"].components[2].amount.volume.units': 'MILLILITER',\n 'reactions[1].inputs[\"m1_m2_m3\"].components[2].reaction_role': 'SOLVENT',\n 'reactions[1].conditions.temperature.control.type': 'AMBIENT',\n 'reactions[1].conditions.stirring.type': 'CUSTOM',\n 'reactions[1].conditions.stirring.details': 'is agitated for 24 hours at room temperature',\n 'reactions[1].conditions.conditions_are_dynamic': True,\n 'reactions[1].conditions.details': 'See reaction.notes.procedure_details.',\n 'reactions[1].notes.procedure_details': 'A mixture of 5,6,7,8-tetrahydro-8-oxo-2,4-diphenyl-1-benzopyrylium-tetrafluoroborate (2) and ammonium carbamate (63.1 g, 808 mmol) in 600 mL water is agitated for 24 hours at room temperature. The medium turned cacao after a while and the precipitate gets thicker as the reaction proceeds.',\n 'reactions[1].workups[0].type': 'CUSTOM',\n 'reactions[1].workups[0].details': 'the precipitate gets thicker as the reaction proceeds',\n 'reactions[1].outcomes[0].reaction_time.value': 24.0,\n 'reactions[1].outcomes[0].reaction_time.units': 'HOUR',\n 'reactions[1].outcomes[0].products[0].identifiers[0].type': 'NAME',\n 'reactions[1].outcomes[0].products[0].identifiers[0].value': '6,7-dihydro-2,4-diphenylquinolin-8(5H)-one',\n 'reactions[1].outcomes[0].products[0].identifiers[1].type': 'SMILES',\n 'reactions[1].outcomes[0].products[0].identifiers[1].value': 'C1(=CC=CC=C1)C1=NC=2C(CCCC2C(=C1)C1=CC=CC=C1)=O',\n 'reactions[1].outcomes[0].products[0].identifiers[2].type': 'INCHI',\n 'reactions[1].outcomes[0].products[0].identifiers[2].value': 'InChI=1S/C21H17NO/c23-20-13-7-12-17-18(15-8-3-1-4-9-15)14-19(22-21(17)20)16-10-5-2-6-11-16/h1-6,8-11,14H,7,12-13H2',\n 'reactions[1].provenance.doi': '10.6084/m9.figshare.5104873.v1',\n 'reactions[1].provenance.patent': 'US08475686B2',\n 'reactions[1].provenance.record_created.time.value': '2022-12-02 19:59:53.290719',\n 'reactions[1].provenance.record_created.person.username': 'skearnes',\n 'reactions[1].provenance.record_created.person.name': 'Steven Kearnes',\n 'reactions[1].provenance.record_created.person.orcid': '0000-0003-4579-4388',\n 'reactions[1].provenance.record_created.person.organization': 'Google LLC',\n 'reactions[1].provenance.record_created.person.email': 'kearnes@google.com',\n 'reactions[1].provenance.record_modified[0].time.value': 'Mon Dec  5 19:11:33 2022',\n 'reactions[1].provenance.record_modified[0].person.username': 'github-actions',\n 'reactions[1].provenance.record_modified[0].person.email': 'github-actions@github.com',\n 'reactions[1].provenance.record_modified[0].details': 'Automatic updates from the submission pipeline.',\n 'reactions[1].reaction_id': 'ord-7ffba1ffcebd43b7acc43d478ff1d1f2',\n 'reactions[2].identifiers[0].type': 'REACTION_CXSMILES',\n 'reactions[2].identifiers[0].value': '[C:1]1([C:7]2[NH:8][C:9]3[C:10]4[N:58]=[C:57]([C:59]5[CH:64]=[CH:63][CH:62]=[CH:61][CH:60]=5)[CH:56]=[C:55]([C:65]5[CH:70]=[CH:69][CH:68]=[CH:67][CH:66]=5)[C:11]=4[CH2:12][CH2:13][C:14]=3[CH:15]([C:17]3[CH:22]=[CH:21][CH:20]=[C:19]([CH:23]4[C:32]5[CH2:31][CH2:30][C:29]6[C:33]([C:43]7[CH:48]=[CH:47][CH:46]=[CH:45][CH:44]=7)=[CH:34][C:35]([C:37]7[CH:42]=[CH:41][CH:40]=[CH:39][CH:38]=7)=[N:36][C:28]=6[C:27]=5[NH:26][C:25]([C:49]5[CH:54]=[CH:53][CH:52]=[CH:51][CH:50]=5)=[N:24]4)[CH:18]=3)[N:16]=2)[CH:6]=[CH:5][CH:4]=[CH:3][CH:2]=1>[Pd].C(O)COCCO>[C:49]1([C:25]2[N:24]=[C:23]([C:19]3[CH:20]=[CH:21][CH:22]=[C:17]([C:15]4[C:14]5[C:9](=[C:10]6[N:58]=[C:57]([C:59]7[CH:64]=[CH:63][CH:62]=[CH:61][CH:60]=7)[CH:56]=[C:55]([C:65]7[CH:70]=[CH:69][CH:68]=[CH:67][CH:66]=7)[C:11]6=[CH:12][CH:13]=5)[N:8]=[C:7]([C:1]5[CH:6]=[CH:5][CH:4]=[CH:3][CH:2]=5)[N:16]=4)[CH:18]=3)[C:32]3[C:27](=[C:28]4[N:36]=[C:35]([C:37]5[CH:38]=[CH:39][CH:40]=[CH:41][CH:42]=5)[CH:34]=[C:33]([C:43]5[CH:44]=[CH:45][CH:46]=[CH:47][CH:48]=5)[C:29]4=[CH:30][CH:31]=3)[N:26]=2)[CH:54]=[CH:53][CH:52]=[CH:51][CH:50]=1',\n 'reactions[2].identifiers[0].is_mapped': True,\n 'reactions[2].inputs[\"m2\"].components[0].identifiers[0].type': 'NAME',\n 'reactions[2].inputs[\"m2\"].components[0].identifiers[0].value': 'Pd/C',\n 'reactions[2].inputs[\"m2\"].components[0].identifiers[1].type': 'SMILES',\n 'reactions[2].inputs[\"m2\"].components[0].identifiers[1].value': '[Pd]',\n 'reactions[2].inputs[\"m2\"].components[0].identifiers[2].type': 'INCHI',\n 'reactions[2].inputs[\"m2\"].components[0].identifiers[2].value': 'InChI=1S/Pd',\n 'reactions[2].inputs[\"m2\"].components[0].amount.mass.value': 1.2000000476837158,\n 'reactions[2].inputs[\"m2\"].components[0].amount.mass.units': 'GRAM',\n 'reactions[2].inputs[\"m2\"].components[0].reaction_role': 'CATALYST',\n 'reactions[2].inputs[\"m1_m3\"].components[0].identifiers[0].type': 'NAME',\n 'reactions[2].inputs[\"m1_m3\"].components[0].identifiers[0].value': '1,3-bis(2,7,9-triphenyl-1,4,5,6-tetrahydropyrido[3,2-h]quinazolin-4-yl)benzene',\n 'reactions[2].inputs[\"m1_m3\"].components[0].identifiers[1].type': 'SMILES',\n 'reactions[2].inputs[\"m1_m3\"].components[0].identifiers[1].value': 'C1(=CC=CC=C1)C=1NC=2C3=C(CCC2C(N1)C1=CC(=CC=C1)C1N=C(NC=2C4=C(CCC12)C(=CC(=N4)C4=CC=CC=C4)C4=CC=CC=C4)C4=CC=CC=C4)C(=CC(=N3)C3=CC=CC=C3)C3=CC=CC=C3',\n 'reactions[2].inputs[\"m1_m3\"].components[0].identifiers[2].type': 'INCHI',\n 'reactions[2].inputs[\"m1_m3\"].components[0].identifiers[2].value': 'InChI=1S/C64H48N6/c1-7-20-41(21-8-1)53-39-55(43-24-11-3-12-25-43)65-59-49(53)34-36-51-57(67-63(69-61(51)59)45-28-15-5-16-29-45)47-32-19-33-48(38-47)58-52-37-35-50-54(42-22-9-2-10-23-42)40-56(44-26-13-4-14-27-44)66-60(50)62(52)70-64(68-58)46-30-17-6-18-31-46/h1-33,38-40,57-58H,34-37H2,(H,67,69)(H,68,70)',\n 'reactions[2].inputs[\"m1_m3\"].components[0].amount.moles.value': 4.400000095367432,\n 'reactions[2].inputs[\"m1_m3\"].components[0].amount.moles.units': 'MILLIMOLE',\n 'reactions[2].inputs[\"m1_m3\"].components[0].reaction_role': 'REACTANT',\n 'reactions[2].inputs[\"m1_m3\"].components[1].identifiers[0].type': 'NAME',\n 'reactions[2].inputs[\"m1_m3\"].components[1].identifiers[0].value': 'diethyleneglycol',\n 'reactions[2].inputs[\"m1_m3\"].components[1].identifiers[1].type': 'SMILES',\n 'reactions[2].inputs[\"m1_m3\"].components[1].identifiers[1].value': 'C(COCCO)O',\n 'reactions[2].inputs[\"m1_m3\"].components[1].identifiers[2].type': 'INCHI',\n 'reactions[2].inputs[\"m1_m3\"].components[1].identifiers[2].value': 'InChI=1S/C4H10O3/c5-1-3-7-4-2-6/h5-6H,1-4H2',\n 'reactions[2].inputs[\"m1_m3\"].components[1].amount.moles.value': 0.0,\n 'reactions[2].inputs[\"m1_m3\"].components[1].amount.moles.precision': 1.0,\n 'reactions[2].inputs[\"m1_m3\"].components[1].amount.moles.units': 'MOLE',\n 'reactions[2].inputs[\"m1_m3\"].components[1].reaction_role': 'SOLVENT',\n 'reactions[2].conditions.temperature.control.type': 'AMBIENT',\n 'reactions[2].conditions.conditions_are_dynamic': True,\n 'reactions[2].conditions.details': 'See reaction.notes.procedure_details.',\n 'reactions[2].notes.procedure_details': 'A suspension of 1,3-bis(2,7,9-triphenyl-1,4,5,6-tetrahydropyrido[3,2-h]quinazolin-4-yl)benzene (5) (4.4 mmol) in 220 diethyleneglycol was heated until total dissolution. 1.2 g Pd/C was then slowly added, and the reaction was refluxed for 6 hours with argon bubbling directly in the solution. The reaction was then stopped, and the suspension cooled to room temperature.',\n 'reactions[2].workups[0].type': 'TEMPERATURE',\n 'reactions[2].workups[0].details': 'was heated until total dissolution',\n 'reactions[2].workups[1].type': 'TEMPERATURE',\n 'reactions[2].workups[1].details': 'the reaction was refluxed for 6 hours with argon bubbling directly in the solution',\n 'reactions[2].workups[1].duration.value': 6.0,\n 'reactions[2].workups[1].duration.units': 'HOUR',\n 'reactions[2].outcomes[0].products[0].identifiers[0].type': 'NAME',\n 'reactions[2].outcomes[0].products[0].identifiers[0].value': '1,3-bis(2,7,9-triphenylpyrido[3,2-h]quinazolin-4-yl)benzene',\n 'reactions[2].outcomes[0].products[0].identifiers[1].type': 'SMILES',\n 'reactions[2].outcomes[0].products[0].identifiers[1].value': 'C1(=CC=CC=C1)C1=NC2=C3C(=CC=C2C(=N1)C1=CC(=CC=C1)C1=NC(=NC2=C4C(=CC=C12)C(=CC(=N4)C4=CC=CC=C4)C4=CC=CC=C4)C4=CC=CC=C4)C(=CC(=N3)C3=CC=CC=C3)C3=CC=CC=C3',\n 'reactions[2].outcomes[0].products[0].identifiers[2].type': 'INCHI',\n 'reactions[2].outcomes[0].products[0].identifiers[2].value': 'InChI=1S/C64H40N6/c1-7-20-41(21-8-1)53-39-55(43-24-11-3-12-25-43)65-59-49(53)34-36-51-57(67-63(69-61(51)59)45-28-15-5-16-29-45)47-32-19-33-48(38-47)58-52-37-35-50-54(42-22-9-2-10-23-42)40-56(44-26-13-4-14-27-44)66-60(50)62(52)70-64(68-58)46-30-17-6-18-31-46/h1-40H',\n 'reactions[2].provenance.doi': '10.6084/m9.figshare.5104873.v1',\n 'reactions[2].provenance.patent': 'US08475686B2',\n 'reactions[2].provenance.record_created.time.value': '2022-12-02 19:59:53.303396',\n 'reactions[2].provenance.record_created.person.username': 'skearnes',\n 'reactions[2].provenance.record_created.person.name': 'Steven Kearnes',\n 'reactions[2].provenance.record_created.person.orcid': '0000-0003-4579-4388',\n 'reactions[2].provenance.record_created.person.organization': 'Google LLC',\n 'reactions[2].provenance.record_created.person.email': 'kearnes@google.com',\n 'reactions[2].provenance.record_modified[0].time.value': 'Mon Dec  5 19:11:33 2022',\n 'reactions[2].provenance.record_modified[0].person.username': 'github-actions',\n 'reactions[2].provenance.record_modified[0].person.email': 'github-actions@github.com',\n 'reactions[2].provenance.record_modified[0].details': 'Automatic updates from the submission pipeline.',\n 'reactions[2].reaction_id': 'ord-4352c6a372534f1d85c587f7a1676115',\n 'reactions[3].identifiers[0].type': 'REACTION_CXSMILES',\n 'reactions[3].identifiers[0].value': '[C:1]1([CH:41]2[C:54]3[CH2:53][CH2:52][C:51]4[C:46](=[N:47][C:48]([C:61]5[CH:66]=[CH:65][CH:64]=[CH:63][CH:62]=5)=[CH:49][C:50]=4[C:55]4[CH:60]=[CH:59][CH:58]=[CH:57][CH:56]=4)[C:45]=3[NH:44][C:43]([C:67]3[CH:72]=[CH:71][CH:70]=[CH:69][CH:68]=3)=[C:42]2[C:73]#[N:74])[CH:6]=[CH:5][CH:4]=[C:3]([CH:7]2[C:20]3[CH2:19][CH2:18][C:17]4[C:12](=[N:13][C:14]([C:27]5[CH:32]=[CH:31][CH:30]=[CH:29][CH:28]=5)=[CH:15][C:16]=4[C:21]4[CH:26]=[CH:25][CH:24]=[CH:23][CH:22]=4)[C:11]=3[NH:10][C:9]([C:33]3[CH:38]=[CH:37][CH:36]=[CH:35][CH:34]=3)=[C:8]2[C:39]#[N:40])[CH:2]=1.C(Cl)Cl>C(O)COCCO.[Pd]>[C:3]1([C:7]2[C:20]3[C:11](=[C:12]4[C:17](=[CH:18][CH:19]=3)[C:16]([C:21]3[CH:26]=[CH:25][CH:24]=[CH:23][CH:22]=3)=[CH:15][C:14]([C:27]3[CH:32]=[CH:31][CH:30]=[CH:29][CH:28]=3)=[N:13]4)[N:10]=[C:9]([C:33]3[CH:38]=[CH:37][CH:36]=[CH:35][CH:34]=3)[C:8]=2[C:39]#[N:40])[CH:4]=[CH:5][CH:6]=[C:1]([C:41]2[C:54]3[C:45](=[C:46]4[C:51](=[CH:52][CH:53]=3)[C:50]([C:55]3[CH:60]=[CH:59][CH:58]=[CH:57][CH:56]=3)=[CH:49][C:48]([C:61]3[CH:62]=[CH:63][CH:64]=[CH:65][CH:66]=3)=[N:47]4)[N:44]=[C:43]([C:67]3[CH:68]=[CH:69][CH:70]=[CH:71][CH:72]=3)[C:42]=2[C:73]#[N:74])[CH:2]=1',\n 'reactions[3].identifiers[0].is_mapped': True,\n 'reactions[3].inputs[\"m1_m3\"].components[0].identifiers[0].type': 'NAME',\n 'reactions[3].inputs[\"m1_m3\"].components[0].identifiers[0].value': '4,4′-(1,3-phenylene)bis(2,7,9-triphenyl-1,4,5,6-tetrahydro-1,10-phenanthroline-3-carbonitrile)',\n 'reactions[3].inputs[\"m1_m3\"].components[0].identifiers[1].type': 'SMILES',\n 'reactions[3].inputs[\"m1_m3\"].components[0].identifiers[1].value': 'C1(=CC(=CC=C1)C1C(=C(NC=2C3=NC(=CC(=C3CCC12)C1=CC=CC=C1)C1=CC=CC=C1)C1=CC=CC=C1)C#N)C1C(=C(NC=2C3=NC(=CC(=C3CCC12)C1=CC=CC=C1)C1=CC=CC=C1)C1=CC=CC=C1)C#N',\n 'reactions[3].inputs[\"m1_m3\"].components[0].identifiers[2].type': 'INCHI',\n 'reactions[3].inputs[\"m1_m3\"].components[0].identifiers[2].value': 'InChI=1S/C68H48N6/c69-41-57-61(53-36-34-51-55(43-20-7-1-8-21-43)39-59(45-24-11-3-12-25-45)71-65(51)67(53)73-63(57)47-28-15-5-16-29-47)49-32-19-33-50(38-49)62-54-37-35-52-56(44-22-9-2-10-23-44)40-60(46-26-13-4-14-27-46)72-66(52)68(54)74-64(58(62)42-70)48-30-17-6-18-31-48/h1-33,38-40,61-62,73-74H,34-37H2',\n 'reactions[3].inputs[\"m1_m3\"].components[0].amount.moles.value': 0.0,\n 'reactions[3].inputs[\"m1_m3\"].components[0].amount.moles.precision': 1.0,\n 'reactions[3].inputs[\"m1_m3\"].components[0].amount.moles.units': 'MOLE',\n 'reactions[3].inputs[\"m1_m3\"].components[0].reaction_role': 'REACTANT',\n 'reactions[3].inputs[\"m1_m3\"].components[1].identifiers[0].type': 'NAME',\n 'reactions[3].inputs[\"m1_m3\"].components[1].identifiers[0].value': 'diethyleneglycol',\n 'reactions[3].inputs[\"m1_m3\"].components[1].identifiers[1].type': 'SMILES',\n 'reactions[3].inputs[\"m1_m3\"].components[1].identifiers[1].value': 'C(COCCO)O',\n 'reactions[3].inputs[\"m1_m3\"].components[1].identifiers[2].type': 'INCHI',\n 'reactions[3].inputs[\"m1_m3\"].components[1].identifiers[2].value': 'InChI=1S/C4H10O3/c5-1-3-7-4-2-6/h5-6H,1-4H2',\n 'reactions[3].inputs[\"m1_m3\"].components[1].amount.volume.value': 2.0,\n 'reactions[3].inputs[\"m1_m3\"].components[1].amount.volume.units': 'LITER',\n 'reactions[3].inputs[\"m1_m3\"].components[1].reaction_role': 'SOLVENT',\n 'reactions[3].inputs[\"m4\"].components[0].identifiers[0].type': 'NAME',\n 'reactions[3].inputs[\"m4\"].components[0].identifiers[0].value': 'Pd/C',\n 'reactions[3].inputs[\"m4\"].components[0].identifiers[1].type': 'SMILES',\n 'reactions[3].inputs[\"m4\"].components[0].identifiers[1].value': '[Pd]',\n 'reactions[3].inputs[\"m4\"].components[0].identifiers[2].type': 'INCHI',\n 'reactions[3].inputs[\"m4\"].components[0].identifiers[2].value': 'InChI=1S/Pd',\n 'reactions[3].inputs[\"m4\"].components[0].amount.mass.value': 10.0,\n 'reactions[3].inputs[\"m4\"].components[0].amount.mass.units': 'GRAM',\n 'reactions[3].inputs[\"m4\"].components[0].reaction_role': 'CATALYST',\n 'reactions[3].inputs[\"m2\"].components[0].identifiers[0].type': 'NAME',\n 'reactions[3].inputs[\"m2\"].components[0].identifiers[0].value': 'CH2Cl2',\n 'reactions[3].inputs[\"m2\"].components[0].identifiers[1].type': 'SMILES',\n 'reactions[3].inputs[\"m2\"].components[0].identifiers[1].value': 'C(Cl)Cl',\n 'reactions[3].inputs[\"m2\"].components[0].identifiers[2].type': 'INCHI',\n 'reactions[3].inputs[\"m2\"].components[0].identifiers[2].value': 'InChI=1S/CH2Cl2/c2-1-3/h1H2',\n 'reactions[3].inputs[\"m2\"].components[0].amount.moles.value': 0.0,\n 'reactions[3].inputs[\"m2\"].components[0].amount.moles.precision': 1.0,\n 'reactions[3].inputs[\"m2\"].components[0].amount.moles.units': 'MOLE',\n 'reactions[3].inputs[\"m2\"].components[0].reaction_role': 'REACTANT',\n 'reactions[3].conditions.temperature.control.type': 'AMBIENT',\n 'reactions[3].conditions.conditions_are_dynamic': True,\n 'reactions[3].conditions.details': 'See reaction.notes.procedure_details.',\n 'reactions[3].notes.procedure_details': \"suspension of 4,4′-(1,3-phenylene)bis(2,7,9-triphenyl-1,4,5,6-tetrahydro-1,10-phenanthroline-3-carbonitrile) (5) in 2 L diethyleneglycol was heated until total dissolution. 10 g Pd/C was then slowly added, and the reaction was refluxed for 72 hours with argon bubbling directly in the solution. The reaction was monitored by TLC (Silica Gel; CH2Cl2). The starting material's spot (rf: 0.8, blue-green under 366 nm) converted into a blue fluorescent spot (rf: 0.9). Once the starting material spot has disappeared, the reaction was stopped, and the suspension cooled to room temperature.\",\n 'reactions[3].workups[0].type': 'TEMPERATURE',\n 'reactions[3].workups[0].details': 'was heated until total dissolution',\n 'reactions[3].workups[1].type': 'TEMPERATURE',\n 'reactions[3].workups[1].details': 'the reaction was refluxed for 72 hours with argon bubbling directly in the solution',\n 'reactions[3].workups[1].duration.value': 72.0,\n 'reactions[3].workups[1].duration.units': 'HOUR',\n 'reactions[3].outcomes[0].products[0].identifiers[0].type': 'NAME',\n 'reactions[3].outcomes[0].products[0].identifiers[0].value': '4,4′-(1,3-phenylene)bis(2,7,9-triphenyl-1,10-phenanthroline-3-carbonitrile)',\n 'reactions[3].outcomes[0].products[0].identifiers[1].type': 'SMILES',\n 'reactions[3].outcomes[0].products[0].identifiers[1].value': 'C1(=CC(=CC=C1)C1=C(C(=NC2=C3N=C(C=C(C3=CC=C12)C1=CC=CC=C1)C1=CC=CC=C1)C1=CC=CC=C1)C#N)C1=C(C(=NC2=C3N=C(C=C(C3=CC=C12)C1=CC=CC=C1)C1=CC=CC=C1)C1=CC=CC=C1)C#N',\n 'reactions[3].outcomes[0].products[0].identifiers[2].type': 'INCHI',\n 'reactions[3].outcomes[0].products[0].identifiers[2].value': 'InChI=1S/C68H40N6/c69-41-57-61(53-36-34-51-55(43-20-7-1-8-21-43)39-59(45-24-11-3-12-25-45)71-65(51)67(53)73-63(57)47-28-15-5-16-29-47)49-32-19-33-50(38-49)62-54-37-35-52-56(44-22-9-2-10-23-44)40-60(46-26-13-4-14-27-46)72-66(52)68(54)74-64(58(62)42-70)48-30-17-6-18-31-48/h1-40H',\n 'reactions[3].provenance.doi': '10.6084/m9.figshare.5104873.v1',\n 'reactions[3].provenance.patent': 'US08475686B2',\n 'reactions[3].provenance.record_created.time.value': '2022-12-02 19:59:53.327545',\n 'reactions[3].provenance.record_created.person.username': 'skearnes',\n 'reactions[3].provenance.record_created.person.name': 'Steven Kearnes',\n 'reactions[3].provenance.record_created.person.orcid': '0000-0003-4579-4388',\n 'reactions[3].provenance.record_created.person.organization': 'Google LLC',\n 'reactions[3].provenance.record_created.person.email': 'kearnes@google.com',\n 'reactions[3].provenance.record_modified[0].time.value': 'Mon Dec  5 19:11:33 2022',\n 'reactions[3].provenance.record_modified[0].person.username': 'github-actions',\n 'reactions[3].provenance.record_modified[0].person.email': 'github-actions@github.com',\n 'reactions[3].provenance.record_modified[0].details': 'Automatic updates from the submission pipeline.',\n 'reactions[3].reaction_id': 'ord-b54fcff3c6354d968538bcb17b8771e8',\n 'reactions[4].identifiers[0].type': 'REACTION_CXSMILES',\n 'reactions[4].identifiers[0].value': '[CH2:1]([C:4]([OH:6])=[O:5])[CH2:2][SH:3].[C:7]1([C:13](Cl)([C:20]2[CH:25]=[CH:24][CH:23]=[CH:22][CH:21]=2)[C:14]2[CH:19]=[CH:18][CH:17]=[CH:16][CH:15]=2)[CH:12]=[CH:11][CH:10]=[CH:9][CH:8]=1>C(Cl)Cl>[C:13]([S:3][CH2:2][CH2:1][C:4]([OH:6])=[O:5])([C:7]1[CH:12]=[CH:11][CH:10]=[CH:9][CH:8]=1)([C:20]1[CH:21]=[CH:22][CH:23]=[CH:24][CH:25]=1)[C:14]1[CH:15]=[CH:16][CH:17]=[CH:18][CH:19]=1',\n 'reactions[4].identifiers[0].is_mapped': True,\n 'reactions[4].inputs[\"m1_m3\"].components[0].identifiers[0].type': 'NAME',\n 'reactions[4].inputs[\"m1_m3\"].components[0].identifiers[0].value': 'Mercaptopropionic acid',\n 'reactions[4].inputs[\"m1_m3\"].components[0].identifiers[1].type': 'SMILES',\n 'reactions[4].inputs[\"m1_m3\"].components[0].identifiers[1].value': 'C(CS)C(=O)O',\n 'reactions[4].inputs[\"m1_m3\"].components[0].identifiers[2].type': 'INCHI',\n 'reactions[4].inputs[\"m1_m3\"].components[0].identifiers[2].value': 'InChI=1S/C3H6O2S/c4-3(5)1-2-6/h6H,1-2H2,(H,4,5)',\n 'reactions[4].inputs[\"m1_m3\"].components[0].amount.mass.value': 3.140000104904175,\n 'reactions[4].inputs[\"m1_m3\"].components[0].amount.mass.units': 'GRAM',\n 'reactions[4].inputs[\"m1_m3\"].components[0].reaction_role': 'REACTANT',\n 'reactions[4].inputs[\"m1_m3\"].components[1].identifiers[0].type': 'NAME',\n 'reactions[4].inputs[\"m1_m3\"].components[1].identifiers[0].value': 'methylene chloride',\n 'reactions[4].inputs[\"m1_m3\"].components[1].identifiers[1].type': 'SMILES',\n 'reactions[4].inputs[\"m1_m3\"].components[1].identifiers[1].value': 'C(Cl)Cl',\n 'reactions[4].inputs[\"m1_m3\"].components[1].identifiers[2].type': 'INCHI',\n 'reactions[4].inputs[\"m1_m3\"].components[1].identifiers[2].value': 'InChI=1S/CH2Cl2/c2-1-3/h1H2',\n 'reactions[4].inputs[\"m1_m3\"].components[1].amount.volume.value': 50.0,\n 'reactions[4].inputs[\"m1_m3\"].components[1].amount.volume.units': 'MILLILITER',\n 'reactions[4].inputs[\"m1_m3\"].components[1].reaction_role': 'SOLVENT',\n 'reactions[4].inputs[\"m2\"].components[0].identifiers[0].type': 'NAME',\n 'reactions[4].inputs[\"m2\"].components[0].identifiers[0].value': 'Triphenylmethylchloride',\n 'reactions[4].inputs[\"m2\"].components[0].identifiers[1].type': 'SMILES',\n 'reactions[4].inputs[\"m2\"].components[0].identifiers[1].value': 'C1(=CC=CC=C1)C(C1=CC=CC=C1)(C1=CC=CC=C1)Cl',\n 'reactions[4].inputs[\"m2\"].components[0].identifiers[2].type': 'INCHI',\n 'reactions[4].inputs[\"m2\"].components[0].identifiers[2].value': 'InChI=1S/C19H15Cl/c20-19(16-10-4-1-5-11-16,17-12-6-2-7-13-17)18-14-8-3-9-15-18/h1-15H',\n 'reactions[4].inputs[\"m2\"].components[0].amount.mass.value': 8.359999656677246,\n 'reactions[4].inputs[\"m2\"].components[0].amount.mass.units': 'GRAM',\n 'reactions[4].inputs[\"m2\"].components[0].reaction_role': 'REACTANT',\n 'reactions[4].conditions.conditions_are_dynamic': True,\n 'reactions[4].conditions.details': 'See reaction.notes.procedure_details.',\n 'reactions[4].notes.procedure_details': 'Mercaptopropionic acid 2 (3.14 g) was dissolved in 50 ml of methylene chloride. Triphenylmethylchloride 3 (8.36 g, 30 mmol) was added to that, and 19-hour protection reactions were carried out at room temperature. The precipitate generated through the protection reactions was filtered and gathered, and was rinsed with 40 ml of diethyl ether. The precipitate was then dried under reduced pressure, to form 9.86 g of 3-(tritylthio)propanoic acid 4, which is a white solid.',\n 'reactions[4].workups[0].type': 'CUSTOM',\n 'reactions[4].workups[0].details': 'were carried out at room temperature',\n 'reactions[4].workups[0].temperature.control.type': 'AMBIENT',\n 'reactions[4].workups[1].type': 'FILTRATION',\n 'reactions[4].workups[1].details': 'was filtered',\n 'reactions[4].workups[2].type': 'WASH',\n 'reactions[4].workups[2].details': 'was rinsed with 40 ml of diethyl ether',\n 'reactions[4].workups[2].input.components[0].identifiers[0].type': 'NAME',\n 'reactions[4].workups[2].input.components[0].identifiers[0].value': 'diethyl ether',\n 'reactions[4].workups[2].input.components[0].identifiers[1].type': 'SMILES',\n 'reactions[4].workups[2].input.components[0].identifiers[1].value': 'C(C)OCC',\n 'reactions[4].workups[2].input.components[0].identifiers[2].type': 'INCHI',\n 'reactions[4].workups[2].input.components[0].identifiers[2].value': 'InChI=1S/C4H10O/c1-3-5-4-2/h3-4H2,1-2H3',\n 'reactions[4].workups[2].input.components[0].amount.volume.value': 40.0,\n 'reactions[4].workups[2].input.components[0].amount.volume.units': 'MILLILITER',\n 'reactions[4].workups[2].input.components[0].reaction_role': 'WORKUP',\n 'reactions[4].workups[3].type': 'CUSTOM',\n 'reactions[4].workups[3].details': 'The precipitate was then dried under reduced pressure',\n 'reactions[4].outcomes[0].products[0].identifiers[0].type': 'NAME',\n 'reactions[4].outcomes[0].products[0].identifiers[0].value': '3-(tritylthio)propanoic acid',\n 'reactions[4].outcomes[0].products[0].identifiers[1].type': 'NAME',\n 'reactions[4].outcomes[0].products[0].identifiers[1].value': '3-(tritylthio) propanoic acid',\n 'reactions[4].outcomes[0].products[0].identifiers[2].type': 'SMILES',\n 'reactions[4].outcomes[0].products[0].identifiers[2].value': 'C(C1=CC=CC=C1)(C1=CC=CC=C1)(C1=CC=CC=C1)SCCC(=O)O',\n 'reactions[4].outcomes[0].products[0].identifiers[3].type': 'INCHI',\n 'reactions[4].outcomes[0].products[0].identifiers[3].value': 'InChI=1S/C22H20O2S/c23-21(24)16-17-25-22(18-10-4-1-5-11-18,19-12-6-2-7-13-19)20-14-8-3-9-15-20/h1-15H,16-17H2,(H,23,24)',\n 'reactions[4].outcomes[0].products[0].measurements[0].type': 'AMOUNT',\n 'reactions[4].outcomes[0].products[0].measurements[0].details': 'MASS',\n 'reactions[4].outcomes[0].products[0].measurements[0].amount.mass.value': 9.859999656677246,\n 'reactions[4].outcomes[0].products[0].measurements[0].amount.mass.units': 'GRAM',\n 'reactions[4].outcomes[0].products[0].measurements[1].type': 'YIELD',\n 'reactions[4].outcomes[0].products[0].measurements[1].details': 'CALCULATEDPERCENTYIELD',\n 'reactions[4].outcomes[0].products[0].measurements[1].percentage.value': 95.69999694824219,\n 'reactions[4].outcomes[0].products[0].reaction_role': 'PRODUCT',\n 'reactions[4].provenance.doi': '10.6084/m9.figshare.5104873.v1',\n 'reactions[4].provenance.patent': 'US08475685B2',\n 'reactions[4].provenance.record_created.time.value': '2022-12-02 19:59:53.353916',\n 'reactions[4].provenance.record_created.person.username': 'skearnes',\n 'reactions[4].provenance.record_created.person.name': 'Steven Kearnes',\n 'reactions[4].provenance.record_created.person.orcid': '0000-0003-4579-4388',\n 'reactions[4].provenance.record_created.person.organization': 'Google LLC',\n 'reactions[4].provenance.record_created.person.email': 'kearnes@google.com',\n 'reactions[4].provenance.record_modified[0].time.value': 'Mon Dec  5 19:11:33 2022',\n 'reactions[4].provenance.record_modified[0].person.username': 'github-actions',\n 'reactions[4].provenance.record_modified[0].person.email': 'github-actions@github.com',\n 'reactions[4].provenance.record_modified[0].details': 'Automatic updates from the submission pipeline.',\n 'reactions[4].reaction_id': 'ord-d22b357b1eb6472fa57171c45f1cc5ab',\n 'reactions[5].identifiers[0].type': 'REACTION_CXSMILES',\n 'reactions[5].identifiers[0].value': '[CH2:1]([C:4]([OH:6])=[O:5])[CH2:2][SH:3].[C:7]1([C:13](Cl)([C:20]2[CH:25]=[CH:24][CH:23]=[CH:22][CH:21]=2)[C:14]2[CH:19]=[CH:18][CH:17]=[CH:16][CH:15]=2)[CH:12]=[CH:11][CH:10]=[CH:9][CH:8]=1>C(Cl)Cl>[C:13]([S:3][CH2:2][CH2:1][C:4]([OH:6])=[O:5])([C:7]1[CH:12]=[CH:11][CH:10]=[CH:9][CH:8]=1)([C:20]1[CH:21]=[CH:22][CH:23]=[CH:24][CH:25]=1)[C:14]1[CH:15]=[CH:16][CH:17]=[CH:18][CH:19]=1',\n 'reactions[5].identifiers[0].is_mapped': True,\n 'reactions[5].inputs[\"m2\"].components[0].identifiers[0].type': 'NAME',\n 'reactions[5].inputs[\"m2\"].components[0].identifiers[0].value': 'Triphenylmethylchloride',\n 'reactions[5].inputs[\"m2\"].components[0].identifiers[1].type': 'SMILES',\n 'reactions[5].inputs[\"m2\"].components[0].identifiers[1].value': 'C1(=CC=CC=C1)C(C1=CC=CC=C1)(C1=CC=CC=C1)Cl',\n 'reactions[5].inputs[\"m2\"].components[0].identifiers[2].type': 'INCHI',\n 'reactions[5].inputs[\"m2\"].components[0].identifiers[2].value': 'InChI=1S/C19H15Cl/c20-19(16-10-4-1-5-11-16,17-12-6-2-7-13-17)18-14-8-3-9-15-18/h1-15H',\n 'reactions[5].inputs[\"m2\"].components[0].amount.mass.value': 8.359999656677246,\n 'reactions[5].inputs[\"m2\"].components[0].amount.mass.units': 'GRAM',\n 'reactions[5].inputs[\"m2\"].components[0].reaction_role': 'REACTANT',\n 'reactions[5].inputs[\"m1_m3\"].components[0].identifiers[0].type': 'NAME',\n 'reactions[5].inputs[\"m1_m3\"].components[0].identifiers[0].value': 'Mercaptopropionic acid',\n 'reactions[5].inputs[\"m1_m3\"].components[0].identifiers[1].type': 'SMILES',\n 'reactions[5].inputs[\"m1_m3\"].components[0].identifiers[1].value': 'C(CS)C(=O)O',\n 'reactions[5].inputs[\"m1_m3\"].components[0].identifiers[2].type': 'INCHI',\n 'reactions[5].inputs[\"m1_m3\"].components[0].identifiers[2].value': 'InChI=1S/C3H6O2S/c4-3(5)1-2-6/h6H,1-2H2,(H,4,5)',\n 'reactions[5].inputs[\"m1_m3\"].components[0].amount.mass.value': 3.140000104904175,\n 'reactions[5].inputs[\"m1_m3\"].components[0].amount.mass.units': 'GRAM',\n 'reactions[5].inputs[\"m1_m3\"].components[0].reaction_role': 'REACTANT',\n 'reactions[5].inputs[\"m1_m3\"].components[1].identifiers[0].type': 'NAME',\n 'reactions[5].inputs[\"m1_m3\"].components[1].identifiers[0].value': 'methylene chloride',\n 'reactions[5].inputs[\"m1_m3\"].components[1].identifiers[1].type': 'SMILES',\n 'reactions[5].inputs[\"m1_m3\"].components[1].identifiers[1].value': 'C(Cl)Cl',\n 'reactions[5].inputs[\"m1_m3\"].components[1].identifiers[2].type': 'INCHI',\n 'reactions[5].inputs[\"m1_m3\"].components[1].identifiers[2].value': 'InChI=1S/CH2Cl2/c2-1-3/h1H2',\n 'reactions[5].inputs[\"m1_m3\"].components[1].amount.volume.value': 50.0,\n 'reactions[5].inputs[\"m1_m3\"].components[1].amount.volume.units': 'MILLILITER',\n 'reactions[5].inputs[\"m1_m3\"].components[1].reaction_role': 'SOLVENT',\n 'reactions[5].conditions.conditions_are_dynamic': True,\n 'reactions[5].conditions.details': 'See reaction.notes.procedure_details.',\n 'reactions[5].notes.procedure_details': 'Mercaptopropionic acid 12 (3.14 g) was dissolved in 50 ml of methylene chloride. Triphenylmethylchloride 13 (8.36 g) was added to that, and 19-hour reactions were carried out at room temperature. The precipitate generated through the reactions was gathered by filtration, and the solid components obtained here were dried under reduced pressure, to form 9.86 g of 3-(tritylthio)propionic acid 14, which is a white solid.',\n 'reactions[5].workups[0].type': 'CUSTOM',\n 'reactions[5].workups[0].details': 'were carried out at room temperature',\n 'reactions[5].workups[0].temperature.control.type': 'AMBIENT',\n 'reactions[5].workups[1].type': 'FILTRATION',\n 'reactions[5].workups[1].details': 'was gathered by filtration',\n 'reactions[5].workups[2].type': 'CUSTOM',\n 'reactions[5].workups[2].details': 'the solid components obtained here',\n 'reactions[5].workups[3].type': 'CUSTOM',\n 'reactions[5].workups[3].details': 'were dried under reduced pressure',\n 'reactions[5].outcomes[0].products[0].identifiers[0].type': 'NAME',\n 'reactions[5].outcomes[0].products[0].identifiers[0].value': '3-(tritylthio)propionic acid',\n 'reactions[5].outcomes[0].products[0].identifiers[1].type': 'SMILES',\n 'reactions[5].outcomes[0].products[0].identifiers[1].value': 'C(C1=CC=CC=C1)(C1=CC=CC=C1)(C1=CC=CC=C1)SCCC(=O)O',\n 'reactions[5].outcomes[0].products[0].identifiers[2].type': 'INCHI',\n 'reactions[5].outcomes[0].products[0].identifiers[2].value': 'InChI=1S/C22H20O2S/c23-21(24)16-17-25-22(18-10-4-1-5-11-18,19-12-6-2-7-13-19)20-14-8-3-9-15-20/h1-15H,16-17H2,(H,23,24)',\n 'reactions[5].outcomes[0].products[0].measurements[0].type': 'AMOUNT',\n 'reactions[5].outcomes[0].products[0].measurements[0].details': 'MASS',\n 'reactions[5].outcomes[0].products[0].measurements[0].amount.mass.value': 9.859999656677246,\n 'reactions[5].outcomes[0].products[0].measurements[0].amount.mass.units': 'GRAM',\n 'reactions[5].outcomes[0].products[0].measurements[1].type': 'YIELD',\n 'reactions[5].outcomes[0].products[0].measurements[1].details': 'CALCULATEDPERCENTYIELD',\n 'reactions[5].outcomes[0].products[0].measurements[1].percentage.value': 95.69999694824219,\n 'reactions[5].outcomes[0].products[0].reaction_role': 'PRODUCT',\n 'reactions[5].provenance.doi': '10.6084/m9.figshare.5104873.v1',\n 'reactions[5].provenance.patent': 'US08475685B2',\n 'reactions[5].provenance.record_created.time.value': '2022-12-02 19:59:53.371348',\n 'reactions[5].provenance.record_created.person.username': 'skearnes',\n 'reactions[5].provenance.record_created.person.name': 'Steven Kearnes',\n 'reactions[5].provenance.record_created.person.orcid': '0000-0003-4579-4388',\n 'reactions[5].provenance.record_created.person.organization': 'Google LLC',\n 'reactions[5].provenance.record_created.person.email': 'kearnes@google.com',\n 'reactions[5].provenance.record_modified[0].time.value': 'Mon Dec  5 19:11:33 2022',\n 'reactions[5].provenance.record_modified[0].person.username': 'github-actions',\n 'reactions[5].provenance.record_modified[0].person.email': 'github-actions@github.com',\n 'reactions[5].provenance.record_modified[0].details': 'Automatic updates from the submission pipeline.',\n 'reactions[5].reaction_id': 'ord-cc51c2cc70eb48d5b5288f27eea55aa0',\n 'reactions[6].identifiers[0].type': 'REACTION_CXSMILES',\n 'reactions[6].identifiers[0].value': 'Br[CH2:2][CH2:3][CH2:4][CH2:5][CH2:6][CH2:7][CH2:8][CH2:9][CH2:10][CH2:11][CH2:12][OH:13].[CH:14]1[C:19]([OH:20])=[CH:18][CH:17]=[C:16]([CH3:21])[CH:15]=1.[OH-].[K+].O>C(O)C.C(Cl)Cl>[C:16]1([CH3:21])[CH:15]=[CH:14][C:19]([O:20][CH2:2][CH2:3][CH2:4][CH2:5][CH2:6][CH2:7][CH2:8][CH2:9][CH2:10][CH2:11][CH2:12][OH:13])=[CH:18][CH:17]=1 |f:2.3|',\n 'reactions[6].identifiers[0].is_mapped': True,\n 'reactions[6].inputs[\"m4_m5_m7\"].components[0].identifiers[0].type': 'NAME',\n 'reactions[6].inputs[\"m4_m5_m7\"].components[0].identifiers[0].value': 'ion-exchange',\n 'reactions[6].inputs[\"m4_m5_m7\"].components[0].amount.volume.value': 100.0,\n 'reactions[6].inputs[\"m4_m5_m7\"].components[0].amount.volume.units': 'MILLILITER',\n 'reactions[6].inputs[\"m4_m5_m7\"].components[0].reaction_role': 'REACTANT',\n 'reactions[6].inputs[\"m4_m5_m7\"].components[1].identifiers[0].type': 'NAME',\n 'reactions[6].inputs[\"m4_m5_m7\"].components[1].identifiers[0].value': 'water',\n 'reactions[6].inputs[\"m4_m5_m7\"].components[1].identifiers[1].type': 'SMILES',\n 'reactions[6].inputs[\"m4_m5_m7\"].components[1].identifiers[1].value': 'O',\n 'reactions[6].inputs[\"m4_m5_m7\"].components[1].identifiers[2].type': 'INCHI',\n 'reactions[6].inputs[\"m4_m5_m7\"].components[1].identifiers[2].value': 'InChI=1S/H2O/h1H2',\n 'reactions[6].inputs[\"m4_m5_m7\"].components[1].amount.moles.value': 0.0,\n 'reactions[6].inputs[\"m4_m5_m7\"].components[1].amount.moles.precision': 1.0,\n 'reactions[6].inputs[\"m4_m5_m7\"].components[1].amount.moles.units': 'MOLE',\n 'reactions[6].inputs[\"m4_m5_m7\"].components[1].reaction_role': 'REACTANT',\n 'reactions[6].inputs[\"m4_m5_m7\"].components[2].identifiers[0].type': 'NAME',\n 'reactions[6].inputs[\"m4_m5_m7\"].components[2].identifiers[0].value': 'methylene chloride',\n 'reactions[6].inputs[\"m4_m5_m7\"].components[2].identifiers[1].type': 'SMILES',\n 'reactions[6].inputs[\"m4_m5_m7\"].components[2].identifiers[1].value': 'C(Cl)Cl',\n 'reactions[6].inputs[\"m4_m5_m7\"].components[2].identifiers[2].type': 'INCHI',\n 'reactions[6].inputs[\"m4_m5_m7\"].components[2].identifiers[2].value': 'InChI=1S/CH2Cl2/c2-1-3/h1H2',\n 'reactions[6].inputs[\"m4_m5_m7\"].components[2].amount.volume.value': 50.0,\n 'reactions[6].inputs[\"m4_m5_m7\"].components[2].amount.volume.units': 'MILLILITER',\n 'reactions[6].inputs[\"m4_m5_m7\"].components[2].reaction_role': 'SOLVENT',\n 'reactions[6].inputs[\"m3\"].components[0].identifiers[0].type': 'NAME',\n 'reactions[6].inputs[\"m3\"].components[0].identifiers[0].value': 'potassium hydroxide',\n 'reactions[6].inputs[\"m3\"].components[0].identifiers[1].type': 'SMILES',\n 'reactions[6].inputs[\"m3\"].components[0].identifiers[1].value': '[OH-].[K+]',\n 'reactions[6].inputs[\"m3\"].components[0].identifiers[2].type': 'INCHI',\n 'reactions[6].inputs[\"m3\"].components[0].identifiers[2].value': 'InChI=1S/K.H2O/h;1H2/q+1;/p-1',\n 'reactions[6].inputs[\"m3\"].components[0].amount.mass.value': 2.569999933242798,\n 'reactions[6].inputs[\"m3\"].components[0].amount.mass.units': 'GRAM',\n 'reactions[6].inputs[\"m3\"].components[0].reaction_role': 'REACTANT',\n 'reactions[6].inputs[\"m1_m2_m6\"].components[0].identifiers[0].type': 'NAME',\n 'reactions[6].inputs[\"m1_m2_m6\"].components[0].identifiers[0].value': '11-bromoundecan-1-ol',\n 'reactions[6].inputs[\"m1_m2_m6\"].components[0].identifiers[1].type': 'SMILES',\n 'reactions[6].inputs[\"m1_m2_m6\"].components[0].identifiers[1].value': 'BrCCCCCCCCCCCO',\n 'reactions[6].inputs[\"m1_m2_m6\"].components[0].identifiers[2].type': 'INCHI',\n 'reactions[6].inputs[\"m1_m2_m6\"].components[0].identifiers[2].value': 'InChI=1S/C11H23BrO/c12-10-8-6-4-2-1-3-5-7-9-11-13/h13H,1-11H2',\n 'reactions[6].inputs[\"m1_m2_m6\"].components[0].amount.mass.value': 3.680000066757202,\n 'reactions[6].inputs[\"m1_m2_m6\"].components[0].amount.mass.units': 'GRAM',\n 'reactions[6].inputs[\"m1_m2_m6\"].components[0].reaction_role': 'REACTANT',\n 'reactions[6].inputs[\"m1_m2_m6\"].components[1].identifiers[0].type': 'NAME',\n 'reactions[6].inputs[\"m1_m2_m6\"].components[1].identifiers[0].value': 'p-cresol',\n 'reactions[6].inputs[\"m1_m2_m6\"].components[1].identifiers[1].type': 'SMILES',\n 'reactions[6].inputs[\"m1_m2_m6\"].components[1].identifiers[1].value': 'C1=CC(=CC=C1O)C',\n 'reactions[6].inputs[\"m1_m2_m6\"].components[1].identifiers[2].type': 'INCHI',\n 'reactions[6].inputs[\"m1_m2_m6\"].components[1].identifiers[2].value': 'InChI=1S/C7H8O/c1-6-2-4-7(8)5-3-6/h2-5,8H,1H3',\n 'reactions[6].inputs[\"m1_m2_m6\"].components[1].amount.mass.value': 4.880000114440918,\n 'reactions[6].inputs[\"m1_m2_m6\"].components[1].amount.mass.units': 'GRAM',\n 'reactions[6].inputs[\"m1_m2_m6\"].components[1].reaction_role': 'REACTANT',\n 'reactions[6].inputs[\"m1_m2_m6\"].components[2].identifiers[0].type': 'NAME',\n 'reactions[6].inputs[\"m1_m2_m6\"].components[2].identifiers[0].value': 'ethanol',\n 'reactions[6].inputs[\"m1_m2_m6\"].components[2].identifiers[1].type': 'SMILES',\n 'reactions[6].inputs[\"m1_m2_m6\"].components[2].identifiers[1].value': 'C(C)O',\n 'reactions[6].inputs[\"m1_m2_m6\"].components[2].identifiers[2].type': 'INCHI',\n 'reactions[6].inputs[\"m1_m2_m6\"].components[2].identifiers[2].value': 'InChI=1S/C2H6O/c1-2-3/h3H,2H2,1H3',\n 'reactions[6].inputs[\"m1_m2_m6\"].components[2].amount.volume.value': 20.0,\n 'reactions[6].inputs[\"m1_m2_m6\"].components[2].amount.volume.units': 'MILLILITER',\n 'reactions[6].inputs[\"m1_m2_m6\"].components[2].reaction_role': 'SOLVENT',\n 'reactions[6].conditions.temperature.control.type': 'AMBIENT',\n 'reactions[6].conditions.conditions_are_dynamic': True,\n 'reactions[6].conditions.details': 'See reaction.notes.procedure_details.',\n 'reactions[6].notes.procedure_details': 'The 11-bromoundecan-1-ol 15 (3.68 g) and 4.88 g of p-cresol were dissolved in 20 ml of ethanol, and 2.57 g of potassium hydroxide was added to that, followed by 24-hour refluxing. After cooled to room temperature, the reaction solution is moved into a separating funnel, and 100 ml of ion-exchange water and 50 ml of methylene chloride were added so as to cause separation. After the organic phase was collected and was dehydrated with sodium sulfate, the desiccant agent was removed by filtration, and the solvent of the filtrate was distilled away under reduced pressure. The resultant solid was re-dissolved in 50 ml of toluene, and was washed twice with 10 wt % of aqueous potassium hydroxide solution, and was then washed with 50 ml of saturated saline. After that, the organic phase was collected, and was dehydrated with sodium sulfate. The desiccant agent was removed by filtration, and the solvent of the filtrate was distilled away under reduced pressure, to obtain 4.08 g of 11-(p-tolyloxy)undecan-1-ol 16, which is a white solid.',\n 'reactions[6].workups[0].type': 'WAIT',\n 'reactions[6].workups[0].details': 'followed by 24-hour',\n 'reactions[6].workups[1].type': 'TEMPERATURE',\n 'reactions[6].workups[1].details': 'refluxing',\n 'reactions[6].workups[2].type': 'CUSTOM',\n 'reactions[6].workups[2].details': 'the reaction solution is moved into a separating funnel',\n 'reactions[6].workups[3].type': 'CUSTOM',\n 'reactions[6].workups[3].details': 'separation',\n 'reactions[6].workups[4].type': 'CUSTOM',\n 'reactions[6].workups[4].details': 'After the organic phase was collected',\n 'reactions[6].workups[5].type': 'CUSTOM',\n 'reactions[6].workups[5].details': 'the desiccant agent was removed by filtration',\n 'reactions[6].workups[6].type': 'DISTILLATION',\n 'reactions[6].workups[6].details': 'the solvent of the filtrate was distilled away under reduced pressure',\n 'reactions[6].workups[7].type': 'DISSOLUTION',\n 'reactions[6].workups[7].details': 'The resultant solid was re-dissolved in 50 ml of toluene',\n 'reactions[6].workups[7].input.components[0].identifiers[0].type': 'NAME',\n 'reactions[6].workups[7].input.components[0].identifiers[0].value': 'toluene',\n 'reactions[6].workups[7].input.components[0].identifiers[1].type': 'SMILES',\n 'reactions[6].workups[7].input.components[0].identifiers[1].value': 'C1(=CC=CC=C1)C',\n 'reactions[6].workups[7].input.components[0].identifiers[2].type': 'INCHI',\n 'reactions[6].workups[7].input.components[0].identifiers[2].value': 'InChI=1S/C7H8/c1-7-5-3-2-4-6-7/h2-6H,1H3',\n 'reactions[6].workups[7].input.components[0].amount.volume.value': 50.0,\n 'reactions[6].workups[7].input.components[0].amount.volume.units': 'MILLILITER',\n 'reactions[6].workups[7].input.components[0].reaction_role': 'WORKUP',\n 'reactions[6].workups[8].type': 'WASH',\n 'reactions[6].workups[8].details': 'was washed twice with 10 wt % of aqueous potassium hydroxide solution',\n 'reactions[6].workups[8].input.components[0].identifiers[0].type': 'NAME',\n 'reactions[6].workups[8].input.components[0].identifiers[0].value': 'potassium hydroxide',\n 'reactions[6].workups[8].input.components[0].identifiers[1].type': 'SMILES',\n 'reactions[6].workups[8].input.components[0].identifiers[1].value': '[OH-].[K+]',\n 'reactions[6].workups[8].input.components[0].identifiers[2].type': 'INCHI',\n 'reactions[6].workups[8].input.components[0].identifiers[2].value': 'InChI=1S/K.H2O/h;1H2/q+1;/p-1',\n 'reactions[6].workups[8].input.components[0].amount.moles.value': 0.0,\n 'reactions[6].workups[8].input.components[0].amount.moles.precision': 1.0,\n 'reactions[6].workups[8].input.components[0].amount.moles.units': 'MOLE',\n 'reactions[6].workups[8].input.components[0].reaction_role': 'WORKUP',\n 'reactions[6].workups[9].type': 'WASH',\n 'reactions[6].workups[9].details': 'was then washed with 50 ml of saturated saline',\n 'reactions[6].workups[10].type': 'CUSTOM',\n 'reactions[6].workups[10].details': 'After that, the organic phase was collected',\n 'reactions[6].workups[11].type': 'CUSTOM',\n 'reactions[6].workups[11].details': 'The desiccant agent was removed by filtration',\n 'reactions[6].workups[12].type': 'DISTILLATION',\n 'reactions[6].workups[12].details': 'the solvent of the filtrate was distilled away under reduced pressure',\n 'reactions[6].outcomes[0].products[0].identifiers[0].type': 'NAME',\n 'reactions[6].outcomes[0].products[0].identifiers[0].value': '11-(p-tolyloxy)undecan-1-ol',\n 'reactions[6].outcomes[0].products[0].identifiers[1].type': 'SMILES',\n 'reactions[6].outcomes[0].products[0].identifiers[1].value': 'C1(=CC=C(C=C1)OCCCCCCCCCCCO)C',\n 'reactions[6].outcomes[0].products[0].identifiers[2].type': 'INCHI',\n 'reactions[6].outcomes[0].products[0].identifiers[2].value': 'InChI=1S/C18H30O2/c1-17-11-13-18(14-12-17)20-16-10-8-6-4-2-3-5-7-9-15-19/h11-14,19H,2-10,15-16H2,1H3',\n 'reactions[6].outcomes[0].products[0].measurements[0].type': 'AMOUNT',\n 'reactions[6].outcomes[0].products[0].measurements[0].details': 'MASS',\n 'reactions[6].outcomes[0].products[0].measurements[0].amount.mass.value': 4.079999923706055,\n 'reactions[6].outcomes[0].products[0].measurements[0].amount.mass.units': 'GRAM',\n 'reactions[6].outcomes[0].products[0].measurements[1].type': 'YIELD',\n 'reactions[6].outcomes[0].products[0].measurements[1].details': 'CALCULATEDPERCENTYIELD',\n 'reactions[6].outcomes[0].products[0].measurements[1].percentage.value': 100.0,\n 'reactions[6].outcomes[0].products[0].reaction_role': 'PRODUCT',\n 'reactions[6].provenance.doi': '10.6084/m9.figshare.5104873.v1',\n 'reactions[6].provenance.patent': 'US08475685B2',\n 'reactions[6].provenance.record_created.time.value': '2022-12-02 19:59:53.387506',\n 'reactions[6].provenance.record_created.person.username': 'skearnes',\n 'reactions[6].provenance.record_created.person.name': 'Steven Kearnes',\n 'reactions[6].provenance.record_created.person.orcid': '0000-0003-4579-4388',\n 'reactions[6].provenance.record_created.person.organization': 'Google LLC',\n 'reactions[6].provenance.record_created.person.email': 'kearnes@google.com',\n 'reactions[6].provenance.record_modified[0].time.value': 'Mon Dec  5 19:11:33 2022',\n 'reactions[6].provenance.record_modified[0].person.username': 'github-actions',\n 'reactions[6].provenance.record_modified[0].person.email': 'github-actions@github.com',\n 'reactions[6].provenance.record_modified[0].details': 'Automatic updates from the submission pipeline.',\n 'reactions[6].reaction_id': 'ord-817bc86595094b03b75420726869548e',\n 'reactions[7].identifiers[0].type': 'REACTION_CXSMILES',\n 'reactions[7].identifiers[0].value': '[C:1]([S:20][CH2:21][CH2:22][C:23]([OH:25])=[O:24])([C:14]1[CH:19]=[CH:18][CH:17]=[CH:16][CH:15]=1)([C:8]1[CH:13]=[CH:12][CH:11]=[CH:10][CH:9]=1)[C:2]1[CH:7]=[CH:6][CH:5]=[CH:4][CH:3]=1.Cl.C(N=C=NCCCN(C)C)C.[C:38]1([CH3:57])[CH:43]=[CH:42][C:41]([O:44][CH2:45][CH2:46][CH2:47][CH2:48][CH2:49][CH2:50][CH2:51][CH2:52][CH2:53][CH2:54][CH2:55]O)=[CH:40][CH:39]=1>CN(C)C1C=CN=CC=1.C(Cl)Cl>[C:1]([S:20][CH2:21][CH2:22][C:23]([O:25][CH2:55][CH2:54][CH2:53][CH2:52][CH2:51][CH2:50][CH2:49][CH2:48][CH2:47][CH2:46][CH2:45][O:44][C:41]1[CH:42]=[CH:43][C:38]([CH3:57])=[CH:39][CH:40]=1)=[O:24])([C:8]1[CH:13]=[CH:12][CH:11]=[CH:10][CH:9]=1)([C:14]1[CH:15]=[CH:16][CH:17]=[CH:18][CH:19]=1)[C:2]1[CH:3]=[CH:4][CH:5]=[CH:6][CH:7]=1 |f:1.2|',\n 'reactions[7].identifiers[0].is_mapped': True,\n 'reactions[7].inputs[\"m1_m2_m4_m5\"].components[0].identifiers[0].type': 'NAME',\n 'reactions[7].inputs[\"m1_m2_m4_m5\"].components[0].identifiers[0].value': 'compound 14',\n 'reactions[7].inputs[\"m1_m2_m4_m5\"].components[0].identifiers[1].type': 'NAME',\n 'reactions[7].inputs[\"m1_m2_m4_m5\"].components[0].identifiers[1].value': '3-(tritylthio)propionic acid',\n 'reactions[7].inputs[\"m1_m2_m4_m5\"].components[0].identifiers[2].type': 'SMILES',\n 'reactions[7].inputs[\"m1_m2_m4_m5\"].components[0].identifiers[2].value': 'C(C1=CC=CC=C1)(C1=CC=CC=C1)(C1=CC=CC=C1)SCCC(=O)O',\n 'reactions[7].inputs[\"m1_m2_m4_m5\"].components[0].identifiers[3].type': 'INCHI',\n 'reactions[7].inputs[\"m1_m2_m4_m5\"].components[0].identifiers[3].value': 'InChI=1S/C22H20O2S/c23-21(24)16-17-25-22(18-10-4-1-5-11-18,19-12-6-2-7-13-19)20-14-8-3-9-15-20/h1-15H,16-17H2,(H,23,24)',\n 'reactions[7].inputs[\"m1_m2_m4_m5\"].components[0].amount.mass.value': 1.8600000143051147,\n 'reactions[7].inputs[\"m1_m2_m4_m5\"].components[0].amount.mass.units': 'GRAM',\n 'reactions[7].inputs[\"m1_m2_m4_m5\"].components[0].reaction_role': 'REACTANT',\n 'reactions[7].inputs[\"m1_m2_m4_m5\"].components[1].identifiers[0].type': 'NAME',\n 'reactions[7].inputs[\"m1_m2_m4_m5\"].components[1].identifiers[0].value': '1-ethyl-3-(3-dimethylaminopropyl)carbodiimide hydrochloride',\n 'reactions[7].inputs[\"m1_m2_m4_m5\"].components[1].identifiers[1].type': 'SMILES',\n 'reactions[7].inputs[\"m1_m2_m4_m5\"].components[1].identifiers[1].value': 'Cl.C(C)N=C=NCCCN(C)C',\n 'reactions[7].inputs[\"m1_m2_m4_m5\"].components[1].identifiers[2].type': 'INCHI',\n 'reactions[7].inputs[\"m1_m2_m4_m5\"].components[1].identifiers[2].value': 'InChI=1S/C8H17N3.ClH/c1-4-9-8-10-6-5-7-11(2)3;/h4-7H2,1-3H3;1H',\n 'reactions[7].inputs[\"m1_m2_m4_m5\"].components[1].amount.mass.value': 0.8960000276565552,\n 'reactions[7].inputs[\"m1_m2_m4_m5\"].components[1].amount.mass.units': 'GRAM',\n 'reactions[7].inputs[\"m1_m2_m4_m5\"].components[1].reaction_role': 'REACTANT',\n 'reactions[7].inputs[\"m1_m2_m4_m5\"].components[2].identifiers[0].type': 'NAME',\n 'reactions[7].inputs[\"m1_m2_m4_m5\"].components[2].identifiers[0].value': '4-dimethylaminopyridine',\n 'reactions[7].inputs[\"m1_m2_m4_m5\"].components[2].identifiers[1].type': 'SMILES',\n 'reactions[7].inputs[\"m1_m2_m4_m5\"].components[2].identifiers[1].value': 'CN(C1=CC=NC=C1)C',\n 'reactions[7].inputs[\"m1_m2_m4_m5\"].components[2].identifiers[2].type': 'INCHI',\n 'reactions[7].inputs[\"m1_m2_m4_m5\"].components[2].identifiers[2].value': 'InChI=1S/C7H10N2/c1-9(2)7-3-5-8-6-4-7/h3-6H,1-2H3',\n 'reactions[7].inputs[\"m1_m2_m4_m5\"].components[2].amount.mass.value': 0.028999999165534973,\n 'reactions[7].inputs[\"m1_m2_m4_m5\"].components[2].amount.mass.units': 'GRAM',\n 'reactions[7].inputs[\"m1_m2_m4_m5\"].components[2].reaction_role': 'CATALYST',\n 'reactions[7].inputs[\"m1_m2_m4_m5\"].components[3].identifiers[0].type': 'NAME',\n 'reactions[7].inputs[\"m1_m2_m4_m5\"].components[3].identifiers[0].value': 'methylene chloride',\n 'reactions[7].inputs[\"m1_m2_m4_m5\"].components[3].identifiers[1].type': 'SMILES',\n 'reactions[7].inputs[\"m1_m2_m4_m5\"].components[3].identifiers[1].value': 'C(Cl)Cl',\n 'reactions[7].inputs[\"m1_m2_m4_m5\"].components[3].identifiers[2].type': 'INCHI',\n 'reactions[7].inputs[\"m1_m2_m4_m5\"].components[3].identifiers[2].value': 'InChI=1S/CH2Cl2/c2-1-3/h1H2',\n 'reactions[7].inputs[\"m1_m2_m4_m5\"].components[3].amount.volume.value': 300.0,\n 'reactions[7].inputs[\"m1_m2_m4_m5\"].components[3].amount.volume.units': 'MILLILITER',\n 'reactions[7].inputs[\"m1_m2_m4_m5\"].components[3].reaction_role': 'SOLVENT',\n 'reactions[7].inputs[\"m3\"].components[0].identifiers[0].type': 'NAME',\n 'reactions[7].inputs[\"m3\"].components[0].identifiers[0].value': 'compound 16',\n 'reactions[7].inputs[\"m3\"].components[0].identifiers[1].type': 'NAME',\n 'reactions[7].inputs[\"m3\"].components[0].identifiers[1].value': '11-(p-tolyloxy)undecan-1-ol',\n 'reactions[7].inputs[\"m3\"].components[0].identifiers[2].type': 'SMILES',\n 'reactions[7].inputs[\"m3\"].components[0].identifiers[2].value': 'C1(=CC=C(C=C1)OCCCCCCCCCCCO)C',\n 'reactions[7].inputs[\"m3\"].components[0].identifiers[3].type': 'INCHI',\n 'reactions[7].inputs[\"m3\"].components[0].identifiers[3].value': 'InChI=1S/C18H30O2/c1-17-11-13-18(14-12-17)20-16-10-8-6-4-2-3-5-7-9-15-19/h11-14,19H,2-10,15-16H2,1H3',\n 'reactions[7].inputs[\"m3\"].components[0].amount.mass.value': 3.0399999618530273,\n 'reactions[7].inputs[\"m3\"].components[0].amount.mass.units': 'GRAM',\n 'reactions[7].inputs[\"m3\"].components[0].reaction_role': 'REACTANT',\n 'reactions[7].conditions.temperature.control.type': 'AMBIENT',\n 'reactions[7].conditions.stirring.type': 'CUSTOM',\n 'reactions[7].conditions.stirring.details': 'stirred at room temperature for 24 hours',\n 'reactions[7].conditions.conditions_are_dynamic': True,\n 'reactions[7].conditions.details': 'See reaction.notes.procedure_details.',\n 'reactions[7].notes.procedure_details': 'The compound 14 (1.86 g), 0.896 g of 1-ethyl-3-(3-dimethylaminopropyl)carbodiimide hydrochloride (EDC), and 0.029 g of 4-dimethylaminopyridine (DMAP) were dissolved in 300 ml of methylene chloride. After the compound 16 (3.04 g) was then added and stirred at room temperature for 24 hours, the reaction solution was moved into a separating funnel, and was washed twice with 100 ml of 10% aqueous potassium hydrogen sulfate solution, twice with 100 ml of aqueous saturated sodium hydrogen carbonate solution, twice with 100 ml of ion-exchange water, and twice with 100 ml of saturated brine. After the methylene chloride phase collected was dehydrated with magnesium sulfate, the desiccant agent was removed by filtration, and the solvent of the filtrate was distilled away under reduced pressure. The reaction mixture was purified by chromatography, and 2.63 g of 11-(p-tolyloxy)undecyl 3-(tritylthio)propioate 17, which was a white solid, was obtained.',\n 'reactions[7].workups[0].type': 'CUSTOM',\n 'reactions[7].workups[0].details': 'the reaction solution was moved into a separating funnel',\n 'reactions[7].workups[1].type': 'WASH',\n 'reactions[7].workups[1].details': 'was washed twice with 100 ml of 10% aqueous potassium hydrogen sulfate solution, twice with 100 ml of aqueous saturated sodium hydrogen carbonate solution, twice with 100 ml of ion-exchange water',\n 'reactions[7].workups[1].input.components[0].identifiers[0].type': 'NAME',\n 'reactions[7].workups[1].input.components[0].identifiers[0].value': 'potassium hydrogen sulfate',\n 'reactions[7].workups[1].input.components[0].identifiers[1].type': 'SMILES',\n 'reactions[7].workups[1].input.components[0].identifiers[1].value': 'S(=O)(=O)(O)[O-].[K+]',\n 'reactions[7].workups[1].input.components[0].identifiers[2].type': 'INCHI',\n 'reactions[7].workups[1].input.components[0].identifiers[2].value': 'InChI=1S/K.H2O4S/c;1-5(2,3)4/h;(H2,1,2,3,4)/q+1;/p-1',\n 'reactions[7].workups[1].input.components[0].amount.volume.value': 100.0,\n 'reactions[7].workups[1].input.components[0].amount.volume.units': 'MILLILITER',\n 'reactions[7].workups[1].input.components[0].reaction_role': 'WORKUP',\n 'reactions[7].workups[1].input.components[1].identifiers[0].type': 'NAME',\n 'reactions[7].workups[1].input.components[1].identifiers[0].value': 'sodium hydrogen carbonate',\n 'reactions[7].workups[1].input.components[1].identifiers[1].type': 'SMILES',\n 'reactions[7].workups[1].input.components[1].identifiers[1].value': 'C(O)([O-])=O.[Na+]',\n 'reactions[7].workups[1].input.components[1].identifiers[2].type': 'INCHI',\n 'reactions[7].workups[1].input.components[1].identifiers[2].value': 'InChI=1S/CH2O3.Na/c2-1(3)4;/h(H2,2,3,4);/q;+1/p-1',\n 'reactions[7].workups[1].input.components[1].amount.volume.value': 100.0,\n 'reactions[7].workups[1].input.components[1].amount.volume.units': 'MILLILITER',\n 'reactions[7].workups[1].input.components[1].reaction_role': 'WORKUP',\n 'reactions[7].workups[1].input.components[2].identifiers[0].type': 'NAME',\n 'reactions[7].workups[1].input.components[2].identifiers[0].value': 'ion-exchange',\n 'reactions[7].workups[1].input.components[2].amount.volume.value': 100.0,\n 'reactions[7].workups[1].input.components[2].amount.volume.units': 'MILLILITER',\n 'reactions[7].workups[1].input.components[2].reaction_role': 'WORKUP',\n 'reactions[7].workups[1].input.components[3].identifiers[0].type': 'NAME',\n 'reactions[7].workups[1].input.components[3].identifiers[0].value': 'water',\n 'reactions[7].workups[1].input.components[3].identifiers[1].type': 'SMILES',\n 'reactions[7].workups[1].input.components[3].identifiers[1].value': 'O',\n 'reactions[7].workups[1].input.components[3].identifiers[2].type': 'INCHI',\n 'reactions[7].workups[1].input.components[3].identifiers[2].value': 'InChI=1S/H2O/h1H2',\n 'reactions[7].workups[1].input.components[3].amount.moles.value': 0.0,\n 'reactions[7].workups[1].input.components[3].amount.moles.precision': 1.0,\n 'reactions[7].workups[1].input.components[3].amount.moles.units': 'MOLE',\n 'reactions[7].workups[1].input.components[3].reaction_role': 'WORKUP',\n 'reactions[7].workups[2].type': 'CUSTOM',\n 'reactions[7].workups[2].details': 'After the methylene chloride phase collected',\n 'reactions[7].workups[2].input.components[0].identifiers[0].type': 'NAME',\n 'reactions[7].workups[2].input.components[0].identifiers[0].value': 'methylene chloride',\n 'reactions[7].workups[2].input.components[0].identifiers[1].type': 'SMILES',\n 'reactions[7].workups[2].input.components[0].identifiers[1].value': 'C(Cl)Cl',\n 'reactions[7].workups[2].input.components[0].identifiers[2].type': 'INCHI',\n 'reactions[7].workups[2].input.components[0].identifiers[2].value': 'InChI=1S/CH2Cl2/c2-1-3/h1H2',\n 'reactions[7].workups[2].input.components[0].amount.moles.value': 0.0,\n 'reactions[7].workups[2].input.components[0].amount.moles.precision': 1.0,\n 'reactions[7].workups[2].input.components[0].amount.moles.units': 'MOLE',\n 'reactions[7].workups[2].input.components[0].reaction_role': 'WORKUP',\n 'reactions[7].workups[3].type': 'CUSTOM',\n 'reactions[7].workups[3].details': 'the desiccant agent was removed by filtration',\n 'reactions[7].workups[4].type': 'DISTILLATION',\n 'reactions[7].workups[4].details': 'the solvent of the filtrate was distilled away under reduced pressure',\n 'reactions[7].workups[5].type': 'CUSTOM',\n 'reactions[7].workups[5].details': 'The reaction mixture was purified by chromatography, and 2.63 g of 11-(p-tolyloxy)undecyl 3-(tritylthio)propioate 17, which',\n 'reactions[7].workups[5].input.components[0].identifiers[0].type': 'NAME',\n 'reactions[7].workups[5].input.components[0].identifiers[0].value': '11-(p-tolyloxy)undecyl 3-(tritylthio)propioate',\n 'reactions[7].workups[5].input.components[0].identifiers[1].type': 'SMILES',\n 'reactions[7].workups[5].input.components[0].identifiers[1].value': 'C(C1=CC=CC=C1)(C1=CC=CC=C1)(C1=CC=CC=C1)SCCC(=O)OCCCCCCCCCCCOC1=CC=C(C=C1)C',\n 'reactions[7].workups[5].input.components[0].identifiers[2].type': 'INCHI',\n 'reactions[7].workups[5].input.components[0].identifiers[2].value': 'InChI=1S/C40H48O3S/c1-34-26-28-38(29-27-34)42-31-18-7-5-3-2-4-6-8-19-32-43-39(41)30-33-44-40(35-20-12-9-13-21-35,36-22-14-10-15-23-36)37-24-16-11-17-25-37/h9-17,20-29H,2-8,18-19,30-33H2,1H3',\n 'reactions[7].workups[5].input.components[0].amount.mass.value': 2.630000114440918,\n 'reactions[7].workups[5].input.components[0].amount.mass.units': 'GRAM',\n 'reactions[7].workups[5].input.components[0].reaction_role': 'WORKUP',\n 'reactions[7].workups[6].type': 'CUSTOM',\n 'reactions[7].workups[6].details': 'was obtained',\n 'reactions[7].outcomes[0].reaction_time.value': 24.0,\n 'reactions[7].outcomes[0].reaction_time.units': 'HOUR',\n 'reactions[7].outcomes[0].products[0].identifiers[0].type': 'NAME',\n 'reactions[7].outcomes[0].products[0].identifiers[0].value': '11-(p-tolyloxy)undecyl 3-(tritylthio)propioate',\n 'reactions[7].outcomes[0].products[0].identifiers[1].type': 'SMILES',\n 'reactions[7].outcomes[0].products[0].identifiers[1].value': 'C(C1=CC=CC=C1)(C1=CC=CC=C1)(C1=CC=CC=C1)SCCC(=O)OCCCCCCCCCCCOC1=CC=C(C=C1)C',\n 'reactions[7].outcomes[0].products[0].identifiers[2].type': 'INCHI',\n 'reactions[7].outcomes[0].products[0].identifiers[2].value': 'InChI=1S/C40H48O3S/c1-34-26-28-38(29-27-34)42-31-18-7-5-3-2-4-6-8-19-32-43-39(41)30-33-44-40(35-20-12-9-13-21-35,36-22-14-10-15-23-36)37-24-16-11-17-25-37/h9-17,20-29H,2-8,18-19,30-33H2,1H3',\n 'reactions[7].provenance.doi': '10.6084/m9.figshare.5104873.v1',\n 'reactions[7].provenance.patent': 'US08475685B2',\n 'reactions[7].provenance.record_created.time.value': '2022-12-02 19:59:53.413678',\n 'reactions[7].provenance.record_created.person.username': 'skearnes',\n 'reactions[7].provenance.record_created.person.name': 'Steven Kearnes',\n 'reactions[7].provenance.record_created.person.orcid': '0000-0003-4579-4388',\n 'reactions[7].provenance.record_created.person.organization': 'Google LLC',\n 'reactions[7].provenance.record_created.person.email': 'kearnes@google.com',\n 'reactions[7].provenance.record_modified[0].time.value': 'Mon Dec  5 19:11:33 2022',\n 'reactions[7].provenance.record_modified[0].person.username': 'github-actions',\n 'reactions[7].provenance.record_modified[0].person.email': 'github-actions@github.com',\n 'reactions[7].provenance.record_modified[0].details': 'Automatic updates from the submission pipeline.',\n 'reactions[7].reaction_id': 'ord-245c61df200e46fc9b62c262e5ea641a',\n 'reactions[8].identifiers[0].type': 'REACTION_CXSMILES',\n 'reactions[8].identifiers[0].value': 'C([S:20][CH2:21][CH2:22][C:23]([O:25][CH2:26][CH2:27][CH2:28][CH2:29][CH2:30][CH2:31][CH2:32][CH2:33][CH2:34][CH2:35][CH2:36][O:37][C:38]1[CH:43]=[CH:42][C:41]([CH3:44])=[CH:40][CH:39]=1)=[O:24])(C1C=CC=CC=1)(C1C=CC=CC=1)C1C=CC=CC=1.C([SiH](CC)CC)C>FC(F)(F)C(O)=O>[SH:20][CH2:21][CH2:22][C:23]([O:25][CH2:26][CH2:27][CH2:28][CH2:29][CH2:30][CH2:31][CH2:32][CH2:33][CH2:34][CH2:35][CH2:36][O:37][C:38]1[CH:39]=[CH:40][C:41]([CH3:44])=[CH:42][CH:43]=1)=[O:24]',\n 'reactions[8].identifiers[0].is_mapped': True,\n 'reactions[8].inputs[\"m3\"].components[0].identifiers[0].type': 'NAME',\n 'reactions[8].inputs[\"m3\"].components[0].identifiers[0].value': 'trifluoroacetic acid',\n 'reactions[8].inputs[\"m3\"].components[0].identifiers[1].type': 'SMILES',\n 'reactions[8].inputs[\"m3\"].components[0].identifiers[1].value': 'FC(C(=O)O)(F)F',\n 'reactions[8].inputs[\"m3\"].components[0].identifiers[2].type': 'INCHI',\n 'reactions[8].inputs[\"m3\"].components[0].identifiers[2].value': 'InChI=1S/C2HF3O2/c3-2(4,5)1(6)7/h(H,6,7)',\n 'reactions[8].inputs[\"m3\"].components[0].amount.volume.value': 10.0,\n 'reactions[8].inputs[\"m3\"].components[0].amount.volume.units': 'MILLILITER',\n 'reactions[8].inputs[\"m3\"].components[0].reaction_role': 'SOLVENT',\n 'reactions[8].inputs[\"m2\"].components[0].identifiers[0].type': 'NAME',\n 'reactions[8].inputs[\"m2\"].components[0].identifiers[0].value': 'triethylsilane',\n 'reactions[8].inputs[\"m2\"].components[0].identifiers[1].type': 'SMILES',\n 'reactions[8].inputs[\"m2\"].components[0].identifiers[1].value': 'C(C)[SiH](CC)CC',\n 'reactions[8].inputs[\"m2\"].components[0].identifiers[2].type': 'INCHI',\n 'reactions[8].inputs[\"m2\"].components[0].identifiers[2].value': 'InChI=1S/C6H16Si/c1-4-7(5-2)6-3/h7H,4-6H2,1-3H3',\n 'reactions[8].inputs[\"m2\"].components[0].amount.volume.value': 0.8999999761581421,\n 'reactions[8].inputs[\"m2\"].components[0].amount.volume.units': 'MILLILITER',\n 'reactions[8].inputs[\"m2\"].components[0].reaction_role': 'REACTANT',\n 'reactions[8].inputs[\"m1\"].components[0].identifiers[0].type': 'NAME',\n 'reactions[8].inputs[\"m1\"].components[0].identifiers[0].value': 'compound 17',\n 'reactions[8].inputs[\"m1\"].components[0].identifiers[1].type': 'NAME',\n 'reactions[8].inputs[\"m1\"].components[0].identifiers[1].value': '11-(p-tolyloxy)undecyl 3-(tritylthio)propioate',\n 'reactions[8].inputs[\"m1\"].components[0].identifiers[2].type': 'SMILES',\n 'reactions[8].inputs[\"m1\"].components[0].identifiers[2].value': 'C(C1=CC=CC=C1)(C1=CC=CC=C1)(C1=CC=CC=C1)SCCC(=O)OCCCCCCCCCCCOC1=CC=C(C=C1)C',\n 'reactions[8].inputs[\"m1\"].components[0].identifiers[3].type': 'INCHI',\n 'reactions[8].inputs[\"m1\"].components[0].identifiers[3].value': 'InChI=1S/C40H48O3S/c1-34-26-28-38(29-27-34)42-31-18-7-5-3-2-4-6-8-19-32-43-39(41)30-33-44-40(35-20-12-9-13-21-35,36-22-14-10-15-23-36)37-24-16-11-17-25-37/h9-17,20-29H,2-8,18-19,30-33H2,1H3',\n 'reactions[8].inputs[\"m1\"].components[0].amount.mass.value': 1.1100000143051147,\n 'reactions[8].inputs[\"m1\"].components[0].amount.mass.units': 'GRAM',\n 'reactions[8].inputs[\"m1\"].components[0].reaction_role': 'REACTANT',\n 'reactions[8].conditions.stirring.type': 'CUSTOM',\n 'reactions[8].conditions.stirring.details': 'stirred',\n 'reactions[8].conditions.conditions_are_dynamic': True,\n 'reactions[8].conditions.details': 'See reaction.notes.procedure_details.',\n 'reactions[8].notes.procedure_details': 'The compound 17 (1.11 g) was weighed and poured into a 100-ml round-bottomed flask, and 10 ml of trifluoroacetic acid was added and stirred, to obtain an orange-colored homogenous solution. After 0.9 ml of triethylsilane was added to generate a white-colored precipitate, the supernatant solution (transparent) was distilled away under reduced pressure. The solid obtained was purified by chromatography, and 0.6 g of the compound e, which was a white solid, was obtained.',\n 'reactions[8].workups[0].type': 'ADDITION',\n 'reactions[8].workups[0].details': 'poured into a 100-ml round-bottomed flask',\n 'reactions[8].workups[1].type': 'CUSTOM',\n 'reactions[8].workups[1].details': 'to obtain an orange-colored homogenous solution',\n 'reactions[8].workups[2].type': 'DISTILLATION',\n 'reactions[8].workups[2].details': 'the supernatant solution (transparent) was distilled away under reduced pressure',\n 'reactions[8].workups[3].type': 'CUSTOM',\n 'reactions[8].workups[3].details': 'The solid obtained',\n 'reactions[8].workups[4].type': 'CUSTOM',\n 'reactions[8].workups[4].details': 'was purified by chromatography, and 0.6 g of the compound e, which',\n 'reactions[8].workups[4].input.components[0].identifiers[0].type': 'NAME',\n 'reactions[8].workups[4].input.components[0].identifiers[0].value': 'compound e',\n 'reactions[8].workups[4].input.components[0].identifiers[1].type': 'NAME',\n 'reactions[8].workups[4].input.components[0].identifiers[1].value': '11-(p-tolyloxy)undecyl 3-mercaptopropioate',\n 'reactions[8].workups[4].input.components[0].identifiers[2].type': 'SMILES',\n 'reactions[8].workups[4].input.components[0].identifiers[2].value': 'SCCC(=O)OCCCCCCCCCCCOC1=CC=C(C=C1)C',\n 'reactions[8].workups[4].input.components[0].identifiers[3].type': 'INCHI',\n 'reactions[8].workups[4].input.components[0].identifiers[3].value': 'InChI=1S/C21H34O3S/c1-19-11-13-20(14-12-19)23-16-9-7-5-3-2-4-6-8-10-17-24-21(22)15-18-25/h11-14,25H,2-10,15-18H2,1H3',\n 'reactions[8].workups[4].input.components[0].amount.mass.value': 0.6000000238418579,\n 'reactions[8].workups[4].input.components[0].amount.mass.units': 'GRAM',\n 'reactions[8].workups[4].input.components[0].reaction_role': 'WORKUP',\n 'reactions[8].workups[5].type': 'CUSTOM',\n 'reactions[8].workups[5].details': 'was obtained',\n 'reactions[8].outcomes[0].products[0].identifiers[0].type': 'NAME',\n 'reactions[8].outcomes[0].products[0].identifiers[0].value': '11-(p-tolyloxy)undecyl 3-mercaptopropioate',\n 'reactions[8].outcomes[0].products[0].identifiers[1].type': 'SMILES',\n 'reactions[8].outcomes[0].products[0].identifiers[1].value': 'SCCC(=O)OCCCCCCCCCCCOC1=CC=C(C=C1)C',\n 'reactions[8].outcomes[0].products[0].identifiers[2].type': 'INCHI',\n 'reactions[8].outcomes[0].products[0].identifiers[2].value': 'InChI=1S/C21H34O3S/c1-19-11-13-20(14-12-19)23-16-9-7-5-3-2-4-6-8-10-17-24-21(22)15-18-25/h11-14,25H,2-10,15-18H2,1H3',\n 'reactions[8].provenance.doi': '10.6084/m9.figshare.5104873.v1',\n 'reactions[8].provenance.patent': 'US08475685B2',\n 'reactions[8].provenance.record_created.time.value': '2022-12-02 19:59:53.454554',\n 'reactions[8].provenance.record_created.person.username': 'skearnes',\n 'reactions[8].provenance.record_created.person.name': 'Steven Kearnes',\n 'reactions[8].provenance.record_created.person.orcid': '0000-0003-4579-4388',\n 'reactions[8].provenance.record_created.person.organization': 'Google LLC',\n 'reactions[8].provenance.record_created.person.email': 'kearnes@google.com',\n 'reactions[8].provenance.record_modified[0].time.value': 'Mon Dec  5 19:11:33 2022',\n 'reactions[8].provenance.record_modified[0].person.username': 'github-actions',\n 'reactions[8].provenance.record_modified[0].person.email': 'github-actions@github.com',\n 'reactions[8].provenance.record_modified[0].details': 'Automatic updates from the submission pipeline.',\n 'reactions[8].reaction_id': 'ord-cf7d57de8ab74fdab78d8d5c544b7a27',\n 'reactions[9].identifiers[0].type': 'REACTION_CXSMILES',\n 'reactions[9].identifiers[0].value': 'Br[CH2:2][CH2:3][CH2:4][CH2:5][CH2:6][CH2:7][CH2:8][CH2:9][CH2:10][CH2:11][CH2:12][O:13][C:14]1[CH:19]=[CH:18][CH:17]=[CH:16][C:15]=1[CH3:20].[N-:21]=[N+]=[N-].[Na+]>C(#N)C.C1COCC1.C(OCC)(=O)C>[NH2:21][CH2:2][CH2:3][CH2:4][CH2:5][CH2:6][CH2:7][CH2:8][CH2:9][CH2:10][CH2:11][CH2:12][O:13][C:14]1[CH:19]=[CH:18][CH:17]=[CH:16][C:15]=1[CH3:20] |f:1.2|',\n 'reactions[9].identifiers[0].is_mapped': True,\n 'reactions[9].inputs[\"m5\"].components[0].identifiers[0].type': 'NAME',\n 'reactions[9].inputs[\"m5\"].components[0].identifiers[0].value': 'ethyl acetate',\n 'reactions[9].inputs[\"m5\"].components[0].identifiers[1].type': 'SMILES',\n 'reactions[9].inputs[\"m5\"].components[0].identifiers[1].value': 'C(C)(=O)OCC',\n 'reactions[9].inputs[\"m5\"].components[0].identifiers[2].type': 'INCHI',\n 'reactions[9].inputs[\"m5\"].components[0].identifiers[2].value': 'InChI=1S/C4H8O2/c1-3-6-4(2)5/h3H2,1-2H3',\n 'reactions[9].inputs[\"m5\"].components[0].amount.volume.value': 30.0,\n 'reactions[9].inputs[\"m5\"].components[0].amount.volume.units': 'MILLILITER',\n 'reactions[9].inputs[\"m5\"].components[0].reaction_role': 'SOLVENT',\n 'reactions[9].inputs[\"m1_m3\"].components[0].identifiers[0].type': 'NAME',\n 'reactions[9].inputs[\"m1_m3\"].components[0].identifiers[0].value': 'compound 22',\n 'reactions[9].inputs[\"m1_m3\"].components[0].identifiers[1].type': 'NAME',\n 'reactions[9].inputs[\"m1_m3\"].components[0].identifiers[1].value': '(11-bromoundecyl)tolylether',\n 'reactions[9].inputs[\"m1_m3\"].components[0].identifiers[2].type': 'SMILES',\n 'reactions[9].inputs[\"m1_m3\"].components[0].identifiers[2].value': 'BrCCCCCCCCCCCOC1=C(C=CC=C1)C',\n 'reactions[9].inputs[\"m1_m3\"].components[0].identifiers[3].type': 'INCHI',\n 'reactions[9].inputs[\"m1_m3\"].components[0].identifiers[3].value': 'InChI=1S/C18H29BrO/c1-17-13-9-10-14-18(17)20-16-12-8-6-4-2-3-5-7-11-15-19/h9-10,13-14H,2-8,11-12,15-16H2,1H3',\n 'reactions[9].inputs[\"m1_m3\"].components[0].amount.mass.value': 0.5059999823570251,\n 'reactions[9].inputs[\"m1_m3\"].components[0].amount.mass.units': 'GRAM',\n 'reactions[9].inputs[\"m1_m3\"].components[0].reaction_role': 'REACTANT',\n 'reactions[9].inputs[\"m1_m3\"].components[1].identifiers[0].type': 'NAME',\n 'reactions[9].inputs[\"m1_m3\"].components[1].identifiers[0].value': 'acetonitrile',\n 'reactions[9].inputs[\"m1_m3\"].components[1].identifiers[1].type': 'SMILES',\n 'reactions[9].inputs[\"m1_m3\"].components[1].identifiers[1].value': 'C(C)#N',\n 'reactions[9].inputs[\"m1_m3\"].components[1].identifiers[2].type': 'INCHI',\n 'reactions[9].inputs[\"m1_m3\"].components[1].identifiers[2].value': 'InChI=1S/C2H3N/c1-2-3/h1H3',\n 'reactions[9].inputs[\"m1_m3\"].components[1].amount.volume.value': 50.0,\n 'reactions[9].inputs[\"m1_m3\"].components[1].amount.volume.units': 'MILLILITER',\n 'reactions[9].inputs[\"m1_m3\"].components[1].reaction_role': 'SOLVENT',\n 'reactions[9].inputs[\"m2\"].components[0].identifiers[0].type': 'NAME',\n 'reactions[9].inputs[\"m2\"].components[0].identifiers[0].value': 'Sodium azide',\n 'reactions[9].inputs[\"m2\"].components[0].identifiers[1].type': 'SMILES',\n 'reactions[9].inputs[\"m2\"].components[0].identifiers[1].value': '[N-]=[N+]=[N-].[Na+]',\n 'reactions[9].inputs[\"m2\"].components[0].identifiers[2].type': 'INCHI',\n 'reactions[9].inputs[\"m2\"].components[0].identifiers[2].value': 'InChI=1S/N3.Na/c1-3-2;/q-1;+1',\n 'reactions[9].inputs[\"m2\"].components[0].amount.mass.value': 0.39500001072883606,\n 'reactions[9].inputs[\"m2\"].components[0].amount.mass.units': 'GRAM',\n 'reactions[9].inputs[\"m2\"].components[0].reaction_role': 'REACTANT',\n 'reactions[9].inputs[\"m4\"].components[0].identifiers[0].type': 'NAME',\n 'reactions[9].inputs[\"m4\"].components[0].identifiers[0].value': 'THF',\n 'reactions[9].inputs[\"m4\"].components[0].identifiers[1].type': 'SMILES',\n 'reactions[9].inputs[\"m4\"].components[0].identifiers[1].value': 'C1CCOC1',\n 'reactions[9].inputs[\"m4\"].components[0].identifiers[2].type': 'INCHI',\n 'reactions[9].inputs[\"m4\"].components[0].identifiers[2].value': 'InChI=1S/C4H8O/c1-2-4-5-3-1/h1-4H2',\n 'reactions[9].inputs[\"m4\"].components[0].amount.volume.value': 15.0,\n 'reactions[9].inputs[\"m4\"].components[0].amount.volume.units': 'MILLILITER',\n 'reactions[9].inputs[\"m4\"].components[0].reaction_role': 'SOLVENT',\n 'reactions[9].conditions.temperature.control.type': 'AMBIENT',\n 'reactions[9].conditions.stirring.type': 'CUSTOM',\n 'reactions[9].conditions.stirring.details': 'After the resultant was stirred in an ice bath for one hour',\n 'reactions[9].conditions.conditions_are_dynamic': True,\n 'reactions[9].conditions.details': 'See reaction.notes.procedure_details.',\n 'reactions[9].notes.procedure_details': 'The compound 22 (0.506 g) was dissolved in 50 ml of acetonitrile. Sodium azide (0.395 g) was then added to that, and 29-hour reaction was carried out by refluxing, followed by 95-hour reaction at room temperature. After the resultant was cooled down to room temperature, the solid components were removed by filtration. The solvent of the filtrate was then distilled away under reduced pressure, and 0.313 g of a transparent, viscous liquid was obtained. This liquid was dissolved in 15 ml of THF distilled from calcium hydride in a nitrogen atmosphere, and was cooled in an ice bath. Lithium aluminum hydride (0.054 g) was then dissolved in 20 ml of dried THF, and was dripped. After the resultant was stirred in an ice bath for one hour, 80 μl of ion-exchange water, 80 of 15 wt % of aqueous potassium hydride solution, and 240 μl of ion-exchange water were added so as to stop the reaction. The precipitate generated was removed by filtration, and the solvent of the filtrate was distilled away under reduced pressure. The solid obtained was then dissolved in ethyl acetate (30 ml), and was washed twice with 30 ml of ion-exchange water. The organic phase was then collected, and was dehydrated with magnesium sulfate. The desiccant agent was removed by filtration, and the solvent of the filtrate was distilled away under reduced pressure. In this manner, 0.2 g of (11-aminoundecyl)tolylether 23, which was a white solid, was obtained.',\n 'reactions[9].workups[0].type': 'CUSTOM',\n 'reactions[9].workups[0].details': '29-hour reaction',\n 'reactions[9].workups[1].type': 'TEMPERATURE',\n 'reactions[9].workups[1].details': 'by refluxing',\n 'reactions[9].workups[2].type': 'WAIT',\n 'reactions[9].workups[2].details': 'followed by 95-hour',\n 'reactions[9].workups[3].type': 'CUSTOM',\n 'reactions[9].workups[3].details': 'reaction at room temperature',\n 'reactions[9].workups[3].temperature.control.type': 'AMBIENT',\n 'reactions[9].workups[4].type': 'CUSTOM',\n 'reactions[9].workups[4].details': 'the solid components were removed by filtration',\n 'reactions[9].workups[5].type': 'DISTILLATION',\n 'reactions[9].workups[5].details': 'The solvent of the filtrate was then distilled away under reduced pressure, and 0.313 g of a transparent, viscous liquid',\n 'reactions[9].workups[6].type': 'CUSTOM',\n 'reactions[9].workups[6].details': 'was obtained',\n 'reactions[9].workups[7].type': 'DISTILLATION',\n 'reactions[9].workups[7].details': 'distilled from calcium hydride in a nitrogen atmosphere',\n 'reactions[9].workups[7].input.components[0].identifiers[0].type': 'NAME',\n 'reactions[9].workups[7].input.components[0].identifiers[0].value': 'calcium hydride',\n 'reactions[9].workups[7].input.components[0].identifiers[1].type': 'SMILES',\n 'reactions[9].workups[7].input.components[0].identifiers[1].value': '[H-].[Ca+2].[H-]',\n 'reactions[9].workups[7].input.components[0].identifiers[2].type': 'INCHI',\n 'reactions[9].workups[7].input.components[0].identifiers[2].value': 'InChI=1S/Ca.2H/q+2;2*-1',\n 'reactions[9].workups[7].input.components[0].amount.moles.value': 0.0,\n 'reactions[9].workups[7].input.components[0].amount.moles.precision': 1.0,\n 'reactions[9].workups[7].input.components[0].amount.moles.units': 'MOLE',\n 'reactions[9].workups[7].input.components[0].reaction_role': 'WORKUP',\n 'reactions[9].workups[8].type': 'TEMPERATURE',\n 'reactions[9].workups[8].details': 'was cooled in an ice bath',\n 'reactions[9].workups[9].type': 'DISSOLUTION',\n 'reactions[9].workups[9].details': 'Lithium aluminum hydride (0.054 g) was then dissolved in 20 ml of dried THF',\n 'reactions[9].workups[9].input.components[0].identifiers[0].type': 'NAME',\n 'reactions[9].workups[9].input.components[0].identifiers[0].value': 'Lithium aluminum hydride',\n 'reactions[9].workups[9].input.components[0].identifiers[1].type': 'SMILES',\n 'reactions[9].workups[9].input.components[0].identifiers[1].value': '[H-].[Al+3].[Li+].[H-].[H-].[H-]',\n 'reactions[9].workups[9].input.components[0].identifiers[2].type': 'INCHI',\n 'reactions[9].workups[9].input.components[0].identifiers[2].value': 'InChI=1S/Al.Li.4H/q+3;+1;4*-1',\n 'reactions[9].workups[9].input.components[0].amount.mass.value': 0.05400000140070915,\n 'reactions[9].workups[9].input.components[0].amount.mass.units': 'GRAM',\n 'reactions[9].workups[9].input.components[0].reaction_role': 'WORKUP',\n 'reactions[9].workups[9].input.components[1].identifiers[0].type': 'NAME',\n 'reactions[9].workups[9].input.components[1].identifiers[0].value': 'THF',\n 'reactions[9].workups[9].input.components[1].identifiers[1].type': 'SMILES',\n 'reactions[9].workups[9].input.components[1].identifiers[1].value': 'C1CCOC1',\n 'reactions[9].workups[9].input.components[1].identifiers[2].type': 'INCHI',\n 'reactions[9].workups[9].input.components[1].identifiers[2].value': 'InChI=1S/C4H8O/c1-2-4-5-3-1/h1-4H2',\n 'reactions[9].workups[9].input.components[1].amount.volume.value': 20.0,\n 'reactions[9].workups[9].input.components[1].amount.volume.units': 'MILLILITER',\n 'reactions[9].workups[9].input.components[1].reaction_role': 'WORKUP',\n 'reactions[9].workups[10].type': 'ADDITION',\n 'reactions[9].workups[10].details': '80 μl of ion-exchange water, 80 of 15 wt % of aqueous potassium hydride solution, and 240 μl of ion-exchange water were added so as',\n 'reactions[9].workups[10].input.components[0].identifiers[0].type': 'NAME',\n 'reactions[9].workups[10].input.components[0].identifiers[0].value': 'ion-exchange',\n 'reactions[9].workups[10].input.components[0].amount.volume.value': 80.0,\n 'reactions[9].workups[10].input.components[0].amount.volume.units': 'MICROLITER',\n 'reactions[9].workups[10].input.components[0].reaction_role': 'WORKUP',\n 'reactions[9].workups[10].input.components[1].identifiers[0].type': 'NAME',\n 'reactions[9].workups[10].input.components[1].identifiers[0].value': 'water',\n 'reactions[9].workups[10].input.components[1].identifiers[1].type': 'SMILES',\n 'reactions[9].workups[10].input.components[1].identifiers[1].value': 'O',\n 'reactions[9].workups[10].input.components[1].identifiers[2].type': 'INCHI',\n 'reactions[9].workups[10].input.components[1].identifiers[2].value': 'InChI=1S/H2O/h1H2',\n 'reactions[9].workups[10].input.components[1].amount.moles.value': 0.0,\n 'reactions[9].workups[10].input.components[1].amount.moles.precision': 1.0,\n 'reactions[9].workups[10].input.components[1].amount.moles.units': 'MOLE',\n 'reactions[9].workups[10].input.components[1].reaction_role': 'WORKUP',\n 'reactions[9].workups[10].input.components[2].identifiers[0].type': 'NAME',\n 'reactions[9].workups[10].input.components[2].identifiers[0].value': 'potassium hydride',\n 'reactions[9].workups[10].input.components[2].identifiers[1].type': 'SMILES',\n 'reactions[9].workups[10].input.components[2].identifiers[1].value': '[H-].[K+]',\n 'reactions[9].workups[10].input.components[2].identifiers[2].type': 'INCHI',\n 'reactions[9].workups[10].input.components[2].identifiers[2].value': 'InChI=1S/K.H/q+1;-1',\n 'reactions[9].workups[10].input.components[2].amount.moles.value': 0.0,\n 'reactions[9].workups[10].input.components[2].amount.moles.precision': 1.0,\n 'reactions[9].workups[10].input.components[2].amount.moles.units': 'MOLE',\n 'reactions[9].workups[10].input.components[2].reaction_role': 'WORKUP',\n 'reactions[9].workups[10].input.components[3].identifiers[0].type': 'NAME',\n 'reactions[9].workups[10].input.components[3].identifiers[0].value': 'ion-exchange',\n 'reactions[9].workups[10].input.components[3].amount.volume.value': 240.0,\n 'reactions[9].workups[10].input.components[3].amount.volume.units': 'MICROLITER',\n 'reactions[9].workups[10].input.components[3].reaction_role': 'WORKUP',\n 'reactions[9].workups[10].input.components[4].identifiers[0].type': 'NAME',\n 'reactions[9].workups[10].input.components[4].identifiers[0].value': 'water',\n 'reactions[9].workups[10].input.components[4].identifiers[1].type': 'SMILES',\n 'reactions[9].workups[10].input.components[4].identifiers[1].value': 'O',\n 'reactions[9].workups[10].input.components[4].identifiers[2].type': 'INCHI',\n 'reactions[9].workups[10].input.components[4].identifiers[2].value': 'InChI=1S/H2O/h1H2',\n 'reactions[9].workups[10].input.components[4].amount.moles.value': 0.0,\n 'reactions[9].workups[10].input.components[4].amount.moles.precision': 1.0,\n 'reactions[9].workups[10].input.components[4].amount.moles.units': 'MOLE',\n 'reactions[9].workups[10].input.components[4].reaction_role': 'WORKUP',\n 'reactions[9].workups[11].type': 'CUSTOM',\n 'reactions[9].workups[11].details': 'the reaction',\n 'reactions[9].workups[12].type': 'CUSTOM',\n 'reactions[9].workups[12].details': 'The precipitate generated was removed by filtration',\n 'reactions[9].workups[13].type': 'DISTILLATION',\n 'reactions[9].workups[13].details': 'the solvent of the filtrate was distilled away under reduced pressure',\n 'reactions[9].workups[14].type': 'CUSTOM',\n 'reactions[9].workups[14].details': 'The solid obtained',\n 'reactions[9].workups[15].type': 'WASH',\n 'reactions[9].workups[15].details': 'was washed twice with 30 ml of ion-exchange water',\n 'reactions[9].workups[15].input.components[0].identifiers[0].type': 'NAME',\n 'reactions[9].workups[15].input.components[0].identifiers[0].value': 'ion-exchange',\n 'reactions[9].workups[15].input.components[0].amount.volume.value': 30.0,\n 'reactions[9].workups[15].input.components[0].amount.volume.units': 'MILLILITER',\n 'reactions[9].workups[15].input.components[0].reaction_role': 'WORKUP',\n 'reactions[9].workups[15].input.components[1].identifiers[0].type': 'NAME',\n 'reactions[9].workups[15].input.components[1].identifiers[0].value': 'water',\n 'reactions[9].workups[15].input.components[1].identifiers[1].type': 'SMILES',\n 'reactions[9].workups[15].input.components[1].identifiers[1].value': 'O',\n ...}"
     },
     "execution_count": 17,
     "metadata": {},
     "output_type": "execute_result"
    }
   ],
   "source": [
    "%%time\n",
    "message_helpers.message_to_row(dataset)"
   ],
   "metadata": {
    "collapsed": false
   }
  },
  {
   "cell_type": "code",
   "execution_count": 18,
   "outputs": [
    {
     "name": "stdout",
     "output_type": "stream",
     "text": [
      "CPU times: total: 0 ns\n",
      "Wall time: 4.94 ms\n"
     ]
    },
    {
     "data": {
      "text/plain": "identifiers {\n  type: REACTION_CXSMILES\n  value: \"Br[C:2]1[CH:7]=[CH:6][C:5]([OH:8])=[CH:4][C:3]=1[F:9].[F:10][C:11]1[CH:12]=[C:13](B(O)O)[CH:14]=[C:15]([F:17])[CH:16]=1.C(=O)([O-])[O-].[K+].[K+].CC(O)C>Cl[Pd](Cl)([P](C1C=CC=CC=1)(C1C=CC=CC=1)C1C=CC=CC=1)[P](C1C=CC=CC=1)(C1C=CC=CC=1)C1C=CC=CC=1.C1(C)C=CC=CC=1.O>[OH:8][C:5]1[CH:6]=[CH:7][C:2]([C:13]2[CH:12]=[C:11]([F:10])[CH:16]=[C:15]([F:17])[CH:14]=2)=[C:3]([F:9])[CH:4]=1 |f:2.3.4,^1:33,52|\"\n  is_mapped: true\n}\ninputs {\n  key: \"m1_m2_m3_m5_m4\"\n  value {\n    components {\n      identifiers {\n        type: NAME\n        value: \"4-Bromo-3-fluorophenol\"\n      }\n      identifiers {\n        type: SMILES\n        value: \"BrC1=C(C=C(C=C1)O)F\"\n      }\n      identifiers {\n        type: INCHI\n        value: \"InChI=1S/C6H4BrFO/c7-5-2-1-4(9)3-6(5)8/h1-3,9H\"\n      }\n      amount {\n        mass {\n          value: 50.0\n          units: GRAM\n        }\n      }\n      reaction_role: REACTANT\n    }\n    components {\n      identifiers {\n        type: NAME\n        value: \"3,5-difluorophenylboronic acid\"\n      }\n      identifiers {\n        type: SMILES\n        value: \"FC=1C=C(C=C(C1)F)B(O)O\"\n      }\n      identifiers {\n        type: INCHI\n        value: \"InChI=1S/C6H5BF2O2/c8-5-1-4(7(10)11)2-6(9)3-5/h1-3,10-11H\"\n      }\n      amount {\n        mass {\n          value: 45.5\n          units: GRAM\n        }\n      }\n      reaction_role: REACTANT\n    }\n    components {\n      identifiers {\n        type: NAME\n        value: \"potassium carbonate\"\n      }\n      identifiers {\n        type: SMILES\n        value: \"C([O-])([O-])=O.[K+].[K+]\"\n      }\n      identifiers {\n        type: INCHI\n        value: \"InChI=1S/CH2O3.2K/c2-1(3)4;;/h(H2,2,3,4);;/q;2*+1/p-2\"\n      }\n      amount {\n        mass {\n          value: 72.4000015258789\n          units: GRAM\n        }\n      }\n      reaction_role: REACTANT\n    }\n    components {\n      identifiers {\n        type: NAME\n        value: \"2-propanol\"\n      }\n      identifiers {\n        type: SMILES\n        value: \"CC(C)O\"\n      }\n      identifiers {\n        type: INCHI\n        value: \"InChI=1S/C3H8O/c1-3(2)4/h3-4H,1-2H3\"\n      }\n      amount {\n        volume {\n          value: 500.0\n          units: MILLILITER\n        }\n      }\n      reaction_role: REACTANT\n    }\n    components {\n      identifiers {\n        type: NAME\n        value: \"Pd(Ph3P)2Cl2\"\n      }\n      identifiers {\n        type: SMILES\n        value: \"Cl[Pd]([P](C1=CC=CC=C1)(C2=CC=CC=C2)C3=CC=CC=C3)([P](C4=CC=CC=C4)(C5=CC=CC=C5)C6=CC=CC=C6)Cl\"\n      }\n      identifiers {\n        type: INCHI\n        value: \"InChI=1S/2C18H15P.2ClH.Pd/c2*1-4-10-16(11-5-1)19(17-12-6-2-7-13-17)18-14-8-3-9-15-18;;;/h2*1-15H;2*1H;/q;;;;+2/p-2\"\n      }\n      amount {\n        mass {\n          value: 5.519999980926514\n          units: GRAM\n        }\n      }\n      reaction_role: CATALYST\n    }\n  }\n}\ninputs {\n  key: \"m6\"\n  value {\n    components {\n      identifiers {\n        type: NAME\n        value: \"Toluene\"\n      }\n      identifiers {\n        type: SMILES\n        value: \"C1(=CC=CC=C1)C\"\n      }\n      identifiers {\n        type: INCHI\n        value: \"InChI=1S/C7H8/c1-7-5-3-2-4-6-7/h2-6H,1H3\"\n      }\n      amount {\n        volume {\n          value: 500.0\n          units: MILLILITER\n        }\n      }\n      reaction_role: SOLVENT\n    }\n  }\n}\ninputs {\n  key: \"m7\"\n  value {\n    components {\n      identifiers {\n        type: NAME\n        value: \"water\"\n      }\n      identifiers {\n        type: SMILES\n        value: \"O\"\n      }\n      identifiers {\n        type: INCHI\n        value: \"InChI=1S/H2O/h1H2\"\n      }\n      amount {\n        volume {\n          value: 500.0\n          units: MILLILITER\n        }\n      }\n      reaction_role: SOLVENT\n    }\n  }\n}\nconditions {\n  temperature {\n    setpoint {\n      value: 25.0\n      units: CELSIUS\n    }\n  }\n  conditions_are_dynamic: true\n  details: \"See reaction.notes.procedure_details.\"\n}\nnotes {\n  procedure_details: \"4-Bromo-3-fluorophenol (T-1) (50.0 g), 3,5-difluorophenylboronic acid (45.5 g), potassium carbonate (72.4 g), Pd(Ph3P)2Cl2 (5.52 g) and 2-propanol (500 ml) were put in a reaction vessel and heated to reflux for 5 hours under an atmosphere of nitrogen. After the reaction solution had been cooled to 25\\302\\260 C., it was poured into water (500 ml) and mixed with it. Toluene (500 ml) was added to the solution to separate organic and aqueous phases, and extraction was carried out. The combined organic phase was washed with water and dried over anhydrous magnesium sulfate. The resulting solution was concentrated under reduced pressure and the residue was purified with a fractional operation by means of column chromatography (silica gel; toluene). The product was further purified by recrystallization from a mixed solvent of heptane/Solmix A-11 and dried, giving 4-hydroxy-2,3\\342\\200\\262,5\\342\\200\\262-trifluoro-1,1\\342\\200\\262-biphenyl (T-2) (43.4 g). The yield based on the compound (T-1) was 74%.\"\n}\nworkups {\n  type: TEMPERATURE\n  details: \"heated\"\n}\nworkups {\n  type: TEMPERATURE\n  details: \"to reflux for 5 hours under an atmosphere of nitrogen\"\n  duration {\n    value: 5.0\n    units: HOUR\n  }\n}\nworkups {\n  type: ADDITION\n  details: \"mixed with it\"\n}\nworkups {\n  type: CUSTOM\n  details: \"to separate organic\"\n}\nworkups {\n  type: EXTRACTION\n  details: \"aqueous phases, and extraction\"\n}\nworkups {\n  type: WASH\n  details: \"The combined organic phase was washed with water\"\n  input {\n    components {\n      identifiers {\n        type: NAME\n        value: \"water\"\n      }\n      identifiers {\n        type: SMILES\n        value: \"O\"\n      }\n      identifiers {\n        type: INCHI\n        value: \"InChI=1S/H2O/h1H2\"\n      }\n      amount {\n        moles {\n          value: 0.0\n          precision: 1.0\n          units: MOLE\n        }\n      }\n      reaction_role: WORKUP\n    }\n  }\n}\nworkups {\n  type: DRY_WITH_MATERIAL\n  details: \"dried over anhydrous magnesium sulfate\"\n  input {\n    components {\n      identifiers {\n        type: NAME\n        value: \"magnesium sulfate\"\n      }\n      identifiers {\n        type: SMILES\n        value: \"S(=O)(=O)([O-])[O-].[Mg+2]\"\n      }\n      identifiers {\n        type: INCHI\n        value: \"InChI=1S/Mg.H2O4S/c;1-5(2,3)4/h;(H2,1,2,3,4)/q+2;/p-2\"\n      }\n      amount {\n        moles {\n          value: 0.0\n          precision: 1.0\n          units: MOLE\n        }\n      }\n      reaction_role: WORKUP\n    }\n  }\n}\nworkups {\n  type: CONCENTRATION\n  details: \"The resulting solution was concentrated under reduced pressure\"\n}\nworkups {\n  type: CUSTOM\n  details: \"the residue was purified with a fractional operation by means of column chromatography (silica gel; toluene)\"\n  input {\n    components {\n      identifiers {\n        type: NAME\n        value: \"toluene\"\n      }\n      identifiers {\n        type: SMILES\n        value: \"C1(=CC=CC=C1)C\"\n      }\n      identifiers {\n        type: INCHI\n        value: \"InChI=1S/C7H8/c1-7-5-3-2-4-6-7/h2-6H,1H3\"\n      }\n      amount {\n        moles {\n          value: 0.0\n          precision: 1.0\n          units: MOLE\n        }\n      }\n      reaction_role: WORKUP\n    }\n  }\n}\nworkups {\n  type: CUSTOM\n  details: \"The product was further purified by recrystallization from a mixed solvent of heptane/Solmix A-11\"\n  input {\n    components {\n      identifiers {\n        type: NAME\n        value: \"heptane\"\n      }\n      identifiers {\n        type: SMILES\n        value: \"CCCCCCC\"\n      }\n      identifiers {\n        type: INCHI\n        value: \"InChI=1S/C7H16/c1-3-5-7-6-4-2/h3-7H2,1-2H3\"\n      }\n      amount {\n        moles {\n          value: 0.0\n          precision: 1.0\n          units: MOLE\n        }\n      }\n      reaction_role: WORKUP\n    }\n  }\n}\nworkups {\n  type: CUSTOM\n  details: \"dried\"\n}\noutcomes {\n  products {\n    identifiers {\n      type: NAME\n      value: \"4-hydroxy-2,3\\342\\200\\262,5\\342\\200\\262-trifluoro-1,1\\342\\200\\262-biphenyl\"\n    }\n    identifiers {\n      type: SMILES\n      value: \"OC1=CC(=C(C=C1)C1=CC(=CC(=C1)F)F)F\"\n    }\n    identifiers {\n      type: INCHI\n      value: \"InChI=1S/C12H7F3O/c13-8-3-7(4-9(14)5-8)11-2-1-10(16)6-12(11)15/h1-6,16H\"\n    }\n    measurements {\n      type: AMOUNT\n      details: \"MASS\"\n      amount {\n        mass {\n          value: 43.400001525878906\n          units: GRAM\n        }\n      }\n    }\n    measurements {\n      type: YIELD\n      details: \"CALCULATEDPERCENTYIELD\"\n      percentage {\n        value: 74.0\n      }\n    }\n    reaction_role: PRODUCT\n  }\n}\nprovenance {\n  doi: \"10.6084/m9.figshare.5104873.v1\"\n  patent: \"US08475888B2\"\n  record_created {\n    time {\n      value: \"2022-12-02 19:59:54.275713\"\n    }\n    person {\n      username: \"skearnes\"\n      name: \"Steven Kearnes\"\n      orcid: \"0000-0003-4579-4388\"\n      organization: \"Google LLC\"\n      email: \"kearnes@google.com\"\n    }\n  }\n  record_modified {\n    time {\n      value: \"Mon Dec  5 19:11:33 2022\"\n    }\n    person {\n      username: \"github-actions\"\n      email: \"github-actions@github.com\"\n    }\n    details: \"Automatic updates from the submission pipeline.\"\n  }\n}\nreaction_id: \"ord-f6431f45bf2b4cfe8d41b1b94bcf3602\""
     },
     "execution_count": 18,
     "metadata": {},
     "output_type": "execute_result"
    }
   ],
   "source": [
    "%%time\n",
    "rxn_msg_list = message_helpers.find_submessages(dataset, reaction_pb2.Reaction)\n",
    "rxn_msg_list[50]"
   ],
   "metadata": {
    "collapsed": false
   }
  },
  {
   "cell_type": "code",
   "execution_count": 19,
   "outputs": [
    {
     "data": {
      "text/plain": "type: SMILES\nvalue: \"BrC1=C(C=C(C=C1)O)F\""
     },
     "execution_count": 19,
     "metadata": {},
     "output_type": "execute_result"
    }
   ],
   "source": [
    "cmpds = message_helpers.find_submessages(rxn_msg_list[50], reaction_pb2.Compound)\n",
    "cmpds[1].identifiers[1]"
   ],
   "metadata": {
    "collapsed": false
   }
  },
  {
   "cell_type": "code",
   "execution_count": 20,
   "outputs": [
    {
     "name": "stdout",
     "output_type": "stream",
     "text": [
      "Dataset uspto-grants-2014_09 loaded in 0.98s\n",
      "Dataset uspto-grants-2014_09 parsed in 3.32s\n",
      "(80000, 2)\n",
      "Total reactions parsed 17639\n",
      "CPU times: total: 4.3 s\n",
      "Wall time: 4.3 s\n"
     ]
    },
    {
     "data": {
      "text/plain": "array([['Hydrochloric acid', 'Cl'],\n       ['3-amino-2-naphthol', 'NC=1C(=CC2=CC=CC=C2C1)O'],\n       ['sodium carbonate', 'C([O-])([O-])=O.[Na+].[Na+]'],\n       ...,\n       ['', ''],\n       ['', ''],\n       ['', '']], dtype='<U512')"
     },
     "execution_count": 20,
     "metadata": {},
     "output_type": "execute_result"
    }
   ],
   "source": [
    "%%time\n",
    "from time import time\n",
    "reactants = np.empty((80000, 2), dtype='<U512')\n",
    "# reactant_smiles = np.empty((80000, 2), dtype='U256')\n",
    "# reactant_smiles = np.char.array([\"\"])\n",
    "reactants_df = pd.DataFrame(columns=['name', 'smiles'])\n",
    "\n",
    "start = time()\n",
    "pb = glob(f'{ORD_REPO_PATH}/data/*/*c3c1091f873b4f40827973a6f1f9b685.pb.gz')[0]\n",
    "# dataset = message_helpers.load_message(pb, dataset_pb2.Dataset)\n",
    "dataset = load_dataset(pb)\n",
    "print(f\"Dataset {dataset.name} loaded in {time() - start:.2f}s\", )\n",
    "\n",
    "start = time()\n",
    "idx = 0\n",
    "\n",
    "for rxn in message_helpers.find_submessages(dataset, reaction_pb2.Reaction):\n",
    "    cmpds = message_helpers.find_submessages(rxn, reaction_pb2.Compound)\n",
    "    for cmpd in cmpds:\n",
    "        if cmpd.reaction_role == reaction_pb2.ReactionRole.REACTANT:\n",
    "            name = message_helpers.get_compound_identifier(cmpd, reaction_pb2.CompoundIdentifier.NAME)\n",
    "            smiles = message_helpers.get_compound_identifier(cmpd, reaction_pb2.CompoundIdentifier.SMILES)\n",
    "            # print(name)\n",
    "            # reactants = np.append(reactants, [[name, smiles]], axis=0)\n",
    "            # reactants[idx] = [name, smiles]\n",
    "            reactants[idx, 0] = name\n",
    "            reactants[idx, 1] = smiles\n",
    "            # reactants_df.loc[len(reactants_df), reactants_df.columns] = name, smiles\n",
    "            idx += 1\n",
    "\n",
    "print(f\"Dataset {dataset.name} parsed in {time() - start:.2f}s\", )\n",
    "\n",
    "print(reactants.shape)\n",
    "print(\"Total reactions parsed\", len(dataset.reactions))\n",
    "reactants"
   ],
   "metadata": {
    "collapsed": false
   }
  },
  {
   "cell_type": "code",
   "execution_count": 21,
   "outputs": [
    {
     "name": "stdout",
     "output_type": "stream",
     "text": [
      "<class 'pandas.core.frame.DataFrame'>\n",
      "Index: 0 entries\n",
      "Data columns (total 2 columns):\n",
      " #   Column  Non-Null Count  Dtype \n",
      "---  ------  --------------  ----- \n",
      " 0   name    0 non-null      object\n",
      " 1   smiles  0 non-null      object\n",
      "dtypes: object(2)\n",
      "memory usage: 0.0+ bytes\n"
     ]
    }
   ],
   "source": [
    "reactants_df.info()"
   ],
   "metadata": {
    "collapsed": false
   }
  },
  {
   "cell_type": "code",
   "execution_count": 22,
   "outputs": [
    {
     "data": {
      "text/plain": "                   name          smiles\n0  trifluoroacetic acid  FC(C(=O)O)(F)F",
      "text/html": "<div>\n<style scoped>\n    .dataframe tbody tr th:only-of-type {\n        vertical-align: middle;\n    }\n\n    .dataframe tbody tr th {\n        vertical-align: top;\n    }\n\n    .dataframe thead th {\n        text-align: right;\n    }\n</style>\n<table border=\"1\" class=\"dataframe\">\n  <thead>\n    <tr style=\"text-align: right;\">\n      <th></th>\n      <th>name</th>\n      <th>smiles</th>\n    </tr>\n  </thead>\n  <tbody>\n    <tr>\n      <th>0</th>\n      <td>trifluoroacetic acid</td>\n      <td>FC(C(=O)O)(F)F</td>\n    </tr>\n  </tbody>\n</table>\n</div>"
     },
     "execution_count": 22,
     "metadata": {},
     "output_type": "execute_result"
    }
   ],
   "source": [
    "reactants_df = pd.DataFrame(columns=['name', 'smiles'])\n",
    "reactants_df.loc[0, reactants_df.columns] = name, smiles\n",
    "reactants_df.head()"
   ],
   "metadata": {
    "collapsed": false
   }
  },
  {
   "cell_type": "code",
   "execution_count": 23,
   "outputs": [
    {
     "data": {
      "text/plain": "                   name          smiles\n0  trifluoroacetic acid  FC(C(=O)O)(F)F",
      "text/html": "<div>\n<style scoped>\n    .dataframe tbody tr th:only-of-type {\n        vertical-align: middle;\n    }\n\n    .dataframe tbody tr th {\n        vertical-align: top;\n    }\n\n    .dataframe thead th {\n        text-align: right;\n    }\n</style>\n<table border=\"1\" class=\"dataframe\">\n  <thead>\n    <tr style=\"text-align: right;\">\n      <th></th>\n      <th>name</th>\n      <th>smiles</th>\n    </tr>\n  </thead>\n  <tbody>\n    <tr>\n      <th>0</th>\n      <td>trifluoroacetic acid</td>\n      <td>FC(C(=O)O)(F)F</td>\n    </tr>\n  </tbody>\n</table>\n</div>"
     },
     "execution_count": 23,
     "metadata": {},
     "output_type": "execute_result"
    }
   ],
   "source": [
    "reactants_df"
   ],
   "metadata": {
    "collapsed": false
   }
  },
  {
   "cell_type": "code",
   "execution_count": 24,
   "outputs": [
    {
     "data": {
      "text/plain": "'bb'"
     },
     "execution_count": 24,
     "metadata": {},
     "output_type": "execute_result"
    }
   ],
   "source": [
    "idx = 0\n",
    "reactants[idx] = \"ac\"\n",
    "reactants[idx, 1] = \"bb\"\n",
    "# reactants[0] = name, smiles\n",
    "reactants[idx, 1]"
   ],
   "metadata": {
    "collapsed": false
   }
  },
  {
   "cell_type": "code",
   "execution_count": 25,
   "outputs": [
    {
     "name": "stdout",
     "output_type": "stream",
     "text": [
      "327680000\n"
     ]
    },
    {
     "data": {
      "text/plain": "array(['(2S,3S,4S,5R,6R)-benzyl 6-((4-((1R,3aS,5aR,5bR,7aR,11aS,11bR,13aR,13bR)-3a-((2-(1,1-dioxidothiomorpholino)ethyl)amino)-5a,5b,8,8,11a-pentamethyl-1-(prop-1-en-2-yl)-2,3,3a,4,5,5a,5b,6,7,7a,8,11,11a,11b,12,13,13a,13b-octadecahydro-1H-cyclopenta[a]chrysen-9-yl)benzoyl)oxy)-3,4,5-trihydroxytetrahydro-2H-pyran-2-carboxylate',\n       'O=S1(CCN(CC1)CCN[C@]12[C@@H]([C@H]3CC[C@@H]4[C@]5(CC=C(C([C@@H]5CC[C@]4([C@@]3(CC1)C)C)(C)C)C1=CC=C(C(=O)O[C@@H]3[C@@H]([C@H]([C@@H]([C@H](O3)C(=O)OCC3=CC=CC=C3)O)O)O)C=C1)C)[C@@H](CC2)C(=C)C)=O'],\n      dtype='<U512')"
     },
     "execution_count": 25,
     "metadata": {},
     "output_type": "execute_result"
    }
   ],
   "source": [
    "print(reactants.nbytes)\n",
    "reactants[np.char.str_len(reactants[:, 0]).argmax()]"
   ],
   "metadata": {
    "collapsed": false
   }
  }
 ],
 "metadata": {
  "kernelspec": {
   "display_name": "Python 3",
   "language": "python",
   "name": "python3"
  },
  "language_info": {
   "codemirror_mode": {
    "name": "ipython",
    "version": 2
   },
   "file_extension": ".py",
   "mimetype": "text/x-python",
   "name": "python",
   "nbconvert_exporter": "python",
   "pygments_lexer": "ipython2",
   "version": "2.7.6"
  }
 },
 "nbformat": 4,
 "nbformat_minor": 0
}
