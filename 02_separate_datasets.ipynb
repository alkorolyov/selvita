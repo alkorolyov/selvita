{
 "cells": [
  {
   "cell_type": "code",
   "execution_count": 2,
   "metadata": {
    "collapsed": true
   },
   "outputs": [],
   "source": [
    "import pandas as pd\n",
    "import numpy as np\n",
    "from ord_data_load import ORD_PATH, ORD_REPO_PATH\n",
    "\n",
    "pd.set_option('display.max_rows', 500)\n",
    "pd.set_option('display.max_columns', 500)\n",
    "pd.set_option('display.width', 1000)\n",
    "\n",
    "#to disable warnings\n",
    "from rdkit import RDLogger\n",
    "RDLogger.DisableLog('rdApp.*')\n",
    "\n",
    "%load_ext autoreload\n",
    "%autoreload 2"
   ]
  },
  {
   "cell_type": "code",
   "execution_count": 2,
   "outputs": [],
   "source": [
    "# all_reactions = pd.read_pickle(f\"{ORD_PATH}/all_reactions.pkl\")"
   ],
   "metadata": {
    "collapsed": false
   }
  },
  {
   "cell_type": "markdown",
   "source": [
    "#TODO treat those datasets separately\n",
    "\n",
    "# Datasets of interest\n",
    "\n",
    "### 1) Pd CAT REACTIONS DATASETS (500-5k cmpds, Good quality, quantitative)\n",
    "\n",
    "750 Buchwald-Hartwig reactions generated from AstraZeneca ELN which is used in yield prediction work\n",
    "*\"Graph Neural Networks for Predicting Chemical Reaction Performance\"*\n",
    "[https://doi.org/10.26434/chemrxiv.14589498.v2](https://doi.org/10.26434/chemrxiv.14589498.v2)\n",
    "[ord_dataset-00005539a1e04c809a9a78647bea649c](https://open-reaction-database.org/client/search?dataset_ids=ord_dataset-00005539a1e04c809a9a78647bea649c)\n",
    "\n",
    "\n",
    "1536 reactions using HTS with Pd cat. Good quality quantitative data.\n",
    "*\"Nanomole-scale high-throughput chemistry for the synthesis of complex molecules\"*\n",
    "[https://doi.org/10.1126/science.1259203](https://doi.org/10.1126/science.1259203)\n",
    "[ord_dataset-7d8f5fd922d4497d91cb81489b052746](https://open-reaction-database.org/client/search?dataset_ids=ord_dataset-7d8f5fd922d4497d91cb81489b052746)\n",
    "\n",
    "5760 Suzuki reactions. Quantitative data. Single scaffold [6-quin]-[4-benzIm]\n",
    "*A platform for automated nanomole-scale reaction screening and micromole-scale synthesis in flow*\n",
    "[https://doi.org/10.1126/science.aap9112](https://doi.org/10.1126/science.aap9112)\n",
    "```ord_dataset-68cb8b4b2b384e3d85b5b1efae58b203```\n",
    "\n",
    "376 Suzuki reactions. Quantitative data.\n",
    "Same as scaffold as ```ord_dataset-68cb8b4b2b384e3d85b5b1efae58b203```\n",
    "[6-quin]-[4-benzIm], but with multiple outcomes as byproducts.\n",
    "```ord_dataset-eeba974d3c284aed86d1c1d442260a1e```\n",
    "\n",
    "\n",
    "4312 C-N cross-coupling reactions. Quantitative data. Single scaffold [Ph-NH-Ph].\n",
    "Different heterocycles - B, Si etc.\n",
    "*\"Predicting reaction performance in C–N cross-coupling using machine learning\"*\n",
    "[https://doi.org/10.1126/science.aar5169](https://doi.org/10.1126/science.aar5169)\n",
    "```ord_dataset-46ff9a32d9e04016b9380b1b1ef949c3```\n",
    "\n",
    "\n",
    "288 Buchwald reactions. Quantitative data. Single reaction:\n",
    "[3-Br-py + 4-Ph-THPyrazine]\n",
    "```ord_dataset-cbcc4048add7468e850b6ec42549c70d```\n",
    "\n",
    "\n",
    "450 Pd/Ni cat reactions. Might be usable. Single Scaffold [Ph-Ph]\n",
    "*\"Linking Mechanistic Analysis of Catalytic Reactivity Cliffs to Ligand Classification\"*\n",
    "[https://doi.org/10.26434/chemrxiv.14388557.v1](https://doi.org/10.26434/chemrxiv.14388557.v1)\n",
    "```ord_dataset-3b5db90e337942ea886b8f5bc5e3aa72```\n",
    "\n",
    "### 2) 500k REACTIONS, NO CONDITIONS, CLEANED SINGLE DATASET.\n",
    "\n",
    "500k reactions. Split to train and test. Different reaction classes. No conditions\n",
    "*\"A graph-convolutional neural network model for the prediction of chemical reactivity\"*\n",
    "[https://doi.org/10.1039/C8SC04228D](https://doi.org/10.1039/C8SC04228D)\n",
    "```\n",
    "ord_dataset-de0979205c84441190feef587fef8d6d\n",
    "ord_dataset-488402f6ec0d441ca2f7d6fabea7c220\n",
    "ord_dataset-5481550056a14935b76e031fb94b88be\n",
    "```\n",
    "\n",
    "### 3) USPTO DATABASE ~1.7kk reactions. Needs cleaning. Raw data\n",
    "Non-zero \"patent\" field\n",
    "\n",
    "\n",
    "### 4) everything else - Low quality or small datasets\n",
    "\n",
    "1728 low variability data.\n",
    "*Nano CN PhotoChemistry Informers Library*\n",
    "```ord_dataset-ac78456835404910b3a4c840248b6ac9```\n",
    "\n",
    "\n",
    "1728 + 256 quantitative data. Imidazole arylation. Single reaction.\n",
    "https://doi.org/10.1038/s41586-021-03213-y\n",
    "```ord_dataset-d26118acda314269becc35db5c22dc59```\n",
    "```ord_dataset-0c75d67751634f0594b24b9f498b77c2```\n",
    "\n",
    "\n"
   ],
   "metadata": {
    "collapsed": false
   }
  },
  {
   "cell_type": "code",
   "execution_count": 3,
   "outputs": [],
   "source": [
    "# uspto_df = all_reactions.loc[~all_reactions.patent.isna()]\n",
    "# uspto_df"
   ],
   "metadata": {
    "collapsed": false
   }
  },
  {
   "cell_type": "code",
   "execution_count": 3,
   "outputs": [],
   "source": [
    "from glob import glob\n",
    "import os\n",
    "import multiprocessing as mp\n",
    "import gzip\n",
    "from google import protobuf\n",
    "\n",
    "from ord_schema import message_helpers\n",
    "from ord_schema.proto import dataset_pb2\n",
    "from ord_schema.proto import reaction_pb2"
   ],
   "metadata": {
    "collapsed": false
   }
  },
  {
   "cell_type": "code",
   "execution_count": 4,
   "outputs": [
    {
     "name": "stdout",
     "output_type": "stream",
     "text": [
      "515 / 515: parsing dataset 134.3s\n"
     ]
    }
   ],
   "source": [
    "from time import time\n",
    "from ord_data_load import load_dataset, filter_uspto_filenames\n",
    "\n",
    "# uspto_filenames = []\n",
    "# N = len(glob(f'{ORD_REPO_PATH}/data/*/*.pb.gz'))\n",
    "#\n",
    "# start = time()\n",
    "# for i, pb in enumerate(glob(f'{ORD_REPO_PATH}/data/*/*.pb.gz'), 1):\n",
    "#     print(f\"{i:3d} / {N}: parsing dataset {time() - start:.1f}s\", end=\"\\r\")\n",
    "#     dataset = load_dataset(pb)\n",
    "#     if \"uspto\" in dataset.name:\n",
    "#         uspto_filenames.append(pb)\n",
    "#\n",
    "# len(uspto_filenames)\n",
    "\n",
    "print(\"515 / 515: parsing dataset 134.3s\")"
   ],
   "metadata": {
    "collapsed": false
   }
  },
  {
   "cell_type": "code",
   "execution_count": 5,
   "outputs": [
    {
     "name": "stdout",
     "output_type": "stream",
     "text": [
      "Wall time: 30.6 s\n"
     ]
    },
    {
     "data": {
      "text/plain": "0                                                   None\n1      ./ord-data/data\\01\\ord_dataset-018fd0e1351f4fd...\n2      ./ord-data/data\\01\\ord_dataset-01dbb772c5e2491...\n3      ./ord-data/data\\02\\ord_dataset-02ee22616630481...\n4      ./ord-data/data\\03\\ord_dataset-0387783899c642a...\n                             ...                        \n510    ./ord-data/data\\fd\\ord_dataset-fdef1f30cad6443...\n511    ./ord-data/data\\fe\\ord_dataset-fe016e2f90e741a...\n512    ./ord-data/data\\fe\\ord_dataset-fea3ada7aaad45a...\n513    ./ord-data/data\\ff\\ord_dataset-ff0bcb6c2300494...\n514    ./ord-data/data\\ff\\ord_dataset-ffbef48837674f3...\nLength: 515, dtype: object"
     },
     "execution_count": 5,
     "metadata": {},
     "output_type": "execute_result"
    }
   ],
   "source": [
    "%%time\n",
    "n_cores = 24\n",
    "\n",
    "with mp.Pool(n_cores) as p:\n",
    "    uspto_filenames = p.map(filter_uspto_filenames, glob(f'{ORD_REPO_PATH}/data/*/*.pb.gz'))\n",
    "\n",
    "pd.Series(uspto_filenames)"
   ],
   "metadata": {
    "collapsed": false
   }
  },
  {
   "cell_type": "code",
   "execution_count": 6,
   "outputs": [],
   "source": [
    "# save results\n",
    "uspto_files = pd.Series(uspto_filenames).dropna() #.apply(lambda x: os.path.basename(x).split(\".\")[0])\n",
    "uspto_files.to_csv(f\"{ORD_PATH}/uspto_files.csv\", index=False, header=False)"
   ],
   "metadata": {
    "collapsed": false
   }
  },
  {
   "cell_type": "code",
   "execution_count": 7,
   "outputs": [
    {
     "data": {
      "text/plain": "'./ord-data/data\\\\48\\\\ord_dataset-48929f64ce614f1181a555eafd7c97a6.pb.gz'"
     },
     "execution_count": 7,
     "metadata": {},
     "output_type": "execute_result"
    }
   ],
   "source": [
    "uspto_files = pd.read_csv(f\"{ORD_PATH}/uspto_files.csv\").squeeze(\"columns\")\n",
    "\n",
    "pb = uspto_files.sample().iat[0]\n",
    "pb"
   ],
   "metadata": {
    "collapsed": false
   }
  },
  {
   "cell_type": "code",
   "execution_count": 8,
   "outputs": [],
   "source": [
    "dataset = load_dataset(pb)"
   ],
   "metadata": {
    "collapsed": false
   }
  },
  {
   "cell_type": "code",
   "execution_count": 9,
   "outputs": [
    {
     "name": "stdout",
     "output_type": "stream",
     "text": [
      "name\n",
      "description\n",
      "reactions\n",
      "dataset_id\n"
     ]
    }
   ],
   "source": [
    "for field, value in dataset.ListFields():\n",
    "    print(field.name)\n",
    "\n",
    "# print(dataset.description)\n",
    "# print(len(dataset.reactions))"
   ],
   "metadata": {
    "collapsed": false
   }
  },
  {
   "cell_type": "code",
   "execution_count": 10,
   "outputs": [
    {
     "data": {
      "text/plain": "{'m4': components {\n  identifiers {\n    type: NAME\n    value: \"petrol-ether\"\n  }\n  amount {\n    volume {\n      value: 500.0\n      units: MILLILITER\n    }\n  }\n  reaction_role: REACTANT\n}\n, 'm1_m2_m3': components {\n  identifiers {\n    type: NAME\n    value: \"isophorone\"\n  }\n  identifiers {\n    type: SMILES\n    value: \"O=C1C=C(CC(C)(C)C1)C\"\n  }\n  identifiers {\n    type: INCHI\n    value: \"InChI=1S/C9H14O/c1-7-4-8(10)6-9(2,3)5-7/h4H,5-6H2,1-3H3\"\n  }\n  amount {\n    mass {\n      value: 13.819999694824219\n      units: GRAM\n    }\n  }\n  reaction_role: REACTANT\n}\ncomponents {\n  identifiers {\n    type: NAME\n    value: \"N-bromo-succinimide\"\n  }\n  identifiers {\n    type: SMILES\n    value: \"BrN1C(CCC1=O)=O\"\n  }\n  identifiers {\n    type: INCHI\n    value: \"InChI=1S/C4H4BrNO2/c5-6-3(7)1-2-4(6)8/h1-2H2\"\n  }\n  amount {\n    mass {\n      value: 17.799999237060547\n      units: GRAM\n    }\n  }\n  reaction_role: REACTANT\n}\ncomponents {\n  identifiers {\n    type: NAME\n    value: \"\\316\\261,\\316\\261\\'-azodiisobutyronitrile\"\n  }\n  identifiers {\n    type: SMILES\n    value: \"N(=NC(C#N)(C)C)C(C#N)(C)C\"\n  }\n  identifiers {\n    type: INCHI\n    value: \"InChI=1S/C8H12N4/c1-7(2,5-9)11-12-8(3,4)6-10/h1-4H3\"\n  }\n  amount {\n    moles {\n      value: 0.0\n      precision: 1.0\n      units: MOLE\n    }\n  }\n  reaction_role: REACTANT\n}\n, 'm5': components {\n  identifiers {\n    type: NAME\n    value: \"CCl4\"\n  }\n  identifiers {\n    type: SMILES\n    value: \"C(Cl)(Cl)(Cl)Cl\"\n  }\n  identifiers {\n    type: INCHI\n    value: \"InChI=1S/CCl4/c2-1(3,4)5\"\n  }\n  amount {\n    volume {\n      value: 500.0\n      units: MILLILITER\n    }\n  }\n  reaction_role: SOLVENT\n}\n}"
     },
     "execution_count": 10,
     "metadata": {},
     "output_type": "execute_result"
    }
   ],
   "source": [
    "dataset.reactions[2].inputs"
   ],
   "metadata": {
    "collapsed": false
   }
  },
  {
   "cell_type": "code",
   "execution_count": 11,
   "outputs": [
    {
     "data": {
      "text/plain": "[identifiers {\n  type: NAME\n  value: \"2,3-dimethylpent-3-yl allyl carbonate\"\n}\nidentifiers {\n  type: SMILES\n  value: \"C(OC(C(C)C)(CC)C)(OCC=C)=O\"\n}\nidentifiers {\n  type: INCHI\n  value: \"InChI=1S/C11H20O3/c1-6-8-13-10(12)14-11(5,7-2)9(3)4/h6,9H,1,7-8H2,2-5H3\"\n}\nmeasurements {\n  type: AMOUNT\n  details: \"MASS\"\n  amount {\n    mass {\n      value: 10.789999961853027\n      units: GRAM\n    }\n  }\n}\nmeasurements {\n  type: YIELD\n  details: \"CALCULATEDPERCENTYIELD\"\n  percentage {\n    value: 53.900001525878906\n  }\n}\nreaction_role: PRODUCT\n]"
     },
     "execution_count": 11,
     "metadata": {},
     "output_type": "execute_result"
    }
   ],
   "source": [
    "dataset.reactions[4].outcomes[0].products"
   ],
   "metadata": {
    "collapsed": false
   }
  },
  {
   "cell_type": "code",
   "execution_count": 12,
   "outputs": [
    {
     "data": {
      "text/plain": "<MessageFields sequence>"
     },
     "execution_count": 12,
     "metadata": {},
     "output_type": "execute_result"
    }
   ],
   "source": [
    "dataset.reactions[2].DESCRIPTOR.fields"
   ],
   "metadata": {
    "collapsed": false
   }
  },
  {
   "cell_type": "code",
   "execution_count": 13,
   "outputs": [
    {
     "name": "stdout",
     "output_type": "stream",
     "text": [
      "Wall time: 621 ms\n"
     ]
    },
    {
     "data": {
      "text/plain": "{'name': 'uspto-grants-1978_06',\n 'description': 'CML filenames: pftaps19780606_wk23.xml,pftaps19780613_wk24.xml,pftaps19780620_wk25.xml,pftaps19780627_wk26.xml',\n 'reactions[0].identifiers[0].type': 'REACTION_CXSMILES',\n 'reactions[0].identifiers[0].value': '[OH-:1].[Na+].[CH3:3][C:4]1[C:9](=[O:10])[C:8]([CH3:12])([CH3:11])[CH2:7][C:6](=[O:13])[CH:5]=1.OO.O>CO>[CH3:3][C:4]12[O:1][CH:5]1[C:6](=[O:13])[CH2:7][C:8]([CH3:12])([CH3:11])[C:9]2=[O:10] |f:0.1|',\n 'reactions[0].identifiers[0].is_mapped': True,\n 'reactions[0].inputs[\"m1_m2_m3_m4_m5_m7\"].components[0].identifiers[0].type': 'NAME',\n 'reactions[0].inputs[\"m1_m2_m3_m4_m5_m7\"].components[0].identifiers[0].value': 'aqueous solution',\n 'reactions[0].inputs[\"m1_m2_m3_m4_m5_m7\"].components[0].amount.moles.value': 0.0,\n 'reactions[0].inputs[\"m1_m2_m3_m4_m5_m7\"].components[0].amount.moles.precision': 1.0,\n 'reactions[0].inputs[\"m1_m2_m3_m4_m5_m7\"].components[0].amount.moles.units': 'MOLE',\n 'reactions[0].inputs[\"m1_m2_m3_m4_m5_m7\"].components[0].reaction_role': 'REACTANT',\n 'reactions[0].inputs[\"m1_m2_m3_m4_m5_m7\"].components[1].identifiers[0].type': 'NAME',\n 'reactions[0].inputs[\"m1_m2_m3_m4_m5_m7\"].components[1].identifiers[0].value': 'NaOH',\n 'reactions[0].inputs[\"m1_m2_m3_m4_m5_m7\"].components[1].identifiers[1].type': 'SMILES',\n 'reactions[0].inputs[\"m1_m2_m3_m4_m5_m7\"].components[1].identifiers[1].value': '[OH-].[Na+]',\n 'reactions[0].inputs[\"m1_m2_m3_m4_m5_m7\"].components[1].identifiers[2].type': 'INCHI',\n 'reactions[0].inputs[\"m1_m2_m3_m4_m5_m7\"].components[1].identifiers[2].value': 'InChI=1S/Na.H2O/h;1H2/q+1;/p-1',\n 'reactions[0].inputs[\"m1_m2_m3_m4_m5_m7\"].components[1].amount.moles.value': 0.0,\n 'reactions[0].inputs[\"m1_m2_m3_m4_m5_m7\"].components[1].amount.moles.precision': 1.0,\n 'reactions[0].inputs[\"m1_m2_m3_m4_m5_m7\"].components[1].amount.moles.units': 'MOLE',\n 'reactions[0].inputs[\"m1_m2_m3_m4_m5_m7\"].components[1].reaction_role': 'REACTANT',\n 'reactions[0].inputs[\"m1_m2_m3_m4_m5_m7\"].components[2].identifiers[0].type': 'NAME',\n 'reactions[0].inputs[\"m1_m2_m3_m4_m5_m7\"].components[2].identifiers[0].value': '3,5,5-trimethyl-cyclohex-2-en-1,4-dione',\n 'reactions[0].inputs[\"m1_m2_m3_m4_m5_m7\"].components[2].identifiers[1].type': 'SMILES',\n 'reactions[0].inputs[\"m1_m2_m3_m4_m5_m7\"].components[2].identifiers[1].value': 'CC1=CC(CC(C1=O)(C)C)=O',\n 'reactions[0].inputs[\"m1_m2_m3_m4_m5_m7\"].components[2].identifiers[2].type': 'INCHI',\n 'reactions[0].inputs[\"m1_m2_m3_m4_m5_m7\"].components[2].identifiers[2].value': 'InChI=1S/C9H12O2/c1-6-4-7(10)5-9(2,3)8(6)11/h4H,5H2,1-3H3',\n 'reactions[0].inputs[\"m1_m2_m3_m4_m5_m7\"].components[2].amount.mass.value': 3.700000047683716,\n 'reactions[0].inputs[\"m1_m2_m3_m4_m5_m7\"].components[2].amount.mass.units': 'GRAM',\n 'reactions[0].inputs[\"m1_m2_m3_m4_m5_m7\"].components[2].reaction_role': 'REACTANT',\n 'reactions[0].inputs[\"m1_m2_m3_m4_m5_m7\"].components[3].identifiers[0].type': 'NAME',\n 'reactions[0].inputs[\"m1_m2_m3_m4_m5_m7\"].components[3].identifiers[0].value': 'hydrogen hydroperoxide',\n 'reactions[0].inputs[\"m1_m2_m3_m4_m5_m7\"].components[3].identifiers[1].type': 'SMILES',\n 'reactions[0].inputs[\"m1_m2_m3_m4_m5_m7\"].components[3].identifiers[1].value': 'OO',\n 'reactions[0].inputs[\"m1_m2_m3_m4_m5_m7\"].components[3].identifiers[2].type': 'INCHI',\n 'reactions[0].inputs[\"m1_m2_m3_m4_m5_m7\"].components[3].identifiers[2].value': 'InChI=1S/H2O2/c1-2/h1-2H',\n 'reactions[0].inputs[\"m1_m2_m3_m4_m5_m7\"].components[3].amount.moles.value': 0.0,\n 'reactions[0].inputs[\"m1_m2_m3_m4_m5_m7\"].components[3].amount.moles.precision': 1.0,\n 'reactions[0].inputs[\"m1_m2_m3_m4_m5_m7\"].components[3].amount.moles.units': 'MOLE',\n 'reactions[0].inputs[\"m1_m2_m3_m4_m5_m7\"].components[3].reaction_role': 'REACTANT',\n 'reactions[0].inputs[\"m1_m2_m3_m4_m5_m7\"].components[4].identifiers[0].type': 'NAME',\n 'reactions[0].inputs[\"m1_m2_m3_m4_m5_m7\"].components[4].identifiers[0].value': 'solution',\n 'reactions[0].inputs[\"m1_m2_m3_m4_m5_m7\"].components[4].amount.moles.value': 0.0,\n 'reactions[0].inputs[\"m1_m2_m3_m4_m5_m7\"].components[4].amount.moles.precision': 1.0,\n 'reactions[0].inputs[\"m1_m2_m3_m4_m5_m7\"].components[4].amount.moles.units': 'MOLE',\n 'reactions[0].inputs[\"m1_m2_m3_m4_m5_m7\"].components[4].reaction_role': 'REACTANT',\n 'reactions[0].inputs[\"m1_m2_m3_m4_m5_m7\"].components[5].identifiers[0].type': 'NAME',\n 'reactions[0].inputs[\"m1_m2_m3_m4_m5_m7\"].components[5].identifiers[0].value': 'methanol',\n 'reactions[0].inputs[\"m1_m2_m3_m4_m5_m7\"].components[5].identifiers[1].type': 'SMILES',\n 'reactions[0].inputs[\"m1_m2_m3_m4_m5_m7\"].components[5].identifiers[1].value': 'CO',\n 'reactions[0].inputs[\"m1_m2_m3_m4_m5_m7\"].components[5].identifiers[2].type': 'INCHI',\n 'reactions[0].inputs[\"m1_m2_m3_m4_m5_m7\"].components[5].identifiers[2].value': 'InChI=1S/CH4O/c1-2/h2H,1H3',\n 'reactions[0].inputs[\"m1_m2_m3_m4_m5_m7\"].components[5].amount.volume.value': 27.0,\n 'reactions[0].inputs[\"m1_m2_m3_m4_m5_m7\"].components[5].amount.volume.units': 'MILLILITER',\n 'reactions[0].inputs[\"m1_m2_m3_m4_m5_m7\"].components[5].reaction_role': 'SOLVENT',\n 'reactions[0].inputs[\"m6\"].components[0].identifiers[0].type': 'NAME',\n 'reactions[0].inputs[\"m6\"].components[0].identifiers[0].value': 'water',\n 'reactions[0].inputs[\"m6\"].components[0].identifiers[1].type': 'SMILES',\n 'reactions[0].inputs[\"m6\"].components[0].identifiers[1].value': 'O',\n 'reactions[0].inputs[\"m6\"].components[0].identifiers[2].type': 'INCHI',\n 'reactions[0].inputs[\"m6\"].components[0].identifiers[2].value': 'InChI=1S/H2O/h1H2',\n 'reactions[0].inputs[\"m6\"].components[0].amount.moles.value': 0.0,\n 'reactions[0].inputs[\"m6\"].components[0].amount.moles.precision': 1.0,\n 'reactions[0].inputs[\"m6\"].components[0].amount.moles.units': 'MOLE',\n 'reactions[0].inputs[\"m6\"].components[0].reaction_role': 'REACTANT',\n 'reactions[0].conditions.stirring.type': 'CUSTOM',\n 'reactions[0].conditions.stirring.details': 'under stirring during 3 hours at 20°-25° C',\n 'reactions[0].conditions.conditions_are_dynamic': True,\n 'reactions[0].conditions.details': 'See reaction.notes.procedure_details.',\n 'reactions[0].notes.procedure_details': '2 ml of a 6N aqueous solution of NaOH have been added during a period of 15 minutes at 15° C to a mixture of 3,5,5-trimethyl-cyclohex-2-en-1,4-dione (3.7 g) and hydrogen hydroperoxide (8.3 ml of a 30% solution) in 27 ml of methanol. The mixture was kept under stirring during 3 hours at 20°-25° C, treated with water and extracted with ether. The combined organic extracts were washed with water until neutrality, dried over MgSO4 and evaporated. 3.33g (81.5%) of the desired product, b.p. 40° C/0.001 Torr, were thus obtained.',\n 'reactions[0].workups[0].type': 'EXTRACTION',\n 'reactions[0].workups[0].details': 'extracted with ether',\n 'reactions[0].workups[0].input.components[0].identifiers[0].type': 'NAME',\n 'reactions[0].workups[0].input.components[0].identifiers[0].value': 'ether',\n 'reactions[0].workups[0].input.components[0].identifiers[1].type': 'SMILES',\n 'reactions[0].workups[0].input.components[0].identifiers[1].value': 'CCOCC',\n 'reactions[0].workups[0].input.components[0].identifiers[2].type': 'INCHI',\n 'reactions[0].workups[0].input.components[0].identifiers[2].value': 'InChI=1S/C4H10O/c1-3-5-4-2/h3-4H2,1-2H3',\n 'reactions[0].workups[0].input.components[0].amount.moles.value': 0.0,\n 'reactions[0].workups[0].input.components[0].amount.moles.precision': 1.0,\n 'reactions[0].workups[0].input.components[0].amount.moles.units': 'MOLE',\n 'reactions[0].workups[0].input.components[0].reaction_role': 'WORKUP',\n 'reactions[0].workups[1].type': 'WASH',\n 'reactions[0].workups[1].details': 'The combined organic extracts were washed with water until neutrality',\n 'reactions[0].workups[1].input.components[0].identifiers[0].type': 'NAME',\n 'reactions[0].workups[1].input.components[0].identifiers[0].value': 'water',\n 'reactions[0].workups[1].input.components[0].identifiers[1].type': 'SMILES',\n 'reactions[0].workups[1].input.components[0].identifiers[1].value': 'O',\n 'reactions[0].workups[1].input.components[0].identifiers[2].type': 'INCHI',\n 'reactions[0].workups[1].input.components[0].identifiers[2].value': 'InChI=1S/H2O/h1H2',\n 'reactions[0].workups[1].input.components[0].amount.moles.value': 0.0,\n 'reactions[0].workups[1].input.components[0].amount.moles.precision': 1.0,\n 'reactions[0].workups[1].input.components[0].amount.moles.units': 'MOLE',\n 'reactions[0].workups[1].input.components[0].reaction_role': 'WORKUP',\n 'reactions[0].workups[2].type': 'DRY_WITH_MATERIAL',\n 'reactions[0].workups[2].details': 'dried over MgSO4',\n 'reactions[0].workups[2].input.components[0].identifiers[0].type': 'NAME',\n 'reactions[0].workups[2].input.components[0].identifiers[0].value': 'MgSO4',\n 'reactions[0].workups[2].input.components[0].identifiers[1].type': 'SMILES',\n 'reactions[0].workups[2].input.components[0].identifiers[1].value': '[O-]S(=O)(=O)[O-].[Mg+2]',\n 'reactions[0].workups[2].input.components[0].identifiers[2].type': 'INCHI',\n 'reactions[0].workups[2].input.components[0].identifiers[2].value': 'InChI=1S/Mg.H2O4S/c;1-5(2,3)4/h;(H2,1,2,3,4)/q+2;/p-2',\n 'reactions[0].workups[2].input.components[0].amount.moles.value': 0.0,\n 'reactions[0].workups[2].input.components[0].amount.moles.precision': 1.0,\n 'reactions[0].workups[2].input.components[0].amount.moles.units': 'MOLE',\n 'reactions[0].workups[2].input.components[0].reaction_role': 'WORKUP',\n 'reactions[0].workups[3].type': 'CUSTOM',\n 'reactions[0].workups[3].details': 'evaporated',\n 'reactions[0].outcomes[0].reaction_time.value': 3.0,\n 'reactions[0].outcomes[0].reaction_time.units': 'HOUR',\n 'reactions[0].outcomes[0].products[0].identifiers[0].type': 'NAME',\n 'reactions[0].outcomes[0].products[0].identifiers[0].value': 'desired product',\n 'reactions[0].outcomes[0].products[0].identifiers[1].type': 'NAME',\n 'reactions[0].outcomes[0].products[0].identifiers[1].value': '3,5,5-Trimethyl-2,3-epoxy-cyclohexane-1,4-dione',\n 'reactions[0].outcomes[0].products[0].identifiers[2].type': 'SMILES',\n 'reactions[0].outcomes[0].products[0].identifiers[2].value': 'CC12C(C(CC(C1=O)(C)C)=O)O2',\n 'reactions[0].outcomes[0].products[0].identifiers[3].type': 'INCHI',\n 'reactions[0].outcomes[0].products[0].identifiers[3].value': 'InChI=1S/C9H12O3/c1-8(2)4-5(10)6-9(3,12-6)7(8)11/h6H,4H2,1-3H3',\n 'reactions[0].outcomes[0].products[0].measurements[0].type': 'AMOUNT',\n 'reactions[0].outcomes[0].products[0].measurements[0].details': 'MASS',\n 'reactions[0].outcomes[0].products[0].measurements[0].amount.mass.value': 3.3299999237060547,\n 'reactions[0].outcomes[0].products[0].measurements[0].amount.mass.units': 'GRAM',\n 'reactions[0].outcomes[0].products[0].measurements[1].type': 'YIELD',\n 'reactions[0].outcomes[0].products[0].measurements[1].details': 'PERCENTYIELD',\n 'reactions[0].outcomes[0].products[0].measurements[1].percentage.value': 81.5,\n 'reactions[0].outcomes[0].products[0].reaction_role': 'PRODUCT',\n 'reactions[0].provenance.doi': '10.6084/m9.figshare.5104873.v1',\n 'reactions[0].provenance.patent': 'US04092989',\n 'reactions[0].provenance.record_created.time.value': '2022-12-02 16:40:50.890878',\n 'reactions[0].provenance.record_created.person.username': 'skearnes',\n 'reactions[0].provenance.record_created.person.name': 'Steven Kearnes',\n 'reactions[0].provenance.record_created.person.orcid': '0000-0003-4579-4388',\n 'reactions[0].provenance.record_created.person.organization': 'Google LLC',\n 'reactions[0].provenance.record_created.person.email': 'kearnes@google.com',\n 'reactions[0].provenance.record_modified[0].time.value': 'Mon Dec  5 19:09:32 2022',\n 'reactions[0].provenance.record_modified[0].person.username': 'github-actions',\n 'reactions[0].provenance.record_modified[0].person.email': 'github-actions@github.com',\n 'reactions[0].provenance.record_modified[0].details': 'Automatic updates from the submission pipeline.',\n 'reactions[0].reaction_id': 'ord-05eec34261954eba835e63141a7dc99f',\n 'reactions[1].identifiers[0].type': 'REACTION_CXSMILES',\n 'reactions[1].identifiers[0].value': '[BH4-].[Na+].[CH3:3][C:4]1[CH2:10][C:8](=[O:9])[CH2:7][C:6]([CH3:12])([CH3:11])[CH:5]=1.CC1[CH2:15][CH:16]([OH:22])CC(C)(C)C=1.C(OC(=O)C)(=O)C.C([O-])(=O)C.[Na+]>CO>[C:16]([O:9][CH:8]1[CH2:7][C:6]([CH3:12])([CH3:11])[CH:5]=[C:4]([CH3:3])[CH2:10]1)(=[O:22])[CH3:15] |f:0.1,5.6|',\n 'reactions[1].identifiers[0].is_mapped': True,\n 'reactions[1].inputs[\"m1_m6_m2_m3_m4_m5\"].components[0].identifiers[0].type': 'NAME',\n 'reactions[1].inputs[\"m1_m6_m2_m3_m4_m5\"].components[0].identifiers[0].value': 'sodium borohydride',\n 'reactions[1].inputs[\"m1_m6_m2_m3_m4_m5\"].components[0].identifiers[1].type': 'SMILES',\n 'reactions[1].inputs[\"m1_m6_m2_m3_m4_m5\"].components[0].identifiers[1].value': '[BH4-].[Na+]',\n 'reactions[1].inputs[\"m1_m6_m2_m3_m4_m5\"].components[0].identifiers[2].type': 'INCHI',\n 'reactions[1].inputs[\"m1_m6_m2_m3_m4_m5\"].components[0].identifiers[2].value': 'InChI=1S/BH4.Na/h1H4;/q-1;+1',\n 'reactions[1].inputs[\"m1_m6_m2_m3_m4_m5\"].components[0].amount.moles.value': 0.0,\n 'reactions[1].inputs[\"m1_m6_m2_m3_m4_m5\"].components[0].amount.moles.precision': 1.0,\n 'reactions[1].inputs[\"m1_m6_m2_m3_m4_m5\"].components[0].amount.moles.units': 'MOLE',\n 'reactions[1].inputs[\"m1_m6_m2_m3_m4_m5\"].components[0].reaction_role': 'REACTANT',\n 'reactions[1].inputs[\"m1_m6_m2_m3_m4_m5\"].components[1].identifiers[0].type': 'NAME',\n 'reactions[1].inputs[\"m1_m6_m2_m3_m4_m5\"].components[1].identifiers[0].value': 'β-isophorone',\n 'reactions[1].inputs[\"m1_m6_m2_m3_m4_m5\"].components[1].identifiers[1].type': 'SMILES',\n 'reactions[1].inputs[\"m1_m6_m2_m3_m4_m5\"].components[1].identifiers[1].value': 'CC1=CC(CC(=O)C1)(C)C',\n 'reactions[1].inputs[\"m1_m6_m2_m3_m4_m5\"].components[1].identifiers[2].type': 'INCHI',\n 'reactions[1].inputs[\"m1_m6_m2_m3_m4_m5\"].components[1].identifiers[2].value': 'InChI=1S/C9H14O/c1-7-4-8(10)6-9(2,3)5-7/h5H,4,6H2,1-3H3',\n 'reactions[1].inputs[\"m1_m6_m2_m3_m4_m5\"].components[1].amount.moles.value': 0.0,\n 'reactions[1].inputs[\"m1_m6_m2_m3_m4_m5\"].components[1].amount.moles.precision': 1.0,\n 'reactions[1].inputs[\"m1_m6_m2_m3_m4_m5\"].components[1].amount.moles.units': 'MOLE',\n 'reactions[1].inputs[\"m1_m6_m2_m3_m4_m5\"].components[1].reaction_role': 'REACTANT',\n 'reactions[1].inputs[\"m1_m6_m2_m3_m4_m5\"].components[2].identifiers[0].type': 'NAME',\n 'reactions[1].inputs[\"m1_m6_m2_m3_m4_m5\"].components[2].identifiers[0].value': '3,5,5-trimethyl-cyclohex-3-en-1-ol',\n 'reactions[1].inputs[\"m1_m6_m2_m3_m4_m5\"].components[2].identifiers[1].type': 'SMILES',\n 'reactions[1].inputs[\"m1_m6_m2_m3_m4_m5\"].components[2].identifiers[1].value': 'CC=1CC(CC(C1)(C)C)O',\n 'reactions[1].inputs[\"m1_m6_m2_m3_m4_m5\"].components[2].identifiers[2].type': 'INCHI',\n 'reactions[1].inputs[\"m1_m6_m2_m3_m4_m5\"].components[2].identifiers[2].value': 'InChI=1S/C9H16O/c1-7-4-8(10)6-9(2,3)5-7/h5,8,10H,4,6H2,1-3H3',\n 'reactions[1].inputs[\"m1_m6_m2_m3_m4_m5\"].components[2].amount.moles.value': 0.0,\n 'reactions[1].inputs[\"m1_m6_m2_m3_m4_m5\"].components[2].amount.moles.precision': 1.0,\n 'reactions[1].inputs[\"m1_m6_m2_m3_m4_m5\"].components[2].amount.moles.units': 'MOLE',\n 'reactions[1].inputs[\"m1_m6_m2_m3_m4_m5\"].components[2].reaction_role': 'REACTANT',\n 'reactions[1].inputs[\"m1_m6_m2_m3_m4_m5\"].components[3].identifiers[0].type': 'NAME',\n 'reactions[1].inputs[\"m1_m6_m2_m3_m4_m5\"].components[3].identifiers[0].value': 'acetic anhydride',\n 'reactions[1].inputs[\"m1_m6_m2_m3_m4_m5\"].components[3].identifiers[1].type': 'SMILES',\n 'reactions[1].inputs[\"m1_m6_m2_m3_m4_m5\"].components[3].identifiers[1].value': 'C(C)(=O)OC(C)=O',\n 'reactions[1].inputs[\"m1_m6_m2_m3_m4_m5\"].components[3].identifiers[2].type': 'INCHI',\n 'reactions[1].inputs[\"m1_m6_m2_m3_m4_m5\"].components[3].identifiers[2].value': 'InChI=1S/C4H6O3/c1-3(5)7-4(2)6/h1-2H3',\n 'reactions[1].inputs[\"m1_m6_m2_m3_m4_m5\"].components[3].amount.moles.value': 0.0,\n 'reactions[1].inputs[\"m1_m6_m2_m3_m4_m5\"].components[3].amount.moles.precision': 1.0,\n 'reactions[1].inputs[\"m1_m6_m2_m3_m4_m5\"].components[3].amount.moles.units': 'MOLE',\n 'reactions[1].inputs[\"m1_m6_m2_m3_m4_m5\"].components[3].reaction_role': 'REACTANT',\n 'reactions[1].inputs[\"m1_m6_m2_m3_m4_m5\"].components[4].identifiers[0].type': 'NAME',\n 'reactions[1].inputs[\"m1_m6_m2_m3_m4_m5\"].components[4].identifiers[0].value': 'sodium acetate',\n 'reactions[1].inputs[\"m1_m6_m2_m3_m4_m5\"].components[4].identifiers[1].type': 'SMILES',\n 'reactions[1].inputs[\"m1_m6_m2_m3_m4_m5\"].components[4].identifiers[1].value': 'C(C)(=O)[O-].[Na+]',\n 'reactions[1].inputs[\"m1_m6_m2_m3_m4_m5\"].components[4].identifiers[2].type': 'INCHI',\n 'reactions[1].inputs[\"m1_m6_m2_m3_m4_m5\"].components[4].identifiers[2].value': 'InChI=1S/C2H4O2.Na/c1-2(3)4;/h1H3,(H,3,4);/q;+1/p-1',\n 'reactions[1].inputs[\"m1_m6_m2_m3_m4_m5\"].components[4].amount.moles.value': 0.0,\n 'reactions[1].inputs[\"m1_m6_m2_m3_m4_m5\"].components[4].amount.moles.precision': 1.0,\n 'reactions[1].inputs[\"m1_m6_m2_m3_m4_m5\"].components[4].amount.moles.units': 'MOLE',\n 'reactions[1].inputs[\"m1_m6_m2_m3_m4_m5\"].components[4].reaction_role': 'REACTANT',\n 'reactions[1].inputs[\"m1_m6_m2_m3_m4_m5\"].components[5].identifiers[0].type': 'NAME',\n 'reactions[1].inputs[\"m1_m6_m2_m3_m4_m5\"].components[5].identifiers[0].value': 'methanol',\n 'reactions[1].inputs[\"m1_m6_m2_m3_m4_m5\"].components[5].identifiers[1].type': 'SMILES',\n 'reactions[1].inputs[\"m1_m6_m2_m3_m4_m5\"].components[5].identifiers[1].value': 'CO',\n 'reactions[1].inputs[\"m1_m6_m2_m3_m4_m5\"].components[5].identifiers[2].type': 'INCHI',\n 'reactions[1].inputs[\"m1_m6_m2_m3_m4_m5\"].components[5].identifiers[2].value': 'InChI=1S/CH4O/c1-2/h2H,1H3',\n 'reactions[1].inputs[\"m1_m6_m2_m3_m4_m5\"].components[5].amount.moles.value': 0.0,\n 'reactions[1].inputs[\"m1_m6_m2_m3_m4_m5\"].components[5].amount.moles.precision': 1.0,\n 'reactions[1].inputs[\"m1_m6_m2_m3_m4_m5\"].components[5].amount.moles.units': 'MOLE',\n 'reactions[1].inputs[\"m1_m6_m2_m3_m4_m5\"].components[5].reaction_role': 'SOLVENT',\n 'reactions[1].conditions.conditions_are_dynamic': True,\n 'reactions[1].conditions.details': 'See reaction.notes.procedure_details.',\n 'reactions[1].notes.procedure_details': 'Prepared by reduction by means of sodium borohydride in methanol of β-isophorone [obtained according to J. Am. Chem. Soc., 63, 2308 (1941)] and subsequent acetylation of the obtained 3,5,5-trimethyl-cyclohex-3-en-1-ol by means of acetic anhydride in the presence of sodium acetate at 50° C during 20 hours.',\n 'reactions[1].outcomes[0].products[0].identifiers[0].type': 'NAME',\n 'reactions[1].outcomes[0].products[0].identifiers[0].value': '3,5,5-Trimethyl-cyclohex-3-en-1-yl acetate',\n 'reactions[1].outcomes[0].products[0].identifiers[1].type': 'SMILES',\n 'reactions[1].outcomes[0].products[0].identifiers[1].value': 'C(C)(=O)OC1CC(=CC(C1)(C)C)C',\n 'reactions[1].outcomes[0].products[0].identifiers[2].type': 'INCHI',\n 'reactions[1].outcomes[0].products[0].identifiers[2].value': 'InChI=1S/C11H18O2/c1-8-5-10(13-9(2)12)7-11(3,4)6-8/h6,10H,5,7H2,1-4H3',\n 'reactions[1].provenance.doi': '10.6084/m9.figshare.5104873.v1',\n 'reactions[1].provenance.patent': 'US04092989',\n 'reactions[1].provenance.record_created.time.value': '2022-12-02 16:40:50.925616',\n 'reactions[1].provenance.record_created.person.username': 'skearnes',\n 'reactions[1].provenance.record_created.person.name': 'Steven Kearnes',\n 'reactions[1].provenance.record_created.person.orcid': '0000-0003-4579-4388',\n 'reactions[1].provenance.record_created.person.organization': 'Google LLC',\n 'reactions[1].provenance.record_created.person.email': 'kearnes@google.com',\n 'reactions[1].provenance.record_modified[0].time.value': 'Mon Dec  5 19:09:32 2022',\n 'reactions[1].provenance.record_modified[0].person.username': 'github-actions',\n 'reactions[1].provenance.record_modified[0].person.email': 'github-actions@github.com',\n 'reactions[1].provenance.record_modified[0].details': 'Automatic updates from the submission pipeline.',\n 'reactions[1].reaction_id': 'ord-1e00c17830d6435d805e682299dcfdde',\n 'reactions[2].identifiers[0].type': 'REACTION_CXSMILES',\n 'reactions[2].identifiers[0].value': '[O:1]=[C:2]1[CH2:9][C:6]([CH3:8])([CH3:7])[CH2:5][C:4]([CH3:10])=[CH:3]1.[Br:11]N1C(=O)CCC1=O.N(C(C)(C)C#N)=NC(C)(C)C#N>C(Cl)(Cl)(Cl)Cl>[CH3:10][C:4]1[CH:5]([Br:11])[C:6]([CH3:8])([CH3:7])[CH2:9][C:2](=[O:1])[CH:3]=1',\n 'reactions[2].identifiers[0].is_mapped': True,\n 'reactions[2].inputs[\"m4\"].components[0].identifiers[0].type': 'NAME',\n 'reactions[2].inputs[\"m4\"].components[0].identifiers[0].value': 'petrol-ether',\n 'reactions[2].inputs[\"m4\"].components[0].amount.volume.value': 500.0,\n 'reactions[2].inputs[\"m4\"].components[0].amount.volume.units': 'MILLILITER',\n 'reactions[2].inputs[\"m4\"].components[0].reaction_role': 'REACTANT',\n 'reactions[2].inputs[\"m1_m2_m3\"].components[0].identifiers[0].type': 'NAME',\n 'reactions[2].inputs[\"m1_m2_m3\"].components[0].identifiers[0].value': 'isophorone',\n 'reactions[2].inputs[\"m1_m2_m3\"].components[0].identifiers[1].type': 'SMILES',\n 'reactions[2].inputs[\"m1_m2_m3\"].components[0].identifiers[1].value': 'O=C1C=C(CC(C)(C)C1)C',\n 'reactions[2].inputs[\"m1_m2_m3\"].components[0].identifiers[2].type': 'INCHI',\n 'reactions[2].inputs[\"m1_m2_m3\"].components[0].identifiers[2].value': 'InChI=1S/C9H14O/c1-7-4-8(10)6-9(2,3)5-7/h4H,5-6H2,1-3H3',\n 'reactions[2].inputs[\"m1_m2_m3\"].components[0].amount.mass.value': 13.819999694824219,\n 'reactions[2].inputs[\"m1_m2_m3\"].components[0].amount.mass.units': 'GRAM',\n 'reactions[2].inputs[\"m1_m2_m3\"].components[0].reaction_role': 'REACTANT',\n 'reactions[2].inputs[\"m1_m2_m3\"].components[1].identifiers[0].type': 'NAME',\n 'reactions[2].inputs[\"m1_m2_m3\"].components[1].identifiers[0].value': 'N-bromo-succinimide',\n 'reactions[2].inputs[\"m1_m2_m3\"].components[1].identifiers[1].type': 'SMILES',\n 'reactions[2].inputs[\"m1_m2_m3\"].components[1].identifiers[1].value': 'BrN1C(CCC1=O)=O',\n 'reactions[2].inputs[\"m1_m2_m3\"].components[1].identifiers[2].type': 'INCHI',\n 'reactions[2].inputs[\"m1_m2_m3\"].components[1].identifiers[2].value': 'InChI=1S/C4H4BrNO2/c5-6-3(7)1-2-4(6)8/h1-2H2',\n 'reactions[2].inputs[\"m1_m2_m3\"].components[1].amount.mass.value': 17.799999237060547,\n 'reactions[2].inputs[\"m1_m2_m3\"].components[1].amount.mass.units': 'GRAM',\n 'reactions[2].inputs[\"m1_m2_m3\"].components[1].reaction_role': 'REACTANT',\n 'reactions[2].inputs[\"m1_m2_m3\"].components[2].identifiers[0].type': 'NAME',\n 'reactions[2].inputs[\"m1_m2_m3\"].components[2].identifiers[0].value': \"α,α'-azodiisobutyronitrile\",\n 'reactions[2].inputs[\"m1_m2_m3\"].components[2].identifiers[1].type': 'SMILES',\n 'reactions[2].inputs[\"m1_m2_m3\"].components[2].identifiers[1].value': 'N(=NC(C#N)(C)C)C(C#N)(C)C',\n 'reactions[2].inputs[\"m1_m2_m3\"].components[2].identifiers[2].type': 'INCHI',\n 'reactions[2].inputs[\"m1_m2_m3\"].components[2].identifiers[2].value': 'InChI=1S/C8H12N4/c1-7(2,5-9)11-12-8(3,4)6-10/h1-4H3',\n 'reactions[2].inputs[\"m1_m2_m3\"].components[2].amount.moles.value': 0.0,\n 'reactions[2].inputs[\"m1_m2_m3\"].components[2].amount.moles.precision': 1.0,\n 'reactions[2].inputs[\"m1_m2_m3\"].components[2].amount.moles.units': 'MOLE',\n 'reactions[2].inputs[\"m1_m2_m3\"].components[2].reaction_role': 'REACTANT',\n 'reactions[2].inputs[\"m5\"].components[0].identifiers[0].type': 'NAME',\n 'reactions[2].inputs[\"m5\"].components[0].identifiers[0].value': 'CCl4',\n 'reactions[2].inputs[\"m5\"].components[0].identifiers[1].type': 'SMILES',\n 'reactions[2].inputs[\"m5\"].components[0].identifiers[1].value': 'C(Cl)(Cl)(Cl)Cl',\n 'reactions[2].inputs[\"m5\"].components[0].identifiers[2].type': 'INCHI',\n 'reactions[2].inputs[\"m5\"].components[0].identifiers[2].value': 'InChI=1S/CCl4/c2-1(3,4)5',\n 'reactions[2].inputs[\"m5\"].components[0].amount.volume.value': 500.0,\n 'reactions[2].inputs[\"m5\"].components[0].amount.volume.units': 'MILLILITER',\n 'reactions[2].inputs[\"m5\"].components[0].reaction_role': 'SOLVENT',\n 'reactions[2].conditions.conditions_are_dynamic': True,\n 'reactions[2].conditions.details': 'See reaction.notes.procedure_details.',\n 'reactions[2].notes.procedure_details': \"A mixture of isophorone (13.82 g; 0.1 Mole) and N-bromo-succinimide (17.80 g; 0.1 Mole) in the presence of traces of α,α'-azodiisobutyronitrile was refluxed in 500 ml of CCl4 during 15 minutes. 500 ml of petrol-ether (30°-50° C) were then added to the cool reaction mixture and the succinimide thus precipitated was filtered off. By evaporating the volatile components of the clear filtrate, crude 3,5,5-trimethyl-4-bromo-cyclohex-2-en-1-one was obtained.\",\n 'reactions[2].workups[0].type': 'CUSTOM',\n 'reactions[2].workups[0].details': 'the succinimide thus precipitated',\n 'reactions[2].workups[0].input.components[0].identifiers[0].type': 'NAME',\n 'reactions[2].workups[0].input.components[0].identifiers[0].value': 'succinimide',\n 'reactions[2].workups[0].input.components[0].identifiers[1].type': 'SMILES',\n 'reactions[2].workups[0].input.components[0].identifiers[1].value': 'C1(CCC(N1)=O)=O',\n 'reactions[2].workups[0].input.components[0].identifiers[2].type': 'INCHI',\n 'reactions[2].workups[0].input.components[0].identifiers[2].value': 'InChI=1S/C4H5NO2/c6-3-1-2-4(7)5-3/h1-2H2,(H,5,6,7)',\n 'reactions[2].workups[0].input.components[0].amount.moles.value': 0.0,\n 'reactions[2].workups[0].input.components[0].amount.moles.precision': 1.0,\n 'reactions[2].workups[0].input.components[0].amount.moles.units': 'MOLE',\n 'reactions[2].workups[0].input.components[0].reaction_role': 'WORKUP',\n 'reactions[2].workups[1].type': 'FILTRATION',\n 'reactions[2].workups[1].details': 'was filtered off',\n 'reactions[2].workups[2].type': 'CUSTOM',\n 'reactions[2].workups[2].details': 'By evaporating the volatile components of the clear filtrate',\n 'reactions[2].outcomes[0].products[0].identifiers[0].type': 'NAME',\n 'reactions[2].outcomes[0].products[0].identifiers[0].value': '3,5,5-trimethyl-4-bromo-cyclohex-2-en-1-one',\n 'reactions[2].outcomes[0].products[0].identifiers[1].type': 'SMILES',\n 'reactions[2].outcomes[0].products[0].identifiers[1].value': 'CC1=CC(CC(C1Br)(C)C)=O',\n 'reactions[2].outcomes[0].products[0].identifiers[2].type': 'INCHI',\n 'reactions[2].outcomes[0].products[0].identifiers[2].value': 'InChI=1S/C9H13BrO/c1-6-4-7(11)5-9(2,3)8(6)10/h4,8H,5H2,1-3H3',\n 'reactions[2].outcomes[0].products[0].reaction_role': 'PRODUCT',\n 'reactions[2].provenance.doi': '10.6084/m9.figshare.5104873.v1',\n 'reactions[2].provenance.patent': 'US04092989',\n 'reactions[2].provenance.record_created.time.value': '2022-12-02 16:40:50.938077',\n 'reactions[2].provenance.record_created.person.username': 'skearnes',\n 'reactions[2].provenance.record_created.person.name': 'Steven Kearnes',\n 'reactions[2].provenance.record_created.person.orcid': '0000-0003-4579-4388',\n 'reactions[2].provenance.record_created.person.organization': 'Google LLC',\n 'reactions[2].provenance.record_created.person.email': 'kearnes@google.com',\n 'reactions[2].provenance.record_modified[0].time.value': 'Mon Dec  5 19:09:32 2022',\n 'reactions[2].provenance.record_modified[0].person.username': 'github-actions',\n 'reactions[2].provenance.record_modified[0].person.email': 'github-actions@github.com',\n 'reactions[2].provenance.record_modified[0].details': 'Automatic updates from the submission pipeline.',\n 'reactions[2].reaction_id': 'ord-614ee295fbd8431799e7af040bed75d8',\n 'reactions[3].identifiers[0].type': 'REACTION_CXSMILES',\n 'reactions[3].identifiers[0].value': '[CH3:1][C:2]([OH:7])([CH:4]([CH3:6])[CH3:5])[CH3:3].C[Li].Cl[C:11]([O:13][CH2:14][CH:15]=[CH2:16])=[O:12].O>O1CCCC1.C(OCC)C>[C:11](=[O:12])([O:13][CH2:14][CH:15]=[CH2:16])[O:7][C:2]([CH3:3])([CH:4]([CH3:6])[CH3:5])[CH3:1]',\n 'reactions[3].identifiers[0].is_mapped': True,\n 'reactions[3].inputs[\"m1_m5_m2_m6\"].components[0].identifiers[0].type': 'NAME',\n 'reactions[3].inputs[\"m1_m5_m2_m6\"].components[0].identifiers[0].value': '2,3-dimethylbutan-2-ol',\n 'reactions[3].inputs[\"m1_m5_m2_m6\"].components[0].identifiers[1].type': 'SMILES',\n 'reactions[3].inputs[\"m1_m5_m2_m6\"].components[0].identifiers[1].value': 'CC(C)(C(C)C)O',\n 'reactions[3].inputs[\"m1_m5_m2_m6\"].components[0].identifiers[2].type': 'INCHI',\n 'reactions[3].inputs[\"m1_m5_m2_m6\"].components[0].identifiers[2].value': 'InChI=1S/C6H14O/c1-5(2)6(3,4)7/h5,7H,1-4H3',\n 'reactions[3].inputs[\"m1_m5_m2_m6\"].components[0].amount.mass.value': 10.220000267028809,\n 'reactions[3].inputs[\"m1_m5_m2_m6\"].components[0].amount.mass.units': 'GRAM',\n 'reactions[3].inputs[\"m1_m5_m2_m6\"].components[0].reaction_role': 'REACTANT',\n 'reactions[3].inputs[\"m1_m5_m2_m6\"].components[1].identifiers[0].type': 'NAME',\n 'reactions[3].inputs[\"m1_m5_m2_m6\"].components[1].identifiers[0].value': 'methyllithium',\n 'reactions[3].inputs[\"m1_m5_m2_m6\"].components[1].identifiers[1].type': 'SMILES',\n 'reactions[3].inputs[\"m1_m5_m2_m6\"].components[1].identifiers[1].value': 'C[Li]',\n 'reactions[3].inputs[\"m1_m5_m2_m6\"].components[1].identifiers[2].type': 'INCHI',\n 'reactions[3].inputs[\"m1_m5_m2_m6\"].components[1].identifiers[2].value': 'InChI=1S/CH3.Li/h1H3;',\n 'reactions[3].inputs[\"m1_m5_m2_m6\"].components[1].amount.moles.value': 0.0,\n 'reactions[3].inputs[\"m1_m5_m2_m6\"].components[1].amount.moles.precision': 1.0,\n 'reactions[3].inputs[\"m1_m5_m2_m6\"].components[1].amount.moles.units': 'MOLE',\n 'reactions[3].inputs[\"m1_m5_m2_m6\"].components[1].reaction_role': 'REACTANT',\n 'reactions[3].inputs[\"m1_m5_m2_m6\"].components[2].identifiers[0].type': 'NAME',\n 'reactions[3].inputs[\"m1_m5_m2_m6\"].components[2].identifiers[0].value': 'tetrahydrofuran',\n 'reactions[3].inputs[\"m1_m5_m2_m6\"].components[2].identifiers[1].type': 'SMILES',\n 'reactions[3].inputs[\"m1_m5_m2_m6\"].components[2].identifiers[1].value': 'O1CCCC1',\n 'reactions[3].inputs[\"m1_m5_m2_m6\"].components[2].identifiers[2].type': 'INCHI',\n 'reactions[3].inputs[\"m1_m5_m2_m6\"].components[2].identifiers[2].value': 'InChI=1S/C4H8O/c1-2-4-5-3-1/h1-4H2',\n 'reactions[3].inputs[\"m1_m5_m2_m6\"].components[2].amount.volume.value': 75.0,\n 'reactions[3].inputs[\"m1_m5_m2_m6\"].components[2].amount.volume.units': 'MILLILITER',\n 'reactions[3].inputs[\"m1_m5_m2_m6\"].components[2].reaction_role': 'SOLVENT',\n 'reactions[3].inputs[\"m1_m5_m2_m6\"].components[3].identifiers[0].type': 'NAME',\n 'reactions[3].inputs[\"m1_m5_m2_m6\"].components[3].identifiers[0].value': 'diethyl ether',\n 'reactions[3].inputs[\"m1_m5_m2_m6\"].components[3].identifiers[1].type': 'SMILES',\n 'reactions[3].inputs[\"m1_m5_m2_m6\"].components[3].identifiers[1].value': 'C(C)OCC',\n 'reactions[3].inputs[\"m1_m5_m2_m6\"].components[3].identifiers[2].type': 'INCHI',\n 'reactions[3].inputs[\"m1_m5_m2_m6\"].components[3].identifiers[2].value': 'InChI=1S/C4H10O/c1-3-5-4-2/h3-4H2,1-2H3',\n 'reactions[3].inputs[\"m1_m5_m2_m6\"].components[3].amount.moles.value': 0.0,\n 'reactions[3].inputs[\"m1_m5_m2_m6\"].components[3].amount.moles.precision': 1.0,\n 'reactions[3].inputs[\"m1_m5_m2_m6\"].components[3].amount.moles.units': 'MOLE',\n 'reactions[3].inputs[\"m1_m5_m2_m6\"].components[3].reaction_role': 'SOLVENT',\n 'reactions[3].inputs[\"m4\"].components[0].identifiers[0].type': 'NAME',\n 'reactions[3].inputs[\"m4\"].components[0].identifiers[0].value': 'water',\n 'reactions[3].inputs[\"m4\"].components[0].identifiers[1].type': 'SMILES',\n 'reactions[3].inputs[\"m4\"].components[0].identifiers[1].value': 'O',\n 'reactions[3].inputs[\"m4\"].components[0].identifiers[2].type': 'INCHI',\n 'reactions[3].inputs[\"m4\"].components[0].identifiers[2].value': 'InChI=1S/H2O/h1H2',\n 'reactions[3].inputs[\"m4\"].components[0].amount.moles.value': 0.0,\n 'reactions[3].inputs[\"m4\"].components[0].amount.moles.precision': 1.0,\n 'reactions[3].inputs[\"m4\"].components[0].amount.moles.units': 'MOLE',\n 'reactions[3].inputs[\"m4\"].components[0].reaction_role': 'REACTANT',\n 'reactions[3].inputs[\"m3\"].components[0].identifiers[0].type': 'NAME',\n 'reactions[3].inputs[\"m3\"].components[0].identifiers[0].value': 'allyl chloroformate',\n 'reactions[3].inputs[\"m3\"].components[0].identifiers[1].type': 'SMILES',\n 'reactions[3].inputs[\"m3\"].components[0].identifiers[1].value': 'ClC(=O)OCC=C',\n 'reactions[3].inputs[\"m3\"].components[0].identifiers[2].type': 'INCHI',\n 'reactions[3].inputs[\"m3\"].components[0].identifiers[2].value': 'InChI=1S/C4H5ClO2/c1-2-3-7-4(5)6/h2H,1,3H2',\n 'reactions[3].inputs[\"m3\"].components[0].amount.mass.value': 12.100000381469727,\n 'reactions[3].inputs[\"m3\"].components[0].amount.mass.units': 'GRAM',\n 'reactions[3].inputs[\"m3\"].components[0].reaction_role': 'REACTANT',\n 'reactions[3].inputs[\"m7\"].components[0].identifiers[0].type': 'NAME',\n 'reactions[3].inputs[\"m7\"].components[0].identifiers[0].value': 'tetrahydrofuran',\n 'reactions[3].inputs[\"m7\"].components[0].identifiers[1].type': 'SMILES',\n 'reactions[3].inputs[\"m7\"].components[0].identifiers[1].value': 'O1CCCC1',\n 'reactions[3].inputs[\"m7\"].components[0].identifiers[2].type': 'INCHI',\n 'reactions[3].inputs[\"m7\"].components[0].identifiers[2].value': 'InChI=1S/C4H8O/c1-2-4-5-3-1/h1-4H2',\n 'reactions[3].inputs[\"m7\"].components[0].amount.volume.value': 25.0,\n 'reactions[3].inputs[\"m7\"].components[0].amount.volume.units': 'MILLILITER',\n 'reactions[3].inputs[\"m7\"].components[0].reaction_role': 'SOLVENT',\n 'reactions[3].conditions.temperature.setpoint.value': 0.0,\n 'reactions[3].conditions.temperature.setpoint.units': 'CELSIUS',\n 'reactions[3].conditions.stirring.type': 'CUSTOM',\n 'reactions[3].conditions.stirring.details': 'was stirred for about 18 hours',\n 'reactions[3].conditions.conditions_are_dynamic': True,\n 'reactions[3].conditions.details': 'See reaction.notes.procedure_details.',\n 'reactions[3].notes.procedure_details': 'To a solution of 10.22 grams (0.10 mole) of 2,3-dimethylbutan-2-ol in 75 milliliters of anhydrous tetrahydrofuran at 0° C was added one equivalent of methyllithium in diethyl ether, followed by 12.1 grams (0.10 mole) of allyl chloroformate in 25 milliliters of anhydrous tetrahydrofuran. During both additions the temperature was maintained at 0° C. After the last addition was complete the reaction mixture was stirred for about 18 hours and allowed to warm to ambient temperature. The reaction mixture was poured into water, and then extracted with ether. The ether solution was washed four times with water and dried over magnesium sulfate. Removal of solvent under reduced pressure yielded 16.45 grams (88.4% crude yield) of a light yellow oil. Distillation under vacuum provided three fractions.',\n 'reactions[3].workups[0].type': 'ADDITION',\n 'reactions[3].workups[0].details': 'After the last addition',\n 'reactions[3].workups[1].type': 'TEMPERATURE',\n 'reactions[3].workups[1].details': 'to warm to ambient temperature',\n 'reactions[3].workups[1].temperature.control.type': 'AMBIENT',\n 'reactions[3].workups[2].type': 'EXTRACTION',\n 'reactions[3].workups[2].details': 'extracted with ether',\n 'reactions[3].workups[2].input.components[0].identifiers[0].type': 'NAME',\n 'reactions[3].workups[2].input.components[0].identifiers[0].value': 'ether',\n 'reactions[3].workups[2].input.components[0].identifiers[1].type': 'SMILES',\n 'reactions[3].workups[2].input.components[0].identifiers[1].value': 'CCOCC',\n 'reactions[3].workups[2].input.components[0].identifiers[2].type': 'INCHI',\n 'reactions[3].workups[2].input.components[0].identifiers[2].value': 'InChI=1S/C4H10O/c1-3-5-4-2/h3-4H2,1-2H3',\n 'reactions[3].workups[2].input.components[0].amount.moles.value': 0.0,\n 'reactions[3].workups[2].input.components[0].amount.moles.precision': 1.0,\n 'reactions[3].workups[2].input.components[0].amount.moles.units': 'MOLE',\n 'reactions[3].workups[2].input.components[0].reaction_role': 'WORKUP',\n 'reactions[3].workups[3].type': 'WASH',\n 'reactions[3].workups[3].details': 'The ether solution was washed four times with water',\n 'reactions[3].workups[3].input.components[0].identifiers[0].type': 'NAME',\n 'reactions[3].workups[3].input.components[0].identifiers[0].value': 'ether',\n 'reactions[3].workups[3].input.components[0].identifiers[1].type': 'SMILES',\n 'reactions[3].workups[3].input.components[0].identifiers[1].value': 'CCOCC',\n 'reactions[3].workups[3].input.components[0].identifiers[2].type': 'INCHI',\n 'reactions[3].workups[3].input.components[0].identifiers[2].value': 'InChI=1S/C4H10O/c1-3-5-4-2/h3-4H2,1-2H3',\n 'reactions[3].workups[3].input.components[0].amount.moles.value': 0.0,\n 'reactions[3].workups[3].input.components[0].amount.moles.precision': 1.0,\n 'reactions[3].workups[3].input.components[0].amount.moles.units': 'MOLE',\n 'reactions[3].workups[3].input.components[0].reaction_role': 'WORKUP',\n 'reactions[3].workups[3].input.components[1].identifiers[0].type': 'NAME',\n 'reactions[3].workups[3].input.components[1].identifiers[0].value': 'water',\n 'reactions[3].workups[3].input.components[1].identifiers[1].type': 'SMILES',\n 'reactions[3].workups[3].input.components[1].identifiers[1].value': 'O',\n 'reactions[3].workups[3].input.components[1].identifiers[2].type': 'INCHI',\n 'reactions[3].workups[3].input.components[1].identifiers[2].value': 'InChI=1S/H2O/h1H2',\n 'reactions[3].workups[3].input.components[1].amount.moles.value': 0.0,\n 'reactions[3].workups[3].input.components[1].amount.moles.precision': 1.0,\n 'reactions[3].workups[3].input.components[1].amount.moles.units': 'MOLE',\n 'reactions[3].workups[3].input.components[1].reaction_role': 'WORKUP',\n 'reactions[3].workups[4].type': 'DRY_WITH_MATERIAL',\n 'reactions[3].workups[4].details': 'dried over magnesium sulfate',\n 'reactions[3].workups[4].input.components[0].identifiers[0].type': 'NAME',\n 'reactions[3].workups[4].input.components[0].identifiers[0].value': 'magnesium sulfate',\n 'reactions[3].workups[4].input.components[0].identifiers[1].type': 'SMILES',\n 'reactions[3].workups[4].input.components[0].identifiers[1].value': 'S(=O)(=O)([O-])[O-].[Mg+2]',\n 'reactions[3].workups[4].input.components[0].identifiers[2].type': 'INCHI',\n 'reactions[3].workups[4].input.components[0].identifiers[2].value': 'InChI=1S/Mg.H2O4S/c;1-5(2,3)4/h;(H2,1,2,3,4)/q+2;/p-2',\n 'reactions[3].workups[4].input.components[0].amount.moles.value': 0.0,\n 'reactions[3].workups[4].input.components[0].amount.moles.precision': 1.0,\n 'reactions[3].workups[4].input.components[0].amount.moles.units': 'MOLE',\n 'reactions[3].workups[4].input.components[0].reaction_role': 'WORKUP',\n 'reactions[3].workups[5].type': 'CUSTOM',\n 'reactions[3].workups[5].details': 'Removal of solvent under reduced pressure',\n 'reactions[3].workups[6].type': 'CUSTOM',\n 'reactions[3].workups[6].details': 'yielded 16.45 grams (88.4% crude yield) of a light yellow oil',\n 'reactions[3].workups[7].type': 'DISTILLATION',\n 'reactions[3].workups[7].details': 'Distillation under vacuum',\n 'reactions[3].workups[8].type': 'CUSTOM',\n 'reactions[3].workups[8].details': 'provided three fractions',\n 'reactions[3].outcomes[0].reaction_time.value': 18.0,\n 'reactions[3].outcomes[0].reaction_time.units': 'HOUR',\n 'reactions[3].outcomes[0].products[0].identifiers[0].type': 'NAME',\n 'reactions[3].outcomes[0].products[0].identifiers[0].value': '2,3-Dimethylbut-2-yl Allyl Carbonate',\n 'reactions[3].outcomes[0].products[0].identifiers[1].type': 'SMILES',\n 'reactions[3].outcomes[0].products[0].identifiers[1].value': 'C(OC(C)(C(C)C)C)(OCC=C)=O',\n 'reactions[3].outcomes[0].products[0].identifiers[2].type': 'INCHI',\n 'reactions[3].outcomes[0].products[0].identifiers[2].value': 'InChI=1S/C10H18O3/c1-6-7-12-9(11)13-10(4,5)8(2)3/h6,8H,1,7H2,2-5H3',\n 'reactions[3].provenance.doi': '10.6084/m9.figshare.5104873.v1',\n 'reactions[3].provenance.patent': 'US04092988',\n 'reactions[3].provenance.record_created.time.value': '2022-12-02 16:40:50.950442',\n 'reactions[3].provenance.record_created.person.username': 'skearnes',\n 'reactions[3].provenance.record_created.person.name': 'Steven Kearnes',\n 'reactions[3].provenance.record_created.person.orcid': '0000-0003-4579-4388',\n 'reactions[3].provenance.record_created.person.organization': 'Google LLC',\n 'reactions[3].provenance.record_created.person.email': 'kearnes@google.com',\n 'reactions[3].provenance.record_modified[0].time.value': 'Mon Dec  5 19:09:32 2022',\n 'reactions[3].provenance.record_modified[0].person.username': 'github-actions',\n 'reactions[3].provenance.record_modified[0].person.email': 'github-actions@github.com',\n 'reactions[3].provenance.record_modified[0].details': 'Automatic updates from the submission pipeline.',\n 'reactions[3].reaction_id': 'ord-1381346a773e4ab49f409af4cdf56305',\n 'reactions[4].identifiers[0].type': 'REACTION_CXSMILES',\n 'reactions[4].identifiers[0].value': '[CH3:1][CH:2]([C:4]([CH3:8])([OH:7])[CH2:5][CH3:6])[CH3:3].C[Li].Cl[C:12]([O:14][CH2:15][CH:16]=[CH2:17])=[O:13].O>O1CCCC1.C(OCC)C>[C:12](=[O:13])([O:14][CH2:15][CH:16]=[CH2:17])[O:7][C:4]([CH3:8])([CH2:5][CH3:6])[CH:2]([CH3:3])[CH3:1]',\n 'reactions[4].identifiers[0].is_mapped': True,\n 'reactions[4].inputs[\"m7\"].components[0].identifiers[0].type': 'NAME',\n 'reactions[4].inputs[\"m7\"].components[0].identifiers[0].value': 'tetrahydrofuran',\n 'reactions[4].inputs[\"m7\"].components[0].identifiers[1].type': 'SMILES',\n 'reactions[4].inputs[\"m7\"].components[0].identifiers[1].value': 'O1CCCC1',\n 'reactions[4].inputs[\"m7\"].components[0].identifiers[2].type': 'INCHI',\n 'reactions[4].inputs[\"m7\"].components[0].identifiers[2].value': 'InChI=1S/C4H8O/c1-2-4-5-3-1/h1-4H2',\n 'reactions[4].inputs[\"m7\"].components[0].amount.volume.value': 25.0,\n 'reactions[4].inputs[\"m7\"].components[0].amount.volume.units': 'MILLILITER',\n 'reactions[4].inputs[\"m7\"].components[0].reaction_role': 'SOLVENT',\n 'reactions[4].inputs[\"m1_m5_m2_m6\"].components[0].identifiers[0].type': 'NAME',\n 'reactions[4].inputs[\"m1_m5_m2_m6\"].components[0].identifiers[0].value': '2,3-dimethylpentan-3-ol',\n 'reactions[4].inputs[\"m1_m5_m2_m6\"].components[0].identifiers[1].type': 'SMILES',\n 'reactions[4].inputs[\"m1_m5_m2_m6\"].components[0].identifiers[1].value': 'CC(C)C(CC)(O)C',\n 'reactions[4].inputs[\"m1_m5_m2_m6\"].components[0].identifiers[2].type': 'INCHI',\n 'reactions[4].inputs[\"m1_m5_m2_m6\"].components[0].identifiers[2].value': 'InChI=1S/C7H16O/c1-5-7(4,8)6(2)3/h6,8H,5H2,1-4H3',\n 'reactions[4].inputs[\"m1_m5_m2_m6\"].components[0].amount.mass.value': 11.619999885559082,\n 'reactions[4].inputs[\"m1_m5_m2_m6\"].components[0].amount.mass.units': 'GRAM',\n 'reactions[4].inputs[\"m1_m5_m2_m6\"].components[0].reaction_role': 'REACTANT',\n 'reactions[4].inputs[\"m1_m5_m2_m6\"].components[1].identifiers[0].type': 'NAME',\n 'reactions[4].inputs[\"m1_m5_m2_m6\"].components[1].identifiers[0].value': 'methyllithium',\n 'reactions[4].inputs[\"m1_m5_m2_m6\"].components[1].identifiers[1].type': 'SMILES',\n 'reactions[4].inputs[\"m1_m5_m2_m6\"].components[1].identifiers[1].value': 'C[Li]',\n 'reactions[4].inputs[\"m1_m5_m2_m6\"].components[1].identifiers[2].type': 'INCHI',\n 'reactions[4].inputs[\"m1_m5_m2_m6\"].components[1].identifiers[2].value': 'InChI=1S/CH3.Li/h1H3;',\n 'reactions[4].inputs[\"m1_m5_m2_m6\"].components[1].amount.moles.value': 0.0,\n 'reactions[4].inputs[\"m1_m5_m2_m6\"].components[1].amount.moles.precision': 1.0,\n 'reactions[4].inputs[\"m1_m5_m2_m6\"].components[1].amount.moles.units': 'MOLE',\n 'reactions[4].inputs[\"m1_m5_m2_m6\"].components[1].reaction_role': 'REACTANT',\n 'reactions[4].inputs[\"m1_m5_m2_m6\"].components[2].identifiers[0].type': 'NAME',\n 'reactions[4].inputs[\"m1_m5_m2_m6\"].components[2].identifiers[0].value': 'tetrahydrofuran',\n 'reactions[4].inputs[\"m1_m5_m2_m6\"].components[2].identifiers[1].type': 'SMILES',\n 'reactions[4].inputs[\"m1_m5_m2_m6\"].components[2].identifiers[1].value': 'O1CCCC1',\n 'reactions[4].inputs[\"m1_m5_m2_m6\"].components[2].identifiers[2].type': 'INCHI',\n 'reactions[4].inputs[\"m1_m5_m2_m6\"].components[2].identifiers[2].value': 'InChI=1S/C4H8O/c1-2-4-5-3-1/h1-4H2',\n 'reactions[4].inputs[\"m1_m5_m2_m6\"].components[2].amount.volume.value': 75.0,\n 'reactions[4].inputs[\"m1_m5_m2_m6\"].components[2].amount.volume.units': 'MILLILITER',\n 'reactions[4].inputs[\"m1_m5_m2_m6\"].components[2].reaction_role': 'SOLVENT',\n 'reactions[4].inputs[\"m1_m5_m2_m6\"].components[3].identifiers[0].type': 'NAME',\n 'reactions[4].inputs[\"m1_m5_m2_m6\"].components[3].identifiers[0].value': 'diethyl ether',\n 'reactions[4].inputs[\"m1_m5_m2_m6\"].components[3].identifiers[1].type': 'SMILES',\n 'reactions[4].inputs[\"m1_m5_m2_m6\"].components[3].identifiers[1].value': 'C(C)OCC',\n 'reactions[4].inputs[\"m1_m5_m2_m6\"].components[3].identifiers[2].type': 'INCHI',\n 'reactions[4].inputs[\"m1_m5_m2_m6\"].components[3].identifiers[2].value': 'InChI=1S/C4H10O/c1-3-5-4-2/h3-4H2,1-2H3',\n 'reactions[4].inputs[\"m1_m5_m2_m6\"].components[3].amount.moles.value': 0.0,\n 'reactions[4].inputs[\"m1_m5_m2_m6\"].components[3].amount.moles.precision': 1.0,\n 'reactions[4].inputs[\"m1_m5_m2_m6\"].components[3].amount.moles.units': 'MOLE',\n 'reactions[4].inputs[\"m1_m5_m2_m6\"].components[3].reaction_role': 'SOLVENT',\n 'reactions[4].inputs[\"m4\"].components[0].identifiers[0].type': 'NAME',\n 'reactions[4].inputs[\"m4\"].components[0].identifiers[0].value': 'water',\n 'reactions[4].inputs[\"m4\"].components[0].identifiers[1].type': 'SMILES',\n 'reactions[4].inputs[\"m4\"].components[0].identifiers[1].value': 'O',\n 'reactions[4].inputs[\"m4\"].components[0].identifiers[2].type': 'INCHI',\n 'reactions[4].inputs[\"m4\"].components[0].identifiers[2].value': 'InChI=1S/H2O/h1H2',\n 'reactions[4].inputs[\"m4\"].components[0].amount.moles.value': 0.0,\n 'reactions[4].inputs[\"m4\"].components[0].amount.moles.precision': 1.0,\n 'reactions[4].inputs[\"m4\"].components[0].amount.moles.units': 'MOLE',\n 'reactions[4].inputs[\"m4\"].components[0].reaction_role': 'REACTANT',\n 'reactions[4].inputs[\"m3\"].components[0].identifiers[0].type': 'NAME',\n 'reactions[4].inputs[\"m3\"].components[0].identifiers[0].value': 'allyl chloroformate',\n 'reactions[4].inputs[\"m3\"].components[0].identifiers[1].type': 'SMILES',\n 'reactions[4].inputs[\"m3\"].components[0].identifiers[1].value': 'ClC(=O)OCC=C',\n 'reactions[4].inputs[\"m3\"].components[0].identifiers[2].type': 'INCHI',\n 'reactions[4].inputs[\"m3\"].components[0].identifiers[2].value': 'InChI=1S/C4H5ClO2/c1-2-3-7-4(5)6/h2H,1,3H2',\n 'reactions[4].inputs[\"m3\"].components[0].amount.mass.value': 12.100000381469727,\n 'reactions[4].inputs[\"m3\"].components[0].amount.mass.units': 'GRAM',\n 'reactions[4].inputs[\"m3\"].components[0].reaction_role': 'REACTANT',\n 'reactions[4].conditions.temperature.setpoint.value': 0.0,\n 'reactions[4].conditions.temperature.setpoint.units': 'CELSIUS',\n 'reactions[4].conditions.stirring.type': 'CUSTOM',\n 'reactions[4].conditions.stirring.details': 'was stirred for about 18 hours',\n 'reactions[4].conditions.conditions_are_dynamic': True,\n 'reactions[4].conditions.details': 'See reaction.notes.procedure_details.',\n 'reactions[4].notes.procedure_details': 'To a solution of 11.62 grams (0.1 mole) of 2,3-dimethylpentan-3-ol in 75 milliliters of anhydrous tetrahydrofuran at 0° C was added one equivalent of methyllithium in diethyl ether, followed by 12.1 grams (0.10 mole) of allyl chloroformate in 25 milliliters of anhydrous tetrahydrofuran. During both additions the temperature was maintained at 0° C. After the last addition was complete the reaction mixture was stirred for about 18 hours and allowed to warm to ambient temperature. The reaction mixture was poured into water, and then extracted with ether. The ether solution was washed four times with water and dried over magnesium sulfate. Removal of solvent under reduced pressure yielded 18.27 grams (93.1% crude yield) of a yellow oil. Vacuum distillation gave 10.79 grams of 2,3-dimethylpent-3-yl allyl carbonate, b.p. 59°-60° C/0.15 mm.',\n 'reactions[4].workups[0].type': 'ADDITION',\n 'reactions[4].workups[0].details': 'After the last addition',\n 'reactions[4].workups[1].type': 'TEMPERATURE',\n 'reactions[4].workups[1].details': 'to warm to ambient temperature',\n 'reactions[4].workups[1].temperature.control.type': 'AMBIENT',\n 'reactions[4].workups[2].type': 'EXTRACTION',\n 'reactions[4].workups[2].details': 'extracted with ether',\n 'reactions[4].workups[2].input.components[0].identifiers[0].type': 'NAME',\n 'reactions[4].workups[2].input.components[0].identifiers[0].value': 'ether',\n 'reactions[4].workups[2].input.components[0].identifiers[1].type': 'SMILES',\n 'reactions[4].workups[2].input.components[0].identifiers[1].value': 'CCOCC',\n 'reactions[4].workups[2].input.components[0].identifiers[2].type': 'INCHI',\n 'reactions[4].workups[2].input.components[0].identifiers[2].value': 'InChI=1S/C4H10O/c1-3-5-4-2/h3-4H2,1-2H3',\n 'reactions[4].workups[2].input.components[0].amount.moles.value': 0.0,\n 'reactions[4].workups[2].input.components[0].amount.moles.precision': 1.0,\n 'reactions[4].workups[2].input.components[0].amount.moles.units': 'MOLE',\n 'reactions[4].workups[2].input.components[0].reaction_role': 'WORKUP',\n 'reactions[4].workups[3].type': 'WASH',\n 'reactions[4].workups[3].details': 'The ether solution was washed four times with water',\n 'reactions[4].workups[3].input.components[0].identifiers[0].type': 'NAME',\n 'reactions[4].workups[3].input.components[0].identifiers[0].value': 'ether',\n 'reactions[4].workups[3].input.components[0].identifiers[1].type': 'SMILES',\n 'reactions[4].workups[3].input.components[0].identifiers[1].value': 'CCOCC',\n 'reactions[4].workups[3].input.components[0].identifiers[2].type': 'INCHI',\n 'reactions[4].workups[3].input.components[0].identifiers[2].value': 'InChI=1S/C4H10O/c1-3-5-4-2/h3-4H2,1-2H3',\n 'reactions[4].workups[3].input.components[0].amount.moles.value': 0.0,\n 'reactions[4].workups[3].input.components[0].amount.moles.precision': 1.0,\n 'reactions[4].workups[3].input.components[0].amount.moles.units': 'MOLE',\n 'reactions[4].workups[3].input.components[0].reaction_role': 'WORKUP',\n 'reactions[4].workups[3].input.components[1].identifiers[0].type': 'NAME',\n 'reactions[4].workups[3].input.components[1].identifiers[0].value': 'water',\n 'reactions[4].workups[3].input.components[1].identifiers[1].type': 'SMILES',\n 'reactions[4].workups[3].input.components[1].identifiers[1].value': 'O',\n 'reactions[4].workups[3].input.components[1].identifiers[2].type': 'INCHI',\n 'reactions[4].workups[3].input.components[1].identifiers[2].value': 'InChI=1S/H2O/h1H2',\n 'reactions[4].workups[3].input.components[1].amount.moles.value': 0.0,\n 'reactions[4].workups[3].input.components[1].amount.moles.precision': 1.0,\n 'reactions[4].workups[3].input.components[1].amount.moles.units': 'MOLE',\n 'reactions[4].workups[3].input.components[1].reaction_role': 'WORKUP',\n 'reactions[4].workups[4].type': 'DRY_WITH_MATERIAL',\n 'reactions[4].workups[4].details': 'dried over magnesium sulfate',\n 'reactions[4].workups[4].input.components[0].identifiers[0].type': 'NAME',\n 'reactions[4].workups[4].input.components[0].identifiers[0].value': 'magnesium sulfate',\n 'reactions[4].workups[4].input.components[0].identifiers[1].type': 'SMILES',\n 'reactions[4].workups[4].input.components[0].identifiers[1].value': 'S(=O)(=O)([O-])[O-].[Mg+2]',\n 'reactions[4].workups[4].input.components[0].identifiers[2].type': 'INCHI',\n 'reactions[4].workups[4].input.components[0].identifiers[2].value': 'InChI=1S/Mg.H2O4S/c;1-5(2,3)4/h;(H2,1,2,3,4)/q+2;/p-2',\n 'reactions[4].workups[4].input.components[0].amount.moles.value': 0.0,\n 'reactions[4].workups[4].input.components[0].amount.moles.precision': 1.0,\n 'reactions[4].workups[4].input.components[0].amount.moles.units': 'MOLE',\n 'reactions[4].workups[4].input.components[0].reaction_role': 'WORKUP',\n 'reactions[4].workups[5].type': 'CUSTOM',\n 'reactions[4].workups[5].details': 'Removal of solvent under reduced pressure',\n 'reactions[4].workups[6].type': 'CUSTOM',\n 'reactions[4].workups[6].details': 'yielded 18.27 grams (93.1% crude yield) of a yellow oil',\n 'reactions[4].workups[7].type': 'DISTILLATION',\n 'reactions[4].workups[7].details': 'Vacuum distillation',\n 'reactions[4].outcomes[0].reaction_time.value': 18.0,\n 'reactions[4].outcomes[0].reaction_time.units': 'HOUR',\n 'reactions[4].outcomes[0].products[0].identifiers[0].type': 'NAME',\n 'reactions[4].outcomes[0].products[0].identifiers[0].value': '2,3-dimethylpent-3-yl allyl carbonate',\n 'reactions[4].outcomes[0].products[0].identifiers[1].type': 'SMILES',\n 'reactions[4].outcomes[0].products[0].identifiers[1].value': 'C(OC(C(C)C)(CC)C)(OCC=C)=O',\n 'reactions[4].outcomes[0].products[0].identifiers[2].type': 'INCHI',\n 'reactions[4].outcomes[0].products[0].identifiers[2].value': 'InChI=1S/C11H20O3/c1-6-8-13-10(12)14-11(5,7-2)9(3)4/h6,9H,1,7-8H2,2-5H3',\n 'reactions[4].outcomes[0].products[0].measurements[0].type': 'AMOUNT',\n 'reactions[4].outcomes[0].products[0].measurements[0].details': 'MASS',\n 'reactions[4].outcomes[0].products[0].measurements[0].amount.mass.value': 10.789999961853027,\n 'reactions[4].outcomes[0].products[0].measurements[0].amount.mass.units': 'GRAM',\n 'reactions[4].outcomes[0].products[0].measurements[1].type': 'YIELD',\n 'reactions[4].outcomes[0].products[0].measurements[1].details': 'CALCULATEDPERCENTYIELD',\n 'reactions[4].outcomes[0].products[0].measurements[1].percentage.value': 53.900001525878906,\n 'reactions[4].outcomes[0].products[0].reaction_role': 'PRODUCT',\n 'reactions[4].provenance.doi': '10.6084/m9.figshare.5104873.v1',\n 'reactions[4].provenance.patent': 'US04092988',\n 'reactions[4].provenance.record_created.time.value': '2022-12-02 16:40:50.970534',\n 'reactions[4].provenance.record_created.person.username': 'skearnes',\n 'reactions[4].provenance.record_created.person.name': 'Steven Kearnes',\n 'reactions[4].provenance.record_created.person.orcid': '0000-0003-4579-4388',\n 'reactions[4].provenance.record_created.person.organization': 'Google LLC',\n 'reactions[4].provenance.record_created.person.email': 'kearnes@google.com',\n 'reactions[4].provenance.record_modified[0].time.value': 'Mon Dec  5 19:09:32 2022',\n 'reactions[4].provenance.record_modified[0].person.username': 'github-actions',\n 'reactions[4].provenance.record_modified[0].person.email': 'github-actions@github.com',\n 'reactions[4].provenance.record_modified[0].details': 'Automatic updates from the submission pipeline.',\n 'reactions[4].reaction_id': 'ord-ab4cdb8115e948d8b76618b248b2a44c',\n 'reactions[5].identifiers[0].type': 'REACTION_CXSMILES',\n 'reactions[5].identifiers[0].value': '[CH3:1][CH:2]([C:4]([CH3:8])([OH:7])[CH2:5][CH3:6])[CH3:3].C[Li].Cl[C:12]([O:14][CH2:15][C:16](=[CH2:18])[CH3:17])=[O:13].O>O1CCCC1.C(OCC)C>[C:12](=[O:13])([O:14][CH2:15][C:16](=[CH2:17])[CH3:18])[O:7][C:4]([CH3:8])([CH2:5][CH3:6])[CH:2]([CH3:3])[CH3:1]',\n 'reactions[5].identifiers[0].is_mapped': True,\n 'reactions[5].inputs[\"m1_m5\"].components[0].identifiers[0].type': 'NAME',\n 'reactions[5].inputs[\"m1_m5\"].components[0].identifiers[0].value': '2,3-dimethylpentan-3-ol',\n 'reactions[5].inputs[\"m1_m5\"].components[0].identifiers[1].type': 'SMILES',\n 'reactions[5].inputs[\"m1_m5\"].components[0].identifiers[1].value': 'CC(C)C(CC)(O)C',\n 'reactions[5].inputs[\"m1_m5\"].components[0].identifiers[2].type': 'INCHI',\n 'reactions[5].inputs[\"m1_m5\"].components[0].identifiers[2].value': 'InChI=1S/C7H16O/c1-5-7(4,8)6(2)3/h6,8H,5H2,1-4H3',\n 'reactions[5].inputs[\"m1_m5\"].components[0].amount.mass.value': 13.9399995803833,\n 'reactions[5].inputs[\"m1_m5\"].components[0].amount.mass.units': 'GRAM',\n 'reactions[5].inputs[\"m1_m5\"].components[0].reaction_role': 'REACTANT',\n 'reactions[5].inputs[\"m1_m5\"].components[1].identifiers[0].type': 'NAME',\n 'reactions[5].inputs[\"m1_m5\"].components[1].identifiers[0].value': 'tetrahydrofuran',\n 'reactions[5].inputs[\"m1_m5\"].components[1].identifiers[1].type': 'SMILES',\n 'reactions[5].inputs[\"m1_m5\"].components[1].identifiers[1].value': 'O1CCCC1',\n 'reactions[5].inputs[\"m1_m5\"].components[1].identifiers[2].type': 'INCHI',\n 'reactions[5].inputs[\"m1_m5\"].components[1].identifiers[2].value': 'InChI=1S/C4H8O/c1-2-4-5-3-1/h1-4H2',\n 'reactions[5].inputs[\"m1_m5\"].components[1].amount.volume.value': 75.0,\n 'reactions[5].inputs[\"m1_m5\"].components[1].amount.volume.units': 'MILLILITER',\n 'reactions[5].inputs[\"m1_m5\"].components[1].reaction_role': 'SOLVENT',\n 'reactions[5].inputs[\"m2_m6\"].components[0].identifiers[0].type': 'NAME',\n 'reactions[5].inputs[\"m2_m6\"].components[0].identifiers[0].value': 'methyllithium',\n 'reactions[5].inputs[\"m2_m6\"].components[0].identifiers[1].type': 'SMILES',\n 'reactions[5].inputs[\"m2_m6\"].components[0].identifiers[1].value': 'C[Li]',\n 'reactions[5].inputs[\"m2_m6\"].components[0].identifiers[2].type': 'INCHI',\n 'reactions[5].inputs[\"m2_m6\"].components[0].identifiers[2].value': 'InChI=1S/CH3.Li/h1H3;',\n 'reactions[5].inputs[\"m2_m6\"].components[0].amount.moles.value': 0.0,\n 'reactions[5].inputs[\"m2_m6\"].components[0].amount.moles.precision': 1.0,\n 'reactions[5].inputs[\"m2_m6\"].components[0].amount.moles.units': 'MOLE',\n 'reactions[5].inputs[\"m2_m6\"].components[0].reaction_role': 'REACTANT',\n 'reactions[5].inputs[\"m2_m6\"].components[1].identifiers[0].type': 'NAME',\n 'reactions[5].inputs[\"m2_m6\"].components[1].identifiers[0].value': 'diethyl ether',\n 'reactions[5].inputs[\"m2_m6\"].components[1].identifiers[1].type': 'SMILES',\n 'reactions[5].inputs[\"m2_m6\"].components[1].identifiers[1].value': 'C(C)OCC',\n 'reactions[5].inputs[\"m2_m6\"].components[1].identifiers[2].type': 'INCHI',\n 'reactions[5].inputs[\"m2_m6\"].components[1].identifiers[2].value': 'InChI=1S/C4H10O/c1-3-5-4-2/h3-4H2,1-2H3',\n 'reactions[5].inputs[\"m2_m6\"].components[1].amount.moles.value': 0.0,\n 'reactions[5].inputs[\"m2_m6\"].components[1].amount.moles.precision': 1.0,\n 'reactions[5].inputs[\"m2_m6\"].components[1].amount.moles.units': 'MOLE',\n 'reactions[5].inputs[\"m2_m6\"].components[1].reaction_role': 'SOLVENT',\n 'reactions[5].inputs[\"m4\"].components[0].identifiers[0].type': 'NAME',\n 'reactions[5].inputs[\"m4\"].components[0].identifiers[0].value': 'water',\n 'reactions[5].inputs[\"m4\"].components[0].identifiers[1].type': 'SMILES',\n 'reactions[5].inputs[\"m4\"].components[0].identifiers[1].value': 'O',\n 'reactions[5].inputs[\"m4\"].components[0].identifiers[2].type': 'INCHI',\n 'reactions[5].inputs[\"m4\"].components[0].identifiers[2].value': 'InChI=1S/H2O/h1H2',\n 'reactions[5].inputs[\"m4\"].components[0].amount.moles.value': 0.0,\n 'reactions[5].inputs[\"m4\"].components[0].amount.moles.precision': 1.0,\n 'reactions[5].inputs[\"m4\"].components[0].amount.moles.units': 'MOLE',\n 'reactions[5].inputs[\"m4\"].components[0].reaction_role': 'REACTANT',\n 'reactions[5].inputs[\"m3_m7\"].components[0].identifiers[0].type': 'NAME',\n 'reactions[5].inputs[\"m3_m7\"].components[0].identifiers[0].value': 'methallyl chloroformate',\n 'reactions[5].inputs[\"m3_m7\"].components[0].identifiers[1].type': 'SMILES',\n 'reactions[5].inputs[\"m3_m7\"].components[0].identifiers[1].value': 'ClC(=O)OCC(C)=C',\n 'reactions[5].inputs[\"m3_m7\"].components[0].identifiers[2].type': 'INCHI',\n 'reactions[5].inputs[\"m3_m7\"].components[0].identifiers[2].value': 'InChI=1S/C5H7ClO2/c1-4(2)3-8-5(6)7/h1,3H2,2H3',\n 'reactions[5].inputs[\"m3_m7\"].components[0].amount.mass.value': 19.309999465942383,\n 'reactions[5].inputs[\"m3_m7\"].components[0].amount.mass.units': 'GRAM',\n 'reactions[5].inputs[\"m3_m7\"].components[0].reaction_role': 'REACTANT',\n 'reactions[5].inputs[\"m3_m7\"].components[1].identifiers[0].type': 'NAME',\n 'reactions[5].inputs[\"m3_m7\"].components[1].identifiers[0].value': 'tetrahydrofuran',\n 'reactions[5].inputs[\"m3_m7\"].components[1].identifiers[1].type': 'SMILES',\n 'reactions[5].inputs[\"m3_m7\"].components[1].identifiers[1].value': 'O1CCCC1',\n 'reactions[5].inputs[\"m3_m7\"].components[1].identifiers[2].type': 'INCHI',\n 'reactions[5].inputs[\"m3_m7\"].components[1].identifiers[2].value': 'InChI=1S/C4H8O/c1-2-4-5-3-1/h1-4H2',\n 'reactions[5].inputs[\"m3_m7\"].components[1].amount.volume.value': 25.0,\n 'reactions[5].inputs[\"m3_m7\"].components[1].amount.volume.units': 'MILLILITER',\n 'reactions[5].inputs[\"m3_m7\"].components[1].reaction_role': 'SOLVENT',\n 'reactions[5].conditions.temperature.setpoint.value': 0.0,\n 'reactions[5].conditions.temperature.setpoint.units': 'CELSIUS',\n 'reactions[5].conditions.stirring.type': 'CUSTOM',\n 'reactions[5].conditions.stirring.details': 'the reaction mixture was stirred for about 18 hours',\n 'reactions[5].conditions.conditions_are_dynamic': True,\n 'reactions[5].conditions.details': 'See reaction.notes.procedure_details.',\n 'reactions[5].notes.procedure_details': 'To a solution of 13.94 grams (0.12 mole) of 2,3-dimethylpentan-3-ol in 75 milliliters of anhydrous tetrahydrofuran at 0° C under a nitrogen atmosphere was added with stirring one equivalent of methyllithium in diethyl ether. Then 19.31 grams (0.14 mole) of methallyl chloroformate in 25 milliliters of anhydrous tetrahydrofuran was added. During additions the temperature was maintained at 0° C. Cooling was discontinued and the reaction mixture was stirred for about 18 hours. The reaction mixture was poured into water, and then extracted with ether. The ether layer was separated and washed with water, and then dried over magnesium sulfate. Removal of solvent under reduced pressure yielded 24.32 grams (94.6%) of a yellow oil. A pure sample was obtained by vacuum distillation (Fraction 2).',\n 'reactions[5].workups[0].type': 'TEMPERATURE',\n 'reactions[5].workups[0].details': 'Cooling',\n 'reactions[5].workups[1].type': 'EXTRACTION',\n 'reactions[5].workups[1].details': 'extracted with ether',\n 'reactions[5].workups[1].input.components[0].identifiers[0].type': 'NAME',\n 'reactions[5].workups[1].input.components[0].identifiers[0].value': 'ether',\n 'reactions[5].workups[1].input.components[0].identifiers[1].type': 'SMILES',\n 'reactions[5].workups[1].input.components[0].identifiers[1].value': 'CCOCC',\n 'reactions[5].workups[1].input.components[0].identifiers[2].type': 'INCHI',\n 'reactions[5].workups[1].input.components[0].identifiers[2].value': 'InChI=1S/C4H10O/c1-3-5-4-2/h3-4H2,1-2H3',\n 'reactions[5].workups[1].input.components[0].amount.moles.value': 0.0,\n 'reactions[5].workups[1].input.components[0].amount.moles.precision': 1.0,\n 'reactions[5].workups[1].input.components[0].amount.moles.units': 'MOLE',\n 'reactions[5].workups[1].input.components[0].reaction_role': 'WORKUP',\n 'reactions[5].workups[2].type': 'CUSTOM',\n 'reactions[5].workups[2].details': 'The ether layer was separated',\n 'reactions[5].workups[2].input.components[0].identifiers[0].type': 'NAME',\n 'reactions[5].workups[2].input.components[0].identifiers[0].value': 'ether',\n 'reactions[5].workups[2].input.components[0].identifiers[1].type': 'SMILES',\n 'reactions[5].workups[2].input.components[0].identifiers[1].value': 'CCOCC',\n 'reactions[5].workups[2].input.components[0].identifiers[2].type': 'INCHI',\n 'reactions[5].workups[2].input.components[0].identifiers[2].value': 'InChI=1S/C4H10O/c1-3-5-4-2/h3-4H2,1-2H3',\n 'reactions[5].workups[2].input.components[0].amount.moles.value': 0.0,\n 'reactions[5].workups[2].input.components[0].amount.moles.precision': 1.0,\n 'reactions[5].workups[2].input.components[0].amount.moles.units': 'MOLE',\n 'reactions[5].workups[2].input.components[0].reaction_role': 'WORKUP',\n 'reactions[5].workups[3].type': 'WASH',\n 'reactions[5].workups[3].details': 'washed with water',\n 'reactions[5].workups[3].input.components[0].identifiers[0].type': 'NAME',\n 'reactions[5].workups[3].input.components[0].identifiers[0].value': 'water',\n 'reactions[5].workups[3].input.components[0].identifiers[1].type': 'SMILES',\n 'reactions[5].workups[3].input.components[0].identifiers[1].value': 'O',\n 'reactions[5].workups[3].input.components[0].identifiers[2].type': 'INCHI',\n 'reactions[5].workups[3].input.components[0].identifiers[2].value': 'InChI=1S/H2O/h1H2',\n 'reactions[5].workups[3].input.components[0].amount.moles.value': 0.0,\n 'reactions[5].workups[3].input.components[0].amount.moles.precision': 1.0,\n 'reactions[5].workups[3].input.components[0].amount.moles.units': 'MOLE',\n 'reactions[5].workups[3].input.components[0].reaction_role': 'WORKUP',\n 'reactions[5].workups[4].type': 'DRY_WITH_MATERIAL',\n 'reactions[5].workups[4].details': 'dried over magnesium sulfate',\n 'reactions[5].workups[4].input.components[0].identifiers[0].type': 'NAME',\n 'reactions[5].workups[4].input.components[0].identifiers[0].value': 'magnesium sulfate',\n 'reactions[5].workups[4].input.components[0].identifiers[1].type': 'SMILES',\n 'reactions[5].workups[4].input.components[0].identifiers[1].value': 'S(=O)(=O)([O-])[O-].[Mg+2]',\n 'reactions[5].workups[4].input.components[0].identifiers[2].type': 'INCHI',\n 'reactions[5].workups[4].input.components[0].identifiers[2].value': 'InChI=1S/Mg.H2O4S/c;1-5(2,3)4/h;(H2,1,2,3,4)/q+2;/p-2',\n 'reactions[5].workups[4].input.components[0].amount.moles.value': 0.0,\n 'reactions[5].workups[4].input.components[0].amount.moles.precision': 1.0,\n 'reactions[5].workups[4].input.components[0].amount.moles.units': 'MOLE',\n 'reactions[5].workups[4].input.components[0].reaction_role': 'WORKUP',\n 'reactions[5].workups[5].type': 'CUSTOM',\n 'reactions[5].workups[5].details': 'Removal of solvent under reduced pressure',\n 'reactions[5].outcomes[0].reaction_time.value': 18.0,\n 'reactions[5].outcomes[0].reaction_time.units': 'HOUR',\n 'reactions[5].outcomes[0].products[0].identifiers[0].type': 'NAME',\n 'reactions[5].outcomes[0].products[0].identifiers[0].value': 'yellow oil',\n 'reactions[5].outcomes[0].products[0].identifiers[1].type': 'NAME',\n 'reactions[5].outcomes[0].products[0].identifiers[1].value': '2,3-Dimethylpent-3-yl Methallyl Carbonate',\n 'reactions[5].outcomes[0].products[0].identifiers[2].type': 'SMILES',\n 'reactions[5].outcomes[0].products[0].identifiers[2].value': 'C(OC(C(C)C)(CC)C)(OCC(C)=C)=O',\n 'reactions[5].outcomes[0].products[0].identifiers[3].type': 'INCHI',\n 'reactions[5].outcomes[0].products[0].identifiers[3].value': 'InChI=1S/C12H22O3/c1-7-12(6,10(4)5)15-11(13)14-8-9(2)3/h10H,2,7-8H2,1,3-6H3',\n 'reactions[5].outcomes[0].products[0].measurements[0].type': 'AMOUNT',\n 'reactions[5].outcomes[0].products[0].measurements[0].details': 'MASS',\n 'reactions[5].outcomes[0].products[0].measurements[0].amount.mass.value': 24.31999969482422,\n 'reactions[5].outcomes[0].products[0].measurements[0].amount.mass.units': 'GRAM',\n 'reactions[5].outcomes[0].products[0].measurements[1].type': 'YIELD',\n 'reactions[5].outcomes[0].products[0].measurements[1].details': 'PERCENTYIELD',\n 'reactions[5].outcomes[0].products[0].measurements[1].percentage.value': 94.5999984741211,\n 'reactions[5].outcomes[0].products[0].measurements[2].type': 'YIELD',\n 'reactions[5].outcomes[0].products[0].measurements[2].details': 'CALCULATEDPERCENTYIELD',\n 'reactions[5].outcomes[0].products[0].measurements[2].percentage.value': 94.5999984741211,\n 'reactions[5].outcomes[0].products[0].isolated_color': 'yellow',\n 'reactions[5].outcomes[0].products[0].texture.type': 'OIL',\n 'reactions[5].outcomes[0].products[0].texture.details': 'oil',\n 'reactions[5].outcomes[0].products[0].reaction_role': 'PRODUCT',\n 'reactions[5].provenance.doi': '10.6084/m9.figshare.5104873.v1',\n 'reactions[5].provenance.patent': 'US04092988',\n 'reactions[5].provenance.record_created.time.value': '2022-12-02 16:40:50.990588',\n 'reactions[5].provenance.record_created.person.username': 'skearnes',\n 'reactions[5].provenance.record_created.person.name': 'Steven Kearnes',\n 'reactions[5].provenance.record_created.person.orcid': '0000-0003-4579-4388',\n 'reactions[5].provenance.record_created.person.organization': 'Google LLC',\n 'reactions[5].provenance.record_created.person.email': 'kearnes@google.com',\n 'reactions[5].provenance.record_modified[0].time.value': 'Mon Dec  5 19:09:32 2022',\n 'reactions[5].provenance.record_modified[0].person.username': 'github-actions',\n 'reactions[5].provenance.record_modified[0].person.email': 'github-actions@github.com',\n 'reactions[5].provenance.record_modified[0].details': 'Automatic updates from the submission pipeline.',\n 'reactions[5].reaction_id': 'ord-627e7d89d7424008841fee1e77b588c0',\n 'reactions[6].identifiers[0].type': 'REACTION_CXSMILES',\n 'reactions[6].identifiers[0].value': '[N-:1]=[C:2]=[O:3].[NH2:4][CH:5]([C:10]([OH:12])=O)[CH2:6][CH2:7][S:8][CH3:9].N1C=CC=CC=1.N[CH2:20][CH2:21][C:22]([OH:24])=[O:23]>CO>[C:22]([CH2:21][CH2:20][N:1]1[C:10](=[O:12])[CH:5]([CH2:6][CH2:7][S:8][CH3:9])[NH:4][C:2]1=[O:3])([OH:24])=[O:23]',\n 'reactions[6].identifiers[0].is_mapped': True,\n 'reactions[6].inputs[\"m1_m2_m3_m4_m5\"].components[0].identifiers[0].type': 'NAME',\n 'reactions[6].inputs[\"m1_m2_m3_m4_m5\"].components[0].identifiers[0].value': 'isocyanate',\n 'reactions[6].inputs[\"m1_m2_m3_m4_m5\"].components[0].identifiers[1].type': 'SMILES',\n 'reactions[6].inputs[\"m1_m2_m3_m4_m5\"].components[0].identifiers[1].value': '[N-]=C=O',\n 'reactions[6].inputs[\"m1_m2_m3_m4_m5\"].components[0].identifiers[2].type': 'INCHI',\n 'reactions[6].inputs[\"m1_m2_m3_m4_m5\"].components[0].identifiers[2].value': 'InChI=1S/CNO/c2-1-3/q-1',\n 'reactions[6].inputs[\"m1_m2_m3_m4_m5\"].components[0].amount.mass.value': 189.0,\n 'reactions[6].inputs[\"m1_m2_m3_m4_m5\"].components[0].amount.mass.units': 'GRAM',\n 'reactions[6].inputs[\"m1_m2_m3_m4_m5\"].components[0].reaction_role': 'REACTANT',\n 'reactions[6].inputs[\"m1_m2_m3_m4_m5\"].components[1].identifiers[0].type': 'NAME',\n 'reactions[6].inputs[\"m1_m2_m3_m4_m5\"].components[1].identifiers[0].value': 'methyl ester',\n 'reactions[6].inputs[\"m1_m2_m3_m4_m5\"].components[1].amount.moles.value': 0.0,\n 'reactions[6].inputs[\"m1_m2_m3_m4_m5\"].components[1].amount.moles.precision': 1.0,\n 'reactions[6].inputs[\"m1_m2_m3_m4_m5\"].components[1].amount.moles.units': 'MOLE',\n 'reactions[6].inputs[\"m1_m2_m3_m4_m5\"].components[1].reaction_role': 'REACTANT',\n 'reactions[6].inputs[\"m1_m2_m3_m4_m5\"].components[2].identifiers[0].type': 'NAME',\n 'reactions[6].inputs[\"m1_m2_m3_m4_m5\"].components[2].identifiers[0].value': 'dl-methionine',\n 'reactions[6].inputs[\"m1_m2_m3_m4_m5\"].components[2].identifiers[1].type': 'SMILES',\n 'reactions[6].inputs[\"m1_m2_m3_m4_m5\"].components[2].identifiers[1].value': 'NC(CCSC)C(=O)O',\n 'reactions[6].inputs[\"m1_m2_m3_m4_m5\"].components[2].identifiers[2].type': 'INCHI',\n 'reactions[6].inputs[\"m1_m2_m3_m4_m5\"].components[2].identifiers[2].value': 'InChI=1S/C5H11NO2S/c1-9-3-2-4(6)5(7)8/h4H,2-3,6H2,1H3,(H,7,8)',\n 'reactions[6].inputs[\"m1_m2_m3_m4_m5\"].components[2].amount.moles.value': 0.0,\n 'reactions[6].inputs[\"m1_m2_m3_m4_m5\"].components[2].amount.moles.precision': 1.0,\n 'reactions[6].inputs[\"m1_m2_m3_m4_m5\"].components[2].amount.moles.units': 'MOLE',\n 'reactions[6].inputs[\"m1_m2_m3_m4_m5\"].components[2].reaction_role': 'REACTANT',\n 'reactions[6].inputs[\"m1_m2_m3_m4_m5\"].components[3].identifiers[0].type': 'NAME',\n 'reactions[6].inputs[\"m1_m2_m3_m4_m5\"].components[3].identifiers[0].value': 'pyridine',\n 'reactions[6].inputs[\"m1_m2_m3_m4_m5\"].components[3].identifiers[1].type': 'SMILES',\n 'reactions[6].inputs[\"m1_m2_m3_m4_m5\"].components[3].identifiers[1].value': 'N1=CC=CC=C1',\n 'reactions[6].inputs[\"m1_m2_m3_m4_m5\"].components[3].identifiers[2].type': 'INCHI',\n 'reactions[6].inputs[\"m1_m2_m3_m4_m5\"].components[3].identifiers[2].value': 'InChI=1S/C5H5N/c1-2-4-6-5-3-1/h1-5H',\n 'reactions[6].inputs[\"m1_m2_m3_m4_m5\"].components[3].amount.moles.value': 0.0,\n 'reactions[6].inputs[\"m1_m2_m3_m4_m5\"].components[3].amount.moles.precision': 1.0,\n 'reactions[6].inputs[\"m1_m2_m3_m4_m5\"].components[3].amount.moles.units': 'MOLE',\n 'reactions[6].inputs[\"m1_m2_m3_m4_m5\"].components[3].reaction_role': 'REACTANT',\n 'reactions[6].inputs[\"m1_m2_m3_m4_m5\"].components[4].identifiers[0].type': 'NAME',\n 'reactions[6].inputs[\"m1_m2_m3_m4_m5\"].components[4].identifiers[0].value': 'β-alanine',\n 'reactions[6].inputs[\"m1_m2_m3_m4_m5\"].components[4].identifiers[1].type': 'SMILES',\n 'reactions[6].inputs[\"m1_m2_m3_m4_m5\"].components[4].identifiers[1].value': 'NCCC(=O)O',\n 'reactions[6].inputs[\"m1_m2_m3_m4_m5\"].components[4].identifiers[2].type': 'INCHI',\n 'reactions[6].inputs[\"m1_m2_m3_m4_m5\"].components[4].identifiers[2].value': 'InChI=1S/C3H7NO2/c4-2-1-3(5)6/h1-2,4H2,(H,5,6)',\n 'reactions[6].inputs[\"m1_m2_m3_m4_m5\"].components[4].amount.mass.value': 89.0,\n 'reactions[6].inputs[\"m1_m2_m3_m4_m5\"].components[4].amount.mass.units': 'GRAM',\n 'reactions[6].inputs[\"m1_m2_m3_m4_m5\"].components[4].reaction_role': 'REACTANT',\n 'reactions[6].inputs[\"m6\"].components[0].identifiers[0].type': 'NAME',\n 'reactions[6].inputs[\"m6\"].components[0].identifiers[0].value': 'methanol',\n 'reactions[6].inputs[\"m6\"].components[0].identifiers[1].type': 'SMILES',\n 'reactions[6].inputs[\"m6\"].components[0].identifiers[1].value': 'CO',\n 'reactions[6].inputs[\"m6\"].components[0].identifiers[2].type': 'INCHI',\n 'reactions[6].inputs[\"m6\"].components[0].identifiers[2].value': 'InChI=1S/CH4O/c1-2/h2H,1H3',\n 'reactions[6].inputs[\"m6\"].components[0].amount.moles.value': 0.0,\n 'reactions[6].inputs[\"m6\"].components[0].amount.moles.precision': 1.0,\n 'reactions[6].inputs[\"m6\"].components[0].amount.moles.units': 'MOLE',\n 'reactions[6].inputs[\"m6\"].components[0].reaction_role': 'SOLVENT',\n 'reactions[6].conditions.conditions_are_dynamic': True,\n 'reactions[6].conditions.details': 'See reaction.notes.procedure_details.',\n 'reactions[6].notes.procedure_details': '189 g (1 mole) of the isocyanate derivative of the methyl ester of dl-methionine are poured slowly into a pyridine solution of β-alanine (89 g, 1 mole). The reaction takes place spontaneously, accompanied by the elimination of methanol. The reaction medium is then concentrated to dryness under reduced pressure. The residue is purified by recrystallisation from dichlorethane.',\n 'reactions[6].workups[0].type': 'CONCENTRATION',\n 'reactions[6].workups[0].details': 'The reaction medium is then concentrated to dryness under reduced pressure',\n 'reactions[6].workups[1].type': 'CUSTOM',\n 'reactions[6].workups[1].details': 'The residue is purified by recrystallisation from dichlorethane',\n 'reactions[6].workups[1].input.components[0].identifiers[0].type': 'NAME',\n 'reactions[6].workups[1].input.components[0].identifiers[0].value': 'dichlorethane',\n 'reactions[6].workups[1].input.components[0].identifiers[1].type': 'SMILES',\n 'reactions[6].workups[1].input.components[0].identifiers[1].value': 'ClC(C)Cl',\n 'reactions[6].workups[1].input.components[0].identifiers[2].type': 'INCHI',\n 'reactions[6].workups[1].input.components[0].identifiers[2].value': 'InChI=1S/C2H4Cl2/c1-2(3)4/h2H,1H3',\n 'reactions[6].workups[1].input.components[0].amount.moles.value': 0.0,\n 'reactions[6].workups[1].input.components[0].amount.moles.precision': 1.0,\n 'reactions[6].workups[1].input.components[0].amount.moles.units': 'MOLE',\n 'reactions[6].workups[1].input.components[0].reaction_role': 'WORKUP',\n 'reactions[6].outcomes[0].products[0].identifiers[0].type': 'NAME',\n 'reactions[6].outcomes[0].products[0].identifiers[0].value': '3-carboxyethyl-5-methylthioethyl hydantoin',\n 'reactions[6].outcomes[0].products[0].identifiers[1].type': 'SMILES',\n 'reactions[6].outcomes[0].products[0].identifiers[1].value': 'C(=O)(O)CCN1C(NC(C1=O)CCSC)=O',\n 'reactions[6].outcomes[0].products[0].identifiers[2].type': 'INCHI',\n 'reactions[6].outcomes[0].products[0].identifiers[2].value': 'InChI=1S/C9H14N2O4S/c1-16-5-3-6-8(14)11(9(15)10-6)4-2-7(12)13/h6H,2-5H2,1H3,(H,10,15)(H,12,13)',\n 'reactions[6].provenance.doi': '10.6084/m9.figshare.5104873.v1',\n 'reactions[6].provenance.patent': 'US04093444',\n 'reactions[6].provenance.record_created.time.value': '2022-12-02 16:40:51.011411',\n 'reactions[6].provenance.record_created.person.username': 'skearnes',\n 'reactions[6].provenance.record_created.person.name': 'Steven Kearnes',\n 'reactions[6].provenance.record_created.person.orcid': '0000-0003-4579-4388',\n 'reactions[6].provenance.record_created.person.organization': 'Google LLC',\n 'reactions[6].provenance.record_created.person.email': 'kearnes@google.com',\n 'reactions[6].provenance.record_modified[0].time.value': 'Mon Dec  5 19:09:32 2022',\n 'reactions[6].provenance.record_modified[0].person.username': 'github-actions',\n 'reactions[6].provenance.record_modified[0].person.email': 'github-actions@github.com',\n 'reactions[6].provenance.record_modified[0].details': 'Automatic updates from the submission pipeline.',\n 'reactions[6].reaction_id': 'ord-ee2b4fc91f4344e6b74031011d37c05d',\n 'reactions[7].identifiers[0].type': 'REACTION_CXSMILES',\n 'reactions[7].identifiers[0].value': '[C:1]1([N:7]2[C:11](=[O:12])[CH:10]([CH2:13][CH2:14][S:15][CH3:16])[NH:9][C:8]2=[O:17])[CH:6]=[CH:5][CH:4]=[CH:3][CH:2]=1.S([O-])(O[CH3:22])(=O)=O.C(=O)([O-])[O-].[K+].[K+]>CC(C)=O>[CH3:22][N:9]1[CH:10]([CH2:13][CH2:14][S:15][CH3:16])[C:11](=[O:12])[N:7]([C:1]2[CH:2]=[CH:3][CH:4]=[CH:5][CH:6]=2)[C:8]1=[O:17] |f:2.3.4|',\n 'reactions[7].identifiers[0].is_mapped': True,\n 'reactions[7].inputs[\"m1\"].components[0].identifiers[0].type': 'NAME',\n 'reactions[7].inputs[\"m1\"].components[0].identifiers[0].value': '3-phenyl-5-methylthioethyl hydantoin',\n 'reactions[7].inputs[\"m1\"].components[0].identifiers[1].type': 'SMILES',\n 'reactions[7].inputs[\"m1\"].components[0].identifiers[1].value': 'C1(=CC=CC=C1)N1C(NC(C1=O)CCSC)=O',\n 'reactions[7].inputs[\"m1\"].components[0].identifiers[2].type': 'INCHI',\n 'reactions[7].inputs[\"m1\"].components[0].identifiers[2].value': 'InChI=1S/C12H14N2O2S/c1-17-8-7-10-11(15)14(12(16)13-10)9-5-3-2-4-6-9/h2-6,10H,7-8H2,1H3,(H,13,16)',\n 'reactions[7].inputs[\"m1\"].components[0].amount.mass.value': 250.0,\n 'reactions[7].inputs[\"m1\"].components[0].amount.mass.units': 'GRAM',\n 'reactions[7].inputs[\"m1\"].components[0].reaction_role': 'REACTANT',\n 'reactions[7].inputs[\"m4\"].components[0].identifiers[0].type': 'NAME',\n 'reactions[7].inputs[\"m4\"].components[0].identifiers[0].value': 'acetone',\n 'reactions[7].inputs[\"m4\"].components[0].identifiers[1].type': 'SMILES',\n 'reactions[7].inputs[\"m4\"].components[0].identifiers[1].value': 'CC(=O)C',\n 'reactions[7].inputs[\"m4\"].components[0].identifiers[2].type': 'INCHI',\n 'reactions[7].inputs[\"m4\"].components[0].identifiers[2].value': 'InChI=1S/C3H6O/c1-3(2)4/h1-2H3',\n 'reactions[7].inputs[\"m4\"].components[0].amount.moles.value': 0.0,\n 'reactions[7].inputs[\"m4\"].components[0].amount.moles.precision': 1.0,\n 'reactions[7].inputs[\"m4\"].components[0].amount.moles.units': 'MOLE',\n 'reactions[7].inputs[\"m4\"].components[0].reaction_role': 'SOLVENT',\n 'reactions[7].inputs[\"m2\"].components[0].identifiers[0].type': 'NAME',\n 'reactions[7].inputs[\"m2\"].components[0].identifiers[0].value': 'methyl sulphate',\n 'reactions[7].inputs[\"m2\"].components[0].identifiers[1].type': 'SMILES',\n 'reactions[7].inputs[\"m2\"].components[0].identifiers[1].value': 'S(=O)(=O)(OC)[O-]',\n 'reactions[7].inputs[\"m2\"].components[0].identifiers[2].type': 'INCHI',\n 'reactions[7].inputs[\"m2\"].components[0].identifiers[2].value': 'InChI=1S/CH4O4S/c1-5-6(2,3)4/h1H3,(H,2,3,4)/p-1',\n 'reactions[7].inputs[\"m2\"].components[0].amount.mass.value': 126.0,\n 'reactions[7].inputs[\"m2\"].components[0].amount.mass.units': 'GRAM',\n 'reactions[7].inputs[\"m2\"].components[0].reaction_role': 'REACTANT',\n 'reactions[7].inputs[\"m5\"].components[0].identifiers[0].type': 'NAME',\n 'reactions[7].inputs[\"m5\"].components[0].identifiers[0].value': 'acetone',\n 'reactions[7].inputs[\"m5\"].components[0].identifiers[1].type': 'SMILES',\n 'reactions[7].inputs[\"m5\"].components[0].identifiers[1].value': 'CC(=O)C',\n 'reactions[7].inputs[\"m5\"].components[0].identifiers[2].type': 'INCHI',\n 'reactions[7].inputs[\"m5\"].components[0].identifiers[2].value': 'InChI=1S/C3H6O/c1-3(2)4/h1-2H3',\n 'reactions[7].inputs[\"m5\"].components[0].amount.moles.value': 0.0,\n 'reactions[7].inputs[\"m5\"].components[0].amount.moles.precision': 1.0,\n 'reactions[7].inputs[\"m5\"].components[0].amount.moles.units': 'MOLE',\n 'reactions[7].inputs[\"m5\"].components[0].reaction_role': 'SOLVENT',\n 'reactions[7].inputs[\"m3\"].components[0].identifiers[0].type': 'NAME',\n 'reactions[7].inputs[\"m3\"].components[0].identifiers[0].value': 'potassium carbonate',\n 'reactions[7].inputs[\"m3\"].components[0].identifiers[1].type': 'SMILES',\n 'reactions[7].inputs[\"m3\"].components[0].identifiers[1].value': 'C([O-])([O-])=O.[K+].[K+]',\n 'reactions[7].inputs[\"m3\"].components[0].identifiers[2].type': 'INCHI',\n 'reactions[7].inputs[\"m3\"].components[0].identifiers[2].value': 'InChI=1S/CH2O3.2K/c2-1(3)4;;/h(H2,2,3,4);;/q;2*+1/p-2',\n 'reactions[7].inputs[\"m3\"].components[0].amount.mass.value': 138.0,\n 'reactions[7].inputs[\"m3\"].components[0].amount.mass.units': 'GRAM',\n 'reactions[7].inputs[\"m3\"].components[0].reaction_role': 'REACTANT',\n 'reactions[7].conditions.conditions_are_dynamic': True,\n 'reactions[7].conditions.details': 'See reaction.notes.procedure_details.',\n 'reactions[7].notes.procedure_details': 'A solution in acetone of 250 g (1 mole) of 3-phenyl-5-methylthioethyl hydantoin (compound no. 27) and 126 g (1 mole) of methyl sulphate is heated under reflux for 8 hours, accompanied by the addition with stirring of 138 g (1 mole) of potassium carbonate. The concentration of the acetone solution is between 0.5 and 1 mole per liter. On completion of the reaction, the potassium salts are separated by filtration and the acetone eliminated by evaporation. The residue crystallises on cooling. It can be recrystallised from methanol.',\n 'reactions[7].workups[0].type': 'TEMPERATURE',\n 'reactions[7].workups[0].details': 'under reflux for 8 hours',\n 'reactions[7].workups[0].duration.value': 8.0,\n 'reactions[7].workups[0].duration.units': 'HOUR',\n 'reactions[7].workups[1].type': 'ADDITION',\n 'reactions[7].workups[1].details': 'accompanied by the addition',\n 'reactions[7].workups[2].type': 'CUSTOM',\n 'reactions[7].workups[2].details': 'On completion of the reaction',\n 'reactions[7].workups[3].type': 'CUSTOM',\n 'reactions[7].workups[3].details': 'the potassium salts are separated by filtration',\n 'reactions[7].workups[3].input.components[0].identifiers[0].type': 'NAME',\n 'reactions[7].workups[3].input.components[0].identifiers[0].value': 'potassium salts',\n 'reactions[7].workups[3].input.components[0].amount.moles.value': 0.0,\n 'reactions[7].workups[3].input.components[0].amount.moles.precision': 1.0,\n 'reactions[7].workups[3].input.components[0].amount.moles.units': 'MOLE',\n 'reactions[7].workups[3].input.components[0].reaction_role': 'WORKUP',\n 'reactions[7].workups[4].type': 'CUSTOM',\n 'reactions[7].workups[4].details': 'the acetone eliminated by evaporation',\n 'reactions[7].workups[4].input.components[0].identifiers[0].type': 'NAME',\n 'reactions[7].workups[4].input.components[0].identifiers[0].value': 'acetone',\n 'reactions[7].workups[4].input.components[0].identifiers[1].type': 'SMILES',\n 'reactions[7].workups[4].input.components[0].identifiers[1].value': 'CC(=O)C',\n 'reactions[7].workups[4].input.components[0].identifiers[2].type': 'INCHI',\n 'reactions[7].workups[4].input.components[0].identifiers[2].value': 'InChI=1S/C3H6O/c1-3(2)4/h1-2H3',\n 'reactions[7].workups[4].input.components[0].amount.moles.value': 0.0,\n 'reactions[7].workups[4].input.components[0].amount.moles.precision': 1.0,\n 'reactions[7].workups[4].input.components[0].amount.moles.units': 'MOLE',\n 'reactions[7].workups[4].input.components[0].reaction_role': 'WORKUP',\n 'reactions[7].workups[5].type': 'CUSTOM',\n 'reactions[7].workups[5].details': 'The residue crystallises',\n 'reactions[7].workups[6].type': 'TEMPERATURE',\n 'reactions[7].workups[6].details': 'on cooling',\n 'reactions[7].workups[7].type': 'CUSTOM',\n 'reactions[7].workups[7].details': 'It can be recrystallised from methanol',\n 'reactions[7].workups[7].input.components[0].identifiers[0].type': 'NAME',\n 'reactions[7].workups[7].input.components[0].identifiers[0].value': 'methanol',\n 'reactions[7].workups[7].input.components[0].identifiers[1].type': 'SMILES',\n 'reactions[7].workups[7].input.components[0].identifiers[1].value': 'CO',\n 'reactions[7].workups[7].input.components[0].identifiers[2].type': 'INCHI',\n 'reactions[7].workups[7].input.components[0].identifiers[2].value': 'InChI=1S/CH4O/c1-2/h2H,1H3',\n 'reactions[7].workups[7].input.components[0].amount.moles.value': 0.0,\n 'reactions[7].workups[7].input.components[0].amount.moles.precision': 1.0,\n 'reactions[7].workups[7].input.components[0].amount.moles.units': 'MOLE',\n 'reactions[7].workups[7].input.components[0].reaction_role': 'WORKUP',\n 'reactions[7].outcomes[0].products[0].identifiers[0].type': 'NAME',\n 'reactions[7].outcomes[0].products[0].identifiers[0].value': '1-methyl-3-phenyl-5-(methylthioethyl)-hydantoin',\n 'reactions[7].outcomes[0].products[0].identifiers[1].type': 'SMILES',\n 'reactions[7].outcomes[0].products[0].identifiers[1].value': 'CN1C(=O)N(C(=O)C1CCSC)C1=CC=CC=C1',\n 'reactions[7].outcomes[0].products[0].identifiers[2].type': 'INCHI',\n 'reactions[7].outcomes[0].products[0].identifiers[2].value': 'InChI=1S/C13H16N2O2S/c1-14-11(8-9-18-2)12(16)15(13(14)17)10-6-4-3-5-7-10/h3-7,11H,8-9H2,1-2H3',\n 'reactions[7].provenance.doi': '10.6084/m9.figshare.5104873.v1',\n 'reactions[7].provenance.patent': 'US04093444',\n 'reactions[7].provenance.record_created.time.value': '2022-12-02 16:40:51.025217',\n 'reactions[7].provenance.record_created.person.username': 'skearnes',\n 'reactions[7].provenance.record_created.person.name': 'Steven Kearnes',\n 'reactions[7].provenance.record_created.person.orcid': '0000-0003-4579-4388',\n 'reactions[7].provenance.record_created.person.organization': 'Google LLC',\n 'reactions[7].provenance.record_created.person.email': 'kearnes@google.com',\n 'reactions[7].provenance.record_modified[0].time.value': 'Mon Dec  5 19:09:32 2022',\n 'reactions[7].provenance.record_modified[0].person.username': 'github-actions',\n 'reactions[7].provenance.record_modified[0].person.email': 'github-actions@github.com',\n 'reactions[7].provenance.record_modified[0].details': 'Automatic updates from the submission pipeline.',\n 'reactions[7].reaction_id': 'ord-0ba1a3fc83d648aa9c832f5f46dcd030',\n ...}"
     },
     "execution_count": 13,
     "metadata": {},
     "output_type": "execute_result"
    }
   ],
   "source": [
    "%%time\n",
    "message_helpers.message_to_row(dataset)"
   ],
   "metadata": {
    "collapsed": false
   }
  },
  {
   "cell_type": "code",
   "execution_count": 14,
   "outputs": [
    {
     "name": "stdout",
     "output_type": "stream",
     "text": [
      "Wall time: 0 ns\n"
     ]
    },
    {
     "data": {
      "text/plain": "identifiers {\n  type: REACTION_CXSMILES\n  value: \"[CH3:1][C:2]1[C:7]([CH3:8])=[CH:6][CH:5]=[C:4]([C:9]([CH3:16])([CH3:15])[CH2:10][C:11]([CH3:14])([CH3:13])[CH3:12])[C:3]=1[OH:17].[C:18]([O:22][CH3:23])(=[O:21])[CH:19]=[CH2:20]>>[CH3:8][C:7]1[C:2]([CH3:1])=[C:3]([OH:17])[C:4]([C:9]([CH2:10][C:11]([CH3:12])([CH3:14])[CH3:13])([CH3:16])[CH3:15])=[CH:5][C:6]=1[CH2:20][CH2:19][C:18]([O:22][CH3:23])=[O:21]\"\n  is_mapped: true\n}\ninputs {\n  key: \"m2\"\n  value {\n    components {\n      identifiers {\n        type: NAME\n        value: \"2,3-dimethyl-6-(1,1,3,3-tetramethylbutyl)phenol\"\n      }\n      identifiers {\n        type: SMILES\n        value: \"CC1=C(C(=CC=C1C)C(CC(C)(C)C)(C)C)O\"\n      }\n      identifiers {\n        type: INCHI\n        value: \"InChI=1S/C16H26O/c1-11-8-9-13(14(17)12(11)2)16(6,7)10-15(3,4)5/h8-9,17H,10H2,1-7H3\"\n      }\n      amount {\n        moles {\n          value: 0.0\n          precision: 1.0\n          units: MOLE\n        }\n      }\n      reaction_role: REACTANT\n    }\n  }\n}\ninputs {\n  key: \"m3\"\n  value {\n    components {\n      identifiers {\n        type: NAME\n        value: \"methyl acrylate\"\n      }\n      identifiers {\n        type: SMILES\n        value: \"C(C=C)(=O)OC\"\n      }\n      identifiers {\n        type: INCHI\n        value: \"InChI=1S/C4H6O2/c1-3-4(5)6-2/h3H,1H2,2H3\"\n      }\n      amount {\n        moles {\n          value: 0.0\n          precision: 1.0\n          units: MOLE\n        }\n      }\n      reaction_role: REACTANT\n    }\n  }\n}\nconditions {\n  conditions_are_dynamic: true\n  details: \"See reaction.notes.procedure_details.\"\n}\nnotes {\n  procedure_details: \"The product was obtained by reacting 2,3-dimethyl-6-(1,1,3,3-tetramethylbutyl)phenol with methyl acrylate in a similar manner as described in Example 1. The desired product was obtained as white crystals melting at 83\\302\\260 to 85\\302\\260 C (Compound 2).\"\n}\nworkups {\n  type: CUSTOM\n  details: \"The product was obtained\"\n}\noutcomes {\n  products {\n    identifiers {\n      type: NAME\n      value: \"desired product\"\n    }\n    identifiers {\n      type: NAME\n      value: \"Methyl 3-(2,3-dimethyl-5-tert.-octyl-4-hydroxyphenyl)propionate\"\n    }\n    identifiers {\n      type: SMILES\n      value: \"CC1=C(C=C(C(=C1C)O)C(C)(C)CC(C)(C)C)CCC(=O)OC\"\n    }\n    identifiers {\n      type: INCHI\n      value: \"InChI=1S/C20H32O3/c1-13-14(2)18(22)16(20(6,7)12-19(3,4)5)11-15(13)9-10-17(21)23-8/h11,22H,9-10,12H2,1-8H3\"\n    }\n    reaction_role: PRODUCT\n  }\n  products {\n    identifiers {\n      type: NAME\n      value: \"crystals\"\n    }\n    texture {\n      type: CRYSTAL\n      details: \"crystals\"\n    }\n    reaction_role: PRODUCT\n  }\n}\nprovenance {\n  doi: \"10.6084/m9.figshare.5104873.v1\"\n  patent: \"US04093587\"\n  record_created {\n    time {\n      value: \"2022-12-02 16:40:51.610278\"\n    }\n    person {\n      username: \"skearnes\"\n      name: \"Steven Kearnes\"\n      orcid: \"0000-0003-4579-4388\"\n      organization: \"Google LLC\"\n      email: \"kearnes@google.com\"\n    }\n  }\n  record_modified {\n    time {\n      value: \"Mon Dec  5 19:09:32 2022\"\n    }\n    person {\n      username: \"github-actions\"\n      email: \"github-actions@github.com\"\n    }\n    details: \"Automatic updates from the submission pipeline.\"\n  }\n}\nreaction_id: \"ord-1497c693e4dc4ba192c654b285155fba\""
     },
     "execution_count": 14,
     "metadata": {},
     "output_type": "execute_result"
    }
   ],
   "source": [
    "%%time\n",
    "rxn_msg_list = message_helpers.find_submessages(dataset, reaction_pb2.Reaction)\n",
    "rxn_msg_list[50]"
   ],
   "metadata": {
    "collapsed": false
   }
  },
  {
   "cell_type": "code",
   "execution_count": 15,
   "outputs": [
    {
     "data": {
      "text/plain": "type: SMILES\nvalue: \"C(C=C)(=O)OC\""
     },
     "execution_count": 15,
     "metadata": {},
     "output_type": "execute_result"
    }
   ],
   "source": [
    "cmpds = message_helpers.find_submessages(rxn_msg_list[50], reaction_pb2.Compound)\n",
    "cmpds[1].identifiers[1]"
   ],
   "metadata": {
    "collapsed": false
   }
  },
  {
   "cell_type": "code",
   "execution_count": 16,
   "outputs": [
    {
     "name": "stdout",
     "output_type": "stream",
     "text": [
      "Dataset uspto-grants-2014_09 loaded in 1.05s\n",
      "Dataset uspto-grants-2014_09 parsed in 2.79s\n",
      "(80000, 2)\n",
      "Total reactions parsed 17639\n",
      "Wall time: 3.84 s\n"
     ]
    },
    {
     "data": {
      "text/plain": "array([['Hydrochloric acid', 'Cl'],\n       ['acetyl chloride', 'C(C)(=O)Cl'],\n       ['3-amino-2-naphthol', 'NC=1C(=CC2=CC=CC=C2C1)O'],\n       ...,\n       ['', ''],\n       ['', ''],\n       ['', '']], dtype='<U512')"
     },
     "execution_count": 16,
     "metadata": {},
     "output_type": "execute_result"
    }
   ],
   "source": [
    "%%time\n",
    "from time import time\n",
    "reactants = np.empty((80000, 2), dtype='<U512')\n",
    "# reactant_smiles = np.empty((80000, 2), dtype='U256')\n",
    "# reactant_smiles = np.char.array([\"\"])\n",
    "reactants_df = pd.DataFrame(columns=['name', 'smiles'])\n",
    "\n",
    "start = time()\n",
    "pb = glob(f'{ORD_REPO_PATH}/data/*/*c3c1091f873b4f40827973a6f1f9b685.pb.gz')[0]\n",
    "# dataset = message_helpers.load_message(pb, dataset_pb2.Dataset)\n",
    "dataset = load_dataset(pb)\n",
    "print(f\"Dataset {dataset.name} loaded in {time() - start:.2f}s\", )\n",
    "\n",
    "start = time()\n",
    "idx = 0\n",
    "\n",
    "for rxn in message_helpers.find_submessages(dataset, reaction_pb2.Reaction):\n",
    "    cmpds = message_helpers.find_submessages(rxn, reaction_pb2.Compound)\n",
    "    for cmpd in cmpds:\n",
    "        if cmpd.reaction_role == reaction_pb2.ReactionRole.REACTANT:\n",
    "            name = message_helpers.get_compound_identifier(cmpd, reaction_pb2.CompoundIdentifier.NAME)\n",
    "            smiles = message_helpers.get_compound_identifier(cmpd, reaction_pb2.CompoundIdentifier.SMILES)\n",
    "            # print(name)\n",
    "            # reactants = np.append(reactants, [[name, smiles]], axis=0)\n",
    "            # reactants[idx] = [name, smiles]\n",
    "            reactants[idx, 0] = name\n",
    "            reactants[idx, 1] = smiles\n",
    "            # reactants_df.loc[len(reactants_df), reactants_df.columns] = name, smiles\n",
    "            idx += 1\n",
    "\n",
    "print(f\"Dataset {dataset.name} parsed in {time() - start:.2f}s\", )\n",
    "\n",
    "print(reactants.shape)\n",
    "print(\"Total reactions parsed\", len(dataset.reactions))\n",
    "reactants"
   ],
   "metadata": {
    "collapsed": false
   }
  },
  {
   "cell_type": "code",
   "execution_count": 17,
   "outputs": [
    {
     "name": "stdout",
     "output_type": "stream",
     "text": [
      "<class 'pandas.core.frame.DataFrame'>\n",
      "Index: 0 entries\n",
      "Data columns (total 2 columns):\n",
      " #   Column  Non-Null Count  Dtype \n",
      "---  ------  --------------  ----- \n",
      " 0   name    0 non-null      object\n",
      " 1   smiles  0 non-null      object\n",
      "dtypes: object(2)\n",
      "memory usage: 0.0+ bytes\n"
     ]
    }
   ],
   "source": [
    "reactants_df.info()"
   ],
   "metadata": {
    "collapsed": false
   }
  },
  {
   "cell_type": "code",
   "execution_count": 18,
   "outputs": [
    {
     "data": {
      "text/plain": "                   name          smiles\n0  trifluoroacetic acid  FC(C(=O)O)(F)F",
      "text/html": "<div>\n<style scoped>\n    .dataframe tbody tr th:only-of-type {\n        vertical-align: middle;\n    }\n\n    .dataframe tbody tr th {\n        vertical-align: top;\n    }\n\n    .dataframe thead th {\n        text-align: right;\n    }\n</style>\n<table border=\"1\" class=\"dataframe\">\n  <thead>\n    <tr style=\"text-align: right;\">\n      <th></th>\n      <th>name</th>\n      <th>smiles</th>\n    </tr>\n  </thead>\n  <tbody>\n    <tr>\n      <th>0</th>\n      <td>trifluoroacetic acid</td>\n      <td>FC(C(=O)O)(F)F</td>\n    </tr>\n  </tbody>\n</table>\n</div>"
     },
     "execution_count": 18,
     "metadata": {},
     "output_type": "execute_result"
    }
   ],
   "source": [
    "reactants_df = pd.DataFrame(columns=['name', 'smiles'])\n",
    "reactants_df.loc[0, reactants_df.columns] = name, smiles\n",
    "reactants_df.head()"
   ],
   "metadata": {
    "collapsed": false
   }
  },
  {
   "cell_type": "code",
   "execution_count": 19,
   "outputs": [
    {
     "data": {
      "text/plain": "                   name          smiles\n0  trifluoroacetic acid  FC(C(=O)O)(F)F",
      "text/html": "<div>\n<style scoped>\n    .dataframe tbody tr th:only-of-type {\n        vertical-align: middle;\n    }\n\n    .dataframe tbody tr th {\n        vertical-align: top;\n    }\n\n    .dataframe thead th {\n        text-align: right;\n    }\n</style>\n<table border=\"1\" class=\"dataframe\">\n  <thead>\n    <tr style=\"text-align: right;\">\n      <th></th>\n      <th>name</th>\n      <th>smiles</th>\n    </tr>\n  </thead>\n  <tbody>\n    <tr>\n      <th>0</th>\n      <td>trifluoroacetic acid</td>\n      <td>FC(C(=O)O)(F)F</td>\n    </tr>\n  </tbody>\n</table>\n</div>"
     },
     "execution_count": 19,
     "metadata": {},
     "output_type": "execute_result"
    }
   ],
   "source": [
    "reactants_df"
   ],
   "metadata": {
    "collapsed": false
   }
  },
  {
   "cell_type": "code",
   "execution_count": 20,
   "outputs": [
    {
     "data": {
      "text/plain": "'bb'"
     },
     "execution_count": 20,
     "metadata": {},
     "output_type": "execute_result"
    }
   ],
   "source": [
    "idx = 0\n",
    "reactants[idx] = \"ac\"\n",
    "reactants[idx, 1] = \"bb\"\n",
    "# reactants[0] = name, smiles\n",
    "reactants[idx, 1]"
   ],
   "metadata": {
    "collapsed": false
   }
  },
  {
   "cell_type": "code",
   "execution_count": 21,
   "outputs": [
    {
     "name": "stdout",
     "output_type": "stream",
     "text": [
      "327680000\n"
     ]
    },
    {
     "data": {
      "text/plain": "array(['(2S,3S,4S,5R,6R)-benzyl 6-((4-((1R,3aS,5aR,5bR,7aR,11aS,11bR,13aR,13bR)-3a-((2-(1,1-dioxidothiomorpholino)ethyl)amino)-5a,5b,8,8,11a-pentamethyl-1-(prop-1-en-2-yl)-2,3,3a,4,5,5a,5b,6,7,7a,8,11,11a,11b,12,13,13a,13b-octadecahydro-1H-cyclopenta[a]chrysen-9-yl)benzoyl)oxy)-3,4,5-trihydroxytetrahydro-2H-pyran-2-carboxylate',\n       'O=S1(CCN(CC1)CCN[C@]12[C@@H]([C@H]3CC[C@@H]4[C@]5(CC=C(C([C@@H]5CC[C@]4([C@@]3(CC1)C)C)(C)C)C1=CC=C(C(=O)O[C@@H]3[C@@H]([C@H]([C@@H]([C@H](O3)C(=O)OCC3=CC=CC=C3)O)O)O)C=C1)C)[C@@H](CC2)C(=C)C)=O'],\n      dtype='<U512')"
     },
     "execution_count": 21,
     "metadata": {},
     "output_type": "execute_result"
    }
   ],
   "source": [
    "print(reactants.nbytes)\n",
    "reactants[np.char.str_len(reactants[:, 0]).argmax()]"
   ],
   "metadata": {
    "collapsed": false
   }
  }
 ],
 "metadata": {
  "kernelspec": {
   "display_name": "Python 3",
   "language": "python",
   "name": "python3"
  },
  "language_info": {
   "codemirror_mode": {
    "name": "ipython",
    "version": 2
   },
   "file_extension": ".py",
   "mimetype": "text/x-python",
   "name": "python",
   "nbconvert_exporter": "python",
   "pygments_lexer": "ipython2",
   "version": "2.7.6"
  }
 },
 "nbformat": 4,
 "nbformat_minor": 0
}
