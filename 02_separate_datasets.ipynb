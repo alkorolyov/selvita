{
 "cells": [
  {
   "cell_type": "code",
   "execution_count": 1,
   "metadata": {
    "collapsed": true
   },
   "outputs": [],
   "source": [
    "import pandas as pd\n",
    "import numpy as np\n",
    "from ord_data_load import ORD_PATH, ORD_REPO_PATH\n",
    "\n",
    "pd.set_option('display.max_rows', 500)\n",
    "pd.set_option('display.max_columns', 500)\n",
    "pd.set_option('display.width', 1000)\n",
    "\n",
    "#to disable warnings\n",
    "from rdkit import RDLogger\n",
    "RDLogger.DisableLog('rdApp.*')\n",
    "\n",
    "%load_ext autoreload\n",
    "%autoreload 2"
   ]
  },
  {
   "cell_type": "code",
   "execution_count": 2,
   "outputs": [],
   "source": [
    "# all_reactions = pd.read_pickle(f\"{ORD_PATH}/all_reactions.pkl\")"
   ],
   "metadata": {
    "collapsed": false
   }
  },
  {
   "cell_type": "markdown",
   "source": [
    "#TODO treat those datasets separately\n",
    "\n",
    "# Datasets of interest\n",
    "\n",
    "### 1) Pd CAT REACTIONS DATASETS (500-5k cmpds, Good quality, quantitative)\n",
    "\n",
    "750 Buchwald-Hartwig reactions generated from AstraZeneca ELN which is used in yield prediction work\n",
    "*\"Graph Neural Networks for Predicting Chemical Reaction Performance\"*\n",
    "[https://doi.org/10.26434/chemrxiv.14589498.v2](https://doi.org/10.26434/chemrxiv.14589498.v2)\n",
    "[ord_dataset-00005539a1e04c809a9a78647bea649c](https://open-reaction-database.org/client/search?dataset_ids=ord_dataset-00005539a1e04c809a9a78647bea649c)\n",
    "\n",
    "\n",
    "1536 reactions using HTS with Pd cat. Good quality quantitative data.\n",
    "*\"Nanomole-scale high-throughput chemistry for the synthesis of complex molecules\"*\n",
    "[https://doi.org/10.1126/science.1259203](https://doi.org/10.1126/science.1259203)\n",
    "[ord_dataset-7d8f5fd922d4497d91cb81489b052746](https://open-reaction-database.org/client/search?dataset_ids=ord_dataset-7d8f5fd922d4497d91cb81489b052746)\n",
    "\n",
    "5760 Suzuki reactions. Quantitative data. Single scaffold [6-quin]-[4-benzIm]\n",
    "*A platform for automated nanomole-scale reaction screening and micromole-scale synthesis in flow*\n",
    "[https://doi.org/10.1126/science.aap9112](https://doi.org/10.1126/science.aap9112)\n",
    "```ord_dataset-68cb8b4b2b384e3d85b5b1efae58b203```\n",
    "\n",
    "376 Suzuki reactions. Quantitative data.\n",
    "Same as scaffold as ```ord_dataset-68cb8b4b2b384e3d85b5b1efae58b203```\n",
    "[6-quin]-[4-benzIm], but with multiple outcomes as byproducts.\n",
    "```ord_dataset-eeba974d3c284aed86d1c1d442260a1e```\n",
    "\n",
    "\n",
    "4312 C-N cross-coupling reactions. Quantitative data. Single scaffold [Ph-NH-Ph].\n",
    "Different heterocycles - B, Si etc.\n",
    "*\"Predicting reaction performance in C–N cross-coupling using machine learning\"*\n",
    "[https://doi.org/10.1126/science.aar5169](https://doi.org/10.1126/science.aar5169)\n",
    "```ord_dataset-46ff9a32d9e04016b9380b1b1ef949c3```\n",
    "\n",
    "\n",
    "288 Buchwald reactions. Quantitative data. Single reaction:\n",
    "[3-Br-py + 4-Ph-THPyrazine]\n",
    "```ord_dataset-cbcc4048add7468e850b6ec42549c70d```\n",
    "\n",
    "\n",
    "450 Pd/Ni cat reactions. Might be usable. Single Scaffold [Ph-Ph]\n",
    "*\"Linking Mechanistic Analysis of Catalytic Reactivity Cliffs to Ligand Classification\"*\n",
    "[https://doi.org/10.26434/chemrxiv.14388557.v1](https://doi.org/10.26434/chemrxiv.14388557.v1)\n",
    "```ord_dataset-3b5db90e337942ea886b8f5bc5e3aa72```\n",
    "\n",
    "### 2) 500k REACTIONS, NO CONDITIONS, CLEANED SINGLE DATASET.\n",
    "\n",
    "500k reactions. Split to train and test. Different reaction classes. No conditions\n",
    "*\"A graph-convolutional neural network model for the prediction of chemical reactivity\"*\n",
    "[https://doi.org/10.1039/C8SC04228D](https://doi.org/10.1039/C8SC04228D)\n",
    "```\n",
    "ord_dataset-de0979205c84441190feef587fef8d6d\n",
    "ord_dataset-488402f6ec0d441ca2f7d6fabea7c220\n",
    "ord_dataset-5481550056a14935b76e031fb94b88be\n",
    "```\n",
    "\n",
    "### 3) USPTO DATABASE ~1.7kk reactions. Needs cleaning. Raw data\n",
    "Non-zero \"patent\" field\n",
    "\n",
    "\n",
    "### 4) everything else - Low quality or small datasets\n",
    "\n",
    "1728 low variability data.\n",
    "*Nano CN PhotoChemistry Informers Library*\n",
    "```ord_dataset-ac78456835404910b3a4c840248b6ac9```\n",
    "\n",
    "\n",
    "1728 + 256 quantitative data. Imidazole arylation. Single reaction.\n",
    "https://doi.org/10.1038/s41586-021-03213-y\n",
    "```ord_dataset-d26118acda314269becc35db5c22dc59```\n",
    "```ord_dataset-0c75d67751634f0594b24b9f498b77c2```\n",
    "\n",
    "\n"
   ],
   "metadata": {
    "collapsed": false
   }
  },
  {
   "cell_type": "code",
   "execution_count": 3,
   "outputs": [],
   "source": [
    "# uspto_df = all_reactions.loc[~all_reactions.patent.isna()]\n",
    "# uspto_df"
   ],
   "metadata": {
    "collapsed": false
   }
  },
  {
   "cell_type": "code",
   "execution_count": 4,
   "outputs": [],
   "source": [
    "from glob import glob\n",
    "import os\n",
    "import multiprocessing as mp\n",
    "import gzip\n",
    "from google import protobuf\n",
    "\n",
    "from ord_schema import message_helpers\n",
    "from ord_schema.proto import dataset_pb2\n",
    "from ord_schema.proto import reaction_pb2"
   ],
   "metadata": {
    "collapsed": false
   }
  },
  {
   "cell_type": "code",
   "execution_count": 5,
   "outputs": [
    {
     "name": "stdout",
     "output_type": "stream",
     "text": [
      "515 / 515: parsing dataset 134.3s\n"
     ]
    }
   ],
   "source": [
    "from time import time\n",
    "from ord_data_load import load_dataset, filter_uspto_filenames\n",
    "\n",
    "# uspto_filenames = []\n",
    "# N = len(glob(f'{ORD_REPO_PATH}/data/*/*.pb.gz'))\n",
    "#\n",
    "# start = time()\n",
    "# for i, pb in enumerate(glob(f'{ORD_REPO_PATH}/data/*/*.pb.gz'), 1):\n",
    "#     print(f\"{i:3d} / {N}: parsing dataset {time() - start:.1f}s\", end=\"\\r\")\n",
    "#     dataset = load_dataset(pb)\n",
    "#     if \"uspto\" in dataset.name:\n",
    "#         uspto_filenames.append(pb)\n",
    "#\n",
    "# len(uspto_filenames)\n",
    "\n",
    "print(\"515 / 515: parsing dataset 134.3s\")"
   ],
   "metadata": {
    "collapsed": false
   }
  },
  {
   "cell_type": "code",
   "execution_count": 6,
   "outputs": [
    {
     "name": "stdout",
     "output_type": "stream",
     "text": [
      "CPU times: total: 359 ms\n",
      "Wall time: 32.4 s\n"
     ]
    },
    {
     "data": {
      "text/plain": "0                                                   None\n1      ./ord-data/data\\01\\ord_dataset-018fd0e1351f4fd...\n2      ./ord-data/data\\01\\ord_dataset-01dbb772c5e2491...\n3      ./ord-data/data\\02\\ord_dataset-02ee22616630481...\n4      ./ord-data/data\\03\\ord_dataset-0387783899c642a...\n                             ...                        \n510    ./ord-data/data\\fd\\ord_dataset-fdef1f30cad6443...\n511    ./ord-data/data\\fe\\ord_dataset-fe016e2f90e741a...\n512    ./ord-data/data\\fe\\ord_dataset-fea3ada7aaad45a...\n513    ./ord-data/data\\ff\\ord_dataset-ff0bcb6c2300494...\n514    ./ord-data/data\\ff\\ord_dataset-ffbef48837674f3...\nLength: 515, dtype: object"
     },
     "execution_count": 6,
     "metadata": {},
     "output_type": "execute_result"
    }
   ],
   "source": [
    "%%time\n",
    "\n",
    "n_cores = 24\n",
    "\n",
    "with mp.Pool(n_cores) as p:\n",
    "    uspto_filenames = p.map(filter_uspto_filenames, glob(f'{ORD_REPO_PATH}/data/*/*.pb.gz'))\n",
    "\n",
    "pd.Series(uspto_filenames)"
   ],
   "metadata": {
    "collapsed": false
   }
  },
  {
   "cell_type": "code",
   "execution_count": 7,
   "outputs": [],
   "source": [
    "# save results\n",
    "uspto_files = pd.Series(uspto_filenames).dropna() #.apply(lambda x: os.path.basename(x).split(\".\")[0])\n",
    "uspto_files.to_csv(f\"{ORD_PATH}/uspto_files.csv\", index=False, header=False)"
   ],
   "metadata": {
    "collapsed": false
   }
  },
  {
   "cell_type": "code",
   "execution_count": 8,
   "outputs": [
    {
     "data": {
      "text/plain": "'./ord-data/data\\\\cd\\\\ord_dataset-cd531114850e4f239b2a3661044ae672.pb.gz'"
     },
     "execution_count": 8,
     "metadata": {},
     "output_type": "execute_result"
    }
   ],
   "source": [
    "uspto_files = pd.read_csv(f\"{ORD_PATH}/uspto_files.csv\").squeeze(\"columns\")\n",
    "\n",
    "pb = uspto_files.sample().iat[0]\n",
    "pb"
   ],
   "metadata": {
    "collapsed": false
   }
  },
  {
   "cell_type": "code",
   "execution_count": 9,
   "outputs": [],
   "source": [
    "dataset = load_dataset(pb)"
   ],
   "metadata": {
    "collapsed": false
   }
  },
  {
   "cell_type": "code",
   "execution_count": 28,
   "outputs": [
    {
     "name": "stdout",
     "output_type": "stream",
     "text": [
      "name\n",
      "description\n",
      "reactions\n",
      "dataset_id\n"
     ]
    }
   ],
   "source": [
    "for field, value in dataset.ListFields():\n",
    "    print(field.name)\n",
    "\n",
    "# print(dataset.description)\n",
    "# print(len(dataset.reactions))"
   ],
   "metadata": {
    "collapsed": false
   }
  },
  {
   "cell_type": "code",
   "execution_count": 11,
   "outputs": [
    {
     "data": {
      "text/plain": "{'m1': components {\n  identifiers {\n    type: NAME\n    value: \"1-Acetyl4-nonanoyl-2,5-piperazinedione\"\n  }\n  identifiers {\n    type: SMILES\n    value: \"C(C)(=O)N1C(CN(C(C1)=O)C(CCCCCCCC)=O)=O\"\n  }\n  identifiers {\n    type: INCHI\n    value: \"InChI=1S/C15H24N2O4/c1-3-4-5-6-7-8-9-13(19)17-11-14(20)16(12(2)18)10-15(17)21/h3-11H2,1-2H3\"\n  }\n  amount {\n    moles {\n      value: 0.0\n      precision: 1.0\n      units: MOLE\n    }\n  }\n  reaction_role: REACTANT\n}\n, 'm2': components {\n  identifiers {\n    type: NAME\n    value: \"10-undecenoyl chloride\"\n  }\n  identifiers {\n    type: SMILES\n    value: \"C(CCCCCCCCC=C)(=O)Cl\"\n  }\n  identifiers {\n    type: INCHI\n    value: \"InChI=1S/C11H19ClO/c1-2-3-4-5-6-7-8-9-10-11(12)13/h2H,1,3-10H2\"\n  }\n  amount {\n    moles {\n      value: 0.0\n      precision: 1.0\n      units: MOLE\n    }\n  }\n  reaction_role: REACTANT\n}\n}"
     },
     "execution_count": 11,
     "metadata": {},
     "output_type": "execute_result"
    }
   ],
   "source": [
    "dataset.reactions[2].inputs"
   ],
   "metadata": {
    "collapsed": false
   }
  },
  {
   "cell_type": "code",
   "execution_count": 12,
   "outputs": [
    {
     "data": {
      "text/plain": "[identifiers {\n  type: NAME\n  value: \"2-(6-methoxynaphth-2-yl)-(4-methoxyphenyl) ketone\"\n}\nidentifiers {\n  type: SMILES\n  value: \"COC=1C=C2C=CC(=CC2=CC1)C1=C(C=CC(=C1)OC)C(=O)C1=C(C=C(C=C1)OC)C1=CC2=CC=C(C=C2C=C1)OC\"\n}\nidentifiers {\n  type: INCHI\n  value: \"InChI=1S/C37H30O5/c1-39-29-11-9-23-17-27(7-5-25(23)19-29)35-21-31(41-3)13-15-33(35)37(38)34-16-14-32(42-4)22-36(34)28-8-6-26-20-30(40-2)12-10-24(26)18-28/h5-22H,1-4H3\"\n}\nmeasurements {\n  type: AMOUNT\n  details: \"MASS\"\n  amount {\n    mass {\n      value: 61.0\n      units: GRAM\n    }\n  }\n}\nreaction_role: PRODUCT\n]"
     },
     "execution_count": 12,
     "metadata": {},
     "output_type": "execute_result"
    }
   ],
   "source": [
    "dataset.reactions[4].outcomes[0].products"
   ],
   "metadata": {
    "collapsed": false
   }
  },
  {
   "cell_type": "code",
   "execution_count": 13,
   "outputs": [
    {
     "data": {
      "text/plain": "<MessageFields sequence>"
     },
     "execution_count": 13,
     "metadata": {},
     "output_type": "execute_result"
    }
   ],
   "source": [
    "dataset.reactions[2].DESCRIPTOR.fields"
   ],
   "metadata": {
    "collapsed": false
   }
  },
  {
   "cell_type": "code",
   "execution_count": 14,
   "outputs": [
    {
     "name": "stdout",
     "output_type": "stream",
     "text": [
      "CPU times: total: 2.02 s\n",
      "Wall time: 2.01 s\n"
     ]
    },
    {
     "data": {
      "text/plain": "{'name': 'uspto-grants-2000_08',\n 'description': 'CML filenames: pftaps20000801_wk31.xml,pftaps20000808_wk32.xml,pftaps20000815_wk33.xml,pftaps20000822_wk34.xml,pftaps20000829_wk35.xml',\n 'reactions[0].identifiers[0].type': 'REACTION_CXSMILES',\n 'reactions[0].identifiers[0].value': '[C:1]([N:4]1[CH2:9][C:8](=[O:10])[N:7]([C:11](=[O:20])[CH2:12][CH2:13][CH2:14][CH2:15][CH2:16]CCC)[CH2:6][C:5]1=[O:21])(=[O:3])[CH3:2].[CH2:22](C(CCCC)C(Cl)=O)[CH3:23]>>[C:1]([N:4]1[CH2:9][C:8](=[O:10])[N:7]([C:11](=[O:20])[CH:12]([CH2:22][CH3:23])[CH2:13][CH2:14][CH2:15][CH3:16])[CH2:6][C:5]1=[O:21])(=[O:3])[CH3:2]',\n 'reactions[0].identifiers[0].is_mapped': True,\n 'reactions[0].inputs[\"m1\"].components[0].identifiers[0].type': 'NAME',\n 'reactions[0].inputs[\"m1\"].components[0].identifiers[0].value': '1-Acetyl-4-nonanoyl-2,5-piperazinedione',\n 'reactions[0].inputs[\"m1\"].components[0].identifiers[1].type': 'SMILES',\n 'reactions[0].inputs[\"m1\"].components[0].identifiers[1].value': 'C(C)(=O)N1C(CN(C(C1)=O)C(CCCCCCCC)=O)=O',\n 'reactions[0].inputs[\"m1\"].components[0].identifiers[2].type': 'INCHI',\n 'reactions[0].inputs[\"m1\"].components[0].identifiers[2].value': 'InChI=1S/C15H24N2O4/c1-3-4-5-6-7-8-9-13(19)17-11-14(20)16(12(2)18)10-15(17)21/h3-11H2,1-2H3',\n 'reactions[0].inputs[\"m1\"].components[0].amount.moles.value': 0.0,\n 'reactions[0].inputs[\"m1\"].components[0].amount.moles.precision': 1.0,\n 'reactions[0].inputs[\"m1\"].components[0].amount.moles.units': 'MOLE',\n 'reactions[0].inputs[\"m1\"].components[0].reaction_role': 'REACTANT',\n 'reactions[0].inputs[\"m2\"].components[0].identifiers[0].type': 'NAME',\n 'reactions[0].inputs[\"m2\"].components[0].identifiers[0].value': '2-ethylhexanoyl chloride',\n 'reactions[0].inputs[\"m2\"].components[0].identifiers[1].type': 'SMILES',\n 'reactions[0].inputs[\"m2\"].components[0].identifiers[1].value': 'C(C)C(C(=O)Cl)CCCC',\n 'reactions[0].inputs[\"m2\"].components[0].identifiers[2].type': 'INCHI',\n 'reactions[0].inputs[\"m2\"].components[0].identifiers[2].value': 'InChI=1S/C8H15ClO/c1-3-5-6-7(4-2)8(9)10/h7H,3-6H2,1-2H3',\n 'reactions[0].inputs[\"m2\"].components[0].amount.moles.value': 0.0,\n 'reactions[0].inputs[\"m2\"].components[0].amount.moles.precision': 1.0,\n 'reactions[0].inputs[\"m2\"].components[0].amount.moles.units': 'MOLE',\n 'reactions[0].inputs[\"m2\"].components[0].reaction_role': 'REACTANT',\n 'reactions[0].conditions.conditions_are_dynamic': True,\n 'reactions[0].conditions.details': 'See reaction.notes.procedure_details.',\n 'reactions[0].notes.procedure_details': '##STR25## Synthesized as for 1-Acetyl-4-nonanoyl-2,5-piperazinedione in EXAMPLE I using 2-ethylhexanoyl chloride in place of nonanoyl chloride.',\n 'reactions[0].outcomes[0].products[0].identifiers[0].type': 'NAME',\n 'reactions[0].outcomes[0].products[0].identifiers[0].value': '1-Acetyl-4-(2-ethylhexanoyl)-2,5-piperazinedione',\n 'reactions[0].outcomes[0].products[0].identifiers[1].type': 'SMILES',\n 'reactions[0].outcomes[0].products[0].identifiers[1].value': 'C(C)(=O)N1C(CN(C(C1)=O)C(C(CCCC)CC)=O)=O',\n 'reactions[0].outcomes[0].products[0].identifiers[2].type': 'INCHI',\n 'reactions[0].outcomes[0].products[0].identifiers[2].value': 'InChI=1S/C14H22N2O4/c1-4-6-7-11(5-2)14(20)16-9-12(18)15(10(3)17)8-13(16)19/h11H,4-9H2,1-3H3',\n 'reactions[0].provenance.doi': '10.6084/m9.figshare.5104873.v1',\n 'reactions[0].provenance.patent': 'US06096098',\n 'reactions[0].provenance.record_created.time.value': '2022-12-02 17:54:38.957778',\n 'reactions[0].provenance.record_created.person.username': 'skearnes',\n 'reactions[0].provenance.record_created.person.name': 'Steven Kearnes',\n 'reactions[0].provenance.record_created.person.orcid': '0000-0003-4579-4388',\n 'reactions[0].provenance.record_created.person.organization': 'Google LLC',\n 'reactions[0].provenance.record_created.person.email': 'kearnes@google.com',\n 'reactions[0].provenance.record_modified[0].time.value': 'Mon Dec  5 16:40:48 2022',\n 'reactions[0].provenance.record_modified[0].person.username': 'github-actions',\n 'reactions[0].provenance.record_modified[0].person.email': 'github-actions@github.com',\n 'reactions[0].provenance.record_modified[0].details': 'Automatic updates from the submission pipeline.',\n 'reactions[0].reaction_id': 'ord-22f19caacd6f4521832da93b8d165f73',\n 'reactions[1].identifiers[0].type': 'REACTION_CXSMILES',\n 'reactions[1].identifiers[0].value': '[C:1]([N:4]1[CH2:9][C:8](=[O:10])[N:7](C(=O)CCCCCCCC)[CH2:6][C:5]1=[O:21])(=[O:3])[CH3:2].[CH3:22][CH:23]([CH2:28][C:29]([CH3:32])([CH3:31])[CH3:30])[CH2:24][C:25](Cl)=[O:26]>>[C:1]([N:4]1[CH2:9][C:8](=[O:10])[N:7]([C:25](=[O:26])[CH2:24][CH:23]([CH3:22])[CH2:28][C:29]([CH3:32])([CH3:31])[CH3:30])[CH2:6][C:5]1=[O:21])(=[O:3])[CH3:2]',\n 'reactions[1].identifiers[0].is_mapped': True,\n 'reactions[1].inputs[\"m2\"].components[0].identifiers[0].type': 'NAME',\n 'reactions[1].inputs[\"m2\"].components[0].identifiers[0].value': '3,5,5-trimethylhexanoyl chloride',\n 'reactions[1].inputs[\"m2\"].components[0].identifiers[1].type': 'SMILES',\n 'reactions[1].inputs[\"m2\"].components[0].identifiers[1].value': 'CC(CC(=O)Cl)CC(C)(C)C',\n 'reactions[1].inputs[\"m2\"].components[0].identifiers[2].type': 'INCHI',\n 'reactions[1].inputs[\"m2\"].components[0].identifiers[2].value': 'InChI=1S/C9H17ClO/c1-7(5-8(10)11)6-9(2,3)4/h7H,5-6H2,1-4H3',\n 'reactions[1].inputs[\"m2\"].components[0].amount.moles.value': 0.0,\n 'reactions[1].inputs[\"m2\"].components[0].amount.moles.precision': 1.0,\n 'reactions[1].inputs[\"m2\"].components[0].amount.moles.units': 'MOLE',\n 'reactions[1].inputs[\"m2\"].components[0].reaction_role': 'REACTANT',\n 'reactions[1].inputs[\"m1\"].components[0].identifiers[0].type': 'NAME',\n 'reactions[1].inputs[\"m1\"].components[0].identifiers[0].value': '1-Acetyl-4-nonanoyl-2,5-piperazinedione',\n 'reactions[1].inputs[\"m1\"].components[0].identifiers[1].type': 'SMILES',\n 'reactions[1].inputs[\"m1\"].components[0].identifiers[1].value': 'C(C)(=O)N1C(CN(C(C1)=O)C(CCCCCCCC)=O)=O',\n 'reactions[1].inputs[\"m1\"].components[0].identifiers[2].type': 'INCHI',\n 'reactions[1].inputs[\"m1\"].components[0].identifiers[2].value': 'InChI=1S/C15H24N2O4/c1-3-4-5-6-7-8-9-13(19)17-11-14(20)16(12(2)18)10-15(17)21/h3-11H2,1-2H3',\n 'reactions[1].inputs[\"m1\"].components[0].amount.moles.value': 0.0,\n 'reactions[1].inputs[\"m1\"].components[0].amount.moles.precision': 1.0,\n 'reactions[1].inputs[\"m1\"].components[0].amount.moles.units': 'MOLE',\n 'reactions[1].inputs[\"m1\"].components[0].reaction_role': 'REACTANT',\n 'reactions[1].conditions.conditions_are_dynamic': True,\n 'reactions[1].conditions.details': 'See reaction.notes.procedure_details.',\n 'reactions[1].notes.procedure_details': '##STR26## Synthesized as for 1-Acetyl-4-nonanoyl-2,5-piperazinedione in EXAMPLE I using 3,5,5-trimethylhexanoyl chloride in place of nonanoyl chloride.',\n 'reactions[1].outcomes[0].products[0].identifiers[0].type': 'NAME',\n 'reactions[1].outcomes[0].products[0].identifiers[0].value': '1-Acetyl-4-(3,5,5-trimethylhexanoyl)-2,5-piperazinedione',\n 'reactions[1].outcomes[0].products[0].identifiers[1].type': 'SMILES',\n 'reactions[1].outcomes[0].products[0].identifiers[1].value': 'C(C)(=O)N1C(CN(C(C1)=O)C(CC(CC(C)(C)C)C)=O)=O',\n 'reactions[1].outcomes[0].products[0].identifiers[2].type': 'INCHI',\n 'reactions[1].outcomes[0].products[0].identifiers[2].value': 'InChI=1S/C15H24N2O4/c1-10(7-15(3,4)5)6-12(19)17-9-13(20)16(11(2)18)8-14(17)21/h10H,6-9H2,1-5H3',\n 'reactions[1].provenance.doi': '10.6084/m9.figshare.5104873.v1',\n 'reactions[1].provenance.patent': 'US06096098',\n 'reactions[1].provenance.record_created.time.value': '2022-12-02 17:54:38.981807',\n 'reactions[1].provenance.record_created.person.username': 'skearnes',\n 'reactions[1].provenance.record_created.person.name': 'Steven Kearnes',\n 'reactions[1].provenance.record_created.person.orcid': '0000-0003-4579-4388',\n 'reactions[1].provenance.record_created.person.organization': 'Google LLC',\n 'reactions[1].provenance.record_created.person.email': 'kearnes@google.com',\n 'reactions[1].provenance.record_modified[0].time.value': 'Mon Dec  5 16:40:48 2022',\n 'reactions[1].provenance.record_modified[0].person.username': 'github-actions',\n 'reactions[1].provenance.record_modified[0].person.email': 'github-actions@github.com',\n 'reactions[1].provenance.record_modified[0].details': 'Automatic updates from the submission pipeline.',\n 'reactions[1].reaction_id': 'ord-41ec314d1ef1478b877680e743f2f8f3',\n 'reactions[2].identifiers[0].type': 'REACTION_CXSMILES',\n 'reactions[2].identifiers[0].value': '[C:1]([N:4]1[CH2:9][C:8](=[O:10])[N:7]([C:11](=[O:20])[CH2:12][CH2:13][CH2:14][CH2:15][CH2:16][CH2:17][CH2:18][CH3:19])[CH2:6][C:5]1=[O:21])(=[O:3])[CH3:2].[C:22](Cl)(=O)[CH2:23]CCCCCCCC=C>>[C:1]([N:4]1[CH2:9][C:8](=[O:10])[N:7]([C:11](=[O:20])[CH2:12][CH2:13][CH2:14][CH2:15][CH2:16][CH2:17][CH2:18][CH2:19][CH:22]=[CH2:23])[CH2:6][C:5]1=[O:21])(=[O:3])[CH3:2]',\n 'reactions[2].identifiers[0].is_mapped': True,\n 'reactions[2].inputs[\"m1\"].components[0].identifiers[0].type': 'NAME',\n 'reactions[2].inputs[\"m1\"].components[0].identifiers[0].value': '1-Acetyl4-nonanoyl-2,5-piperazinedione',\n 'reactions[2].inputs[\"m1\"].components[0].identifiers[1].type': 'SMILES',\n 'reactions[2].inputs[\"m1\"].components[0].identifiers[1].value': 'C(C)(=O)N1C(CN(C(C1)=O)C(CCCCCCCC)=O)=O',\n 'reactions[2].inputs[\"m1\"].components[0].identifiers[2].type': 'INCHI',\n 'reactions[2].inputs[\"m1\"].components[0].identifiers[2].value': 'InChI=1S/C15H24N2O4/c1-3-4-5-6-7-8-9-13(19)17-11-14(20)16(12(2)18)10-15(17)21/h3-11H2,1-2H3',\n 'reactions[2].inputs[\"m1\"].components[0].amount.moles.value': 0.0,\n 'reactions[2].inputs[\"m1\"].components[0].amount.moles.precision': 1.0,\n 'reactions[2].inputs[\"m1\"].components[0].amount.moles.units': 'MOLE',\n 'reactions[2].inputs[\"m1\"].components[0].reaction_role': 'REACTANT',\n 'reactions[2].inputs[\"m2\"].components[0].identifiers[0].type': 'NAME',\n 'reactions[2].inputs[\"m2\"].components[0].identifiers[0].value': '10-undecenoyl chloride',\n 'reactions[2].inputs[\"m2\"].components[0].identifiers[1].type': 'SMILES',\n 'reactions[2].inputs[\"m2\"].components[0].identifiers[1].value': 'C(CCCCCCCCC=C)(=O)Cl',\n 'reactions[2].inputs[\"m2\"].components[0].identifiers[2].type': 'INCHI',\n 'reactions[2].inputs[\"m2\"].components[0].identifiers[2].value': 'InChI=1S/C11H19ClO/c1-2-3-4-5-6-7-8-9-10-11(12)13/h2H,1,3-10H2',\n 'reactions[2].inputs[\"m2\"].components[0].amount.moles.value': 0.0,\n 'reactions[2].inputs[\"m2\"].components[0].amount.moles.precision': 1.0,\n 'reactions[2].inputs[\"m2\"].components[0].amount.moles.units': 'MOLE',\n 'reactions[2].inputs[\"m2\"].components[0].reaction_role': 'REACTANT',\n 'reactions[2].conditions.conditions_are_dynamic': True,\n 'reactions[2].conditions.details': 'See reaction.notes.procedure_details.',\n 'reactions[2].notes.procedure_details': '##STR27## Synthesized as for 1-Acetyl4-nonanoyl-2,5-piperazinedione in EXAMPLE I using 10-undecenoyl chloride in place of nonanoyl chloride.',\n 'reactions[2].outcomes[0].products[0].identifiers[0].type': 'NAME',\n 'reactions[2].outcomes[0].products[0].identifiers[0].value': '1-Acetyl-4-(l 0-undecenoyl)-2,5-piperazinedione',\n 'reactions[2].outcomes[0].products[0].identifiers[1].type': 'SMILES',\n 'reactions[2].outcomes[0].products[0].identifiers[1].value': 'C(C)(=O)N1C(CN(C(C1)=O)C(CCCCCCCCC=C)=O)=O',\n 'reactions[2].outcomes[0].products[0].identifiers[2].type': 'INCHI',\n 'reactions[2].outcomes[0].products[0].identifiers[2].value': 'InChI=1S/C17H26N2O4/c1-3-4-5-6-7-8-9-10-11-15(21)19-13-16(22)18(14(2)20)12-17(19)23/h3H,1,4-13H2,2H3',\n 'reactions[2].provenance.doi': '10.6084/m9.figshare.5104873.v1',\n 'reactions[2].provenance.patent': 'US06096098',\n 'reactions[2].provenance.record_created.time.value': '2022-12-02 17:54:38.988989',\n 'reactions[2].provenance.record_created.person.username': 'skearnes',\n 'reactions[2].provenance.record_created.person.name': 'Steven Kearnes',\n 'reactions[2].provenance.record_created.person.orcid': '0000-0003-4579-4388',\n 'reactions[2].provenance.record_created.person.organization': 'Google LLC',\n 'reactions[2].provenance.record_created.person.email': 'kearnes@google.com',\n 'reactions[2].provenance.record_modified[0].time.value': 'Mon Dec  5 16:40:48 2022',\n 'reactions[2].provenance.record_modified[0].person.username': 'github-actions',\n 'reactions[2].provenance.record_modified[0].person.email': 'github-actions@github.com',\n 'reactions[2].provenance.record_modified[0].details': 'Automatic updates from the submission pipeline.',\n 'reactions[2].reaction_id': 'ord-acf45aef18024630b924eea42df8cad2',\n 'reactions[3].identifiers[0].type': 'REACTION_CXSMILES',\n 'reactions[3].identifiers[0].value': 'C(N(CC)[C:4](=[O:15])[C:5]1[CH:10]=[C:9]([O:11][CH3:12])[CH:8]=[C:7]([O:13][CH3:14])[CH:6]=1)C.Br[CH2:19][C:20]([CH3:22])=[CH2:21].CC(CSC[C@H]1O[C@@H](N2C3NC=NC(=O)C=3N=C2)[C@H](O)[C@@H]1O)C>>[CH3:12][O:11][C:9]1[CH:8]=[C:7]([O:13][CH3:14])[CH:6]=[C:5]2[C:10]=1[CH:19]=[C:20]([CH3:22])[CH:21]=[C:4]2[OH:15]',\n 'reactions[3].identifiers[0].is_mapped': True,\n 'reactions[3].inputs[\"m0_m1_m2\"].components[0].identifiers[0].type': 'NAME',\n 'reactions[3].inputs[\"m0_m1_m2\"].components[0].identifiers[0].value': 'N,N-diethyl-3,5-dimethoxybenzamide',\n 'reactions[3].inputs[\"m0_m1_m2\"].components[0].identifiers[1].type': 'SMILES',\n 'reactions[3].inputs[\"m0_m1_m2\"].components[0].identifiers[1].value': 'C(C)N(C(C1=CC(=CC(=C1)OC)OC)=O)CC',\n 'reactions[3].inputs[\"m0_m1_m2\"].components[0].identifiers[2].type': 'INCHI',\n 'reactions[3].inputs[\"m0_m1_m2\"].components[0].identifiers[2].value': 'InChI=1S/C13H19NO3/c1-5-14(6-2)13(15)10-7-11(16-3)9-12(8-10)17-4/h7-9H,5-6H2,1-4H3',\n 'reactions[3].inputs[\"m0_m1_m2\"].components[0].amount.moles.value': 0.0,\n 'reactions[3].inputs[\"m0_m1_m2\"].components[0].amount.moles.precision': 1.0,\n 'reactions[3].inputs[\"m0_m1_m2\"].components[0].amount.moles.units': 'MOLE',\n 'reactions[3].inputs[\"m0_m1_m2\"].components[0].reaction_role': 'REACTANT',\n 'reactions[3].inputs[\"m0_m1_m2\"].components[1].identifiers[0].type': 'NAME',\n 'reactions[3].inputs[\"m0_m1_m2\"].components[1].identifiers[0].value': '3-bromo-2-methylpropene',\n 'reactions[3].inputs[\"m0_m1_m2\"].components[1].identifiers[1].type': 'SMILES',\n 'reactions[3].inputs[\"m0_m1_m2\"].components[1].identifiers[1].value': 'BrCC(=C)C',\n 'reactions[3].inputs[\"m0_m1_m2\"].components[1].identifiers[2].type': 'INCHI',\n 'reactions[3].inputs[\"m0_m1_m2\"].components[1].identifiers[2].value': 'InChI=1S/C4H7Br/c1-4(2)3-5/h1,3H2,2H3',\n 'reactions[3].inputs[\"m0_m1_m2\"].components[1].amount.moles.value': 0.0,\n 'reactions[3].inputs[\"m0_m1_m2\"].components[1].amount.moles.precision': 1.0,\n 'reactions[3].inputs[\"m0_m1_m2\"].components[1].amount.moles.units': 'MOLE',\n 'reactions[3].inputs[\"m0_m1_m2\"].components[1].reaction_role': 'REACTANT',\n 'reactions[3].inputs[\"m3\"].components[0].identifiers[0].type': 'NAME',\n 'reactions[3].inputs[\"m3\"].components[0].identifiers[0].value': 'Sibi',\n 'reactions[3].inputs[\"m3\"].components[0].identifiers[1].type': 'SMILES',\n 'reactions[3].inputs[\"m3\"].components[0].identifiers[1].value': 'CC(C)CSC[C@@H]1[C@H]([C@H]([C@@H](O1)N2C=NC3=C2NC=NC3=O)O)O',\n 'reactions[3].inputs[\"m3\"].components[0].identifiers[2].type': 'INCHI',\n 'reactions[3].inputs[\"m3\"].components[0].identifiers[2].value': 'InChI=1S/C14H20N4O4S/c1-7(2)3-23-4-8-10(19)11(20)14(22-8)18-6-17-9-12(18)15-5-16-13(9)21/h5-8,10-11,14,19-20H,3-4H2,1-2H3,(H,15,16,21)/t8-,10-,11-,14-/m1/s1',\n 'reactions[3].inputs[\"m3\"].components[0].amount.moles.value': 0.0,\n 'reactions[3].inputs[\"m3\"].components[0].amount.moles.precision': 1.0,\n 'reactions[3].inputs[\"m3\"].components[0].amount.moles.units': 'MOLE',\n 'reactions[3].inputs[\"m3\"].components[0].reaction_role': 'REACTANT',\n 'reactions[3].conditions.conditions_are_dynamic': True,\n 'reactions[3].conditions.details': 'See reaction.notes.procedure_details.',\n 'reactions[3].notes.procedure_details': '5,7-Dimethoxy-3-methyl-1-naphthol is synthesized from N,N-diethyl-3,5-dimethoxybenzamide and 3-bromo-2-methylpropene according to the method described by Sibi et al. (J. Org. Chem. 1986, Vol. 51, pp. 271-273). The yield is approximately 50%.',\n 'reactions[3].outcomes[0].products[0].identifiers[0].type': 'NAME',\n 'reactions[3].outcomes[0].products[0].identifiers[0].value': '5,7-Dimethoxy-3-methyl-1-naphthol',\n 'reactions[3].outcomes[0].products[0].identifiers[1].type': 'SMILES',\n 'reactions[3].outcomes[0].products[0].identifiers[1].value': 'COC1=C2C=C(C=C(C2=CC(=C1)OC)O)C',\n 'reactions[3].outcomes[0].products[0].identifiers[2].type': 'INCHI',\n 'reactions[3].outcomes[0].products[0].identifiers[2].value': 'InChI=1S/C13H14O3/c1-8-4-11-10(12(14)5-8)6-9(15-2)7-13(11)16-3/h4-7,14H,1-3H3',\n 'reactions[3].outcomes[0].products[0].measurements[0].type': 'YIELD',\n 'reactions[3].outcomes[0].products[0].measurements[0].details': 'PERCENTYIELD',\n 'reactions[3].outcomes[0].products[0].measurements[0].percentage.value': 50.0,\n 'reactions[3].outcomes[0].products[0].reaction_role': 'PRODUCT',\n 'reactions[3].provenance.doi': '10.6084/m9.figshare.5104873.v1',\n 'reactions[3].provenance.patent': 'US06096246',\n 'reactions[3].provenance.record_created.time.value': '2022-12-02 17:54:38.996538',\n 'reactions[3].provenance.record_created.person.username': 'skearnes',\n 'reactions[3].provenance.record_created.person.name': 'Steven Kearnes',\n 'reactions[3].provenance.record_created.person.orcid': '0000-0003-4579-4388',\n 'reactions[3].provenance.record_created.person.organization': 'Google LLC',\n 'reactions[3].provenance.record_created.person.email': 'kearnes@google.com',\n 'reactions[3].provenance.record_modified[0].time.value': 'Mon Dec  5 16:40:48 2022',\n 'reactions[3].provenance.record_modified[0].person.username': 'github-actions',\n 'reactions[3].provenance.record_modified[0].person.email': 'github-actions@github.com',\n 'reactions[3].provenance.record_modified[0].details': 'Automatic updates from the submission pipeline.',\n 'reactions[3].reaction_id': 'ord-ef76600b6f3440a9a463417d54c86752',\n 'reactions[4].identifiers[0].type': 'REACTION_CXSMILES',\n 'reactions[4].identifiers[0].value': '[CH3:1][O:2][C:3]1[CH:11]=[CH:10][C:6]([C:7](Cl)=[O:8])=[CH:5][CH:4]=1.[Mg].[CH3:13][O:14][C:15]1[CH:16]=[C:17]2[C:22](=[CH:23][CH:24]=1)[CH:21]=[C:20](Br)[CH:19]=[CH:18]2.[Br-].[Mg]>C1COCC1>[CH3:13][O:14][C:15]1[CH:16]=[C:17]2[C:22](=[CH:23][CH:24]=1)[CH:21]=[C:20]([C:10]1[CH:11]=[C:3]([O:2][CH3:1])[CH:4]=[CH:5][C:6]=1[C:7]([C:6]1[CH:10]=[CH:11][C:3]([O:2][CH3:1])=[CH:4][C:5]=1[C:20]1[CH:19]=[CH:18][C:17]3[C:22](=[CH:23][CH:24]=[C:15]([O:14][CH3:13])[CH:16]=3)[CH:21]=1)=[O:8])[CH:19]=[CH:18]2 |f:1.2|',\n 'reactions[4].identifiers[0].is_mapped': True,\n 'reactions[4].inputs[\"m4\"].components[0].identifiers[0].type': 'NAME',\n 'reactions[4].inputs[\"m4\"].components[0].identifiers[0].value': 'magnesium',\n 'reactions[4].inputs[\"m4\"].components[0].identifiers[1].type': 'SMILES',\n 'reactions[4].inputs[\"m4\"].components[0].identifiers[1].value': '[Mg]',\n 'reactions[4].inputs[\"m4\"].components[0].identifiers[2].type': 'INCHI',\n 'reactions[4].inputs[\"m4\"].components[0].identifiers[2].value': 'InChI=1S/Mg',\n 'reactions[4].inputs[\"m4\"].components[0].amount.moles.value': 0.0,\n 'reactions[4].inputs[\"m4\"].components[0].amount.moles.precision': 1.0,\n 'reactions[4].inputs[\"m4\"].components[0].amount.moles.units': 'MOLE',\n 'reactions[4].inputs[\"m4\"].components[0].reaction_role': 'REACTANT',\n 'reactions[4].inputs[\"m1_m2_m5\"].components[0].identifiers[0].type': 'NAME',\n 'reactions[4].inputs[\"m1_m2_m5\"].components[0].identifiers[0].value': 'p-methoxybenzoyl chloride',\n 'reactions[4].inputs[\"m1_m2_m5\"].components[0].identifiers[1].type': 'SMILES',\n 'reactions[4].inputs[\"m1_m2_m5\"].components[0].identifiers[1].value': 'COC1=CC=C(C(=O)Cl)C=C1',\n 'reactions[4].inputs[\"m1_m2_m5\"].components[0].identifiers[2].type': 'INCHI',\n 'reactions[4].inputs[\"m1_m2_m5\"].components[0].identifiers[2].value': 'InChI=1S/C8H7ClO2/c1-11-7-4-2-6(3-5-7)8(9)10/h2-5H,1H3',\n 'reactions[4].inputs[\"m1_m2_m5\"].components[0].amount.mass.value': 36.0,\n 'reactions[4].inputs[\"m1_m2_m5\"].components[0].amount.mass.units': 'GRAM',\n 'reactions[4].inputs[\"m1_m2_m5\"].components[0].reaction_role': 'REACTANT',\n 'reactions[4].inputs[\"m1_m2_m5\"].components[1].identifiers[0].type': 'NAME',\n 'reactions[4].inputs[\"m1_m2_m5\"].components[1].identifiers[0].value': '6-methoxy-2-bromonaphthalene magnesium',\n 'reactions[4].inputs[\"m1_m2_m5\"].components[1].identifiers[1].type': 'SMILES',\n 'reactions[4].inputs[\"m1_m2_m5\"].components[1].identifiers[1].value': '[Mg].COC=1C=C2C=CC(=CC2=CC1)Br',\n 'reactions[4].inputs[\"m1_m2_m5\"].components[1].identifiers[2].type': 'INCHI',\n 'reactions[4].inputs[\"m1_m2_m5\"].components[1].identifiers[2].value': 'InChI=1S/C11H9BrO.Mg/c1-13-11-5-3-8-6-10(12)4-2-9(8)7-11;/h2-7H,1H3;',\n 'reactions[4].inputs[\"m1_m2_m5\"].components[1].amount.moles.value': 0.0,\n 'reactions[4].inputs[\"m1_m2_m5\"].components[1].amount.moles.precision': 1.0,\n 'reactions[4].inputs[\"m1_m2_m5\"].components[1].amount.moles.units': 'MOLE',\n 'reactions[4].inputs[\"m1_m2_m5\"].components[1].reaction_role': 'REACTANT',\n 'reactions[4].inputs[\"m1_m2_m5\"].components[2].identifiers[0].type': 'NAME',\n 'reactions[4].inputs[\"m1_m2_m5\"].components[2].identifiers[0].value': 'THF',\n 'reactions[4].inputs[\"m1_m2_m5\"].components[2].identifiers[1].type': 'SMILES',\n 'reactions[4].inputs[\"m1_m2_m5\"].components[2].identifiers[1].value': 'C1CCOC1',\n 'reactions[4].inputs[\"m1_m2_m5\"].components[2].identifiers[2].type': 'INCHI',\n 'reactions[4].inputs[\"m1_m2_m5\"].components[2].identifiers[2].value': 'InChI=1S/C4H8O/c1-2-4-5-3-1/h1-4H2',\n 'reactions[4].inputs[\"m1_m2_m5\"].components[2].amount.moles.value': 0.0,\n 'reactions[4].inputs[\"m1_m2_m5\"].components[2].amount.moles.precision': 1.0,\n 'reactions[4].inputs[\"m1_m2_m5\"].components[2].amount.moles.units': 'MOLE',\n 'reactions[4].inputs[\"m1_m2_m5\"].components[2].reaction_role': 'SOLVENT',\n 'reactions[4].inputs[\"m3\"].components[0].identifiers[0].type': 'NAME',\n 'reactions[4].inputs[\"m3\"].components[0].identifiers[0].value': 'bromide',\n 'reactions[4].inputs[\"m3\"].components[0].identifiers[1].type': 'SMILES',\n 'reactions[4].inputs[\"m3\"].components[0].identifiers[1].value': '[Br-]',\n 'reactions[4].inputs[\"m3\"].components[0].identifiers[2].type': 'INCHI',\n 'reactions[4].inputs[\"m3\"].components[0].identifiers[2].value': 'InChI=1S/BrH/h1H/p-1',\n 'reactions[4].inputs[\"m3\"].components[0].amount.moles.value': 0.0,\n 'reactions[4].inputs[\"m3\"].components[0].amount.moles.precision': 1.0,\n 'reactions[4].inputs[\"m3\"].components[0].amount.moles.units': 'MOLE',\n 'reactions[4].inputs[\"m3\"].components[0].reaction_role': 'REACTANT',\n 'reactions[4].conditions.conditions_are_dynamic': True,\n 'reactions[4].conditions.details': 'See reaction.notes.procedure_details.',\n 'reactions[4].notes.procedure_details': '36 g of p-methoxybenzoyl chloride are reacted with 1 Eq of 6-methoxy-2-bromonaphthalene magnesium in a solution in THF (solution prepared by reacting the bromide with 1.5 Eq of magnesium, followed by filtration) at 0° C. for 2 h. The medium is then poured into a mixture of 300 g of ice and 50 mL of concentrated HCl. The precipitate formed is recovered and washed with water (3×500 mL). After drying, 61 g of 2-(6-methoxynaphth-2-yl)-(4-methoxyphenyl) ketone are obtained.',\n 'reactions[4].workups[0].type': 'CUSTOM',\n 'reactions[4].workups[0].details': 'prepared',\n 'reactions[4].workups[1].type': 'FILTRATION',\n 'reactions[4].workups[1].details': 'followed by filtration) at 0° C. for 2 h',\n 'reactions[4].workups[1].duration.value': 2.0,\n 'reactions[4].workups[1].duration.units': 'HOUR',\n 'reactions[4].workups[1].temperature.setpoint.value': 0.0,\n 'reactions[4].workups[1].temperature.setpoint.units': 'CELSIUS',\n 'reactions[4].workups[2].type': 'ADDITION',\n 'reactions[4].workups[2].details': 'The medium is then poured into a mixture of 300 g of ice and 50 mL of concentrated HCl',\n 'reactions[4].workups[2].input.components[0].identifiers[0].type': 'NAME',\n 'reactions[4].workups[2].input.components[0].identifiers[0].value': 'ice',\n 'reactions[4].workups[2].input.components[0].amount.mass.value': 300.0,\n 'reactions[4].workups[2].input.components[0].amount.mass.units': 'GRAM',\n 'reactions[4].workups[2].input.components[0].reaction_role': 'WORKUP',\n 'reactions[4].workups[2].input.components[1].identifiers[0].type': 'NAME',\n 'reactions[4].workups[2].input.components[1].identifiers[0].value': 'HCl',\n 'reactions[4].workups[2].input.components[1].identifiers[1].type': 'SMILES',\n 'reactions[4].workups[2].input.components[1].identifiers[1].value': 'Cl',\n 'reactions[4].workups[2].input.components[1].identifiers[2].type': 'INCHI',\n 'reactions[4].workups[2].input.components[1].identifiers[2].value': 'InChI=1S/ClH/h1H',\n 'reactions[4].workups[2].input.components[1].amount.volume.value': 50.0,\n 'reactions[4].workups[2].input.components[1].amount.volume.units': 'MILLILITER',\n 'reactions[4].workups[2].input.components[1].reaction_role': 'WORKUP',\n 'reactions[4].workups[3].type': 'CUSTOM',\n 'reactions[4].workups[3].details': 'The precipitate formed',\n 'reactions[4].workups[4].type': 'CUSTOM',\n 'reactions[4].workups[4].details': 'is recovered',\n 'reactions[4].workups[5].type': 'WASH',\n 'reactions[4].workups[5].details': 'washed with water (3×500 mL)',\n 'reactions[4].workups[5].input.components[0].identifiers[0].type': 'NAME',\n 'reactions[4].workups[5].input.components[0].identifiers[0].value': 'water',\n 'reactions[4].workups[5].input.components[0].identifiers[1].type': 'SMILES',\n 'reactions[4].workups[5].input.components[0].identifiers[1].value': 'O',\n 'reactions[4].workups[5].input.components[0].identifiers[2].type': 'INCHI',\n 'reactions[4].workups[5].input.components[0].identifiers[2].value': 'InChI=1S/H2O/h1H2',\n 'reactions[4].workups[5].input.components[0].amount.volume.value': 500.0,\n 'reactions[4].workups[5].input.components[0].amount.volume.units': 'MILLILITER',\n 'reactions[4].workups[5].input.components[0].reaction_role': 'WORKUP',\n 'reactions[4].workups[6].type': 'CUSTOM',\n 'reactions[4].workups[6].details': 'After drying',\n 'reactions[4].outcomes[0].products[0].identifiers[0].type': 'NAME',\n 'reactions[4].outcomes[0].products[0].identifiers[0].value': '2-(6-methoxynaphth-2-yl)-(4-methoxyphenyl) ketone',\n 'reactions[4].outcomes[0].products[0].identifiers[1].type': 'SMILES',\n 'reactions[4].outcomes[0].products[0].identifiers[1].value': 'COC=1C=C2C=CC(=CC2=CC1)C1=C(C=CC(=C1)OC)C(=O)C1=C(C=C(C=C1)OC)C1=CC2=CC=C(C=C2C=C1)OC',\n 'reactions[4].outcomes[0].products[0].identifiers[2].type': 'INCHI',\n 'reactions[4].outcomes[0].products[0].identifiers[2].value': 'InChI=1S/C37H30O5/c1-39-29-11-9-23-17-27(7-5-25(23)19-29)35-21-31(41-3)13-15-33(35)37(38)34-16-14-32(42-4)22-36(34)28-8-6-26-20-30(40-2)12-10-24(26)18-28/h5-22H,1-4H3',\n 'reactions[4].outcomes[0].products[0].measurements[0].type': 'AMOUNT',\n 'reactions[4].outcomes[0].products[0].measurements[0].details': 'MASS',\n 'reactions[4].outcomes[0].products[0].measurements[0].amount.mass.value': 61.0,\n 'reactions[4].outcomes[0].products[0].measurements[0].amount.mass.units': 'GRAM',\n 'reactions[4].outcomes[0].products[0].reaction_role': 'PRODUCT',\n 'reactions[4].provenance.doi': '10.6084/m9.figshare.5104873.v1',\n 'reactions[4].provenance.patent': 'US06096246',\n 'reactions[4].provenance.record_created.time.value': '2022-12-02 17:54:39.008271',\n 'reactions[4].provenance.record_created.person.username': 'skearnes',\n 'reactions[4].provenance.record_created.person.name': 'Steven Kearnes',\n 'reactions[4].provenance.record_created.person.orcid': '0000-0003-4579-4388',\n 'reactions[4].provenance.record_created.person.organization': 'Google LLC',\n 'reactions[4].provenance.record_created.person.email': 'kearnes@google.com',\n 'reactions[4].provenance.record_modified[0].time.value': 'Mon Dec  5 16:40:48 2022',\n 'reactions[4].provenance.record_modified[0].person.username': 'github-actions',\n 'reactions[4].provenance.record_modified[0].person.email': 'github-actions@github.com',\n 'reactions[4].provenance.record_modified[0].details': 'Automatic updates from the submission pipeline.',\n 'reactions[4].reaction_id': 'ord-1b3df259327443ac8f6ed7c7cd635dea',\n 'reactions[5].identifiers[0].type': 'REACTION_CXSMILES',\n 'reactions[5].identifiers[0].value': '[Cl-].[Cl-].[Cl-].[Al+3].[C:5](Cl)(=[O:7])[CH3:6].[I:9][C:10]1[CH:11]=[C:12]([CH3:16])[CH:13]=[CH:14][CH:15]=1>ClCCl>[C:5]([C:13]1[CH:14]=[CH:15][C:10]([I:9])=[CH:11][C:12]=1[CH3:16])(=[O:7])[CH3:6] |f:0.1.2.3|',\n 'reactions[5].identifiers[0].is_mapped': True,\n 'reactions[5].inputs[\"m4\"].components[0].identifiers[0].type': 'NAME',\n 'reactions[5].inputs[\"m4\"].components[0].identifiers[0].value': 'ice water',\n 'reactions[5].inputs[\"m4\"].components[0].amount.mass.value': 500.0,\n 'reactions[5].inputs[\"m4\"].components[0].amount.mass.units': 'GRAM',\n 'reactions[5].inputs[\"m4\"].components[0].reaction_role': 'REACTANT',\n 'reactions[5].inputs[\"m2\"].components[0].identifiers[0].type': 'NAME',\n 'reactions[5].inputs[\"m2\"].components[0].identifiers[0].value': 'acetyl chloride',\n 'reactions[5].inputs[\"m2\"].components[0].identifiers[1].type': 'SMILES',\n 'reactions[5].inputs[\"m2\"].components[0].identifiers[1].value': 'C(C)(=O)Cl',\n 'reactions[5].inputs[\"m2\"].components[0].identifiers[2].type': 'INCHI',\n 'reactions[5].inputs[\"m2\"].components[0].identifiers[2].value': 'InChI=1S/C2H3ClO/c1-2(3)4/h1H3',\n 'reactions[5].inputs[\"m2\"].components[0].amount.volume.value': 10.199999809265137,\n 'reactions[5].inputs[\"m2\"].components[0].amount.volume.units': 'MILLILITER',\n 'reactions[5].inputs[\"m2\"].components[0].reaction_role': 'REACTANT',\n 'reactions[5].inputs[\"m1_m5\"].components[0].identifiers[0].type': 'NAME',\n 'reactions[5].inputs[\"m1_m5\"].components[0].identifiers[0].value': 'aluminum trichloride',\n 'reactions[5].inputs[\"m1_m5\"].components[0].identifiers[1].type': 'SMILES',\n 'reactions[5].inputs[\"m1_m5\"].components[0].identifiers[1].value': '[Cl-].[Cl-].[Cl-].[Al+3]',\n 'reactions[5].inputs[\"m1_m5\"].components[0].identifiers[2].type': 'INCHI',\n 'reactions[5].inputs[\"m1_m5\"].components[0].identifiers[2].value': 'InChI=1S/Al.3ClH/h;3*1H/q+3;;;/p-3',\n 'reactions[5].inputs[\"m1_m5\"].components[0].amount.mass.value': 20.0,\n 'reactions[5].inputs[\"m1_m5\"].components[0].amount.mass.units': 'GRAM',\n 'reactions[5].inputs[\"m1_m5\"].components[0].reaction_role': 'REACTANT',\n 'reactions[5].inputs[\"m1_m5\"].components[1].identifiers[0].type': 'NAME',\n 'reactions[5].inputs[\"m1_m5\"].components[1].identifiers[0].value': 'dichloromethane',\n 'reactions[5].inputs[\"m1_m5\"].components[1].identifiers[1].type': 'SMILES',\n 'reactions[5].inputs[\"m1_m5\"].components[1].identifiers[1].value': 'ClCCl',\n 'reactions[5].inputs[\"m1_m5\"].components[1].identifiers[2].type': 'INCHI',\n 'reactions[5].inputs[\"m1_m5\"].components[1].identifiers[2].value': 'InChI=1S/CH2Cl2/c2-1-3/h1H2',\n 'reactions[5].inputs[\"m1_m5\"].components[1].amount.volume.value': 500.0,\n 'reactions[5].inputs[\"m1_m5\"].components[1].amount.volume.units': 'MILLILITER',\n 'reactions[5].inputs[\"m1_m5\"].components[1].reaction_role': 'SOLVENT',\n 'reactions[5].inputs[\"m3\"].components[0].identifiers[0].type': 'NAME',\n 'reactions[5].inputs[\"m3\"].components[0].identifiers[0].value': '3-iodotoluene',\n 'reactions[5].inputs[\"m3\"].components[0].identifiers[1].type': 'SMILES',\n 'reactions[5].inputs[\"m3\"].components[0].identifiers[1].value': 'IC=1C=C(C=CC1)C',\n 'reactions[5].inputs[\"m3\"].components[0].identifiers[2].type': 'INCHI',\n 'reactions[5].inputs[\"m3\"].components[0].identifiers[2].value': 'InChI=1S/C7H7I/c1-6-3-2-4-7(8)5-6/h2-5H,1H3',\n 'reactions[5].inputs[\"m3\"].components[0].amount.mass.value': 20.0,\n 'reactions[5].inputs[\"m3\"].components[0].amount.mass.units': 'GRAM',\n 'reactions[5].inputs[\"m3\"].components[0].reaction_role': 'REACTANT',\n 'reactions[5].conditions.stirring.type': 'CUSTOM',\n 'reactions[5].conditions.stirring.details': 'After the reaction mixture was stirred for 15 min',\n 'reactions[5].conditions.conditions_are_dynamic': True,\n 'reactions[5].conditions.details': 'See reaction.notes.procedure_details.',\n 'reactions[5].notes.procedure_details': 'To a suspension of 20 gm of aluminum trichloride in 500 mL of dichloromethane was added 10.2 mL of acetyl chloride under Argon. After the reaction mixture was stirred for 15 min, 3-iodotoluene (20 gm) was added through a syringe. The mixture was stirred overnight under Argon and poured into 500 gm of ice-water. Organic layer was separated and washed once with the saturated ammonium chloride solution, and washed once with 10% sodium thiosulfate solution and dried over sodium sulfate. After removing the solvent, the residue was dissolved in hexane for the column purification. Silica gel (260 gm) was packed with hexane, after loading the sample solution, the column was eluted with 750 mL of hexane, 750 mL of 1% v/v ether/hexane, 750 mL of 2% v/v ether/hexane and 1500 mL of 3% v/v ether/hexane. The fractions containing the right isomer were identified by GC-MS and 1H NMR and pooled and concentrated to dryness to afford 12.2 gm (51.2%) of the title product (P 1).',\n 'reactions[5].workups[0].type': 'STIRRING',\n 'reactions[5].workups[0].details': 'The mixture was stirred overnight under Argon',\n 'reactions[5].workups[0].duration.value': 8.0,\n 'reactions[5].workups[0].duration.precision': 8.0,\n 'reactions[5].workups[0].duration.units': 'HOUR',\n 'reactions[5].workups[1].type': 'CUSTOM',\n 'reactions[5].workups[1].details': 'Organic layer was separated',\n 'reactions[5].workups[2].type': 'WASH',\n 'reactions[5].workups[2].details': 'washed once with the saturated ammonium chloride solution',\n 'reactions[5].workups[2].input.components[0].identifiers[0].type': 'NAME',\n 'reactions[5].workups[2].input.components[0].identifiers[0].value': 'ammonium chloride',\n 'reactions[5].workups[2].input.components[0].identifiers[1].type': 'SMILES',\n 'reactions[5].workups[2].input.components[0].identifiers[1].value': '[Cl-].[NH4+]',\n 'reactions[5].workups[2].input.components[0].identifiers[2].type': 'INCHI',\n 'reactions[5].workups[2].input.components[0].identifiers[2].value': 'InChI=1S/ClH.H3N/h1H;1H3',\n 'reactions[5].workups[2].input.components[0].amount.moles.value': 0.0,\n 'reactions[5].workups[2].input.components[0].amount.moles.precision': 1.0,\n 'reactions[5].workups[2].input.components[0].amount.moles.units': 'MOLE',\n 'reactions[5].workups[2].input.components[0].reaction_role': 'WORKUP',\n 'reactions[5].workups[3].type': 'WASH',\n 'reactions[5].workups[3].details': 'washed once with 10% sodium thiosulfate solution',\n 'reactions[5].workups[3].input.components[0].identifiers[0].type': 'NAME',\n 'reactions[5].workups[3].input.components[0].identifiers[0].value': 'sodium thiosulfate',\n 'reactions[5].workups[3].input.components[0].identifiers[1].type': 'SMILES',\n 'reactions[5].workups[3].input.components[0].identifiers[1].value': 'S(=S)(=O)([O-])[O-].[Na+].[Na+]',\n 'reactions[5].workups[3].input.components[0].identifiers[2].type': 'INCHI',\n 'reactions[5].workups[3].input.components[0].identifiers[2].value': 'InChI=1S/2Na.H2O3S2/c;;1-5(2,3)4/h;;(H2,1,2,3,4)/q2*+1;/p-2',\n 'reactions[5].workups[3].input.components[0].amount.moles.value': 0.0,\n 'reactions[5].workups[3].input.components[0].amount.moles.precision': 1.0,\n 'reactions[5].workups[3].input.components[0].amount.moles.units': 'MOLE',\n 'reactions[5].workups[3].input.components[0].reaction_role': 'WORKUP',\n 'reactions[5].workups[4].type': 'DRY_WITH_MATERIAL',\n 'reactions[5].workups[4].details': 'dried over sodium sulfate',\n 'reactions[5].workups[4].input.components[0].identifiers[0].type': 'NAME',\n 'reactions[5].workups[4].input.components[0].identifiers[0].value': 'sodium sulfate',\n 'reactions[5].workups[4].input.components[0].identifiers[1].type': 'SMILES',\n 'reactions[5].workups[4].input.components[0].identifiers[1].value': 'S(=O)(=O)([O-])[O-].[Na+].[Na+]',\n 'reactions[5].workups[4].input.components[0].identifiers[2].type': 'INCHI',\n 'reactions[5].workups[4].input.components[0].identifiers[2].value': 'InChI=1S/2Na.H2O4S/c;;1-5(2,3)4/h;;(H2,1,2,3,4)/q2*+1;/p-2',\n 'reactions[5].workups[4].input.components[0].amount.moles.value': 0.0,\n 'reactions[5].workups[4].input.components[0].amount.moles.precision': 1.0,\n 'reactions[5].workups[4].input.components[0].amount.moles.units': 'MOLE',\n 'reactions[5].workups[4].input.components[0].reaction_role': 'WORKUP',\n 'reactions[5].workups[5].type': 'CUSTOM',\n 'reactions[5].workups[5].details': 'After removing the solvent',\n 'reactions[5].workups[6].type': 'DISSOLUTION',\n 'reactions[5].workups[6].details': 'the residue was dissolved in hexane for the column purification',\n 'reactions[5].workups[6].input.components[0].identifiers[0].type': 'NAME',\n 'reactions[5].workups[6].input.components[0].identifiers[0].value': 'hexane',\n 'reactions[5].workups[6].input.components[0].identifiers[1].type': 'SMILES',\n 'reactions[5].workups[6].input.components[0].identifiers[1].value': 'CCCCCC',\n 'reactions[5].workups[6].input.components[0].identifiers[2].type': 'INCHI',\n 'reactions[5].workups[6].input.components[0].identifiers[2].value': 'InChI=1S/C6H14/c1-3-5-6-4-2/h3-6H2,1-2H3',\n 'reactions[5].workups[6].input.components[0].amount.moles.value': 0.0,\n 'reactions[5].workups[6].input.components[0].amount.moles.precision': 1.0,\n 'reactions[5].workups[6].input.components[0].amount.moles.units': 'MOLE',\n 'reactions[5].workups[6].input.components[0].reaction_role': 'WORKUP',\n 'reactions[5].workups[7].type': 'WASH',\n 'reactions[5].workups[7].details': 'the column was eluted with 750 mL of hexane, 750 mL of 1% v/v ether/hexane, 750 mL of 2% v/v ether/hexane and 1500 mL of 3% v/v ether/hexane',\n 'reactions[5].workups[7].input.components[0].identifiers[0].type': 'NAME',\n 'reactions[5].workups[7].input.components[0].identifiers[0].value': 'hexane',\n 'reactions[5].workups[7].input.components[0].identifiers[1].type': 'SMILES',\n 'reactions[5].workups[7].input.components[0].identifiers[1].value': 'CCCCCC',\n 'reactions[5].workups[7].input.components[0].identifiers[2].type': 'INCHI',\n 'reactions[5].workups[7].input.components[0].identifiers[2].value': 'InChI=1S/C6H14/c1-3-5-6-4-2/h3-6H2,1-2H3',\n 'reactions[5].workups[7].input.components[0].amount.volume.value': 750.0,\n 'reactions[5].workups[7].input.components[0].amount.volume.units': 'MILLILITER',\n 'reactions[5].workups[7].input.components[0].reaction_role': 'WORKUP',\n 'reactions[5].workups[7].input.components[1].identifiers[0].type': 'NAME',\n 'reactions[5].workups[7].input.components[1].identifiers[0].value': 'ether hexane',\n 'reactions[5].workups[7].input.components[1].identifiers[1].type': 'SMILES',\n 'reactions[5].workups[7].input.components[1].identifiers[1].value': 'CCOCC.CCCCCC',\n 'reactions[5].workups[7].input.components[1].identifiers[2].type': 'INCHI',\n 'reactions[5].workups[7].input.components[1].identifiers[2].value': 'InChI=1S/C6H14.C4H10O/c1-3-5-6-4-2;1-3-5-4-2/h3-6H2,1-2H3;3-4H2,1-2H3',\n 'reactions[5].workups[7].input.components[1].amount.moles.value': 0.0,\n 'reactions[5].workups[7].input.components[1].amount.moles.precision': 1.0,\n 'reactions[5].workups[7].input.components[1].amount.moles.units': 'MOLE',\n 'reactions[5].workups[7].input.components[1].reaction_role': 'WORKUP',\n 'reactions[5].workups[7].input.components[2].identifiers[0].type': 'NAME',\n 'reactions[5].workups[7].input.components[2].identifiers[0].value': 'ether hexane',\n 'reactions[5].workups[7].input.components[2].identifiers[1].type': 'SMILES',\n 'reactions[5].workups[7].input.components[2].identifiers[1].value': 'CCOCC.CCCCCC',\n 'reactions[5].workups[7].input.components[2].identifiers[2].type': 'INCHI',\n 'reactions[5].workups[7].input.components[2].identifiers[2].value': 'InChI=1S/C6H14.C4H10O/c1-3-5-6-4-2;1-3-5-4-2/h3-6H2,1-2H3;3-4H2,1-2H3',\n 'reactions[5].workups[7].input.components[2].amount.moles.value': 0.0,\n 'reactions[5].workups[7].input.components[2].amount.moles.precision': 1.0,\n 'reactions[5].workups[7].input.components[2].amount.moles.units': 'MOLE',\n 'reactions[5].workups[7].input.components[2].reaction_role': 'WORKUP',\n 'reactions[5].workups[7].input.components[3].identifiers[0].type': 'NAME',\n 'reactions[5].workups[7].input.components[3].identifiers[0].value': 'ether hexane',\n 'reactions[5].workups[7].input.components[3].identifiers[1].type': 'SMILES',\n 'reactions[5].workups[7].input.components[3].identifiers[1].value': 'CCOCC.CCCCCC',\n 'reactions[5].workups[7].input.components[3].identifiers[2].type': 'INCHI',\n 'reactions[5].workups[7].input.components[3].identifiers[2].value': 'InChI=1S/C6H14.C4H10O/c1-3-5-6-4-2;1-3-5-4-2/h3-6H2,1-2H3;3-4H2,1-2H3',\n 'reactions[5].workups[7].input.components[3].amount.moles.value': 0.0,\n 'reactions[5].workups[7].input.components[3].amount.moles.precision': 1.0,\n 'reactions[5].workups[7].input.components[3].amount.moles.units': 'MOLE',\n 'reactions[5].workups[7].input.components[3].reaction_role': 'WORKUP',\n 'reactions[5].workups[8].type': 'ADDITION',\n 'reactions[5].workups[8].details': 'The fractions containing the right isomer',\n 'reactions[5].workups[9].type': 'CONCENTRATION',\n 'reactions[5].workups[9].details': 'concentrated to dryness',\n 'reactions[5].outcomes[0].reaction_time.value': 15.0,\n 'reactions[5].outcomes[0].reaction_time.units': 'MINUTE',\n 'reactions[5].outcomes[0].products[0].identifiers[0].type': 'NAME',\n 'reactions[5].outcomes[0].products[0].identifiers[0].value': 'title product',\n 'reactions[5].outcomes[0].products[0].identifiers[1].type': 'NAME',\n 'reactions[5].outcomes[0].products[0].identifiers[1].value': '2-Acetyl-5-iodotoluene',\n 'reactions[5].outcomes[0].products[0].identifiers[2].type': 'SMILES',\n 'reactions[5].outcomes[0].products[0].identifiers[2].value': 'C(C)(=O)C1=C(C=C(C=C1)I)C',\n 'reactions[5].outcomes[0].products[0].identifiers[3].type': 'INCHI',\n 'reactions[5].outcomes[0].products[0].identifiers[3].value': 'InChI=1S/C9H9IO/c1-6-5-8(10)3-4-9(6)7(2)11/h3-5H,1-2H3',\n 'reactions[5].outcomes[0].products[0].measurements[0].type': 'AMOUNT',\n 'reactions[5].outcomes[0].products[0].measurements[0].details': 'MASS',\n 'reactions[5].outcomes[0].products[0].measurements[0].amount.mass.value': 12.199999809265137,\n 'reactions[5].outcomes[0].products[0].measurements[0].amount.mass.units': 'GRAM',\n 'reactions[5].outcomes[0].products[0].measurements[1].type': 'YIELD',\n 'reactions[5].outcomes[0].products[0].measurements[1].details': 'PERCENTYIELD',\n 'reactions[5].outcomes[0].products[0].measurements[1].percentage.value': 51.20000076293945,\n 'reactions[5].outcomes[0].products[0].reaction_role': 'PRODUCT',\n 'reactions[5].provenance.doi': '10.6084/m9.figshare.5104873.v1',\n 'reactions[5].provenance.patent': 'US06096273',\n 'reactions[5].provenance.record_created.time.value': '2022-12-02 17:54:39.024923',\n 'reactions[5].provenance.record_created.person.username': 'skearnes',\n 'reactions[5].provenance.record_created.person.name': 'Steven Kearnes',\n 'reactions[5].provenance.record_created.person.orcid': '0000-0003-4579-4388',\n 'reactions[5].provenance.record_created.person.organization': 'Google LLC',\n 'reactions[5].provenance.record_created.person.email': 'kearnes@google.com',\n 'reactions[5].provenance.record_modified[0].time.value': 'Mon Dec  5 16:40:48 2022',\n 'reactions[5].provenance.record_modified[0].person.username': 'github-actions',\n 'reactions[5].provenance.record_modified[0].person.email': 'github-actions@github.com',\n 'reactions[5].provenance.record_modified[0].details': 'Automatic updates from the submission pipeline.',\n 'reactions[5].reaction_id': 'ord-a6c969de525247a881ec47ce34a2225b',\n 'reactions[6].identifiers[0].type': 'REACTION_CXSMILES',\n 'reactions[6].identifiers[0].value': '[Cl:1][P:2](Cl)[O:3][CH2:4][CH2:5][C:6]#[N:7].[CH:9]([N:12]([CH:15]([CH3:17])[CH3:16])CC)([CH3:11])[CH3:10].C(NC(C)C)(C)C>ClCCl.CN(C1C=CN=CC=1)C>[CH:9]([N:12]([P:2]([Cl:1])[O:3][CH2:4][CH2:5][C:6]#[N:7])[CH:15]([CH3:17])[CH3:16])([CH3:11])[CH3:10]',\n 'reactions[6].identifiers[0].is_mapped': True,\n 'reactions[6].inputs[\"m1_m4\"].components[0].identifiers[0].type': 'NAME',\n 'reactions[6].inputs[\"m1_m4\"].components[0].identifiers[0].value': 'dichloro(β-cyano)ethoxyphosphine',\n 'reactions[6].inputs[\"m1_m4\"].components[0].identifiers[1].type': 'SMILES',\n 'reactions[6].inputs[\"m1_m4\"].components[0].identifiers[1].value': 'ClP(OCCC#N)Cl',\n 'reactions[6].inputs[\"m1_m4\"].components[0].identifiers[2].type': 'INCHI',\n 'reactions[6].inputs[\"m1_m4\"].components[0].identifiers[2].value': 'InChI=1S/C3H4Cl2NOP/c4-8(5)7-3-1-2-6/h1,3H2',\n 'reactions[6].inputs[\"m1_m4\"].components[0].amount.volume.value': 0.5400000214576721,\n 'reactions[6].inputs[\"m1_m4\"].components[0].amount.volume.units': 'MILLILITER',\n 'reactions[6].inputs[\"m1_m4\"].components[0].reaction_role': 'REACTANT',\n 'reactions[6].inputs[\"m1_m4\"].components[1].identifiers[0].type': 'NAME',\n 'reactions[6].inputs[\"m1_m4\"].components[1].identifiers[0].value': 'dichloromethane',\n 'reactions[6].inputs[\"m1_m4\"].components[1].identifiers[1].type': 'SMILES',\n 'reactions[6].inputs[\"m1_m4\"].components[1].identifiers[1].value': 'ClCCl',\n 'reactions[6].inputs[\"m1_m4\"].components[1].identifiers[2].type': 'INCHI',\n 'reactions[6].inputs[\"m1_m4\"].components[1].identifiers[2].value': 'InChI=1S/CH2Cl2/c2-1-3/h1H2',\n 'reactions[6].inputs[\"m1_m4\"].components[1].amount.volume.value': 40.0,\n 'reactions[6].inputs[\"m1_m4\"].components[1].amount.volume.units': 'MILLILITER',\n 'reactions[6].inputs[\"m1_m4\"].components[1].reaction_role': 'SOLVENT',\n 'reactions[6].inputs[\"m5\"].components[0].identifiers[0].type': 'NAME',\n 'reactions[6].inputs[\"m5\"].components[0].identifiers[0].value': 'DMAP',\n 'reactions[6].inputs[\"m5\"].components[0].identifiers[1].type': 'SMILES',\n 'reactions[6].inputs[\"m5\"].components[0].identifiers[1].value': 'CN(C)C=1C=CN=CC1',\n 'reactions[6].inputs[\"m5\"].components[0].identifiers[2].type': 'INCHI',\n 'reactions[6].inputs[\"m5\"].components[0].identifiers[2].value': 'InChI=1S/C7H10N2/c1-9(2)7-3-5-8-6-4-7/h3-6H,1-2H3',\n 'reactions[6].inputs[\"m5\"].components[0].amount.mass.value': 0.10000000149011612,\n 'reactions[6].inputs[\"m5\"].components[0].amount.mass.units': 'GRAM',\n 'reactions[6].inputs[\"m5\"].components[0].reaction_role': 'CATALYST',\n 'reactions[6].inputs[\"m3\"].components[0].identifiers[0].type': 'NAME',\n 'reactions[6].inputs[\"m3\"].components[0].identifiers[0].value': 'diisopropylamine',\n 'reactions[6].inputs[\"m3\"].components[0].identifiers[1].type': 'SMILES',\n 'reactions[6].inputs[\"m3\"].components[0].identifiers[1].value': 'C(C)(C)NC(C)C',\n 'reactions[6].inputs[\"m3\"].components[0].identifiers[2].type': 'INCHI',\n 'reactions[6].inputs[\"m3\"].components[0].identifiers[2].value': 'InChI=1S/C6H15N/c1-5(2)7-6(3)4/h5-7H,1-4H3',\n 'reactions[6].inputs[\"m3\"].components[0].amount.volume.value': 0.6399999856948853,\n 'reactions[6].inputs[\"m3\"].components[0].amount.volume.units': 'MILLILITER',\n 'reactions[6].inputs[\"m3\"].components[0].reaction_role': 'REACTANT',\n 'reactions[6].inputs[\"m2\"].components[0].identifiers[0].type': 'NAME',\n 'reactions[6].inputs[\"m2\"].components[0].identifiers[0].value': 'diisopropylethylamine',\n 'reactions[6].inputs[\"m2\"].components[0].identifiers[1].type': 'SMILES',\n 'reactions[6].inputs[\"m2\"].components[0].identifiers[1].value': 'C(C)(C)N(CC)C(C)C',\n 'reactions[6].inputs[\"m2\"].components[0].identifiers[2].type': 'INCHI',\n 'reactions[6].inputs[\"m2\"].components[0].identifiers[2].value': 'InChI=1S/C8H19N/c1-6-9(7(2)3)8(4)5/h7-8H,6H2,1-5H3',\n 'reactions[6].inputs[\"m2\"].components[0].amount.volume.value': 10.0,\n 'reactions[6].inputs[\"m2\"].components[0].amount.volume.units': 'MILLILITER',\n 'reactions[6].inputs[\"m2\"].components[0].reaction_role': 'REACTANT',\n 'reactions[6].conditions.temperature.control.type': 'AMBIENT',\n 'reactions[6].conditions.stirring.type': 'CUSTOM',\n 'reactions[6].conditions.stirring.details': 'stirred for 2 h',\n 'reactions[6].conditions.conditions_are_dynamic': True,\n 'reactions[6].conditions.details': 'See reaction.notes.procedure_details.',\n 'reactions[6].notes.procedure_details': 'To a solution of 0.54 mL (4.0 mmol) of dichloro(β-cyano)ethoxyphosphine in 40 mL of dichloromethane cooled in an ice-water bath was added 10 mL of diisopropylethylamine, followed by adding 0.64 mL (4.0 mmol) of diisopropylamine under Argon. The reaction mixture was warmed up to room temperature and stirred for 2 h. After adding 0.1 gm of DMAP into the solution, the reaction mixture is ready for the next step reaction.',\n 'reactions[6].workups[0].type': 'CUSTOM',\n 'reactions[6].workups[0].details': 'the reaction mixture is ready for the next step reaction',\n 'reactions[6].outcomes[0].reaction_time.value': 2.0,\n 'reactions[6].outcomes[0].reaction_time.units': 'HOUR',\n 'reactions[6].outcomes[0].products[0].identifiers[0].type': 'NAME',\n 'reactions[6].outcomes[0].products[0].identifiers[0].value': 'Diisopropylaminochloro(β-cyano)ethoxyphosphine',\n 'reactions[6].outcomes[0].products[0].identifiers[1].type': 'SMILES',\n 'reactions[6].outcomes[0].products[0].identifiers[1].value': 'C(C)(C)N(C(C)C)P(OCCC#N)Cl',\n 'reactions[6].outcomes[0].products[0].identifiers[2].type': 'INCHI',\n 'reactions[6].outcomes[0].products[0].identifiers[2].value': 'InChI=1S/C9H18ClN2OP/c1-8(2)12(9(3)4)14(10)13-7-5-6-11/h8-9H,5,7H2,1-4H3',\n 'reactions[6].provenance.doi': '10.6084/m9.figshare.5104873.v1',\n 'reactions[6].provenance.patent': 'US06096273',\n 'reactions[6].provenance.record_created.time.value': '2022-12-02 17:54:39.050053',\n 'reactions[6].provenance.record_created.person.username': 'skearnes',\n 'reactions[6].provenance.record_created.person.name': 'Steven Kearnes',\n 'reactions[6].provenance.record_created.person.orcid': '0000-0003-4579-4388',\n 'reactions[6].provenance.record_created.person.organization': 'Google LLC',\n 'reactions[6].provenance.record_created.person.email': 'kearnes@google.com',\n 'reactions[6].provenance.record_modified[0].time.value': 'Mon Dec  5 16:40:48 2022',\n 'reactions[6].provenance.record_modified[0].person.username': 'github-actions',\n 'reactions[6].provenance.record_modified[0].person.email': 'github-actions@github.com',\n 'reactions[6].provenance.record_modified[0].details': 'Automatic updates from the submission pipeline.',\n 'reactions[6].reaction_id': 'ord-edebc941a4a54671afff4ed783ad1cef',\n 'reactions[7].identifiers[0].type': 'REACTION_CXSMILES',\n 'reactions[7].identifiers[0].value': '[Cl:1][P:2](Cl)[O:3][CH2:4][CH2:5][C:6]#[N:7].[CH:9]([N:12]([CH:15]([CH3:17])[CH3:16])CC)([CH3:11])[CH3:10].C(NC(C)C)(C)C>ClCCl.CN(C1C=CN=CC=1)C>[CH:9]([N:12]([P:2]([Cl:1])[O:3][CH2:4][CH2:5][C:6]#[N:7])[CH:15]([CH3:17])[CH3:16])([CH3:11])[CH3:10]',\n 'reactions[7].identifiers[0].is_mapped': True,\n 'reactions[7].inputs[\"m1_m4\"].components[0].identifiers[0].type': 'NAME',\n 'reactions[7].inputs[\"m1_m4\"].components[0].identifiers[0].value': 'dichloro(β-cyano)ethoxyphosphine',\n 'reactions[7].inputs[\"m1_m4\"].components[0].identifiers[1].type': 'SMILES',\n 'reactions[7].inputs[\"m1_m4\"].components[0].identifiers[1].value': 'ClP(OCCC#N)Cl',\n 'reactions[7].inputs[\"m1_m4\"].components[0].identifiers[2].type': 'INCHI',\n 'reactions[7].inputs[\"m1_m4\"].components[0].identifiers[2].value': 'InChI=1S/C3H4Cl2NOP/c4-8(5)7-3-1-2-6/h1,3H2',\n 'reactions[7].inputs[\"m1_m4\"].components[0].amount.volume.value': 1.899999976158142,\n 'reactions[7].inputs[\"m1_m4\"].components[0].amount.volume.units': 'MILLILITER',\n 'reactions[7].inputs[\"m1_m4\"].components[0].reaction_role': 'REACTANT',\n 'reactions[7].inputs[\"m1_m4\"].components[1].identifiers[0].type': 'NAME',\n 'reactions[7].inputs[\"m1_m4\"].components[1].identifiers[0].value': 'dichloromethane',\n 'reactions[7].inputs[\"m1_m4\"].components[1].identifiers[1].type': 'SMILES',\n 'reactions[7].inputs[\"m1_m4\"].components[1].identifiers[1].value': 'ClCCl',\n 'reactions[7].inputs[\"m1_m4\"].components[1].identifiers[2].type': 'INCHI',\n 'reactions[7].inputs[\"m1_m4\"].components[1].identifiers[2].value': 'InChI=1S/CH2Cl2/c2-1-3/h1H2',\n 'reactions[7].inputs[\"m1_m4\"].components[1].amount.volume.value': 40.0,\n 'reactions[7].inputs[\"m1_m4\"].components[1].amount.volume.units': 'MILLILITER',\n 'reactions[7].inputs[\"m1_m4\"].components[1].reaction_role': 'SOLVENT',\n 'reactions[7].inputs[\"m5\"].components[0].identifiers[0].type': 'NAME',\n 'reactions[7].inputs[\"m5\"].components[0].identifiers[0].value': 'DMAP',\n 'reactions[7].inputs[\"m5\"].components[0].identifiers[1].type': 'SMILES',\n 'reactions[7].inputs[\"m5\"].components[0].identifiers[1].value': 'CN(C)C=1C=CN=CC1',\n 'reactions[7].inputs[\"m5\"].components[0].identifiers[2].type': 'INCHI',\n 'reactions[7].inputs[\"m5\"].components[0].identifiers[2].value': 'InChI=1S/C7H10N2/c1-9(2)7-3-5-8-6-4-7/h3-6H,1-2H3',\n 'reactions[7].inputs[\"m5\"].components[0].amount.mass.value': 0.10000000149011612,\n 'reactions[7].inputs[\"m5\"].components[0].amount.mass.units': 'GRAM',\n 'reactions[7].inputs[\"m5\"].components[0].reaction_role': 'CATALYST',\n 'reactions[7].inputs[\"m2\"].components[0].identifiers[0].type': 'NAME',\n 'reactions[7].inputs[\"m2\"].components[0].identifiers[0].value': 'diisopropylethylamine',\n 'reactions[7].inputs[\"m2\"].components[0].identifiers[1].type': 'SMILES',\n 'reactions[7].inputs[\"m2\"].components[0].identifiers[1].value': 'C(C)(C)N(CC)C(C)C',\n 'reactions[7].inputs[\"m2\"].components[0].identifiers[2].type': 'INCHI',\n 'reactions[7].inputs[\"m2\"].components[0].identifiers[2].value': 'InChI=1S/C8H19N/c1-6-9(7(2)3)8(4)5/h7-8H,6H2,1-5H3',\n 'reactions[7].inputs[\"m2\"].components[0].amount.volume.value': 10.0,\n 'reactions[7].inputs[\"m2\"].components[0].amount.volume.units': 'MILLILITER',\n 'reactions[7].inputs[\"m2\"].components[0].reaction_role': 'REACTANT',\n 'reactions[7].inputs[\"m3\"].components[0].identifiers[0].type': 'NAME',\n 'reactions[7].inputs[\"m3\"].components[0].identifiers[0].value': 'diisopropylamine',\n 'reactions[7].inputs[\"m3\"].components[0].identifiers[1].type': 'SMILES',\n 'reactions[7].inputs[\"m3\"].components[0].identifiers[1].value': 'C(C)(C)NC(C)C',\n 'reactions[7].inputs[\"m3\"].components[0].identifiers[2].type': 'INCHI',\n 'reactions[7].inputs[\"m3\"].components[0].identifiers[2].value': 'InChI=1S/C6H15N/c1-5(2)7-6(3)4/h5-7H,1-4H3',\n 'reactions[7].inputs[\"m3\"].components[0].amount.volume.value': 2.299999952316284,\n 'reactions[7].inputs[\"m3\"].components[0].amount.volume.units': 'MILLILITER',\n 'reactions[7].inputs[\"m3\"].components[0].reaction_role': 'REACTANT',\n 'reactions[7].conditions.temperature.control.type': 'AMBIENT',\n 'reactions[7].conditions.stirring.type': 'CUSTOM',\n 'reactions[7].conditions.stirring.details': 'stirred for 2 h',\n 'reactions[7].conditions.conditions_are_dynamic': True,\n 'reactions[7].conditions.details': 'See reaction.notes.procedure_details.',\n 'reactions[7].notes.procedure_details': 'To a solution of 1.9 mL (13.8 mmol) of dichloro(β-cyano)ethoxyphosphine in 40 mL of dichloromethane cooled in an ice-water bath was added 10 mL of diisopropylethylamine, followed by adding 2.3 mL (13.8 mmol) of diisopropylamine under Argon. The reactionb mixture was warmed up to room temperature and stirred for 2 h. After adding 0.1 gm of DMAP into the solution, the reaction mixture is ready for next step reaction.',\n 'reactions[7].workups[0].type': 'CUSTOM',\n 'reactions[7].workups[0].details': 'the reaction mixture is ready for next step reaction',\n 'reactions[7].outcomes[0].reaction_time.value': 2.0,\n 'reactions[7].outcomes[0].reaction_time.units': 'HOUR',\n 'reactions[7].outcomes[0].products[0].identifiers[0].type': 'NAME',\n 'reactions[7].outcomes[0].products[0].identifiers[0].value': 'Diisopropylaminochloro(β-cyano)ethoxyphosphine',\n 'reactions[7].outcomes[0].products[0].identifiers[1].type': 'SMILES',\n 'reactions[7].outcomes[0].products[0].identifiers[1].value': 'C(C)(C)N(C(C)C)P(OCCC#N)Cl',\n 'reactions[7].outcomes[0].products[0].identifiers[2].type': 'INCHI',\n 'reactions[7].outcomes[0].products[0].identifiers[2].value': 'InChI=1S/C9H18ClN2OP/c1-8(2)12(9(3)4)14(10)13-7-5-6-11/h8-9H,5,7H2,1-4H3',\n 'reactions[7].provenance.doi': '10.6084/m9.figshare.5104873.v1',\n 'reactions[7].provenance.patent': 'US06096273',\n 'reactions[7].provenance.record_created.time.value': '2022-12-02 17:54:39.058840',\n 'reactions[7].provenance.record_created.person.username': 'skearnes',\n 'reactions[7].provenance.record_created.person.name': 'Steven Kearnes',\n 'reactions[7].provenance.record_created.person.orcid': '0000-0003-4579-4388',\n 'reactions[7].provenance.record_created.person.organization': 'Google LLC',\n 'reactions[7].provenance.record_created.person.email': 'kearnes@google.com',\n 'reactions[7].provenance.record_modified[0].time.value': 'Mon Dec  5 16:40:48 2022',\n 'reactions[7].provenance.record_modified[0].person.username': 'github-actions',\n 'reactions[7].provenance.record_modified[0].person.email': 'github-actions@github.com',\n 'reactions[7].provenance.record_modified[0].details': 'Automatic updates from the submission pipeline.',\n 'reactions[7].reaction_id': 'ord-da2c002de9274069875b8515fd65c8fe',\n 'reactions[8].identifiers[0].type': 'REACTION_CXSMILES',\n 'reactions[8].identifiers[0].value': 'O[CH2:2][CH2:3][CH2:4][CH2:5][CH2:6][CH2:7][CH2:8][CH2:9][CH2:10][CH2:11][CH2:12][CH2:13][CH2:14][CH2:15][CH2:16][C:17]([OH:19])=[O:18].[BrH:20]>C(O)(=O)C>[Br:20][CH2:2][CH2:3][CH2:4][CH2:5][CH2:6][CH2:7][CH2:8][CH2:9][CH2:10][CH2:11][CH2:12][CH2:13][CH2:14][CH2:15][CH2:16][C:17]([OH:19])=[O:18]',\n 'reactions[8].identifiers[0].is_mapped': True,\n 'reactions[8].inputs[\"m1\"].components[0].identifiers[0].type': 'NAME',\n 'reactions[8].inputs[\"m1\"].components[0].identifiers[0].value': '16-hydroxyhexadecanoic acid',\n 'reactions[8].inputs[\"m1\"].components[0].identifiers[1].type': 'SMILES',\n 'reactions[8].inputs[\"m1\"].components[0].identifiers[1].value': 'OCCCCCCCCCCCCCCCC(=O)O',\n 'reactions[8].inputs[\"m1\"].components[0].identifiers[2].type': 'INCHI',\n 'reactions[8].inputs[\"m1\"].components[0].identifiers[2].value': 'InChI=1S/C16H32O3/c17-15-13-11-9-7-5-3-1-2-4-6-8-10-12-14-16(18)19/h17H,1-15H2,(H,18,19)',\n 'reactions[8].inputs[\"m1\"].components[0].amount.mass.value': 5.0,\n 'reactions[8].inputs[\"m1\"].components[0].amount.mass.units': 'GRAM',\n 'reactions[8].inputs[\"m1\"].components[0].reaction_role': 'REACTANT',\n 'reactions[8].inputs[\"m2_m3\"].components[0].identifiers[0].type': 'NAME',\n 'reactions[8].inputs[\"m2_m3\"].components[0].identifiers[0].value': 'HBr',\n 'reactions[8].inputs[\"m2_m3\"].components[0].identifiers[1].type': 'SMILES',\n 'reactions[8].inputs[\"m2_m3\"].components[0].identifiers[1].value': 'Br',\n 'reactions[8].inputs[\"m2_m3\"].components[0].identifiers[2].type': 'INCHI',\n 'reactions[8].inputs[\"m2_m3\"].components[0].identifiers[2].value': 'InChI=1S/BrH/h1H',\n 'reactions[8].inputs[\"m2_m3\"].components[0].amount.moles.value': 0.0,\n 'reactions[8].inputs[\"m2_m3\"].components[0].amount.moles.precision': 1.0,\n 'reactions[8].inputs[\"m2_m3\"].components[0].amount.moles.units': 'MOLE',\n 'reactions[8].inputs[\"m2_m3\"].components[0].reaction_role': 'REACTANT',\n 'reactions[8].inputs[\"m2_m3\"].components[1].identifiers[0].type': 'NAME',\n 'reactions[8].inputs[\"m2_m3\"].components[1].identifiers[0].value': 'acetic acid',\n 'reactions[8].inputs[\"m2_m3\"].components[1].identifiers[1].type': 'SMILES',\n 'reactions[8].inputs[\"m2_m3\"].components[1].identifiers[1].value': 'C(C)(=O)O',\n 'reactions[8].inputs[\"m2_m3\"].components[1].identifiers[2].type': 'INCHI',\n 'reactions[8].inputs[\"m2_m3\"].components[1].identifiers[2].value': 'InChI=1S/C2H4O2/c1-2(3)4/h1H3,(H,3,4)',\n 'reactions[8].inputs[\"m2_m3\"].components[1].amount.moles.value': 0.0,\n 'reactions[8].inputs[\"m2_m3\"].components[1].amount.moles.precision': 1.0,\n 'reactions[8].inputs[\"m2_m3\"].components[1].amount.moles.units': 'MOLE',\n 'reactions[8].inputs[\"m2_m3\"].components[1].reaction_role': 'SOLVENT',\n 'reactions[8].conditions.conditions_are_dynamic': True,\n 'reactions[8].conditions.details': 'See reaction.notes.procedure_details.',\n 'reactions[8].notes.procedure_details': '16-Bromohexadecanoic acid was prepared by refluxing for 48 hrs 5.0 gr (18.35 mmole) of 16-hydroxyhexadecanoic acid in 24 ml of 1:1 v/v mixture of HBr (48% aqueous solution) and glacial acetic acid. Upon cooling, crude product was solidified inside the reaction vessel. It was filtered out and washed with 3×100 ml of cold water. Material was purified by recrystalization from n-hexane, filtered out and dried on high vacuum. 6.1 gr (99% yield) of the desired product were obtained.',\n 'reactions[8].workups[0].type': 'CUSTOM',\n 'reactions[8].workups[0].details': '16-Bromohexadecanoic acid was prepared',\n 'reactions[8].workups[0].input.components[0].identifiers[0].type': 'NAME',\n 'reactions[8].workups[0].input.components[0].identifiers[0].value': '16-Bromohexadecanoic acid',\n 'reactions[8].workups[0].input.components[0].identifiers[1].type': 'SMILES',\n 'reactions[8].workups[0].input.components[0].identifiers[1].value': 'BrCCCCCCCCCCCCCCCC(=O)O',\n 'reactions[8].workups[0].input.components[0].identifiers[2].type': 'INCHI',\n 'reactions[8].workups[0].input.components[0].identifiers[2].value': 'InChI=1S/C16H31BrO2/c17-15-13-11-9-7-5-3-1-2-4-6-8-10-12-14-16(18)19/h1-15H2,(H,18,19)',\n 'reactions[8].workups[0].input.components[0].amount.moles.value': 0.0,\n 'reactions[8].workups[0].input.components[0].amount.moles.precision': 1.0,\n 'reactions[8].workups[0].input.components[0].amount.moles.units': 'MOLE',\n 'reactions[8].workups[0].input.components[0].reaction_role': 'WORKUP',\n 'reactions[8].workups[1].type': 'TEMPERATURE',\n 'reactions[8].workups[1].details': 'Upon cooling',\n 'reactions[8].workups[2].type': 'FILTRATION',\n 'reactions[8].workups[2].details': 'It was filtered out',\n 'reactions[8].workups[3].type': 'WASH',\n 'reactions[8].workups[3].details': 'washed with 3×100 ml of cold water',\n 'reactions[8].workups[3].input.components[0].identifiers[0].type': 'NAME',\n 'reactions[8].workups[3].input.components[0].identifiers[0].value': 'water',\n 'reactions[8].workups[3].input.components[0].identifiers[1].type': 'SMILES',\n 'reactions[8].workups[3].input.components[0].identifiers[1].value': 'O',\n 'reactions[8].workups[3].input.components[0].identifiers[2].type': 'INCHI',\n 'reactions[8].workups[3].input.components[0].identifiers[2].value': 'InChI=1S/H2O/h1H2',\n 'reactions[8].workups[3].input.components[0].amount.volume.value': 100.0,\n 'reactions[8].workups[3].input.components[0].amount.volume.units': 'MILLILITER',\n 'reactions[8].workups[3].input.components[0].reaction_role': 'WORKUP',\n 'reactions[8].workups[4].type': 'CUSTOM',\n 'reactions[8].workups[4].details': 'Material was purified by recrystalization from n-hexane',\n 'reactions[8].workups[4].input.components[0].identifiers[0].type': 'NAME',\n 'reactions[8].workups[4].input.components[0].identifiers[0].value': 'n-hexane',\n 'reactions[8].workups[4].input.components[0].identifiers[1].type': 'SMILES',\n 'reactions[8].workups[4].input.components[0].identifiers[1].value': 'CCCCCC',\n 'reactions[8].workups[4].input.components[0].identifiers[2].type': 'INCHI',\n 'reactions[8].workups[4].input.components[0].identifiers[2].value': 'InChI=1S/C6H14/c1-3-5-6-4-2/h3-6H2,1-2H3',\n 'reactions[8].workups[4].input.components[0].amount.moles.value': 0.0,\n 'reactions[8].workups[4].input.components[0].amount.moles.precision': 1.0,\n 'reactions[8].workups[4].input.components[0].amount.moles.units': 'MOLE',\n 'reactions[8].workups[4].input.components[0].reaction_role': 'WORKUP',\n 'reactions[8].workups[5].type': 'FILTRATION',\n 'reactions[8].workups[5].details': 'filtered out',\n 'reactions[8].workups[6].type': 'CUSTOM',\n 'reactions[8].workups[6].details': 'dried on high vacuum',\n 'reactions[8].outcomes[0].products[0].identifiers[0].type': 'NAME',\n 'reactions[8].outcomes[0].products[0].identifiers[0].value': 'desired product',\n 'reactions[8].outcomes[0].products[0].identifiers[1].type': 'NAME',\n 'reactions[8].outcomes[0].products[0].identifiers[1].value': '16-Bromohexadecanoic acid',\n 'reactions[8].outcomes[0].products[0].identifiers[2].type': 'SMILES',\n 'reactions[8].outcomes[0].products[0].identifiers[2].value': 'BrCCCCCCCCCCCCCCCC(=O)O',\n 'reactions[8].outcomes[0].products[0].identifiers[3].type': 'INCHI',\n 'reactions[8].outcomes[0].products[0].identifiers[3].value': 'InChI=1S/C16H31BrO2/c17-15-13-11-9-7-5-3-1-2-4-6-8-10-12-14-16(18)19/h1-15H2,(H,18,19)',\n 'reactions[8].outcomes[0].products[0].measurements[0].type': 'AMOUNT',\n 'reactions[8].outcomes[0].products[0].measurements[0].details': 'MASS',\n 'reactions[8].outcomes[0].products[0].measurements[0].amount.mass.value': 6.099999904632568,\n 'reactions[8].outcomes[0].products[0].measurements[0].amount.mass.units': 'GRAM',\n 'reactions[8].outcomes[0].products[0].measurements[1].type': 'YIELD',\n 'reactions[8].outcomes[0].products[0].measurements[1].details': 'PERCENTYIELD',\n 'reactions[8].outcomes[0].products[0].measurements[1].percentage.value': 99.0,\n 'reactions[8].outcomes[0].products[0].reaction_role': 'PRODUCT',\n 'reactions[8].provenance.doi': '10.6084/m9.figshare.5104873.v1',\n 'reactions[8].provenance.patent': 'US06096273',\n 'reactions[8].provenance.record_created.time.value': '2022-12-02 17:54:39.066635',\n 'reactions[8].provenance.record_created.person.username': 'skearnes',\n 'reactions[8].provenance.record_created.person.name': 'Steven Kearnes',\n 'reactions[8].provenance.record_created.person.orcid': '0000-0003-4579-4388',\n 'reactions[8].provenance.record_created.person.organization': 'Google LLC',\n 'reactions[8].provenance.record_created.person.email': 'kearnes@google.com',\n 'reactions[8].provenance.record_modified[0].time.value': 'Mon Dec  5 16:40:48 2022',\n 'reactions[8].provenance.record_modified[0].person.username': 'github-actions',\n 'reactions[8].provenance.record_modified[0].person.email': 'github-actions@github.com',\n 'reactions[8].provenance.record_modified[0].details': 'Automatic updates from the submission pipeline.',\n 'reactions[8].reaction_id': 'ord-1b98692b2a9e4a6ab020cb0d0cb62240',\n 'reactions[9].identifiers[0].type': 'REACTION_CXSMILES',\n 'reactions[9].identifiers[0].value': '[Na].[S:2]1C=CC=C1CC(O)=O.Br[CH2:12][CH2:13][CH2:14][CH2:15][CH2:16][CH2:17][CH2:18][CH2:19][CH2:20][CH2:21][CH2:22][CH2:23][CH2:24][CH2:25][CH2:26][C:27]([OH:29])=[O:28].[OH-].[Na+].Cl>CO>[SH:2][CH2:12][CH2:13][CH2:14][CH2:15][CH2:16][CH2:17][CH2:18][CH2:19][CH2:20][CH2:21][CH2:22][CH2:23][CH2:24][CH2:25][CH2:26][C:27]([OH:29])=[O:28] |f:3.4,^1:0|',\n 'reactions[9].identifiers[0].is_mapped': True,\n 'reactions[9].inputs[\"m3\"].components[0].identifiers[0].type': 'NAME',\n 'reactions[9].inputs[\"m3\"].components[0].identifiers[0].value': 'thiolacetic acid',\n 'reactions[9].inputs[\"m3\"].components[0].identifiers[1].type': 'SMILES',\n 'reactions[9].inputs[\"m3\"].components[0].identifiers[1].value': 'S1C(=CC=C1)CC(=O)O',\n 'reactions[9].inputs[\"m3\"].components[0].identifiers[2].type': 'INCHI',\n 'reactions[9].inputs[\"m3\"].components[0].identifiers[2].value': 'InChI=1S/C6H6O2S/c7-6(8)4-5-2-1-3-9-5/h1-3H,4H2,(H,7,8)',\n 'reactions[9].inputs[\"m3\"].components[0].amount.volume.value': 1.75,\n 'reactions[9].inputs[\"m3\"].components[0].amount.volume.units': 'MILLILITER',\n 'reactions[9].inputs[\"m3\"].components[0].reaction_role': 'REACTANT',\n 'reactions[9].inputs[\"m7\"].components[0].identifiers[0].type': 'NAME',\n 'reactions[9].inputs[\"m7\"].components[0].identifiers[0].value': 'HCl',\n 'reactions[9].inputs[\"m7\"].components[0].identifiers[1].type': 'SMILES',\n 'reactions[9].inputs[\"m7\"].components[0].identifiers[1].value': 'Cl',\n 'reactions[9].inputs[\"m7\"].components[0].identifiers[2].type': 'INCHI',\n 'reactions[9].inputs[\"m7\"].components[0].identifiers[2].value': 'InChI=1S/ClH/h1H',\n 'reactions[9].inputs[\"m7\"].components[0].amount.moles.value': 0.0,\n 'reactions[9].inputs[\"m7\"].components[0].amount.moles.precision': 1.0,\n 'reactions[9].inputs[\"m7\"].components[0].amount.moles.units': 'MOLE',\n 'reactions[9].inputs[\"m7\"].components[0].reaction_role': 'REACTANT',\n 'reactions[9].inputs[\"m6\"].components[0].identifiers[0].type': 'NAME',\n 'reactions[9].inputs[\"m6\"].components[0].identifiers[0].value': 'ice water',\n 'reactions[9].inputs[\"m6\"].components[0].amount.volume.value': 200.0,\n 'reactions[9].inputs[\"m6\"].components[0].amount.volume.units': 'MILLILITER',\n 'reactions[9].inputs[\"m6\"].components[0].reaction_role': 'REACTANT',\n 'reactions[9].inputs[\"m4\"].components[0].identifiers[0].type': 'NAME',\n 'reactions[9].inputs[\"m4\"].components[0].identifiers[0].value': '16-bromohexadecanoic acid',\n 'reactions[9].inputs[\"m4\"].components[0].identifiers[1].type': 'SMILES',\n 'reactions[9].inputs[\"m4\"].components[0].identifiers[1].value': 'BrCCCCCCCCCCCCCCCC(=O)O',\n 'reactions[9].inputs[\"m4\"].components[0].identifiers[2].type': 'INCHI',\n 'reactions[9].inputs[\"m4\"].components[0].identifiers[2].value': 'InChI=1S/C16H31BrO2/c17-15-13-11-9-7-5-3-1-2-4-6-8-10-12-14-16(18)19/h1-15H2,(H,18,19)',\n 'reactions[9].inputs[\"m4\"].components[0].amount.mass.value': 6.099999904632568,\n 'reactions[9].inputs[\"m4\"].components[0].amount.mass.units': 'GRAM',\n 'reactions[9].inputs[\"m4\"].components[0].reaction_role': 'REACTANT',\n 'reactions[9].inputs[\"m5\"].components[0].identifiers[0].type': 'NAME',\n 'reactions[9].inputs[\"m5\"].components[0].identifiers[0].value': 'NaOH',\n 'reactions[9].inputs[\"m5\"].components[0].identifiers[1].type': 'SMILES',\n 'reactions[9].inputs[\"m5\"].components[0].identifiers[1].value': '[OH-].[Na+]',\n 'reactions[9].inputs[\"m5\"].components[0].identifiers[2].type': 'INCHI',\n 'reactions[9].inputs[\"m5\"].components[0].identifiers[2].value': 'InChI=1S/Na.H2O/h;1H2/q+1;/p-1',\n 'reactions[9].inputs[\"m5\"].components[0].amount.moles.value': 0.0,\n 'reactions[9].inputs[\"m5\"].components[0].amount.moles.precision': 1.0,\n 'reactions[9].inputs[\"m5\"].components[0].amount.moles.units': 'MOLE',\n 'reactions[9].inputs[\"m5\"].components[0].reaction_role': 'REACTANT',\n 'reactions[9].inputs[\"m1_m2_m8\"].components[0].identifiers[0].type': 'NAME',\n 'reactions[9].inputs[\"m1_m2_m8\"].components[0].identifiers[0].value': 'atmosphere',\n 'reactions[9].inputs[\"m1_m2_m8\"].components[0].amount.mass.value': 2.0,\n 'reactions[9].inputs[\"m1_m2_m8\"].components[0].amount.mass.units': 'GRAM',\n 'reactions[9].inputs[\"m1_m2_m8\"].components[0].reaction_role': 'REACTANT',\n 'reactions[9].inputs[\"m1_m2_m8\"].components[1].identifiers[0].type': 'NAME',\n 'reactions[9].inputs[\"m1_m2_m8\"].components[1].identifiers[0].value': 'sodium',\n 'reactions[9].inputs[\"m1_m2_m8\"].components[1].identifiers[1].type': 'SMILES',\n 'reactions[9].inputs[\"m1_m2_m8\"].components[1].identifiers[1].value': '[Na]',\n 'reactions[9].inputs[\"m1_m2_m8\"].components[1].identifiers[2].type': 'INCHI',\n 'reactions[9].inputs[\"m1_m2_m8\"].components[1].identifiers[2].value': 'InChI=1S/Na',\n 'reactions[9].inputs[\"m1_m2_m8\"].components[1].amount.moles.value': 0.0,\n 'reactions[9].inputs[\"m1_m2_m8\"].components[1].amount.moles.precision': 1.0,\n 'reactions[9].inputs[\"m1_m2_m8\"].components[1].amount.moles.units': 'MOLE',\n 'reactions[9].inputs[\"m1_m2_m8\"].components[1].reaction_role': 'REACTANT',\n 'reactions[9].inputs[\"m1_m2_m8\"].components[2].identifiers[0].type': 'NAME',\n 'reactions[9].inputs[\"m1_m2_m8\"].components[2].identifiers[0].value': 'methanol',\n 'reactions[9].inputs[\"m1_m2_m8\"].components[2].identifiers[1].type': 'SMILES',\n 'reactions[9].inputs[\"m1_m2_m8\"].components[2].identifiers[1].value': 'CO',\n 'reactions[9].inputs[\"m1_m2_m8\"].components[2].identifiers[2].type': 'INCHI',\n 'reactions[9].inputs[\"m1_m2_m8\"].components[2].identifiers[2].value': 'InChI=1S/CH4O/c1-2/h2H,1H3',\n 'reactions[9].inputs[\"m1_m2_m8\"].components[2].amount.volume.value': 100.0,\n 'reactions[9].inputs[\"m1_m2_m8\"].components[2].amount.volume.units': 'MILLILITER',\n 'reactions[9].inputs[\"m1_m2_m8\"].components[2].reaction_role': 'SOLVENT',\n 'reactions[9].conditions.temperature.control.type': 'AMBIENT',\n 'reactions[9].conditions.stirring.type': 'CUSTOM',\n 'reactions[9].conditions.stirring.details': 'was stirred for 10 min at RT',\n 'reactions[9].conditions.conditions_are_dynamic': True,\n 'reactions[9].conditions.details': 'See reaction.notes.procedure_details.',\n 'reactions[9].notes.procedure_details': 'Under inert atmosphere 2.0 gr of sodium metal suspension (40% in mineral oil) were slowly added to 100 ml of dry methanol at 0° C. At the end of the addition reaction mixture was stirred for 10 min at RT and 1.75 ml (21.58 mmole) of thiolacetic acid were added. After additional 10 min of stirring, 30 ml degassed methanolic solution of 6.1 gr (18.19 mmole) of 16-bromohexadecanoic acid were added. The resulted mixture was refluxed for 15 hrs, after which, allowed to cool to RT and 50 ml of degassed 1.0 M NaOH aqueous solution were injected. Additional refluxing for 3 hrs required for reaction completion. Resulted reaction mixture was cooled with ice bath and poured, with stirring, into a vessel containing 200 ml of ice water. This mixture was titrated to pH=7 by 1.0 M HCl and extracted with 300 ml of ether. The organic layer was separated, washed with 3×150 ml of water, 150 ml of saturated NaCl aqueous solution and dried over sodium sulfate. After removal of ether material was purified by recrystalization from n-hexane, filtering out and drying over high vacuum. 5.1 gr (97% yield) of the desired product were obtained.',\n 'reactions[9].workups[0].type': 'ADDITION',\n 'reactions[9].workups[0].details': 'At the end of the addition reaction mixture',\n 'reactions[9].workups[1].type': 'STIRRING',\n 'reactions[9].workups[1].details': 'After additional 10 min of stirring',\n 'reactions[9].workups[1].duration.value': 10.0,\n 'reactions[9].workups[1].duration.units': 'MINUTE',\n 'reactions[9].workups[2].type': 'ADDITION',\n 'reactions[9].workups[2].details': 'were added',\n 'reactions[9].workups[3].type': 'TEMPERATURE',\n 'reactions[9].workups[3].details': 'The resulted mixture was refluxed for 15 hrs',\n 'reactions[9].workups[3].duration.value': 15.0,\n 'reactions[9].workups[3].duration.units': 'HOUR',\n 'reactions[9].workups[4].type': 'TEMPERATURE',\n 'reactions[9].workups[4].details': 'to cool to RT',\n 'reactions[9].workups[4].temperature.control.type': 'AMBIENT',\n 'reactions[9].workups[5].type': 'TEMPERATURE',\n 'reactions[9].workups[5].details': 'Additional refluxing for 3 hrs',\n 'reactions[9].workups[5].duration.value': 3.0,\n 'reactions[9].workups[5].duration.units': 'HOUR',\n 'reactions[9].workups[6].type': 'CUSTOM',\n 'reactions[9].workups[6].details': 'required for reaction completion',\n 'reactions[9].workups[7].type': 'CUSTOM',\n 'reactions[9].workups[7].details': 'Resulted',\n 'reactions[9].workups[8].type': 'CUSTOM',\n 'reactions[9].workups[8].details': 'reaction mixture',\n 'reactions[9].workups[9].type': 'TEMPERATURE',\n 'reactions[9].workups[9].details': 'was cooled with ice bath',\n 'reactions[9].workups[10].type': 'ADDITION',\n 'reactions[9].workups[10].details': 'poured',\n 'reactions[9].workups[11].type': 'STIRRING',\n 'reactions[9].workups[11].details': 'with stirring, into a vessel',\n 'reactions[9].workups[12].type': 'EXTRACTION',\n 'reactions[9].workups[12].details': 'extracted with 300 ml of ether',\n 'reactions[9].workups[12].input.components[0].identifiers[0].type': 'NAME',\n 'reactions[9].workups[12].input.components[0].identifiers[0].value': 'ether',\n 'reactions[9].workups[12].input.components[0].identifiers[1].type': 'SMILES',\n 'reactions[9].workups[12].input.components[0].identifiers[1].value': 'CCOCC',\n 'reactions[9].workups[12].input.components[0].identifiers[2].type': 'INCHI',\n 'reactions[9].workups[12].input.components[0].identifiers[2].value': 'InChI=1S/C4H10O/c1-3-5-4-2/h3-4H2,1-2H3',\n 'reactions[9].workups[12].input.components[0].amount.volume.value': 300.0,\n 'reactions[9].workups[12].input.components[0].amount.volume.units': 'MILLILITER',\n 'reactions[9].workups[12].input.components[0].reaction_role': 'WORKUP',\n 'reactions[9].workups[13].type': 'CUSTOM',\n 'reactions[9].workups[13].details': 'The organic layer was separated',\n 'reactions[9].workups[14].type': 'WASH',\n 'reactions[9].workups[14].details': 'washed with 3×150 ml of water, 150 ml of saturated NaCl aqueous solution',\n 'reactions[9].workups[14].input.components[0].identifiers[0].type': 'NAME',\n 'reactions[9].workups[14].input.components[0].identifiers[0].value': 'water',\n 'reactions[9].workups[14].input.components[0].identifiers[1].type': 'SMILES',\n 'reactions[9].workups[14].input.components[0].identifiers[1].value': 'O',\n 'reactions[9].workups[14].input.components[0].identifiers[2].type': 'INCHI',\n 'reactions[9].workups[14].input.components[0].identifiers[2].value': 'InChI=1S/H2O/h1H2',\n 'reactions[9].workups[14].input.components[0].amount.volume.value': 150.0,\n 'reactions[9].workups[14].input.components[0].amount.volume.units': 'MILLILITER',\n 'reactions[9].workups[14].input.components[0].reaction_role': 'WORKUP',\n 'reactions[9].workups[14].input.components[1].identifiers[0].type': 'NAME',\n 'reactions[9].workups[14].input.components[1].identifiers[0].value': 'NaCl',\n 'reactions[9].workups[14].input.components[1].identifiers[1].type': 'SMILES',\n 'reactions[9].workups[14].input.components[1].identifiers[1].value': '[Na+].[Cl-]',\n 'reactions[9].workups[14].input.components[1].identifiers[2].type': 'INCHI',\n 'reactions[9].workups[14].input.components[1].identifiers[2].value': 'InChI=1S/ClH.Na/h1H;/q;+1/p-1',\n 'reactions[9].workups[14].input.components[1].amount.volume.value': 150.0,\n 'reactions[9].workups[14].input.components[1].amount.volume.units': 'MILLILITER',\n 'reactions[9].workups[14].input.components[1].reaction_role': 'WORKUP',\n 'reactions[9].workups[15].type': 'DRY_WITH_MATERIAL',\n 'reactions[9].workups[15].details': 'dried over sodium sulfate',\n 'reactions[9].workups[15].input.components[0].identifiers[0].type': 'NAME',\n 'reactions[9].workups[15].input.components[0].identifiers[0].value': 'sodium sulfate',\n 'reactions[9].workups[15].input.components[0].identifiers[1].type': 'SMILES',\n 'reactions[9].workups[15].input.components[0].identifiers[1].value': 'S(=O)(=O)([O-])[O-].[Na+].[Na+]',\n 'reactions[9].workups[15].input.components[0].identifiers[2].type': 'INCHI',\n 'reactions[9].workups[15].input.components[0].identifiers[2].value': 'InChI=1S/2Na.H2O4S/c;;1-5(2,3)4/h;;(H2,1,2,3,4)/q2*+1;/p-2',\n 'reactions[9].workups[15].input.components[0].amount.moles.value': 0.0,\n 'reactions[9].workups[15].input.components[0].amount.moles.precision': 1.0,\n 'reactions[9].workups[15].input.components[0].amount.moles.units': 'MOLE',\n 'reactions[9].workups[15].input.components[0].reaction_role': 'WORKUP',\n 'reactions[9].workups[16].type': 'CUSTOM',\n 'reactions[9].workups[16].details': 'After removal of ether material',\n 'reactions[9].workups[16].input.components[0].identifiers[0].type': 'NAME',\n 'reactions[9].workups[16].input.components[0].identifiers[0].value': 'ether',\n 'reactions[9].workups[16].input.components[0].identifiers[1].type': 'SMILES',\n 'reactions[9].workups[16].input.components[0].identifiers[1].value': 'CCOCC',\n 'reactions[9].workups[16].input.components[0].identifiers[2].type': 'INCHI',\n 'reactions[9].workups[16].input.components[0].identifiers[2].value': 'InChI=1S/C4H10O/c1-3-5-4-2/h3-4H2,1-2H3',\n 'reactions[9].workups[16].input.components[0].amount.moles.value': 0.0,\n 'reactions[9].workups[16].input.components[0].amount.moles.precision': 1.0,\n 'reactions[9].workups[16].input.components[0].amount.moles.units': 'MOLE',\n 'reactions[9].workups[16].input.components[0].reaction_role': 'WORKUP',\n 'reactions[9].workups[17].type': 'CUSTOM',\n 'reactions[9].workups[17].details': 'was purified by recrystalization from n-hexane',\n 'reactions[9].workups[17].input.components[0].identifiers[0].type': 'NAME',\n 'reactions[9].workups[17].input.components[0].identifiers[0].value': 'n-hexane',\n 'reactions[9].workups[17].input.components[0].identifiers[1].type': 'SMILES',\n 'reactions[9].workups[17].input.components[0].identifiers[1].value': 'CCCCCC',\n 'reactions[9].workups[17].input.components[0].identifiers[2].type': 'INCHI',\n 'reactions[9].workups[17].input.components[0].identifiers[2].value': 'InChI=1S/C6H14/c1-3-5-6-4-2/h3-6H2,1-2H3',\n 'reactions[9].workups[17].input.components[0].amount.moles.value': 0.0,\n 'reactions[9].workups[17].input.components[0].amount.moles.precision': 1.0,\n 'reactions[9].workups[17].input.components[0].amount.moles.units': 'MOLE',\n 'reactions[9].workups[17].input.components[0].reaction_role': 'WORKUP',\n 'reactions[9].workups[18].type': 'FILTRATION',\n 'reactions[9].workups[18].details': 'filtering out',\n 'reactions[9].workups[19].type': 'CUSTOM',\n 'reactions[9].workups[19].details': 'drying over high vacuum',\n 'reactions[9].outcomes[0].reaction_time.value': 10.0,\n 'reactions[9].outcomes[0].reaction_time.units': 'MINUTE',\n 'reactions[9].outcomes[0].products[0].identifiers[0].type': 'NAME',\n 'reactions[9].outcomes[0].products[0].identifiers[0].value': 'desired product',\n 'reactions[9].outcomes[0].products[0].identifiers[1].type': 'NAME',\n 'reactions[9].outcomes[0].products[0].identifiers[1].value': '16-Mercaptohexadecanoic acid',\n 'reactions[9].outcomes[0].products[0].identifiers[2].type': 'SMILES',\n 'reactions[9].outcomes[0].products[0].identifiers[2].value': 'SCCCCCCCCCCCCCCCC(=O)O',\n 'reactions[9].outcomes[0].products[0].identifiers[3].type': 'INCHI',\n 'reactions[9].outcomes[0].products[0].identifiers[3].value': 'InChI=1S/C16H32O2S/c17-16(18)14-12-10-8-6-4-2-1-3-5-7-9-11-13-15-19/h19H,1-15H2,(H,17,18)',\n 'reactions[9].outcomes[0].products[0].measurements[0].type': 'AMOUNT',\n 'reactions[9].outcomes[0].products[0].measurements[0].details': 'MASS',\n 'reactions[9].outcomes[0].products[0].measurements[0].amount.mass.value': 5.099999904632568,\n 'reactions[9].outcomes[0].products[0].measurements[0].amount.mass.units': 'GRAM',\n 'reactions[9].outcomes[0].products[0].measurements[1].type': 'YIELD',\n 'reactions[9].outcomes[0].products[0].measurements[1].details': 'PERCENTYIELD',\n 'reactions[9].outcomes[0].products[0].measurements[1].percentage.value': 97.0,\n 'reactions[9].outcomes[0].products[0].measurements[2].type': 'YIELD',\n 'reactions[9].outcomes[0].products[0].measurements[2].details': 'CALCULATEDPERCENTYIELD',\n 'reactions[9].outcomes[0].products[0].measurements[2].percentage.value': 97.19999694824219,\n 'reactions[9].outcomes[0].products[0].reaction_role': 'PRODUCT',\n 'reactions[9].provenance.doi': '10.6084/m9.figshare.5104873.v1',\n 'reactions[9].provenance.patent': 'US06096273',\n 'reactions[9].provenance.record_created.time.value': '2022-12-02 17:54:39.081014',\n 'reactions[9].provenance.record_created.person.username': 'skearnes',\n 'reactions[9].provenance.record_created.person.name': 'Steven Kearnes',\n 'reactions[9].provenance.record_created.person.orcid': '0000-0003-4579-4388',\n 'reactions[9].provenance.record_created.person.organization': 'Google LLC',\n 'reactions[9].provenance.record_created.person.email': 'kearnes@google.com',\n 'reactions[9].provenance.record_modified[0].time.value': 'Mon Dec  5 16:40:48 2022',\n 'reactions[9].provenance.record_modified[0].person.username': 'github-actions',\n 'reactions[9].provenance.record_modified[0].person.email': 'github-actions@github.com',\n 'reactions[9].provenance.record_modified[0].details': 'Automatic updates from the submission pipeline.',\n 'reactions[9].reaction_id': 'ord-f5c86d39d6b34585a40fea539597769f',\n 'reactions[10].identifiers[0].type': 'REACTION_CXSMILES',\n 'reactions[10].identifiers[0].value': 'B.C1COCC1.[Br:7][CH2:8][CH2:9][CH2:10][CH2:11][CH2:12][CH2:13][CH2:14][CH2:15][CH2:16][CH2:17][CH2:18][CH2:19][CH2:20][CH2:21][CH2:22][C:23](O)=[O:24]>C1COCC1>[Br:7][CH2:8][CH2:9][CH2:10][CH2:11][CH2:12][CH2:13][CH2:14][CH2:15][CH2:16][CH2:17][CH2:18][CH2:19][CH2:20][CH2:21][CH2:22][CH2:23][OH:24] |f:0.1|',\n 'reactions[10].identifiers[0].is_mapped': True,\n 'reactions[10].inputs[\"m4\"].components[0].identifiers[0].type': 'NAME',\n 'reactions[10].inputs[\"m4\"].components[0].identifiers[0].value': 'ice',\n 'reactions[10].inputs[\"m4\"].components[0].amount.volume.value': 200.0,\n 'reactions[10].inputs[\"m4\"].components[0].amount.volume.units': 'MILLILITER',\n 'reactions[10].inputs[\"m4\"].components[0].reaction_role': 'REACTANT',\n 'reactions[10].inputs[\"m1_m2_m5_m3\"].components[0].identifiers[0].type': 'NAME',\n 'reactions[10].inputs[\"m1_m2_m5_m3\"].components[0].identifiers[0].value': 'atmosphere',\n 'reactions[10].inputs[\"m1_m2_m5_m3\"].components[0].amount.volume.value': 10.0,\n 'reactions[10].inputs[\"m1_m2_m5_m3\"].components[0].amount.volume.units': 'MILLILITER',\n 'reactions[10].inputs[\"m1_m2_m5_m3\"].components[0].reaction_role': 'REACTANT',\n 'reactions[10].inputs[\"m1_m2_m5_m3\"].components[1].identifiers[0].type': 'NAME',\n 'reactions[10].inputs[\"m1_m2_m5_m3\"].components[1].identifiers[0].value': 'BH3.THF',\n 'reactions[10].inputs[\"m1_m2_m5_m3\"].components[1].identifiers[1].type': 'SMILES',\n 'reactions[10].inputs[\"m1_m2_m5_m3\"].components[1].identifiers[1].value': 'B.C1CCOC1',\n 'reactions[10].inputs[\"m1_m2_m5_m3\"].components[1].identifiers[2].type': 'INCHI',\n 'reactions[10].inputs[\"m1_m2_m5_m3\"].components[1].identifiers[2].value': 'InChI=1S/C4H8O.BH3/c1-2-4-5-3-1;/h1-4H2;1H3',\n 'reactions[10].inputs[\"m1_m2_m5_m3\"].components[1].amount.moles.value': 0.0,\n 'reactions[10].inputs[\"m1_m2_m5_m3\"].components[1].amount.moles.precision': 1.0,\n 'reactions[10].inputs[\"m1_m2_m5_m3\"].components[1].amount.moles.units': 'MOLE',\n 'reactions[10].inputs[\"m1_m2_m5_m3\"].components[1].reaction_role': 'REACTANT',\n 'reactions[10].inputs[\"m1_m2_m5_m3\"].components[2].identifiers[0].type': 'NAME',\n 'reactions[10].inputs[\"m1_m2_m5_m3\"].components[2].identifiers[0].value': '16-bromohexadecanoic acid',\n 'reactions[10].inputs[\"m1_m2_m5_m3\"].components[2].identifiers[1].type': 'SMILES',\n 'reactions[10].inputs[\"m1_m2_m5_m3\"].components[2].identifiers[1].value': 'BrCCCCCCCCCCCCCCCC(=O)O',\n ...}"
     },
     "execution_count": 14,
     "metadata": {},
     "output_type": "execute_result"
    }
   ],
   "source": [
    "%%time\n",
    "message_helpers.message_to_row(dataset)"
   ],
   "metadata": {
    "collapsed": false
   }
  },
  {
   "cell_type": "code",
   "execution_count": 15,
   "outputs": [
    {
     "name": "stdout",
     "output_type": "stream",
     "text": [
      "CPU times: total: 0 ns\n",
      "Wall time: 1 ms\n"
     ]
    },
    {
     "data": {
      "text/plain": "identifiers {\n  type: REACTION_CXSMILES\n  value: \"[I:1]I.[CH2:3]([O:10][C:11]1[CH:16]=[CH:15][C:14]([O:17][C:18]([F:21])([F:20])[F:19])=[CH:13][CH:12]=1)[C:4]1[CH:9]=[CH:8][CH:7]=[CH:6][CH:5]=1>C(Cl)(Cl)Cl.ClCCl.FC(F)(F)C([O-])=O.[Ag+]>[CH2:3]([O:10][C:11]1[CH:16]=[CH:15][C:14]([O:17][C:18]([F:19])([F:20])[F:21])=[CH:13][C:12]=1[I:1])[C:4]1[CH:5]=[CH:6][CH:7]=[CH:8][CH:9]=1 |f:4.5|\"\n  is_mapped: true\n}\ninputs {\n  key: \"m1_m3_m2_m5_m4\"\n  value {\n    components {\n      identifiers {\n        type: NAME\n        value: \"Iodine\"\n      }\n      identifiers {\n        type: SMILES\n        value: \"II\"\n      }\n      identifiers {\n        type: INCHI\n        value: \"InChI=1S/I2/c1-2\"\n      }\n      amount {\n        mass {\n          value: 71.95999908447266\n          units: GRAM\n        }\n      }\n      reaction_role: REACTANT\n    }\n    components {\n      identifiers {\n        type: NAME\n        value: \"2-benzyloxy-5-(trifluoromethoxy)benzene\"\n      }\n      identifiers {\n        type: SMILES\n        value: \"C(C1=CC=CC=C1)OC1=CC=C(C=C1)OC(F)(F)F\"\n      }\n      identifiers {\n        type: INCHI\n        value: \"InChI=1S/C14H11F3O2/c15-14(16,17)19-13-8-6-12(7-9-13)18-10-11-4-2-1-3-5-11/h1-9H,10H2\"\n      }\n      amount {\n        mass {\n          value: 73.05999755859375\n          units: GRAM\n        }\n      }\n      reaction_role: REACTANT\n    }\n    components {\n      identifiers {\n        type: NAME\n        value: \"chloroform\"\n      }\n      identifiers {\n        type: SMILES\n        value: \"C(Cl)(Cl)Cl\"\n      }\n      identifiers {\n        type: INCHI\n        value: \"InChI=1S/CHCl3/c2-1(3)4/h1H\"\n      }\n      amount {\n        moles {\n          value: 0.0\n          precision: 1.0\n          units: MOLE\n        }\n      }\n      reaction_role: SOLVENT\n    }\n    components {\n      identifiers {\n        type: NAME\n        value: \"dichloromethane\"\n      }\n      identifiers {\n        type: SMILES\n        value: \"ClCCl\"\n      }\n      identifiers {\n        type: INCHI\n        value: \"InChI=1S/CH2Cl2/c2-1-3/h1H2\"\n      }\n      amount {\n        moles {\n          value: 0.0\n          precision: 1.0\n          units: MOLE\n        }\n      }\n      reaction_role: SOLVENT\n    }\n    components {\n      identifiers {\n        type: NAME\n        value: \"silver trifluoroacetate\"\n      }\n      identifiers {\n        type: SMILES\n        value: \"FC(C(=O)[O-])(F)F.[Ag+]\"\n      }\n      identifiers {\n        type: INCHI\n        value: \"InChI=1S/C2HF3O2.Ag/c3-2(4,5)1(6)7;/h(H,6,7);/q;+1/p-1\"\n      }\n      amount {\n        mass {\n          value: 71.56999969482422\n          units: GRAM\n        }\n      }\n      reaction_role: CATALYST\n    }\n  }\n}\nconditions {\n  temperature {\n    control {\n      type: AMBIENT\n    }\n  }\n  stirring {\n    type: CUSTOM\n    details: \"the mixture was stirred at room temperature for 18 hours\"\n  }\n  conditions_are_dynamic: true\n  details: \"See reaction.notes.procedure_details.\"\n}\nnotes {\n  procedure_details: \"Iodine (71.96 g, 0.28 mol) in chloroform was added dropwise to a mixture of 2-benzyloxy-5-(trifluoromethoxy)benzene (Preparation 12, 73.06 g, 0.27 mol) and silver trifluoroacetate (71.57 g, 0.32mol) in dichloromethane and the mixture was stirred at room temperature for 18 hours. The mixture was filtered through celite, washed with aqueous sodium thiosulfate (5%, 2\\303\\2272 l), dried (MgSO4) and the solvent was evaporated under reduced pressure. The residue was purified by flash column chromatography on silica gel, eluting with hexane/ethyl acetate, to give the title compound as a colorless oil (108.03 g), containing 11% unreacted 2-benzyloxy-5-(trifluoromethoxy)iodobenzene. 1H NMR (360 MHz, CDCl3) \\316\\264 7.67 (1H, d, J=2.8 Hz), 7.40 (5H, m), 7.16 (1H, dd, J=8.9, 2.8 Hz), 6.82 (1H, d, J=8.9 Hz), and 5.14 (2H, s).\"\n}\nworkups {\n  type: FILTRATION\n  details: \"The mixture was filtered through celite\"\n}\nworkups {\n  type: WASH\n  details: \"washed with aqueous sodium thiosulfate (5%, 2\\303\\2272 l)\"\n  input {\n    components {\n      identifiers {\n        type: NAME\n        value: \"sodium thiosulfate\"\n      }\n      identifiers {\n        type: SMILES\n        value: \"S(=S)(=O)([O-])[O-].[Na+].[Na+]\"\n      }\n      identifiers {\n        type: INCHI\n        value: \"InChI=1S/2Na.H2O3S2/c;;1-5(2,3)4/h;;(H2,1,2,3,4)/q2*+1;/p-2\"\n      }\n      amount {\n        volume {\n          value: 2.0\n          units: LITER\n        }\n      }\n      reaction_role: WORKUP\n    }\n  }\n}\nworkups {\n  type: DRY_WITH_MATERIAL\n  details: \"dried (MgSO4)\"\n  input {\n    components {\n      identifiers {\n        type: NAME\n        value: \"MgSO4\"\n      }\n      identifiers {\n        type: SMILES\n        value: \"[O-]S(=O)(=O)[O-].[Mg+2]\"\n      }\n      identifiers {\n        type: INCHI\n        value: \"InChI=1S/Mg.H2O4S/c;1-5(2,3)4/h;(H2,1,2,3,4)/q+2;/p-2\"\n      }\n      amount {\n        moles {\n          value: 0.0\n          precision: 1.0\n          units: MOLE\n        }\n      }\n      reaction_role: WORKUP\n    }\n  }\n}\nworkups {\n  type: CUSTOM\n  details: \"the solvent was evaporated under reduced pressure\"\n}\nworkups {\n  type: CUSTOM\n  details: \"The residue was purified by flash column chromatography on silica gel\"\n}\nworkups {\n  type: WASH\n  details: \"eluting with hexane/ethyl acetate\"\n  input {\n    components {\n      identifiers {\n        type: NAME\n        value: \"hexane ethyl acetate\"\n      }\n      identifiers {\n        type: SMILES\n        value: \"CCCCCC.C(C)(=O)OCC\"\n      }\n      identifiers {\n        type: INCHI\n        value: \"InChI=1S/C6H14.C4H8O2/c1-3-5-6-4-2;1-3-6-4(2)5/h3-6H2,1-2H3;3H2,1-2H3\"\n      }\n      amount {\n        moles {\n          value: 0.0\n          precision: 1.0\n          units: MOLE\n        }\n      }\n      reaction_role: WORKUP\n    }\n  }\n}\noutcomes {\n  reaction_time {\n    value: 18.0\n    units: HOUR\n  }\n  products {\n    identifiers {\n      type: NAME\n      value: \"title compound\"\n    }\n    identifiers {\n      type: NAME\n      value: \"2-Benzyloxy-5-(trifluoromethoxy)iodobenzene\"\n    }\n    identifiers {\n      type: SMILES\n      value: \"C(C1=CC=CC=C1)OC1=C(C=C(C=C1)OC(F)(F)F)I\"\n    }\n    identifiers {\n      type: INCHI\n      value: \"InChI=1S/C14H10F3IO2/c15-14(16,17)20-11-6-7-13(12(18)8-11)19-9-10-4-2-1-3-5-10/h1-8H,9H2\"\n    }\n    measurements {\n      type: AMOUNT\n      details: \"MASS\"\n      amount {\n        mass {\n          value: 108.02999877929688\n          units: GRAM\n        }\n      }\n    }\n    measurements {\n      type: YIELD\n      details: \"CALCULATEDPERCENTYIELD\"\n      percentage {\n        value: 101.5\n      }\n    }\n    isolated_color: \"colorless\"\n    texture {\n      type: OIL\n      details: \"oil\"\n    }\n    reaction_role: PRODUCT\n  }\n}\nprovenance {\n  doi: \"10.6084/m9.figshare.5104873.v1\"\n  patent: \"US06096729\"\n  record_created {\n    time {\n      value: \"2022-12-02 17:54:39.915793\"\n    }\n    person {\n      username: \"skearnes\"\n      name: \"Steven Kearnes\"\n      orcid: \"0000-0003-4579-4388\"\n      organization: \"Google LLC\"\n      email: \"kearnes@google.com\"\n    }\n  }\n  record_modified {\n    time {\n      value: \"Mon Dec  5 16:40:48 2022\"\n    }\n    person {\n      username: \"github-actions\"\n      email: \"github-actions@github.com\"\n    }\n    details: \"Automatic updates from the submission pipeline.\"\n  }\n}\nreaction_id: \"ord-a711991ce616443097cf7fac83691d8d\""
     },
     "execution_count": 15,
     "metadata": {},
     "output_type": "execute_result"
    }
   ],
   "source": [
    "%%time\n",
    "rxn_msg_list = message_helpers.find_submessages(dataset, reaction_pb2.Reaction)\n",
    "rxn_msg_list[50]"
   ],
   "metadata": {
    "collapsed": false
   }
  },
  {
   "cell_type": "code",
   "execution_count": 16,
   "outputs": [
    {
     "data": {
      "text/plain": "type: SMILES\nvalue: \"C(C1=CC=CC=C1)OC1=CC=C(C=C1)OC(F)(F)F\""
     },
     "execution_count": 16,
     "metadata": {},
     "output_type": "execute_result"
    }
   ],
   "source": [
    "cmpds = message_helpers.find_submessages(rxn_msg_list[50], reaction_pb2.Compound)\n",
    "cmpds[1].identifiers[1]"
   ],
   "metadata": {
    "collapsed": false
   }
  },
  {
   "cell_type": "code",
   "execution_count": 17,
   "outputs": [
    {
     "name": "stdout",
     "output_type": "stream",
     "text": [
      "Dataset uspto-grants-2014_09 loaded in 1.01s\n",
      "Dataset uspto-grants-2014_09 parsed in 3.30s\n",
      "(80000, 2)\n",
      "Total reactions parsed 17639\n",
      "CPU times: total: 4.31 s\n",
      "Wall time: 4.31 s\n"
     ]
    },
    {
     "data": {
      "text/plain": "array([['acetyl chloride', 'C(C)(=O)Cl'],\n       ['3-amino-2-naphthol', 'NC=1C(=CC2=CC=CC=C2C1)O'],\n       ['sodium carbonate', 'C([O-])([O-])=O.[Na+].[Na+]'],\n       ...,\n       ['', ''],\n       ['', ''],\n       ['', '']], dtype='<U512')"
     },
     "execution_count": 17,
     "metadata": {},
     "output_type": "execute_result"
    }
   ],
   "source": [
    "%%time\n",
    "from time import time\n",
    "reactants = np.empty((80000, 2), dtype='<U512')\n",
    "# reactant_smiles = np.empty((80000, 2), dtype='U256')\n",
    "# reactant_smiles = np.char.array([\"\"])\n",
    "reactants_df = pd.DataFrame(columns=['name', 'smiles'])\n",
    "\n",
    "start = time()\n",
    "pb = glob(f'{ORD_REPO_PATH}/data/*/*c3c1091f873b4f40827973a6f1f9b685.pb.gz')[0]\n",
    "# dataset = message_helpers.load_message(pb, dataset_pb2.Dataset)\n",
    "dataset = load_dataset(pb)\n",
    "print(f\"Dataset {dataset.name} loaded in {time() - start:.2f}s\", )\n",
    "\n",
    "start = time()\n",
    "idx = 0\n",
    "\n",
    "for rxn in message_helpers.find_submessages(dataset, reaction_pb2.Reaction):\n",
    "    cmpds = message_helpers.find_submessages(rxn, reaction_pb2.Compound)\n",
    "    for cmpd in cmpds:\n",
    "        if cmpd.reaction_role == reaction_pb2.ReactionRole.REACTANT:\n",
    "            name = message_helpers.get_compound_identifier(cmpd, reaction_pb2.CompoundIdentifier.NAME)\n",
    "            smiles = message_helpers.get_compound_identifier(cmpd, reaction_pb2.CompoundIdentifier.SMILES)\n",
    "            # print(name)\n",
    "            # reactants = np.append(reactants, [[name, smiles]], axis=0)\n",
    "            # reactants[idx] = [name, smiles]\n",
    "            reactants[idx, 0] = name\n",
    "            reactants[idx, 1] = smiles\n",
    "            # reactants_df.loc[len(reactants_df), reactants_df.columns] = name, smiles\n",
    "            idx += 1\n",
    "\n",
    "print(f\"Dataset {dataset.name} parsed in {time() - start:.2f}s\", )\n",
    "\n",
    "print(reactants.shape)\n",
    "print(\"Total reactions parsed\", len(dataset.reactions))\n",
    "reactants"
   ],
   "metadata": {
    "collapsed": false
   }
  },
  {
   "cell_type": "code",
   "execution_count": 18,
   "outputs": [
    {
     "name": "stdout",
     "output_type": "stream",
     "text": [
      "<class 'pandas.core.frame.DataFrame'>\n",
      "Index: 0 entries\n",
      "Data columns (total 2 columns):\n",
      " #   Column  Non-Null Count  Dtype \n",
      "---  ------  --------------  ----- \n",
      " 0   name    0 non-null      object\n",
      " 1   smiles  0 non-null      object\n",
      "dtypes: object(2)\n",
      "memory usage: 0.0+ bytes\n"
     ]
    }
   ],
   "source": [
    "reactants_df.info()"
   ],
   "metadata": {
    "collapsed": false
   }
  },
  {
   "cell_type": "code",
   "execution_count": 19,
   "outputs": [
    {
     "data": {
      "text/plain": "                   name          smiles\n0  trifluoroacetic acid  FC(C(=O)O)(F)F",
      "text/html": "<div>\n<style scoped>\n    .dataframe tbody tr th:only-of-type {\n        vertical-align: middle;\n    }\n\n    .dataframe tbody tr th {\n        vertical-align: top;\n    }\n\n    .dataframe thead th {\n        text-align: right;\n    }\n</style>\n<table border=\"1\" class=\"dataframe\">\n  <thead>\n    <tr style=\"text-align: right;\">\n      <th></th>\n      <th>name</th>\n      <th>smiles</th>\n    </tr>\n  </thead>\n  <tbody>\n    <tr>\n      <th>0</th>\n      <td>trifluoroacetic acid</td>\n      <td>FC(C(=O)O)(F)F</td>\n    </tr>\n  </tbody>\n</table>\n</div>"
     },
     "execution_count": 19,
     "metadata": {},
     "output_type": "execute_result"
    }
   ],
   "source": [
    "reactants_df = pd.DataFrame(columns=['name', 'smiles'])\n",
    "reactants_df.loc[0, reactants_df.columns] = name, smiles\n",
    "reactants_df.head()"
   ],
   "metadata": {
    "collapsed": false
   }
  },
  {
   "cell_type": "code",
   "execution_count": 20,
   "outputs": [
    {
     "data": {
      "text/plain": "                   name          smiles\n0  trifluoroacetic acid  FC(C(=O)O)(F)F",
      "text/html": "<div>\n<style scoped>\n    .dataframe tbody tr th:only-of-type {\n        vertical-align: middle;\n    }\n\n    .dataframe tbody tr th {\n        vertical-align: top;\n    }\n\n    .dataframe thead th {\n        text-align: right;\n    }\n</style>\n<table border=\"1\" class=\"dataframe\">\n  <thead>\n    <tr style=\"text-align: right;\">\n      <th></th>\n      <th>name</th>\n      <th>smiles</th>\n    </tr>\n  </thead>\n  <tbody>\n    <tr>\n      <th>0</th>\n      <td>trifluoroacetic acid</td>\n      <td>FC(C(=O)O)(F)F</td>\n    </tr>\n  </tbody>\n</table>\n</div>"
     },
     "execution_count": 20,
     "metadata": {},
     "output_type": "execute_result"
    }
   ],
   "source": [
    "reactants_df"
   ],
   "metadata": {
    "collapsed": false
   }
  },
  {
   "cell_type": "code",
   "execution_count": 21,
   "outputs": [
    {
     "data": {
      "text/plain": "'bb'"
     },
     "execution_count": 21,
     "metadata": {},
     "output_type": "execute_result"
    }
   ],
   "source": [
    "idx = 0\n",
    "reactants[idx] = \"ac\"\n",
    "reactants[idx, 1] = \"bb\"\n",
    "# reactants[0] = name, smiles\n",
    "reactants[idx, 1]"
   ],
   "metadata": {
    "collapsed": false
   }
  },
  {
   "cell_type": "code",
   "execution_count": 22,
   "outputs": [
    {
     "name": "stdout",
     "output_type": "stream",
     "text": [
      "327680000\n"
     ]
    },
    {
     "data": {
      "text/plain": "array(['(2S,3S,4S,5R,6R)-benzyl 6-((4-((1R,3aS,5aR,5bR,7aR,11aS,11bR,13aR,13bR)-3a-((2-(1,1-dioxidothiomorpholino)ethyl)amino)-5a,5b,8,8,11a-pentamethyl-1-(prop-1-en-2-yl)-2,3,3a,4,5,5a,5b,6,7,7a,8,11,11a,11b,12,13,13a,13b-octadecahydro-1H-cyclopenta[a]chrysen-9-yl)benzoyl)oxy)-3,4,5-trihydroxytetrahydro-2H-pyran-2-carboxylate',\n       'O=S1(CCN(CC1)CCN[C@]12[C@@H]([C@H]3CC[C@@H]4[C@]5(CC=C(C([C@@H]5CC[C@]4([C@@]3(CC1)C)C)(C)C)C1=CC=C(C(=O)O[C@@H]3[C@@H]([C@H]([C@@H]([C@H](O3)C(=O)OCC3=CC=CC=C3)O)O)O)C=C1)C)[C@@H](CC2)C(=C)C)=O'],\n      dtype='<U512')"
     },
     "execution_count": 22,
     "metadata": {},
     "output_type": "execute_result"
    }
   ],
   "source": [
    "print(reactants.nbytes)\n",
    "reactants[np.char.str_len(reactants[:, 0]).argmax()]"
   ],
   "metadata": {
    "collapsed": false
   }
  }
 ],
 "metadata": {
  "kernelspec": {
   "display_name": "Python 3",
   "language": "python",
   "name": "python3"
  },
  "language_info": {
   "codemirror_mode": {
    "name": "ipython",
    "version": 2
   },
   "file_extension": ".py",
   "mimetype": "text/x-python",
   "name": "python",
   "nbconvert_exporter": "python",
   "pygments_lexer": "ipython2",
   "version": "2.7.6"
  }
 },
 "nbformat": 4,
 "nbformat_minor": 0
}
