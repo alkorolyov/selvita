{
 "cells": [
  {
   "cell_type": "code",
   "execution_count": 1,
   "metadata": {
    "collapsed": true
   },
   "outputs": [],
   "source": [
    "import pandas as pd\n",
    "import numpy as np\n",
    "import chemivec\n",
    "from chem_render import indigo\n",
    "\n",
    "import dask.dataframe as dd\n",
    "\n",
    "%load_ext autoreload\n",
    "%autoreload 2\n",
    "\n",
    "df = pd.read_pickle(f\"./ORD/uspto_rxn.pkl.zst\")\n",
    "mini = df['rxn_smiles'].values[:10000]"
   ]
  },
  {
   "cell_type": "code",
   "execution_count": 7,
   "outputs": [],
   "source": [
    "#np.save(\"test_10000.npy\", df.rxn_smiles.values[:10000])"
   ],
   "metadata": {
    "collapsed": false
   }
  },
  {
   "cell_type": "code",
   "execution_count": 16,
   "outputs": [
    {
     "name": "stdout",
     "output_type": "stream",
     "text": [
      "6.64 s ± 44.2 ms per loop (mean ± std. dev. of 7 runs, 1 loop each)\n"
     ]
    }
   ],
   "source": [
    "SUZUKI_PATTERN = \"[B;X3,4]-[C,c:1].[C,c:2]-[Cl,Br,I,$([O]-S)]>>[C,c:1]-[C,c:2]\"\n",
    "\n",
    "%timeit chemivec._rxn_match(mini, SUZUKI_PATTERN, \"DAYLIGHT-AAM\")"
   ],
   "metadata": {
    "collapsed": false
   }
  },
  {
   "cell_type": "code",
   "execution_count": 9,
   "outputs": [
    {
     "name": "stdout",
     "output_type": "stream",
     "text": [
      "CPU times: total: 0 ns\n",
      "Wall time: 0 ns\n",
      "CPU times: total: 0 ns\n",
      "Wall time: 0 ns\n"
     ]
    }
   ],
   "source": [
    "%%time\n",
    "# Indigo search using atom mapping in target reaction.\n",
    "\n",
    "query = indigo.loadReactionSmarts(SUZUKI_PATTERN)\n",
    "query.optimize()\n",
    "\n",
    "def rxn_match(rxn_smiles) -> bool:\n",
    "    return True if indigo.substructureMatcher(indigo.loadReaction(rxn_smiles), \"DAYLIGHT-AAM\").match(query) else False\n",
    "\n",
    "dds = dd.from_pandas(df['rxn_smiles'], npartitions=240)\n",
    "suzuki_indigo_aam = dds.apply(rxn_match,\n",
    "                              # args=[query,),\n",
    "                              # rxn_query=query,\n",
    "                              meta=pd.Series(dtype=bool)).compute(scheduler='threads')\n",
    "suzuki_indigo_aam.sum()"
   ],
   "metadata": {
    "collapsed": false
   }
  },
  {
   "cell_type": "code",
   "execution_count": 10,
   "outputs": [
    {
     "name": "stdout",
     "output_type": "stream",
     "text": [
      "CPU times: total: 0 ns\n",
      "Wall time: 0 ns\n",
      "CPU times: total: 0 ns\n",
      "Wall time: 0 ns\n"
     ]
    }
   ],
   "source": [
    "%%time\n",
    "suzuki_vec = chemivec._rxn_match(df['rxn_smiles'].values, SUZUKI_PATTERN, \"DAYLIGHT-AAM\")\n",
    "suzuki_vec.sum()"
   ],
   "metadata": {
    "collapsed": false
   }
  }
 ],
 "metadata": {
  "kernelspec": {
   "display_name": "Python 3",
   "language": "python",
   "name": "python3"
  },
  "language_info": {
   "codemirror_mode": {
    "name": "ipython",
    "version": 2
   },
   "file_extension": ".py",
   "mimetype": "text/x-python",
   "name": "python",
   "nbconvert_exporter": "python",
   "pygments_lexer": "ipython2",
   "version": "2.7.6"
  }
 },
 "nbformat": 4,
 "nbformat_minor": 0
}
