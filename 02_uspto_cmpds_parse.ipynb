{
 "cells": [
  {
   "cell_type": "code",
   "execution_count": 586,
   "metadata": {
    "collapsed": true
   },
   "outputs": [
    {
     "name": "stdout",
     "output_type": "stream",
     "text": [
      "The autoreload extension is already loaded. To reload it, use:\n",
      "  %reload_ext autoreload\n"
     ]
    }
   ],
   "source": [
    "import random\n",
    "from glob import glob\n",
    "from time import time\n",
    "from typing import Union\n",
    "\n",
    "import pandas as pd\n",
    "import numpy as np\n",
    "from ord_data_load import ORD_PATH, ORD_REPO_PATH\n",
    "\n",
    "pd.set_option('display.max_rows', 500)\n",
    "pd.set_option('display.max_columns', 500)\n",
    "pd.set_option('display.width', 1000)\n",
    "\n",
    "#to disable warnings\n",
    "from rdkit import RDLogger\n",
    "RDLogger.DisableLog('rdApp.*')\n",
    "\n",
    "\n",
    "import os\n",
    "import multiprocessing as mp\n",
    "import gzip\n",
    "from google import protobuf\n",
    "\n",
    "from ord_schema import message_helpers\n",
    "from ord_schema.proto import dataset_pb2\n",
    "from ord_schema.proto import reaction_pb2\n",
    "\n",
    "from time import time\n",
    "from ord_data_load import load_dataset, filter_uspto_filenames\n",
    "\n",
    "%load_ext autoreload\n",
    "%autoreload 2"
   ]
  },
  {
   "cell_type": "code",
   "execution_count": 587,
   "outputs": [
    {
     "name": "stdout",
     "output_type": "stream",
     "text": [
      "515 / 515: parsing dataset 134.3s\n"
     ]
    }
   ],
   "source": [
    "# uspto_filenames = []\n",
    "# N = len(glob(f'{ORD_REPO_PATH}/data/*/*.pb.gz'))\n",
    "#\n",
    "# start = time()\n",
    "# for i, pb in enumerate(glob(f'{ORD_REPO_PATH}/data/*/*.pb.gz'), 1):\n",
    "#     print(f\"{i:3d} / {N}: parsing dataset {time() - start:.1f}s\", end=\"\\r\")\n",
    "#     dataset = load_dataset(pb)\n",
    "#     if \"uspto\" in dataset.name:\n",
    "#         uspto_filenames.append(pb)\n",
    "#\n",
    "# len(uspto_filenames)\n",
    "\n",
    "print(\"515 / 515: parsing dataset 134.3s\")"
   ],
   "metadata": {
    "collapsed": false
   }
  },
  {
   "cell_type": "code",
   "execution_count": 588,
   "outputs": [
    {
     "name": "stdout",
     "output_type": "stream",
     "text": [
      "uspto_files.csv already exists ... loading\n",
      "CPU times: total: 31.2 ms\n",
      "Wall time: 5 ms\n"
     ]
    }
   ],
   "source": [
    "%%time\n",
    "\n",
    "if os.path.exists(f\"{ORD_PATH}/uspto_files.csv\"):\n",
    "    print(\"uspto_files.csv already exists ... loading\")\n",
    "    uspto_files = pd.read_csv(f\"{ORD_PATH}/uspto_files.csv\").squeeze()\n",
    "else:\n",
    "    print(\"extracting uspto filenames ... \", end=\"\")\n",
    "    n_cores = 24\n",
    "    with mp.Pool(n_cores) as p:\n",
    "        uspto_filenames = p.map(filter_uspto_filenames, glob(f'{ORD_REPO_PATH}/data/*/*.pb.gz'))\n",
    "\n",
    "    # save results\n",
    "    uspto_files = pd.Series(uspto_filenames).dropna()\n",
    "    uspto_files.to_csv(f\"{ORD_PATH}/uspto_files.csv\", index=False)\n",
    "    print(\"saved to uspto_files.csv\")"
   ],
   "metadata": {
    "collapsed": false
   }
  },
  {
   "cell_type": "markdown",
   "source": [
    "# Create parsing method for USPTO compounds"
   ],
   "metadata": {
    "collapsed": false
   }
  },
  {
   "cell_type": "code",
   "execution_count": 589,
   "outputs": [
    {
     "data": {
      "text/plain": "'./ord-data/data\\\\9c\\\\ord_dataset-9cecb3a8d3b9494191b28dcefea66af2.pb.gz'"
     },
     "execution_count": 589,
     "metadata": {},
     "output_type": "execute_result"
    }
   ],
   "source": [
    "uspto_files = pd.read_csv(f\"{ORD_PATH}/uspto_files.csv\", index_col=None).squeeze()\n",
    "\n",
    "pb = uspto_files.sample().iat[0]\n",
    "pb"
   ],
   "metadata": {
    "collapsed": false
   }
  },
  {
   "cell_type": "code",
   "execution_count": 590,
   "outputs": [
    {
     "name": "stdout",
     "output_type": "stream",
     "text": [
      "CPU times: total: 1.06 s\n",
      "Wall time: 1.09 s\n"
     ]
    }
   ],
   "source": [
    "%%time\n",
    "pb = glob(f'{ORD_REPO_PATH}/data/*/*c3c1091f873b4f40827973a6f1f9b685.pb.gz')[0]\n",
    "dataset = load_dataset(pb)"
   ],
   "metadata": {
    "collapsed": false
   }
  },
  {
   "cell_type": "code",
   "execution_count": 591,
   "outputs": [
    {
     "name": "stdout",
     "output_type": "stream",
     "text": [
      "uspto-grants-2014_09\n",
      "CML filenames: I20140902.xml,I20140909.xml,I20140916.xml,I20140923.xml,I20140930.xml\n",
      "17639\n"
     ]
    }
   ],
   "source": [
    "print(dataset.name)\n",
    "print(dataset.description)\n",
    "print(len(dataset.reactions))"
   ],
   "metadata": {
    "collapsed": false
   }
  },
  {
   "cell_type": "code",
   "execution_count": 592,
   "outputs": [
    {
     "data": {
      "text/plain": "'REACTANT'"
     },
     "execution_count": 592,
     "metadata": {},
     "output_type": "execute_result"
    }
   ],
   "source": [
    "def get_rxn_role(val):\n",
    "    return reaction_pb2.ReactionRole.ReactionRoleType.Name(val)\n",
    "\n",
    "get_rxn_role(1)"
   ],
   "metadata": {
    "collapsed": false
   }
  },
  {
   "cell_type": "code",
   "execution_count": 593,
   "outputs": [
    {
     "name": "stdout",
     "output_type": "stream",
     "text": [
      "name: ice water\n",
      "role: REACTANT\n",
      "=========================================================================\n",
      "name: triethyl 4-oxocyclohexane-1,1,3-tricarboxylate\n",
      "smiles:  O=C1C(CC(CC1)(C(=O)OCC)C(=O)OCC)C(=O)OCC\n",
      "role: REACTANT\n",
      "=========================================================================\n",
      "name: Intermediate 1\n",
      "role: REACTANT\n",
      "=========================================================================\n",
      "name: sodium chloride\n",
      "smiles:  [Cl-].[Na+]\n",
      "role: REACTANT\n",
      "=========================================================================\n",
      "name: H2O\n",
      "smiles:  O\n",
      "role: REACTANT\n",
      "=========================================================================\n",
      "name: DMSO\n",
      "smiles:  CS(=O)C\n",
      "role: SOLVENT\n",
      "=========================================================================\n",
      "name: EtOAc\n",
      "smiles:  CCOC(=O)C\n",
      "role: WORKUP\n",
      "=========================================================================\n",
      "name: brine\n",
      "smiles:  [Cl-].[Na+].O\n",
      "role: WORKUP\n",
      "=========================================================================\n",
      "name: Na2SO4\n",
      "smiles:  [O-]S(=O)(=O)[O-].[Na+].[Na+]\n",
      "role: WORKUP\n",
      "=========================================================================\n",
      "name: title compound\n",
      "name: Diethyl 4-oxocyclohexane-1,1-dicarboxylate\n",
      "smiles:  O=C1CCC(CC1)(C(=O)OCC)C(=O)OCC\n",
      "role: PRODUCT\n",
      "=========================================================================\n",
      "procedure_details: \"The procedure in Sanchez et al., Synth. Comm., 1985, 15, 141 was followed. A mixture of triethyl 4-oxocyclohexane-1,1,3-tricarboxylate, Intermediate 1, (135.2 g, 400 mmol), sodium chloride (70.1 g, 1200 mmol), and H2O (17.30 mL, 960 mmol) in DMSO (530 mL) was stirred at 160\\302\\260 C. (oil bath) under N2 for 3.5 h. The cooled mixture was poured into ice-water (3 L) and extracted with EtOAc (400 mL\\303\\2273). The combined extracts were washed with brine, dried (Na2SO4) then concentrated to provide the title compound (103.4 g, 397 mmol, 99% yield) as an amber oil. HPLC: 2.04 min (AP 45% at 220 nm). LCMS: m/z 243 (M+H). 1H NMR (500 MHz, CDCl3) \\316\\264 ppm 1.27 (6H, t, J=7.0 Hz, 9,12-CH3), 2.37 (4H, t, J=6.9 Hz, 3,5-CH2), 2.43 (4H, t, J=6.7 Hz, 2,6-CH2), 4.23 (4H, q, J=7.2 Hz, 8,11-OCH2). 13C NMR (126 MHz, CDCl3) \\316\\264 ppm 14.1 (9,12-CH3), 31.0 (3,5-CH2), 37.8 (2,6-CH2), 53.6 (4-C), 61.9 (8,11-OCH2), 170.7 (7,10-OC\\342\\225\\220O), 209.4 (1-C\\342\\225\\220O).\"\n",
      "\n",
      "CPU times: total: 0 ns\n",
      "Wall time: 1e+03 µs\n"
     ]
    }
   ],
   "source": [
    "%%time\n",
    "rxn = random.choice(dataset.reactions)\n",
    "for cmpd in message_helpers.find_submessages(rxn, reaction_pb2.Compound):\n",
    "    for i in cmpd.identifiers:\n",
    "        if i.type == reaction_pb2.CompoundIdentifier.NAME:\n",
    "            print(\"name:\", i.value)\n",
    "        if i.type == reaction_pb2.CompoundIdentifier.SMILES:\n",
    "            print(\"smiles: \", i.value)\n",
    "    print(\"role:\", get_rxn_role(cmpd.reaction_role))\n",
    "    print(\"=========================================================================\")\n",
    "for cmpd in message_helpers.find_submessages(rxn, reaction_pb2.ProductCompound):\n",
    "    for i in cmpd.identifiers:\n",
    "        if i.type == reaction_pb2.CompoundIdentifier.NAME:\n",
    "            print(\"name:\", i.value)\n",
    "        if i.type == reaction_pb2.CompoundIdentifier.SMILES:\n",
    "            print(\"smiles: \", i.value)\n",
    "    print(\"role:\", get_rxn_role(cmpd.reaction_role))\n",
    "    print(\"=========================================================================\")\n",
    "print(rxn.notes)"
   ],
   "metadata": {
    "collapsed": false
   }
  },
  {
   "cell_type": "code",
   "execution_count": 594,
   "outputs": [
    {
     "name": "stdout",
     "output_type": "stream",
     "text": [
      "Total reactions parsed: 9498\n",
      "Total compounds parsed: 78249\n",
      "Compounds per rxn     : 8.23847125710676\n",
      "CPU times: total: 4.53 s\n",
      "Wall time: 4.52 s\n"
     ]
    }
   ],
   "source": [
    "%%time\n",
    "pb = random.choice(uspto_files)\n",
    "# pb = glob(f'{ORD_REPO_PATH}/data/*/*c3c1091f873b4f40827973a6f1f9b685.pb.gz')[0]\n",
    "\n",
    "dataset = load_dataset(pb)\n",
    "cmpd_count = 0\n",
    "for rxn in dataset.reactions:\n",
    "    cmpd_count += len(message_helpers.find_submessages(rxn, reaction_pb2.Compound))\n",
    "    cmpd_count += len(message_helpers.find_submessages(rxn, reaction_pb2.ProductCompound))\n",
    "\n",
    "print(\"Total reactions parsed:\", len(dataset.reactions))\n",
    "print(\"Total compounds parsed:\", cmpd_count)\n",
    "print(\"Compounds per rxn     :\", cmpd_count / len(dataset.reactions))"
   ],
   "metadata": {
    "collapsed": false
   }
  },
  {
   "cell_type": "code",
   "execution_count": 595,
   "outputs": [
    {
     "name": "stdout",
     "output_type": "stream",
     "text": [
      "=================================================\n",
      "Fraction of multinames: 1.462223456988697e-05\n",
      "max len: 2\n",
      "CPU times: total: 1.77 s\n",
      "Wall time: 1.77 s\n"
     ]
    }
   ],
   "source": [
    "%%time\n",
    "cmpd_count = 0\n",
    "max_len = 0\n",
    "for rxn in dataset.reactions:\n",
    "    for cmpd in message_helpers.find_submessages(rxn, reaction_pb2.Compound):\n",
    "    # for cmpd in message_helpers.find_submessages(rxn, reaction_pb2.ProductCompound):\n",
    "        cmpd_count += 1\n",
    "\n",
    "        names = []\n",
    "        for i in cmpd.identifiers:\n",
    "            if i.type == reaction_pb2.CompoundIdentifier.NAME:\n",
    "                names.append(i.value)\n",
    "        if len(names) > 1:\n",
    "            # pass\n",
    "            # print(names)\n",
    "            if len(names) > max_len:\n",
    "                max_len = len(names)\n",
    "\n",
    "\n",
    "print(\"=================================================\")\n",
    "print(\"Fraction of multinames:\", len(names) / cmpd_count)\n",
    "print(\"max len:\", max_len)"
   ],
   "metadata": {
    "collapsed": false
   }
  },
  {
   "cell_type": "code",
   "execution_count": 596,
   "outputs": [
    {
     "data": {
      "text/plain": "'REAGENT'"
     },
     "execution_count": 596,
     "metadata": {},
     "output_type": "execute_result"
    }
   ],
   "source": [
    "get_rxn_role(2)"
   ],
   "metadata": {
    "collapsed": false
   }
  },
  {
   "cell_type": "code",
   "execution_count": 597,
   "outputs": [
    {
     "name": "stdout",
     "output_type": "stream",
     "text": [
      "Dataset uspto-grants-1998_03 loaded in 0.21s\n",
      "Dataset uspto-grants-1998_03 parsed in 0.22s\n",
      "(16563, 5)\n",
      "Total reactions parsed: 2997\n",
      "Total compounds parsed: 16563\n",
      "Compounds per rxn     : 5.526526526526527\n",
      "Size                 : 0.6MB\n",
      "Size per rxn         : 221B\n"
     ]
    }
   ],
   "source": [
    "\"\"\"\n",
    "    Numpy array of compounds with two indexes [0 .. total_cmpd_numer, field_idx]\n",
    "    - first idx:\n",
    "        Compound index\n",
    "    - second idx:\n",
    "        Corresponding field index\n",
    "        ['second name', 'name', 'smiles', 'role', 'rxn_id']\n",
    "        arr[i, 0] - (str/optional), trivial name or compound label in the patent\n",
    "        arr[i, 1] - (str), systematic name\n",
    "        arr[i, 2] - (str), smiles\n",
    "        arr[i, 3] - (int), reaction role enum from reaction_pb2.ReactionRole.ReactionRoleType,\n",
    "                           e.g. \"REACTANT\" - 1, \"SOLVENT\" - 3, \"CATALYST\" - 4, \"PRODUCT\" - 8\n",
    "        arr[i, 4] - (str), reaction_id, e.g. \"ord-43d5b7a6265d46a0ab8a7e2b2db5ad33\"\n",
    "\n",
    "\"\"\"\n",
    "\n",
    "def parse_compound(arr: np.array,\n",
    "                   idx: int,\n",
    "                   rxn: reaction_pb2.Reaction,\n",
    "                   cmpd: Union[reaction_pb2.Compound, reaction_pb2.ProductCompound]\n",
    "                   ):\n",
    "    names = []\n",
    "    for i in cmpd.identifiers:\n",
    "        if i.type == reaction_pb2.CompoundIdentifier.NAME:\n",
    "            names.append(i.value)\n",
    "        if i.type == reaction_pb2.CompoundIdentifier.SMILES:\n",
    "            arr[idx, 2] = i.value\n",
    "\n",
    "    if len(names) == 1:\n",
    "        arr[idx, 1] = names[0]\n",
    "    else:\n",
    "        arr[idx, 0] = names[0]\n",
    "        arr[idx, 1] = names[1]\n",
    "\n",
    "    arr[idx, 3] = cmpd.reaction_role\n",
    "    arr[idx, 4] = rxn.reaction_id\n",
    "\n",
    "def parse_product(arr: np.array,\n",
    "                   idx: int,\n",
    "                   rxn: reaction_pb2.Reaction,\n",
    "                   cmpd: Union[reaction_pb2.Compound, reaction_pb2.ProductCompound]\n",
    "                   ):\n",
    "\n",
    "    parse_compound(arr, idx, rxn, cmpd)\n",
    "    # products sometimes have UNDEFINED rxn_role\n",
    "    if arr[idx, 3] == 0: # UNDEFINED\n",
    "        arr[idx, 3] = 8 # PRODUCT\n",
    "\n",
    "\n",
    "start = time()\n",
    "# pb = glob(f'{ORD_REPO_PATH}/data/*/*c3c1091f873b4f40827973a6f1f9b685.pb.gz')[0]\n",
    "pb = glob(f'{ORD_REPO_PATH}/data/*/*018fd0e1351f4fd09b20fcddd97b4c7a.pb.gz')[0]\n",
    "# pb = random.choice(uspto_files)\n",
    "dataset = load_dataset(pb)\n",
    "print(f\"Dataset {dataset.name} loaded in {time() - start:.2f}s\", )\n",
    "\n",
    "start = time()\n",
    "\n",
    "\n",
    "def parse_dataset(dataset: dataset_pb2.Dataset) -> np.array:\n",
    "    N = len(dataset.reactions)\n",
    "    arr = np.empty((N*10, 5), dtype=object) # upper limit ~10x compounds per reaction\n",
    "    idx = 0\n",
    "\n",
    "    for rxn in dataset.reactions:\n",
    "        compounds = []\n",
    "        products = []\n",
    "\n",
    "        for key in rxn.inputs:\n",
    "            compounds.extend(rxn.inputs[key].components)\n",
    "        products.extend(rxn.outcomes[0].products)\n",
    "\n",
    "        for cmpd in compounds:\n",
    "            parse_compound(arr, idx, rxn, cmpd)\n",
    "            idx += 1\n",
    "        for cmpd in products:\n",
    "            parse_product(arr, idx, rxn, cmpd)\n",
    "            idx += 1\n",
    "    arr = arr[:idx]\n",
    "    return arr\n",
    "\n",
    "arr = parse_dataset(dataset)\n",
    "\n",
    "print(f\"Dataset {dataset.name} parsed in {time() - start:.2f}s\", )\n",
    "print(arr.shape)\n",
    "print(\"Total reactions parsed:\", len(dataset.reactions))\n",
    "print(\"Total compounds parsed:\", len(arr))\n",
    "print(\"Compounds per rxn     :\", len(arr) / len(dataset.reactions))\n",
    "# print(\"Max NAME len          :\", np.char.str_len(reactants[:, 0]).max())\n",
    "# print(\"Max SMILES len        :\", np.char.str_len(reactants[:, 1]).max())\n",
    "print(f\"Size                 : {arr.nbytes / 1024 / 1024:.1f}MB\")\n",
    "print(f\"Size per rxn         : {arr.nbytes / len(dataset.reactions):.0f}B\")"
   ],
   "metadata": {
    "collapsed": false
   }
  },
  {
   "cell_type": "code",
   "execution_count": 598,
   "outputs": [
    {
     "data": {
      "text/plain": "array([[None, 'thionyl chloride', 'S(=O)(Cl)Cl', 1,\n        'ord-89aff4b1c18042e4bbb1f88ebba96f86'],\n       [None, 'p-octyloxybenzoic acid', 'C(CCCCCCC)OC1=CC=C(C(=O)O)C=C1',\n        1, 'ord-89aff4b1c18042e4bbb1f88ebba96f86'],\n       ['( 1 )', 'p-n-octyloxybenzoic acid',\n        'C(CCCCCCC)OC1=CC=C(C(=O)O)C=C1', 1,\n        'ord-89aff4b1c18042e4bbb1f88ebba96f86'],\n       [None, '4-octyloxybenzoic acid chloride',\n        'C(CCCCCCC)OC1=CC=C(C(=O)Cl)C=C1', 8,\n        'ord-89aff4b1c18042e4bbb1f88ebba96f86'],\n       [None, 'pyridine', 'N1=CC=CC=C1', 1,\n        'ord-c218088b16c541088a933a7606f68c4c'],\n       [None, 'water', 'O', 3, 'ord-c218088b16c541088a933a7606f68c4c'],\n       [None, 'p-hydroxybenzoic acid', 'OC1=CC=C(C(=O)O)C=C1', 1,\n        'ord-c218088b16c541088a933a7606f68c4c'],\n       [None, 'decanoic acid chloride', 'C(CCCCCCCCC)(=O)Cl', 1,\n        'ord-c218088b16c541088a933a7606f68c4c'],\n       [None, 'p-decanoyloxybenzoic acid',\n        'C(CCCCCCCCC)(=O)OC1=CC=C(C(=O)O)C=C1', 8,\n        'ord-c218088b16c541088a933a7606f68c4c'],\n       ['( 2 )', 'p-decanoyloxybenzoic acid chloride',\n        'C(CCCCCCCCC)(=O)OC1=CC=C(C(=O)Cl)C=C1', 1,\n        'ord-d965967cbe69411f9fd760ac1f990dfb']], dtype=object)"
     },
     "execution_count": 598,
     "metadata": {},
     "output_type": "execute_result"
    }
   ],
   "source": [
    "arr[:10]"
   ],
   "metadata": {
    "collapsed": false
   }
  },
  {
   "cell_type": "code",
   "execution_count": 599,
   "outputs": [
    {
     "data": {
      "text/plain": "array([['( 1 )', 'p-n-octyloxybenzoic acid',\n        'C(CCCCCCC)OC1=CC=C(C(=O)O)C=C1', 1,\n        'ord-89aff4b1c18042e4bbb1f88ebba96f86'],\n       ['( 2 )', 'p-decanoyloxybenzoic acid chloride',\n        'C(CCCCCCCCC)(=O)OC1=CC=C(C(=O)Cl)C=C1', 1,\n        'ord-d965967cbe69411f9fd760ac1f990dfb'],\n       ['colorless crystal',\n        \"4,4'-di(phenylthiocarbamoylamino)benzanilide\",\n        'C1(=CC=CC=C1)NC(=S)NC1=CC=C(C(=O)NC2=CC=C(C=C2)NC(NC2=CC=CC=C2)=S)C=C1',\n        8, 'ord-e8642ae0ecb248809067cd131fde0eed'],\n       ...,\n       ['title compound',\n        '2-[2-(2-Acetylamino-2-carboxyethyldisulfanyl) benzoylamino]-3-methyl-pentanoic acid',\n        'C(C)(=O)NS(SC1=C(C(=O)NC(C(=O)O)C(CC)C)C=CC=C1)CCC(=O)O', 8,\n        'ord-8b264e10282d462783a148a83796833e'],\n       ['title compound',\n        '[2-(2-Benzoyl-phenyldisulfanyl)-phenyl]-phenyl-methanone',\n        'C(C1=CC=CC=C1)(=O)C1=C(C=CC=C1)SSC1=C(C=CC=C1)C(=O)C1=CC=CC=C1',\n        8, 'ord-950cfed0e8884a9ab3f2f0fdcbee3869'],\n       ['title compound',\n        '{2-[2-(hydroxyimino-phenyl-methyl)-phenyldisulfanyl]phenyl}-phenyl-methanon',\n        'ON=C(C1=C(C=CC=C1)SSC1=C(C=CC=C1)C(=O)C1=CC=CC=C1)C1=CC=CC=C1',\n        8, 'ord-169cfd162f7a4903b732bbd90fedb229']], dtype=object)"
     },
     "execution_count": 599,
     "metadata": {},
     "output_type": "execute_result"
    }
   ],
   "source": [
    "arr[~np.equal(arr[:, 0], None)]"
   ],
   "metadata": {
    "collapsed": false
   }
  },
  {
   "cell_type": "code",
   "execution_count": 600,
   "outputs": [
    {
     "data": {
      "text/plain": "3124"
     },
     "execution_count": 600,
     "metadata": {},
     "output_type": "execute_result"
    }
   ],
   "source": [
    "arr[arr[:, 3] == 8].shape[0]"
   ],
   "metadata": {
    "collapsed": false
   }
  },
  {
   "cell_type": "code",
   "execution_count": 601,
   "outputs": [
    {
     "name": "stdout",
     "output_type": "stream",
     "text": [
      "CPU times: total: 0 ns\n",
      "Wall time: 1 ms\n"
     ]
    },
    {
     "data": {
      "text/plain": "array([[None, '4-octyloxybenzoic acid chloride',\n        'C(CCCCCCC)OC1=CC=C(C(=O)Cl)C=C1', 8,\n        'ord-89aff4b1c18042e4bbb1f88ebba96f86'],\n       [None, 'p-decanoyloxybenzoic acid',\n        'C(CCCCCCCCC)(=O)OC1=CC=C(C(=O)O)C=C1', 8,\n        'ord-c218088b16c541088a933a7606f68c4c'],\n       [None, 'p-Acetoxybenzoic acid', 'C(C)(=O)OC1=CC=C(C(=O)O)C=C1', 8,\n        'ord-d965967cbe69411f9fd760ac1f990dfb'],\n       ...,\n       ['title compound',\n        '2-[2-(2-Acetylamino-2-carboxyethyldisulfanyl) benzoylamino]-3-methyl-pentanoic acid',\n        'C(C)(=O)NS(SC1=C(C(=O)NC(C(=O)O)C(CC)C)C=CC=C1)CCC(=O)O', 8,\n        'ord-8b264e10282d462783a148a83796833e'],\n       ['title compound',\n        '[2-(2-Benzoyl-phenyldisulfanyl)-phenyl]-phenyl-methanone',\n        'C(C1=CC=CC=C1)(=O)C1=C(C=CC=C1)SSC1=C(C=CC=C1)C(=O)C1=CC=CC=C1',\n        8, 'ord-950cfed0e8884a9ab3f2f0fdcbee3869'],\n       ['title compound',\n        '{2-[2-(hydroxyimino-phenyl-methyl)-phenyldisulfanyl]phenyl}-phenyl-methanon',\n        'ON=C(C1=C(C=CC=C1)SSC1=C(C=CC=C1)C(=O)C1=CC=CC=C1)C1=CC=CC=C1',\n        8, 'ord-169cfd162f7a4903b732bbd90fedb229']], dtype=object)"
     },
     "execution_count": 601,
     "metadata": {},
     "output_type": "execute_result"
    }
   ],
   "source": [
    "%%time\n",
    "arr[arr[:, 3] == 8]"
   ],
   "metadata": {
    "collapsed": false
   }
  },
  {
   "cell_type": "code",
   "execution_count": 602,
   "outputs": [
    {
     "name": "stdout",
     "output_type": "stream",
     "text": [
      "CPU times: total: 0 ns\n",
      "Wall time: 3 ms\n"
     ]
    },
    {
     "data": {
      "text/plain": "array(['ord-034dc9437bee48c3847af5a6f9237cbd',\n       'ord-07e514fe010d477b830fbb79e7963a40',\n       'ord-0a27e3faf3c24930a2eeef0ff4a98ee9',\n       'ord-0c4cda8c04324a8b924c6c3506ced1f7',\n       'ord-0f557f1000674f4b902d975b3b805985',\n       'ord-15ef5e371941461d87787ec3f8b02012',\n       'ord-185abfaba55a4edabda0c165062f3325',\n       'ord-1a28675e5d044056be5059476c8f3ce9',\n       'ord-1c03739439424e59810e1f608eed556f',\n       'ord-1c51dd5042944cafbcc75002bd31f9d1',\n       'ord-1ed77840c3734a39844b39f7948bc2ab',\n       'ord-20b7c42ff39d4f27aff2e357d5541bd7',\n       'ord-26714608e58f4c188b984bcbdffd717d',\n       'ord-2751c75ddf0c486a8d95a650128f9c7e',\n       'ord-29290da4f651485f9a89caa1ac100820',\n       'ord-30b24befdf374a5dae019d09392b25b1',\n       'ord-32657578f2084976872d2cf3b47b25b7',\n       'ord-35c0a06e7c3d4c9f82f5835490d4df81',\n       'ord-36355329f50b4fba91d75f1d3bd8c47f',\n       'ord-3aafaa9bc09e4d7e91b49eec25c1596b',\n       'ord-3c799edf560b44e4b1b3a6fde9733781',\n       'ord-3d99672bc286434e8155aafff5a7504c',\n       'ord-3e56139cc6e34a43b00746088801690f',\n       'ord-40686f94c8ff48678189869d94122470',\n       'ord-41c36e816c8a49348cb7de1b22c2c650',\n       'ord-426a2c8a98564f41bccd59759d726727',\n       'ord-443e36063c0a47edae71957a9c2af350',\n       'ord-46a2349036204912b3e748e1dead945d',\n       'ord-48ed68423d4a4e7fb6e576167938191c',\n       'ord-48f858c335dc420faf30089f06b9929d',\n       'ord-4b0a7372fca44f93a027eca27e6da381',\n       'ord-4d3c86752d15461798923a512c8e5d21',\n       'ord-4e4527ef977240138a93b4260c881157',\n       'ord-50d21924746f443faec1be54b17f257d',\n       'ord-51173d9d709c45cdbf8cf8891134c0bf',\n       'ord-5666a9282ea5444b92b3aab759b61587',\n       'ord-5676a3bcc4df4c039dcca17382f31a6c',\n       'ord-57265bf9bb574995a79f159928fe6a0d',\n       'ord-5873d336793841adad5cbcf873b625c5',\n       'ord-59a65a7056d742c49de82eb5c63762a4',\n       'ord-5b62ce49ffab4c1db9e358eac8f40d5a',\n       'ord-5f18c5914e004a9f8905dfa1893ebe5b',\n       'ord-5fccfb36b4f847b99c3306f4dc04bee7',\n       'ord-6120ae4e516c4335a3f2eb3671f18da1',\n       'ord-62852d9a12b3459797e4f780f0a64cab',\n       'ord-657035b18b544c1293249703fa8250ea',\n       'ord-6701048b9aed462d813326f7541d1d53',\n       'ord-68830d19234b4026807695ab721a68e9',\n       'ord-69bdc7c6a2fb4d4987a431b8e37f7f33',\n       'ord-6a90e5dbf8d9440f860586cc73a69716',\n       'ord-6ab0050d28734f3bbd40feed3cadae32',\n       'ord-6b603afd4cbc4c76bf70f00b9d99e734',\n       'ord-71d8a412e47743ae868fcc2cf8c525e8',\n       'ord-727bc53cc8974a99824d9f77e8ab9fbc',\n       'ord-741882d51dc940da96a4eb974652c9bb',\n       'ord-785f3c16cc454b2f8882766f14740ddd',\n       'ord-7891886a1dce4bd98201a13284a39c9a',\n       'ord-7a8f9c1c64f84e7eae13346d27dfc137',\n       'ord-7cfb9a4aa79d4897a5745b991d796205',\n       'ord-7e4da2f6c23d4c1a8affe98a75ef0117',\n       'ord-7eea098e740f49b1bcfabe60ca2ecee0',\n       'ord-820622bd6d264f8c8a3784a27744ca1b',\n       'ord-82348284bdb74ce681d8c47598cef413',\n       'ord-833ae973b3214608bac2a8fbd227ff25',\n       'ord-8461c7f0620f4c95ae6a995e75ca2bad',\n       'ord-854f7af760ec486baf8d4d8df4facea5',\n       'ord-889d3fb76dc4464094f72ea8e4bc1474',\n       'ord-8a0d3c88ef6d4534849af2d89a1f5da0',\n       'ord-8b8f64beacb447798a17fed01f8b02fc',\n       'ord-8bb6c21c7a284b64a51177a5ee747c79',\n       'ord-8f5c842320a64990ae9a69c2e501100d',\n       'ord-919d466c679b402eab41fc7f145b2864',\n       'ord-9351ff791ece43d89068d7c5e43ad1d4',\n       'ord-96b5709519a5432ab5539f7faa641c73',\n       'ord-97b20453788c4bc8828b820164729c18',\n       'ord-985d1723ff4d4b1298aaa363af9134e8',\n       'ord-9ba26a120c504949aabeae933256e0ed',\n       'ord-9c8da16698d84ca89d17a28beea2d3de',\n       'ord-9ee6fa21344a4a619edbde84bc508fb3',\n       'ord-9fc8235e42584d779056ec0da7bbdc76',\n       'ord-a2fcb8e364ca4dd2ada72db56fde3611',\n       'ord-a341d33ac8ca4d4dbeafbd8b5790110d',\n       'ord-a52c34c433e043df8e5ada85e1f85e19',\n       'ord-a73c3e09e44447508491ea934b7c975c',\n       'ord-a7e0a7be4dd4457c99da60d09cb113ab',\n       'ord-ad0e6003b3be4ab6ac0a6c1f57d6ff26',\n       'ord-afbdbf0f072e4583b666e79f728d3640',\n       'ord-b901239143da4037bbabfa55e775adfc',\n       'ord-b9580e3afee14b25a5c17e12c653103b',\n       'ord-bcfe7e4ce5914fd798eabd94aed3d84f',\n       'ord-be2035c7c1d141fb862b1d083535d3de',\n       'ord-c0cd0c63904c42eabebf3989bb71e6b3',\n       'ord-c24b8279498c4f1780da6e8b6f498cbc',\n       'ord-c3b3ce4ed08846c8b1f2907496e08f51',\n       'ord-ca050bcf3e3041878a46906ef366ed6a',\n       'ord-cf4091059f4c4259bc4581b2905f26f6',\n       'ord-d1e6e90adf2744bfa6b435f6c7114ace',\n       'ord-d45dd22efe384d6e8d41b31969ccab08',\n       'ord-d965967cbe69411f9fd760ac1f990dfb',\n       'ord-d9c61c395e2c4475a549c72777a848f0',\n       'ord-daa2e4e30ef942c09a4a540a3956b1ac',\n       'ord-db920a7cf3b74cdbbcd3ab9ee72edff5',\n       'ord-dc25bdb7c4ad482f819d561626b78d70',\n       'ord-dda6f0d331b14af09fea8960240ce219',\n       'ord-ece997c552924fb094fb0d886a9ac725',\n       'ord-ee021fa8c0fc47e48b1fbf4ceb821807',\n       'ord-ef5596a4da4243beba3c5680c17f513e',\n       'ord-f21f4d3aa1ac4453b3a2e9187d4eff8f',\n       'ord-f22788fdfdc049bab420209786ecbc6d',\n       'ord-f28ffd070d2241e988f52b5c36d20b5d',\n       'ord-f6bb4c0c2bb1418fb1a1edbd930b2162',\n       'ord-fbc0fc4f8a714c35aadd804f9ca4453c',\n       'ord-ff129fa8213d45ca8f4648e29b01c951'], dtype=object)"
     },
     "execution_count": 602,
     "metadata": {},
     "output_type": "execute_result"
    }
   ],
   "source": [
    "%%time\n",
    "\n",
    "u, c = np.unique(arr[arr[:, 3] == 8][:, 4], return_counts=True)\n",
    "u[c > 1]"
   ],
   "metadata": {
    "collapsed": false
   }
  },
  {
   "cell_type": "code",
   "execution_count": 603,
   "outputs": [
    {
     "data": {
      "text/plain": "2997"
     },
     "execution_count": 603,
     "metadata": {},
     "output_type": "execute_result"
    }
   ],
   "source": [
    "np.unique(arr[:, 4]).size"
   ],
   "metadata": {
    "collapsed": false
   }
  },
  {
   "cell_type": "code",
   "execution_count": 604,
   "outputs": [],
   "source": [
    "names_unique = np.unique(arr[~np.equal(arr[:, 1], None)][:, 1], return_counts=True)\n",
    "# np.unique(arr[:, 1])"
   ],
   "metadata": {
    "collapsed": false
   }
  },
  {
   "cell_type": "code",
   "execution_count": 605,
   "outputs": [
    {
     "data": {
      "text/plain": "array(['sodium hydroxide', 'ether', 'pyridine', 'potassium carbonate',\n       'hydrochloric acid', 'sodium hydride', 'acetic acid',\n       'dimethylformamide', 'HCl', 'toluene', 'ethyl acetate', 'DMF',\n       'dichloromethane', 'ethanol', 'triethylamine', 'methanol',\n       'tetrahydrofuran', 'methylene chloride', 'THF', 'water'],\n      dtype=object)"
     },
     "execution_count": 605,
     "metadata": {},
     "output_type": "execute_result"
    }
   ],
   "source": [
    "names_unique[0][np.argsort(names_unique[1])][-20:]"
   ],
   "metadata": {
    "collapsed": false
   }
  },
  {
   "cell_type": "code",
   "execution_count": 606,
   "outputs": [
    {
     "name": "stdout",
     "output_type": "stream",
     "text": [
      "CPU times: total: 0 ns\n",
      "Wall time: 6 ms\n"
     ]
    },
    {
     "data": {
      "text/plain": "188"
     },
     "execution_count": 606,
     "metadata": {},
     "output_type": "execute_result"
    }
   ],
   "source": [
    "%%time\n",
    "len_vect = np.vectorize(lambda x: len(str(x)))\n",
    "len_vect(arr[:, 1]).max()"
   ],
   "metadata": {
    "collapsed": false
   }
  },
  {
   "cell_type": "markdown",
   "source": [
    "# Parse whole USPTO dataset to numpy array of compounds"
   ],
   "metadata": {
    "collapsed": false
   }
  },
  {
   "cell_type": "code",
   "execution_count": 642,
   "outputs": [],
   "source": [
    "import numpy as np\n",
    "import pandas as pd\n",
    "from ord_data_load import pb2_to_numpy_cmpd, ORD_PATH\n",
    "\n",
    "uspto_files = pd.read_csv(f\"{ORD_PATH}/uspto_files.csv\").squeeze()"
   ],
   "metadata": {
    "collapsed": false
   }
  },
  {
   "cell_type": "code",
   "execution_count": 608,
   "outputs": [
    {
     "name": "stdout",
     "output_type": "stream",
     "text": [
      "CPU times: total: 10.6 s\n",
      "Wall time: 27.5 s\n"
     ]
    },
    {
     "data": {
      "text/plain": "489"
     },
     "execution_count": 608,
     "metadata": {},
     "output_type": "execute_result"
    }
   ],
   "source": [
    "%%time\n",
    "n_cores = 24\n",
    "\n",
    "if __name__ == '__main__':\n",
    "    with mp.Pool(n_cores) as p:\n",
    "        res = p.map(pb2_to_numpy_cmpd, uspto_files)\n",
    "len(res)"
   ],
   "metadata": {
    "collapsed": false
   }
  },
  {
   "cell_type": "code",
   "execution_count": 609,
   "outputs": [
    {
     "data": {
      "text/plain": "array([[None, 'thionyl chloride', 'S(=O)(Cl)Cl', 1,\n        'ord-89aff4b1c18042e4bbb1f88ebba96f86'],\n       [None, 'p-octyloxybenzoic acid', 'C(CCCCCCC)OC1=CC=C(C(=O)O)C=C1',\n        1, 'ord-89aff4b1c18042e4bbb1f88ebba96f86'],\n       ['( 1 )', 'p-n-octyloxybenzoic acid',\n        'C(CCCCCCC)OC1=CC=C(C(=O)O)C=C1', 1,\n        'ord-89aff4b1c18042e4bbb1f88ebba96f86'],\n       ...,\n       [None, 'NaOMe', 'C[O-].[Na+]', 1,\n        'ord-2b0f97b346414e2083183fb1d64385e2'],\n       [None, 'MeOH', 'CO', 3, 'ord-2b0f97b346414e2083183fb1d64385e2'],\n       [None,\n        'N-hexyl-6-hydroxy-2,5,7,8-tetramethylchroman-2-carboxamide',\n        'C(CCCCC)NC(=O)C1(OC2=C(C(=C(C(=C2CC1)C)O)C)C)C', 8,\n        'ord-2b0f97b346414e2083183fb1d64385e2']], dtype=object)"
     },
     "execution_count": 609,
     "metadata": {},
     "output_type": "execute_result"
    }
   ],
   "source": [
    "cmpd_np = np.vstack(res)\n",
    "cmpd_np"
   ],
   "metadata": {
    "collapsed": false
   }
  },
  {
   "cell_type": "code",
   "execution_count": 625,
   "outputs": [
    {
     "data": {
      "text/plain": "217696"
     },
     "execution_count": 625,
     "metadata": {},
     "output_type": "execute_result"
    }
   ],
   "source": [
    "import gc\n",
    "del res\n",
    "gc.collect()"
   ],
   "metadata": {
    "collapsed": false
   }
  },
  {
   "cell_type": "code",
   "execution_count": 610,
   "outputs": [
    {
     "name": "stdout",
     "output_type": "stream",
     "text": [
      "378.8MB\n"
     ]
    }
   ],
   "source": [
    "print(f\"{cmpd_np.nbytes/1024/1024:.1f}MB\")"
   ],
   "metadata": {
    "collapsed": false
   }
  },
  {
   "cell_type": "code",
   "execution_count": 611,
   "outputs": [
    {
     "name": "stdout",
     "output_type": "stream",
     "text": [
      "CPU times: total: 12.9 s\n",
      "Wall time: 13.6 s\n"
     ]
    }
   ],
   "source": [
    "%%time\n",
    "np.save(f'{ORD_PATH}/cmpd_np.npy', cmpd_np)"
   ],
   "metadata": {
    "collapsed": false
   }
  },
  {
   "cell_type": "code",
   "execution_count": 612,
   "outputs": [
    {
     "name": "stdout",
     "output_type": "stream",
     "text": [
      "CPU times: total: 7.34 s\n",
      "Wall time: 7.37 s\n"
     ]
    }
   ],
   "source": [
    "%%time\n",
    "cmpd_np = np.load(f'{ORD_PATH}/cmpd_np.npy', allow_pickle=True)"
   ],
   "metadata": {
    "collapsed": false
   }
  },
  {
   "cell_type": "code",
   "execution_count": 635,
   "outputs": [
    {
     "name": "stdout",
     "output_type": "stream",
     "text": [
      "CPU times: total: 20.2 s\n",
      "Wall time: 20.2 s\n"
     ]
    }
   ],
   "source": [
    "%%time\n",
    "df = pd.DataFrame(cmpd_np[:, :4], columns=['trivial' ,'name', 'smiles', 'rxn_role'], index=cmpd_np[:, 4])\n",
    "df.sort_index(inplace=True)"
   ],
   "metadata": {
    "collapsed": false
   }
  },
  {
   "cell_type": "code",
   "execution_count": 636,
   "outputs": [],
   "source": [
    "df.to_pickle(f\"{ORD_PATH}/uspto_cmpds_df.pkl.zst\")"
   ],
   "metadata": {
    "collapsed": false
   }
  },
  {
   "cell_type": "code",
   "execution_count": 633,
   "outputs": [
    {
     "name": "stdout",
     "output_type": "stream",
     "text": [
      "CPU times: total: 594 ms\n",
      "Wall time: 588 ms\n"
     ]
    }
   ],
   "source": [
    "%%time\n",
    "suzuki_df = pd.read_pickle(f\"{ORD_PATH}/suzuki.pkl.zst\")\n",
    "suzuki_idx = suzuki_df.index.values"
   ],
   "metadata": {
    "collapsed": false
   }
  },
  {
   "cell_type": "code",
   "execution_count": 634,
   "outputs": [
    {
     "name": "stdout",
     "output_type": "stream",
     "text": [
      "CPU times: total: 1.22 s\n",
      "Wall time: 1.24 s\n"
     ]
    },
    {
     "data": {
      "text/plain": "                                             trivial                                               name                                             smiles rxn_role\nord-205c29c6463642c4a3ef2726db5ff6fc            None         tetrakis-(triphenylphosphine)palladium (0)                                               None        1\nord-205c29c6463642c4a3ef2726db5ff6fc            None        methyl N-methyl-4-iodo-2-pyrrolecarboxylate                             CN1C(=CC(=C1)I)C(=O)OC        1\nord-205c29c6463642c4a3ef2726db5ff6fc            None                                            toluene                                     C1(=CC=CC=C1)C        3\nord-205c29c6463642c4a3ef2726db5ff6fc            None  5,6,7,8-tetrahydro-5,5,8,8-tetramethyl-2-anthr...         CC1(C=2C=C3C=CC(=CC3=CC2C(CC1)(C)C)B(O)O)C        1\nord-205c29c6463642c4a3ef2726db5ff6fc            None                                potassium carbonate                          C([O-])([O-])=O.[K+].[K+]        1\n...                                              ...                                                ...                                                ...      ...\nord-7e9dca83f617441ea03c8f72561a3acb            None  2-[3-(2-chloro-3,6-difluoro-phenyl)-isoxazol-5...  ClC1=C(C(=CC=C1F)F)C1=NOC(=C1)COC1=NC=C(C=C1)B...        1\nord-7e9dca83f617441ea03c8f72561a3acb            None                                                DME                                             COCCOC        3\nord-7e9dca83f617441ea03c8f72561a3acb            None                                              EtOAc                                          CCOC(=O)C        3\nord-7e9dca83f617441ea03c8f72561a3acb            None                                             Na2CO3                        C(=O)([O-])[O-].[Na+].[Na+]        1\nord-7e9dca83f617441ea03c8f72561a3acb  title compound  6-[3-(2-Chloro-3,6-difluoro-phenyl)isoxazol-5-...  C(C)OC(=O)C=1CN(CCC1C=1C=NC(=CC1)OCC1=CC(=NO1)...        8\n\n[358536 rows x 4 columns]",
      "text/html": "<div>\n<style scoped>\n    .dataframe tbody tr th:only-of-type {\n        vertical-align: middle;\n    }\n\n    .dataframe tbody tr th {\n        vertical-align: top;\n    }\n\n    .dataframe thead th {\n        text-align: right;\n    }\n</style>\n<table border=\"1\" class=\"dataframe\">\n  <thead>\n    <tr style=\"text-align: right;\">\n      <th></th>\n      <th>trivial</th>\n      <th>name</th>\n      <th>smiles</th>\n      <th>rxn_role</th>\n    </tr>\n  </thead>\n  <tbody>\n    <tr>\n      <th>ord-205c29c6463642c4a3ef2726db5ff6fc</th>\n      <td>None</td>\n      <td>tetrakis-(triphenylphosphine)palladium (0)</td>\n      <td>None</td>\n      <td>1</td>\n    </tr>\n    <tr>\n      <th>ord-205c29c6463642c4a3ef2726db5ff6fc</th>\n      <td>None</td>\n      <td>methyl N-methyl-4-iodo-2-pyrrolecarboxylate</td>\n      <td>CN1C(=CC(=C1)I)C(=O)OC</td>\n      <td>1</td>\n    </tr>\n    <tr>\n      <th>ord-205c29c6463642c4a3ef2726db5ff6fc</th>\n      <td>None</td>\n      <td>toluene</td>\n      <td>C1(=CC=CC=C1)C</td>\n      <td>3</td>\n    </tr>\n    <tr>\n      <th>ord-205c29c6463642c4a3ef2726db5ff6fc</th>\n      <td>None</td>\n      <td>5,6,7,8-tetrahydro-5,5,8,8-tetramethyl-2-anthr...</td>\n      <td>CC1(C=2C=C3C=CC(=CC3=CC2C(CC1)(C)C)B(O)O)C</td>\n      <td>1</td>\n    </tr>\n    <tr>\n      <th>ord-205c29c6463642c4a3ef2726db5ff6fc</th>\n      <td>None</td>\n      <td>potassium carbonate</td>\n      <td>C([O-])([O-])=O.[K+].[K+]</td>\n      <td>1</td>\n    </tr>\n    <tr>\n      <th>...</th>\n      <td>...</td>\n      <td>...</td>\n      <td>...</td>\n      <td>...</td>\n    </tr>\n    <tr>\n      <th>ord-7e9dca83f617441ea03c8f72561a3acb</th>\n      <td>None</td>\n      <td>2-[3-(2-chloro-3,6-difluoro-phenyl)-isoxazol-5...</td>\n      <td>ClC1=C(C(=CC=C1F)F)C1=NOC(=C1)COC1=NC=C(C=C1)B...</td>\n      <td>1</td>\n    </tr>\n    <tr>\n      <th>ord-7e9dca83f617441ea03c8f72561a3acb</th>\n      <td>None</td>\n      <td>DME</td>\n      <td>COCCOC</td>\n      <td>3</td>\n    </tr>\n    <tr>\n      <th>ord-7e9dca83f617441ea03c8f72561a3acb</th>\n      <td>None</td>\n      <td>EtOAc</td>\n      <td>CCOC(=O)C</td>\n      <td>3</td>\n    </tr>\n    <tr>\n      <th>ord-7e9dca83f617441ea03c8f72561a3acb</th>\n      <td>None</td>\n      <td>Na2CO3</td>\n      <td>C(=O)([O-])[O-].[Na+].[Na+]</td>\n      <td>1</td>\n    </tr>\n    <tr>\n      <th>ord-7e9dca83f617441ea03c8f72561a3acb</th>\n      <td>title compound</td>\n      <td>6-[3-(2-Chloro-3,6-difluoro-phenyl)isoxazol-5-...</td>\n      <td>C(C)OC(=O)C=1CN(CCC1C=1C=NC(=CC1)OCC1=CC(=NO1)...</td>\n      <td>8</td>\n    </tr>\n  </tbody>\n</table>\n<p>358536 rows × 4 columns</p>\n</div>"
     },
     "execution_count": 634,
     "metadata": {},
     "output_type": "execute_result"
    }
   ],
   "source": [
    "%%time\n",
    "df.loc[suzuki_idx]"
   ],
   "metadata": {
    "collapsed": false
   }
  }
 ],
 "metadata": {
  "kernelspec": {
   "display_name": "Python 3",
   "language": "python",
   "name": "python3"
  },
  "language_info": {
   "codemirror_mode": {
    "name": "ipython",
    "version": 2
   },
   "file_extension": ".py",
   "mimetype": "text/x-python",
   "name": "python",
   "nbconvert_exporter": "python",
   "pygments_lexer": "ipython2",
   "version": "2.7.6"
  }
 },
 "nbformat": 4,
 "nbformat_minor": 0
}
