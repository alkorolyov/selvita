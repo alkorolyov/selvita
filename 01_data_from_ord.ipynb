{
 "cells": [
  {
   "cell_type": "code",
   "execution_count": 109,
   "id": "5b6df85f-c053-44de-a387-83c30a6ee43f",
   "metadata": {
    "tags": []
   },
   "outputs": [
    {
     "name": "stdout",
     "output_type": "stream",
     "text": [
      "The autoreload extension is already loaded. To reload it, use:\n",
      "  %reload_ext autoreload\n"
     ]
    }
   ],
   "source": [
    "import json\n",
    "from glob import glob\n",
    "import os\n",
    "import multiprocessing as mp\n",
    "from time import time\n",
    "\n",
    "%load_ext autoreload\n",
    "%autoreload 2"
   ]
  },
  {
   "cell_type": "code",
   "execution_count": 110,
   "id": "d75d2250-880e-45a0-8d5a-c01a311a0fff",
   "metadata": {
    "tags": []
   },
   "outputs": [],
   "source": [
    "import pandas as pd\n",
    "import numpy as np\n",
    "import dask.dataframe as dd\n",
    "from dask.diagnostics import ProgressBar\n",
    "\n",
    "from rdkit.Chem.AllChem import ReactionFromSmarts\n",
    "\n",
    "from rdkit.Chem import CanonSmiles"
   ]
  },
  {
   "cell_type": "code",
   "execution_count": 13,
   "id": "5f768bf7-b340-43dc-b281-cfe53f46a74c",
   "metadata": {
    "tags": []
   },
   "outputs": [],
   "source": [
    "pd.set_option('display.max_rows', 500)\n",
    "pd.set_option('display.max_columns', 500)\n",
    "pd.set_option('display.width', 1000)"
   ]
  },
  {
   "cell_type": "code",
   "execution_count": 14,
   "id": "6fcb4bcf-0f70-491b-9586-1073253708a3",
   "metadata": {
    "tags": []
   },
   "outputs": [],
   "source": [
    "#to disable warnings\n",
    "from rdkit import RDLogger\n",
    "RDLogger.DisableLog('rdApp.*')"
   ]
  },
  {
   "cell_type": "code",
   "execution_count": 15,
   "id": "940ccad1-4d94-4c70-acf3-af161141a654",
   "metadata": {
    "tags": []
   },
   "outputs": [],
   "source": [
    "from matplotlib import pyplot as plt"
   ]
  },
  {
   "cell_type": "code",
   "execution_count": 106,
   "id": "54aa3734",
   "metadata": {
    "collapsed": false,
    "jupyter": {
     "outputs_hidden": false
    },
    "tags": []
   },
   "outputs": [],
   "source": [
    "from ord_data_load import df_na_vals, parse_pb_file\n",
    "\n",
    "ORD_REPO_PATH = '/workdir/ord-data'\n",
    "ORD_PATH = '/workdir/ORD'"
   ]
  },
  {
   "cell_type": "markdown",
   "id": "a6568703-575a-4f13-8ceb-166eaab6ee47",
   "metadata": {
    "tags": []
   },
   "source": [
    "## Load and clean data"
   ]
  },
  {
   "cell_type": "code",
   "execution_count": 107,
   "id": "b44a5c22-3801-4252-a32f-fd285e303f5a",
   "metadata": {
    "tags": []
   },
   "outputs": [],
   "source": [
    "from ord_data_load import extract_reaction_conditions, colorize\n",
    "from ord_schema import message_helpers\n",
    "from ord_schema.proto import dataset_pb2\n",
    "\n",
    "\n",
    "pb = glob(f'{ORD_REPO_PATH}/data/*/*.pb.gz')[0]\n",
    "data = message_helpers.load_message(pb, dataset_pb2.Dataset)\n",
    "data_dic = message_helpers.json_format.MessageToDict(data)"
   ]
  },
  {
   "cell_type": "code",
   "execution_count": 101,
   "id": "be88726a-0f6f-49e1-a8c4-073163c0fbd9",
   "metadata": {
    "tags": []
   },
   "outputs": [
    {
     "name": "stdout",
     "output_type": "stream",
     "text": [
      "dict_keys(['name', 'description', 'reactions', 'datasetId'])\n"
     ]
    },
    {
     "data": {
      "text/plain": [
       "'uspto-grants-1990_11'"
      ]
     },
     "execution_count": 101,
     "metadata": {},
     "output_type": "execute_result"
    }
   ],
   "source": [
    "print(data_dic.keys())\n",
    "data_dic['name']"
   ]
  },
  {
   "cell_type": "code",
   "execution_count": 97,
   "id": "9d033fe0-e3d6-4772-b37f-65cbbaacf761",
   "metadata": {},
   "outputs": [
    {
     "name": "stdout",
     "output_type": "stream",
     "text": [
      "\n",
      "USRE036187\n",
      "{'US05891910', 'US05891358', 'US05892057', 'US05892133', 'US05891852', 'US05892039', 'US05892098', 'US05892117', 'US05891889', 'US05892125', 'US05891657', 'US05891603', 'US05898031', 'US05891631', 'US05891901', 'US05891909', 'US05892029', 'US05891899', 'US05898069', 'US05891975', 'US05892116', 'US05891906', 'US05892138', 'US05891921', 'US05895635', 'US05891686', 'US05891883', 'US05891902', 'US05891897', 'US05892042', 'US05891874', 'US05892088', 'US05892060', 'US05891870', 'US05891684', 'US05898092', 'US05891971', 'US05892040', 'US05892121', 'US05892052', 'US05891877', 'US05891894', 'US05891912', 'US05892131', 'US05891587', 'US05891965', 'US05891890', 'US05892037', 'US05891898', 'US05892055', 'US05891362', 'US05891235', 'US05892106', 'US05892044', 'US05891882', 'US05897848', 'US05891529', 'US05891895', 'US05891968', 'US05892048', 'US05892024', 'US05891896', 'US05892084', 'US05891601', 'US05891963', 'US05891917', 'US05892094', 'US05891869', 'US05891923', 'US05891709', 'US05891359', 'US05891900', 'US05891626', 'US05892104', 'US05891871', 'US05892086', 'US05891875', 'US05891872', 'US05892097', 'US05891914', 'US05892043', 'US05891862', 'US05891616', 'US05892112', 'US05891469', 'US05891876', 'USRE036187', 'US05891881', 'US05892058', 'US05892034', 'US05892126', 'US05892032', 'US05891845', 'US05892091', 'US05892051', 'US05891893', 'US05892045', 'US05895787', 'US05892079', 'US05891916', 'US05895522', 'US05892050'}\n",
      "{'REACTANT', 'SOLVENT', 'CATALYST'}\n"
     ]
    }
   ],
   "source": [
    "dic = data_dic['reactions'][1]\n",
    "dic\n",
    "\n",
    "print()\n",
    "print(dic['provenance']['patent'])\n",
    "\n",
    "provenance = set()\n",
    "roles = set()\n",
    "for dic in data_dic['reactions']:\n",
    "    provenance.add(dic['provenance']['patent'])\n",
    "    for number, input_dics in dic['inputs'].items():\n",
    "        for i_d in input_dics['components']:\n",
    "            roles.add(i_d['reactionRole'])\n",
    "            # print(i_d['reactionRole'])\n",
    "\n",
    "print(provenance)\n",
    "print(roles)"
   ]
  },
  {
   "cell_type": "code",
   "execution_count": 35,
   "id": "0133c4ad-c7ec-4a3d-b445-cc20d1459c4a",
   "metadata": {},
   "outputs": [],
   "source": [
    "pb = glob(f'{ORD_REPO_PATH}/data/*/*.pb.gz')[0]\n",
    "parse_pb_file(pb, ORD_PATH)"
   ]
  },
  {
   "cell_type": "code",
   "execution_count": null,
   "id": "b694eb11-963a-4a19-a1c6-e642cf392dbb",
   "metadata": {},
   "outputs": [],
   "source": []
  },
  {
   "cell_type": "code",
   "execution_count": 10,
   "id": "d29f0ac2-b3af-4a5e-a7da-bf956eb1bfc8",
   "metadata": {
    "tags": []
   },
   "outputs": [
    {
     "name": "stdout",
     "output_type": "stream",
     "text": [
      "0 datasets parsed in 00h:00m:00s\n"
     ]
    }
   ],
   "source": [
    "\"\"\" Multiprocessing \"\"\"\n",
    "start = time()\n",
    "\n",
    "n_cores = 24\n",
    "args = [(pb, ORD_PATH) for pb in glob(f'{ORD_REPO_PATH}/data/*/*.pb.gz')]\n",
    "N = len(args)\n",
    "\n",
    "with mp.Pool(n_cores) as p:\n",
    "    p.starmap(parse_pb_file, args)\n",
    "\n",
    "t = time() - start\n",
    "s = int(t % 60)\n",
    "m = int((t // 60) % 60)\n",
    "h = int((t // 60) / 60)\n",
    "print(f'{N} datasets parsed in {h:02d}h:{m:02d}m:{s:02d}s')"
   ]
  },
  {
   "cell_type": "code",
   "execution_count": 15,
   "id": "7c2fcf01-0777-4ef3-80fe-2b9e4386caba",
   "metadata": {},
   "outputs": [],
   "source": [
    "dataset_paths = sorted(glob(f'{ORD_PATH}/parsed/*.json'))\n",
    "N = len(dataset_paths)"
   ]
  },
  {
   "cell_type": "code",
   "execution_count": 91,
   "id": "c4398d1e-2672-4bed-814d-d349ca6d6460",
   "metadata": {},
   "outputs": [
    {
     "name": "stdout",
     "output_type": "stream",
     "text": [
      "506 datasets parsed in 00h:02m:46s\n"
     ]
    }
   ],
   "source": [
    "# start = time()\n",
    "# all_reactions = pd.DataFrame()\n",
    "#\n",
    "# for i, dataset_path in enumerate(dataset_paths, 1):\n",
    "#     print(f'Analyzing dataset {i: 3d}/{N}', end='\\r')\n",
    "#     new_reactions = pd.read_json(dataset_path)\n",
    "#     new_reactions['original_dataset'] = os.path.split(dataset_path)[1].split('.')[0]\n",
    "#     all_reactions = pd.concat([all_reactions, new_reactions], axis=0, join='outer')\n",
    "#\n",
    "# all_reactions.reset_index(drop=True, inplace=True)\n",
    "#\n",
    "# t = time() - start\n",
    "# s = int(t % 60)\n",
    "# m = int((t // 60) % 60)\n",
    "# h = int((t // 60) / 60)\n",
    "# print(f'{N} datasets parsed in {h:02d}h:{m:02d}m:{s:02d}s')"
   ]
  },
  {
   "cell_type": "code",
   "execution_count": 54,
   "id": "80e79e99",
   "metadata": {
    "collapsed": false,
    "jupyter": {
     "outputs_hidden": false
    }
   },
   "outputs": [
    {
     "name": "stdout",
     "output_type": "stream",
     "text": [
      "506 datasets parsed in 00h:01m:05s\n"
     ]
    }
   ],
   "source": [
    "import dask.dataframe as dd\n",
    "\n",
    "start = time()\n",
    "all_reactions = dd.read_json(\n",
    "    dataset_paths,\n",
    "    orient='columns',\n",
    "    dtype='object',\n",
    "    include_path_column=True,\n",
    "    path_converter=lambda x: os.path.split(x)[1].split('.')[0]\n",
    ").rename(columns={'path': 'original_dataset'}).compute(scheduler='threads')\n",
    "\n",
    "all_reactions.reset_index(drop=True, inplace=True)\n",
    "\n",
    "t = time() - start\n",
    "s = int(t % 60)\n",
    "m = int((t // 60) % 60)\n",
    "h = int((t // 60) / 60)\n",
    "print(f'{N} datasets parsed in {h:02d}h:{m:02d}m:{s:02d}s')"
   ]
  },
  {
   "cell_type": "code",
   "execution_count": 56,
   "id": "68a83c66-50b3-4568-9c07-fbc92198a8a8",
   "metadata": {},
   "outputs": [
    {
     "name": "stdout",
     "output_type": "stream",
     "text": [
      "(1790148, 12)\n",
      "id                    ->         Missing values: 0 (0.00%)\n",
      "reaction_smile        ->         Missing values: 19116 (1.07%)\n",
      "solvents              ->         Missing values: 404697 (22.61%)\n",
      "reactants             ->         Missing values: 0 (0.00%)\n",
      "catalysts             ->         Missing values: 1523003 (85.08%)\n",
      "reagents              ->         Missing values: 1773144 (99.05%)\n",
      "temperature           ->         Missing values: 687161 (38.39%)\n",
      "time                  ->         Missing values: 897258 (50.12%)\n",
      "product               ->         Missing values: 40191 (2.25%)\n",
      "yield                 ->         Missing values: 816308 (45.60%)\n",
      "notes                 ->         Missing values: 12044 (0.67%)\n",
      "original_dataset      ->         Missing values: 1790148 (100.00%)\n"
     ]
    }
   ],
   "source": [
    "print(all_reactions.shape)\n",
    "df_na_vals(all_reactions, False)"
   ]
  },
  {
   "cell_type": "code",
   "execution_count": 63,
   "id": "532069c2-4d48-4a20-bf96-3aacce2e591e",
   "metadata": {},
   "outputs": [],
   "source": [
    "# all_reactions.to_csv(f'{ORD_PATH}/all_reactions.csv', index=False)\n",
    "# all_reactions['reactions'].apply(eval)\n",
    "%time all_reactions.to_pickle(f'{ORD_PATH}/all_reactions.pkl')"
   ]
  },
  {
   "cell_type": "markdown",
   "id": "45a7e755-9182-4f64-b65c-6983833408b7",
   "metadata": {
    "tags": []
   },
   "source": [
    "## Separate the reaction of specific types into dataframes"
   ]
  },
  {
   "cell_type": "code",
   "execution_count": 7,
   "id": "643c5e7d",
   "metadata": {
    "collapsed": false,
    "jupyter": {
     "outputs_hidden": false
    }
   },
   "outputs": [
    {
     "name": "stdout",
     "output_type": "stream",
     "text": [
      "CPU times: total: 18.8 s\n",
      "Wall time: 20.2 s\n"
     ]
    }
   ],
   "source": [
    "# all_reactions = pd.read_csv(f'{ORD_PATH}/all_reactions.csv')\n",
    "%time all_reactions = pd.read_pickle(f'{ORD_PATH}/all_reactions.pkl')"
   ]
  },
  {
   "cell_type": "code",
   "execution_count": 68,
   "id": "1d374663",
   "metadata": {
    "collapsed": false,
    "jupyter": {
     "outputs_hidden": false
    }
   },
   "outputs": [
    {
     "data": {
      "text/plain": [
       "list"
      ]
     },
     "execution_count": 68,
     "metadata": {},
     "output_type": "execute_result"
    }
   ],
   "source": [
    "type(all_reactions.iloc[0]['reactants'])"
   ]
  },
  {
   "cell_type": "code",
   "execution_count": 30,
   "id": "f35b96b9",
   "metadata": {
    "collapsed": false,
    "jupyter": {
     "outputs_hidden": false
    }
   },
   "outputs": [
    {
     "name": "stdout",
     "output_type": "stream",
     "text": [
      "19.55s\n"
     ]
    }
   ],
   "source": [
    "# start = time()\n",
    "# all_reactions = dd.read_csv(f'{ORD_PATH}/all_reactions.csv', blocksize=25e6, dtype='object').compute(scheduler='processes')\n",
    "# print(f'{time() - start:.2f}s')"
   ]
  },
  {
   "cell_type": "code",
   "execution_count": 8,
   "id": "3ed044e4-65ef-435a-b832-e335e40a09bd",
   "metadata": {},
   "outputs": [
    {
     "data": {
      "image/png": "[encoded data removed]",
      "text/plain": [
       "<rdkit.Chem.rdChemReactions.ChemicalReaction at 0x18d9bd93ba0>"
      ]
     },
     "execution_count": 8,
     "metadata": {},
     "output_type": "execute_result"
    }
   ],
   "source": [
    "from ord_data_load import is_reaction_of_type\n",
    "\n",
    "SUZUKI_RXN_SMARTS = \"[B;X3,4]-[C,c:1].[C,c:2]-[Cl,Br,I,O]>>[C,c:1]-[C,c:2]\"\n",
    "BUCHWALD_RXN_SMARTS = \"[c:1]-[Br,Cl,I].[NX3:2]>>[c:1]-[NX3:2]\"\n",
    "ReactionFromSmarts(SUZUKI_RXN_SMARTS)"
   ]
  },
  {
   "cell_type": "code",
   "execution_count": 9,
   "id": "854e225f",
   "metadata": {
    "tags": []
   },
   "outputs": [
    {
     "ename": "KeyboardInterrupt",
     "evalue": "",
     "output_type": "error",
     "traceback": [
      "\u001b[1;31m---------------------------------------------------------------------------\u001b[0m",
      "\u001b[1;31mKeyboardInterrupt\u001b[0m                         Traceback (most recent call last)",
      "File \u001b[1;32m<timed exec>:3\u001b[0m\n",
      "File \u001b[1;32m~\\anaconda3\\envs\\chem\\lib\\site-packages\\pandas\\core\\series.py:4433\u001b[0m, in \u001b[0;36mSeries.apply\u001b[1;34m(self, func, convert_dtype, args, **kwargs)\u001b[0m\n\u001b[0;32m   4323\u001b[0m \u001b[38;5;28;01mdef\u001b[39;00m \u001b[38;5;21mapply\u001b[39m(\n\u001b[0;32m   4324\u001b[0m     \u001b[38;5;28mself\u001b[39m,\n\u001b[0;32m   4325\u001b[0m     func: AggFuncType,\n\u001b[1;32m   (...)\u001b[0m\n\u001b[0;32m   4328\u001b[0m     \u001b[38;5;241m*\u001b[39m\u001b[38;5;241m*\u001b[39mkwargs,\n\u001b[0;32m   4329\u001b[0m ) \u001b[38;5;241m-\u001b[39m\u001b[38;5;241m>\u001b[39m DataFrame \u001b[38;5;241m|\u001b[39m Series:\n\u001b[0;32m   4330\u001b[0m \u001b[38;5;250m    \u001b[39m\u001b[38;5;124;03m\"\"\"\u001b[39;00m\n\u001b[0;32m   4331\u001b[0m \u001b[38;5;124;03m    Invoke function on values of Series.\u001b[39;00m\n\u001b[0;32m   4332\u001b[0m \n\u001b[1;32m   (...)\u001b[0m\n\u001b[0;32m   4431\u001b[0m \u001b[38;5;124;03m    dtype: float64\u001b[39;00m\n\u001b[0;32m   4432\u001b[0m \u001b[38;5;124;03m    \"\"\"\u001b[39;00m\n\u001b[1;32m-> 4433\u001b[0m     \u001b[38;5;28;01mreturn\u001b[39;00m \u001b[43mSeriesApply\u001b[49m\u001b[43m(\u001b[49m\u001b[38;5;28;43mself\u001b[39;49m\u001b[43m,\u001b[49m\u001b[43m \u001b[49m\u001b[43mfunc\u001b[49m\u001b[43m,\u001b[49m\u001b[43m \u001b[49m\u001b[43mconvert_dtype\u001b[49m\u001b[43m,\u001b[49m\u001b[43m \u001b[49m\u001b[43margs\u001b[49m\u001b[43m,\u001b[49m\u001b[43m \u001b[49m\u001b[43mkwargs\u001b[49m\u001b[43m)\u001b[49m\u001b[38;5;241;43m.\u001b[39;49m\u001b[43mapply\u001b[49m\u001b[43m(\u001b[49m\u001b[43m)\u001b[49m\n",
      "File \u001b[1;32m~\\anaconda3\\envs\\chem\\lib\\site-packages\\pandas\\core\\apply.py:1088\u001b[0m, in \u001b[0;36mSeriesApply.apply\u001b[1;34m(self)\u001b[0m\n\u001b[0;32m   1084\u001b[0m \u001b[38;5;28;01mif\u001b[39;00m \u001b[38;5;28misinstance\u001b[39m(\u001b[38;5;28mself\u001b[39m\u001b[38;5;241m.\u001b[39mf, \u001b[38;5;28mstr\u001b[39m):\n\u001b[0;32m   1085\u001b[0m     \u001b[38;5;66;03m# if we are a string, try to dispatch\u001b[39;00m\n\u001b[0;32m   1086\u001b[0m     \u001b[38;5;28;01mreturn\u001b[39;00m \u001b[38;5;28mself\u001b[39m\u001b[38;5;241m.\u001b[39mapply_str()\n\u001b[1;32m-> 1088\u001b[0m \u001b[38;5;28;01mreturn\u001b[39;00m \u001b[38;5;28;43mself\u001b[39;49m\u001b[38;5;241;43m.\u001b[39;49m\u001b[43mapply_standard\u001b[49m\u001b[43m(\u001b[49m\u001b[43m)\u001b[49m\n",
      "File \u001b[1;32m~\\anaconda3\\envs\\chem\\lib\\site-packages\\pandas\\core\\apply.py:1143\u001b[0m, in \u001b[0;36mSeriesApply.apply_standard\u001b[1;34m(self)\u001b[0m\n\u001b[0;32m   1137\u001b[0m         values \u001b[38;5;241m=\u001b[39m obj\u001b[38;5;241m.\u001b[39mastype(\u001b[38;5;28mobject\u001b[39m)\u001b[38;5;241m.\u001b[39m_values\n\u001b[0;32m   1138\u001b[0m         \u001b[38;5;66;03m# error: Argument 2 to \"map_infer\" has incompatible type\u001b[39;00m\n\u001b[0;32m   1139\u001b[0m         \u001b[38;5;66;03m# \"Union[Callable[..., Any], str, List[Union[Callable[..., Any], str]],\u001b[39;00m\n\u001b[0;32m   1140\u001b[0m         \u001b[38;5;66;03m# Dict[Hashable, Union[Union[Callable[..., Any], str],\u001b[39;00m\n\u001b[0;32m   1141\u001b[0m         \u001b[38;5;66;03m# List[Union[Callable[..., Any], str]]]]]\"; expected\u001b[39;00m\n\u001b[0;32m   1142\u001b[0m         \u001b[38;5;66;03m# \"Callable[[Any], Any]\"\u001b[39;00m\n\u001b[1;32m-> 1143\u001b[0m         mapped \u001b[38;5;241m=\u001b[39m \u001b[43mlib\u001b[49m\u001b[38;5;241;43m.\u001b[39;49m\u001b[43mmap_infer\u001b[49m\u001b[43m(\u001b[49m\n\u001b[0;32m   1144\u001b[0m \u001b[43m            \u001b[49m\u001b[43mvalues\u001b[49m\u001b[43m,\u001b[49m\n\u001b[0;32m   1145\u001b[0m \u001b[43m            \u001b[49m\u001b[43mf\u001b[49m\u001b[43m,\u001b[49m\u001b[43m  \u001b[49m\u001b[38;5;66;43;03m# type: ignore[arg-type]\u001b[39;49;00m\n\u001b[0;32m   1146\u001b[0m \u001b[43m            \u001b[49m\u001b[43mconvert\u001b[49m\u001b[38;5;241;43m=\u001b[39;49m\u001b[38;5;28;43mself\u001b[39;49m\u001b[38;5;241;43m.\u001b[39;49m\u001b[43mconvert_dtype\u001b[49m\u001b[43m,\u001b[49m\n\u001b[0;32m   1147\u001b[0m \u001b[43m        \u001b[49m\u001b[43m)\u001b[49m\n\u001b[0;32m   1149\u001b[0m \u001b[38;5;28;01mif\u001b[39;00m \u001b[38;5;28mlen\u001b[39m(mapped) \u001b[38;5;129;01mand\u001b[39;00m \u001b[38;5;28misinstance\u001b[39m(mapped[\u001b[38;5;241m0\u001b[39m], ABCSeries):\n\u001b[0;32m   1150\u001b[0m     \u001b[38;5;66;03m# GH#43986 Need to do list(mapped) in order to get treated as nested\u001b[39;00m\n\u001b[0;32m   1151\u001b[0m     \u001b[38;5;66;03m#  See also GH#25959 regarding EA support\u001b[39;00m\n\u001b[0;32m   1152\u001b[0m     \u001b[38;5;28;01mreturn\u001b[39;00m obj\u001b[38;5;241m.\u001b[39m_constructor_expanddim(\u001b[38;5;28mlist\u001b[39m(mapped), index\u001b[38;5;241m=\u001b[39mobj\u001b[38;5;241m.\u001b[39mindex)\n",
      "File \u001b[1;32m~\\anaconda3\\envs\\chem\\lib\\site-packages\\pandas\\_libs\\lib.pyx:2870\u001b[0m, in \u001b[0;36mpandas._libs.lib.map_infer\u001b[1;34m()\u001b[0m\n",
      "File \u001b[1;32m~\\anaconda3\\envs\\chem\\lib\\site-packages\\pandas\\core\\apply.py:138\u001b[0m, in \u001b[0;36mApply.__init__.<locals>.f\u001b[1;34m(x)\u001b[0m\n\u001b[0;32m    137\u001b[0m \u001b[38;5;28;01mdef\u001b[39;00m \u001b[38;5;21mf\u001b[39m(x):\n\u001b[1;32m--> 138\u001b[0m     \u001b[38;5;28;01mreturn\u001b[39;00m \u001b[43mfunc\u001b[49m\u001b[43m(\u001b[49m\u001b[43mx\u001b[49m\u001b[43m,\u001b[49m\u001b[43m \u001b[49m\u001b[38;5;241;43m*\u001b[39;49m\u001b[43margs\u001b[49m\u001b[43m,\u001b[49m\u001b[43m \u001b[49m\u001b[38;5;241;43m*\u001b[39;49m\u001b[38;5;241;43m*\u001b[39;49m\u001b[43mkwargs\u001b[49m\u001b[43m)\u001b[49m\n",
      "File \u001b[1;32m~\\PycharmProjects\\chem\\ord_data_load.py:188\u001b[0m, in \u001b[0;36mis_reaction_of_type\u001b[1;34m(reaction_to_test, reaction_type_pattern, max_products, *reactants_patterns)\u001b[0m\n\u001b[0;32m    186\u001b[0m reactant\u001b[38;5;241m.\u001b[39mUpdatePropertyCache()\n\u001b[0;32m    187\u001b[0m \u001b[38;5;66;03m# if len(reactant.GetSubstructMatches(r_pattern)) > 0:\u001b[39;00m\n\u001b[1;32m--> 188\u001b[0m \u001b[38;5;28;01mif\u001b[39;00m \u001b[43mreactant\u001b[49m\u001b[38;5;241;43m.\u001b[39;49m\u001b[43mHasSubstructMatch\u001b[49m\u001b[43m(\u001b[49m\u001b[43mr_pattern\u001b[49m\u001b[43m)\u001b[49m:\n\u001b[0;32m    189\u001b[0m     \u001b[38;5;66;03m# the reactant matches with the pattern\u001b[39;00m\n\u001b[0;32m    190\u001b[0m     reactants_to_test\u001b[38;5;241m.\u001b[39mappend(deepcopy(reactant))\n\u001b[0;32m    191\u001b[0m     \u001b[38;5;28;01mbreak\u001b[39;00m \u001b[38;5;66;03m# stop searching\u001b[39;00m\n",
      "\u001b[1;31mKeyboardInterrupt\u001b[0m: "
     ]
    }
   ],
   "source": [
    "%%time\n",
    "rxn_pattern = ReactionFromSmarts(\"[B;X3,4]-[C,c:1].[C,c:2]-[Cl,Br,I,O]>>[C,c:1]-[C,c:2]\")\n",
    "\n",
    "mask = all_reactions['reaction_smile'].apply(is_reaction_of_type, reaction_type_pattern=rxn_pattern)\n",
    "df_reactions = all_reactions[mask].copy()"
   ]
  },
  {
   "cell_type": "code",
   "execution_count": 10,
   "id": "90d9c46e",
   "metadata": {
    "collapsed": false,
    "jupyter": {
     "outputs_hidden": false
    }
   },
   "outputs": [
    {
     "name": "stdout",
     "output_type": "stream",
     "text": [
      "CPU times: total: 12.7 s\n",
      "Wall time: 12.7 s\n"
     ]
    }
   ],
   "source": [
    "%%time\n",
    "mask = all_reactions['reaction_smile'][:24000].apply(is_reaction_of_type, reaction_type_pattern=rxn_pattern)\n",
    "df_reactions_1 = all_reactions[:24000][mask].copy()"
   ]
  },
  {
   "cell_type": "code",
   "execution_count": 11,
   "id": "40ce47e1",
   "metadata": {
    "collapsed": false,
    "jupyter": {
     "outputs_hidden": false
    }
   },
   "outputs": [
    {
     "name": "stdout",
     "output_type": "stream",
     "text": [
      "[########################################] | 100% Completed | 15.8s\n"
     ]
    }
   ],
   "source": [
    "from dask.diagnostics import ProgressBar\n",
    "ProgressBar().register()\n",
    "\n",
    "dds = dd.from_pandas(all_reactions['reaction_smile'], npartitions=240)\n",
    "mask = dds.apply(is_reaction_of_type,\n",
    "                 reaction_type_pattern=rxn_pattern,\n",
    "                 meta=pd.Series(dtype=bool)).compute(scheduler='processes')"
   ]
  },
  {
   "cell_type": "code",
   "execution_count": 184,
   "id": "7ffe5f34",
   "metadata": {
    "collapsed": false,
    "jupyter": {
     "outputs_hidden": false
    }
   },
   "outputs": [],
   "source": [
    "df_reactions.reset_index(drop=True, inplace=True)\n",
    "df_reactions.to_pickle(f'{ORD_PATH}/suzuki_reactions.pkl')"
   ]
  },
  {
   "cell_type": "code",
   "execution_count": 12,
   "id": "6a19bc29",
   "metadata": {
    "collapsed": false,
    "jupyter": {
     "outputs_hidden": false
    }
   },
   "outputs": [],
   "source": [
    "df_suzuki = pd.read_pickle(f'{ORD_PATH}/suzuki_reactions.pkl')"
   ]
  },
  {
   "cell_type": "code",
   "execution_count": 18,
   "id": "63e79101",
   "metadata": {
    "collapsed": false,
    "jupyter": {
     "outputs_hidden": false
    }
   },
   "outputs": [
    {
     "name": "stdout",
     "output_type": "stream",
     "text": [
      "CPU times: total: 688 ms\n",
      "Wall time: 698 ms\n"
     ]
    }
   ],
   "source": [
    "rxn_pattern = ReactionFromSmarts(\"[B;X3,4]-[C,c:1].[C,c:2]-[Cl,Br,I,O]>>[C,c:1]-[C,c:2]\")\n",
    "\n",
    "%time mask = all_reactions['reaction_smile'][:2000].apply(is_reaction_of_type, reaction_type_pattern=rxn_pattern)"
   ]
  },
  {
   "cell_type": "code",
   "execution_count": 243,
   "id": "ae64c484",
   "metadata": {
    "collapsed": false,
    "jupyter": {
     "outputs_hidden": false
    }
   },
   "outputs": [
    {
     "data": {
      "image/png": "[encoded data removed]",
      "text/plain": [
       "<PIL.PngImagePlugin.PngImageFile image mode=RGB size=2700x300>"
      ]
     },
     "metadata": {},
     "output_type": "display_data"
    }
   ],
   "source": [
    "from ord_data_load import draw_reaction\n",
    "draw_reaction(df_suzuki, rxn_index=16)"
   ]
  },
  {
   "cell_type": "code",
   "execution_count": 60,
   "id": "04959b85-719b-440e-9f12-6c5c08be164a",
   "metadata": {},
   "outputs": [],
   "source": [
    "suzuki_pattern = ReactionFromSmarts(SUZUKI_RXN_SMARTS)\n",
    "buchwald_patter = ReactionFromSmarts()"
   ]
  },
  {
   "cell_type": "code",
   "execution_count": 62,
   "id": "0d171bd7-d90b-4653-90ed-34b1d18969e5",
   "metadata": {},
   "outputs": [
    {
     "name": "stdout",
     "output_type": "stream",
     "text": [
      "Analyzing dataset  506/506\r"
     ]
    }
   ],
   "source": [
    "df_suzuki = pd.DataFrame()\n",
    "# df_amide = pd.DataFrame()\n",
    "\n",
    "for i, dataset_path in enumerate(dataset_paths, 1):\n",
    "    print(f'Analyzing dataset {i: 3d}/{N}', end='\\r')\n",
    "    with open(dataset_path, 'r') as file:\n",
    "        dataset = json.load(file)\n",
    "\n",
    "    suzuki_additions = []\n",
    "    amide_additions = []\n",
    "\n",
    "    for reaction in dataset:\n",
    "        if reaction.get('reaction_smile') is None:\n",
    "            continue\n",
    "\n",
    "        reaction_smiles = reaction['reaction_smile']\n",
    "        if is_reaction_of_type(reaction_smiles, suzuki_pattern):\n",
    "            suzuki_additions.append(reaction)\n",
    "        # elif is_reaction_of_type(reaction_smiles, amide_pattern):\n",
    "        #     amide_additions.append(reaction)\n",
    "\n",
    "    df_suzuki = pd.concat([df_suzuki, pd.DataFrame(suzuki_additions)], axis=0, join='outer')\n",
    "    # df_amide = df_amide.append(pd.DataFrame(amide_additions))\n",
    "df_suzuki.reset_index(drop=True, inplace=True)"
   ]
  },
  {
   "cell_type": "code",
   "execution_count": 63,
   "id": "d370c8f9-fe71-464b-9bc4-7939b657f25a",
   "metadata": {},
   "outputs": [
    {
     "data": {
      "text/plain": [
       "(50347, 11)"
      ]
     },
     "execution_count": 63,
     "metadata": {},
     "output_type": "execute_result"
    }
   ],
   "source": [
    "df_suzuki.shape"
   ]
  },
  {
   "cell_type": "code",
   "execution_count": null,
   "id": "22665dc9-3e93-4f75-ad4a-6b8d007812f4",
   "metadata": {},
   "outputs": [],
   "source": [
    "# df_amide.shape"
   ]
  },
  {
   "cell_type": "code",
   "execution_count": 65,
   "id": "0704a710-f07b-4321-98ef-803b0eb23876",
   "metadata": {},
   "outputs": [],
   "source": [
    "df_suzuki.to_csv(f'{ORD_PATH}/suzuki_reactions.csv', index=False)\n",
    "\n",
    "# df_amide.to_csv(f'{ORD_PROCESSED_PATH}/ORD/amide_couplings.csv', index=False)"
   ]
  },
  {
   "cell_type": "markdown",
   "id": "6e837a00-ddc4-493f-abf5-2bddc781b50a",
   "metadata": {
    "tags": []
   },
   "source": [
    "## Inspect the contents"
   ]
  },
  {
   "cell_type": "code",
   "execution_count": 66,
   "id": "9bc3c8e7-1088-48cf-b600-4cd58aa6ee6e",
   "metadata": {},
   "outputs": [
    {
     "data": {
      "text/plain": [
       "AMBIENT               562148\n",
       "CUSTOM                  1729\n",
       "DRY_ALUMINUM_PLATE       450\n",
       "AIR_FAN                    9\n",
       "Name: temperature, dtype: int64"
      ]
     },
     "execution_count": 66,
     "metadata": {},
     "output_type": "execute_result"
    }
   ],
   "source": [
    "all_reactions.loc[all_reactions['temperature'].apply(lambda x: isinstance(x, str)), 'temperature'].value_counts()"
   ]
  },
  {
   "cell_type": "code",
   "execution_count": 67,
   "id": "e31b3067-02fb-40d9-8699-af6ff6d07a44",
   "metadata": {},
   "outputs": [
    {
     "ename": "KeyError",
     "evalue": "'temperature_adjusted'",
     "output_type": "error",
     "traceback": [
      "\u001b[1;31m---------------------------------------------------------------------------\u001b[0m",
      "\u001b[1;31mKeyError\u001b[0m                                  Traceback (most recent call last)",
      "File \u001b[1;32m~\\anaconda3\\envs\\chem\\lib\\site-packages\\pandas\\core\\indexes\\base.py:3629\u001b[0m, in \u001b[0;36mIndex.get_loc\u001b[1;34m(self, key, method, tolerance)\u001b[0m\n\u001b[0;32m   3628\u001b[0m \u001b[38;5;28;01mtry\u001b[39;00m:\n\u001b[1;32m-> 3629\u001b[0m     \u001b[38;5;28;01mreturn\u001b[39;00m \u001b[38;5;28;43mself\u001b[39;49m\u001b[38;5;241;43m.\u001b[39;49m\u001b[43m_engine\u001b[49m\u001b[38;5;241;43m.\u001b[39;49m\u001b[43mget_loc\u001b[49m\u001b[43m(\u001b[49m\u001b[43mcasted_key\u001b[49m\u001b[43m)\u001b[49m\n\u001b[0;32m   3630\u001b[0m \u001b[38;5;28;01mexcept\u001b[39;00m \u001b[38;5;167;01mKeyError\u001b[39;00m \u001b[38;5;28;01mas\u001b[39;00m err:\n",
      "File \u001b[1;32m~\\anaconda3\\envs\\chem\\lib\\site-packages\\pandas\\_libs\\index.pyx:136\u001b[0m, in \u001b[0;36mpandas._libs.index.IndexEngine.get_loc\u001b[1;34m()\u001b[0m\n",
      "File \u001b[1;32m~\\anaconda3\\envs\\chem\\lib\\site-packages\\pandas\\_libs\\index.pyx:163\u001b[0m, in \u001b[0;36mpandas._libs.index.IndexEngine.get_loc\u001b[1;34m()\u001b[0m\n",
      "File \u001b[1;32mpandas\\_libs\\hashtable_class_helper.pxi:5198\u001b[0m, in \u001b[0;36mpandas._libs.hashtable.PyObjectHashTable.get_item\u001b[1;34m()\u001b[0m\n",
      "File \u001b[1;32mpandas\\_libs\\hashtable_class_helper.pxi:5206\u001b[0m, in \u001b[0;36mpandas._libs.hashtable.PyObjectHashTable.get_item\u001b[1;34m()\u001b[0m\n",
      "\u001b[1;31mKeyError\u001b[0m: 'temperature_adjusted'",
      "\nThe above exception was the direct cause of the following exception:\n",
      "\u001b[1;31mKeyError\u001b[0m                                  Traceback (most recent call last)",
      "Cell \u001b[1;32mIn[67], line 1\u001b[0m\n\u001b[1;32m----> 1\u001b[0m (\u001b[43mall_reactions\u001b[49m\u001b[43m[\u001b[49m\u001b[38;5;124;43m'\u001b[39;49m\u001b[38;5;124;43mtemperature_adjusted\u001b[39;49m\u001b[38;5;124;43m'\u001b[39;49m\u001b[43m]\u001b[49m\u001b[38;5;241m.\u001b[39misna())\u001b[38;5;241m.\u001b[39mmean()\n",
      "File \u001b[1;32m~\\anaconda3\\envs\\chem\\lib\\site-packages\\pandas\\core\\frame.py:3505\u001b[0m, in \u001b[0;36mDataFrame.__getitem__\u001b[1;34m(self, key)\u001b[0m\n\u001b[0;32m   3503\u001b[0m \u001b[38;5;28;01mif\u001b[39;00m \u001b[38;5;28mself\u001b[39m\u001b[38;5;241m.\u001b[39mcolumns\u001b[38;5;241m.\u001b[39mnlevels \u001b[38;5;241m>\u001b[39m \u001b[38;5;241m1\u001b[39m:\n\u001b[0;32m   3504\u001b[0m     \u001b[38;5;28;01mreturn\u001b[39;00m \u001b[38;5;28mself\u001b[39m\u001b[38;5;241m.\u001b[39m_getitem_multilevel(key)\n\u001b[1;32m-> 3505\u001b[0m indexer \u001b[38;5;241m=\u001b[39m \u001b[38;5;28;43mself\u001b[39;49m\u001b[38;5;241;43m.\u001b[39;49m\u001b[43mcolumns\u001b[49m\u001b[38;5;241;43m.\u001b[39;49m\u001b[43mget_loc\u001b[49m\u001b[43m(\u001b[49m\u001b[43mkey\u001b[49m\u001b[43m)\u001b[49m\n\u001b[0;32m   3506\u001b[0m \u001b[38;5;28;01mif\u001b[39;00m is_integer(indexer):\n\u001b[0;32m   3507\u001b[0m     indexer \u001b[38;5;241m=\u001b[39m [indexer]\n",
      "File \u001b[1;32m~\\anaconda3\\envs\\chem\\lib\\site-packages\\pandas\\core\\indexes\\base.py:3631\u001b[0m, in \u001b[0;36mIndex.get_loc\u001b[1;34m(self, key, method, tolerance)\u001b[0m\n\u001b[0;32m   3629\u001b[0m     \u001b[38;5;28;01mreturn\u001b[39;00m \u001b[38;5;28mself\u001b[39m\u001b[38;5;241m.\u001b[39m_engine\u001b[38;5;241m.\u001b[39mget_loc(casted_key)\n\u001b[0;32m   3630\u001b[0m \u001b[38;5;28;01mexcept\u001b[39;00m \u001b[38;5;167;01mKeyError\u001b[39;00m \u001b[38;5;28;01mas\u001b[39;00m err:\n\u001b[1;32m-> 3631\u001b[0m     \u001b[38;5;28;01mraise\u001b[39;00m \u001b[38;5;167;01mKeyError\u001b[39;00m(key) \u001b[38;5;28;01mfrom\u001b[39;00m \u001b[38;5;21;01merr\u001b[39;00m\n\u001b[0;32m   3632\u001b[0m \u001b[38;5;28;01mexcept\u001b[39;00m \u001b[38;5;167;01mTypeError\u001b[39;00m:\n\u001b[0;32m   3633\u001b[0m     \u001b[38;5;66;03m# If we have a listlike key, _check_indexing_error will raise\u001b[39;00m\n\u001b[0;32m   3634\u001b[0m     \u001b[38;5;66;03m#  InvalidIndexError. Otherwise we fall through and re-raise\u001b[39;00m\n\u001b[0;32m   3635\u001b[0m     \u001b[38;5;66;03m#  the TypeError.\u001b[39;00m\n\u001b[0;32m   3636\u001b[0m     \u001b[38;5;28mself\u001b[39m\u001b[38;5;241m.\u001b[39m_check_indexing_error(key)\n",
      "\u001b[1;31mKeyError\u001b[0m: 'temperature_adjusted'"
     ]
    }
   ],
   "source": [
    "(all_reactions['temperature_adjusted'].isna()).mean()"
   ]
  },
  {
   "cell_type": "code",
   "execution_count": null,
   "id": "e13cb65b-e0db-488e-bb0f-48c65a1cdf81",
   "metadata": {},
   "outputs": [],
   "source": [
    "all_reactions['temperature_adjusted'] = all_reactions['temperature'].apply(lambda x: 25 if x=='AMBIENT' else\n",
    "                                                                                     None if isinstance(x, str) else\n",
    "                                                                                     None if x is None else\n",
    "                                                                                     x if (-120 < x < 250) else\n",
    "                                                                                     None)"
   ]
  },
  {
   "cell_type": "code",
   "execution_count": null,
   "id": "d49d3e61-a7f7-484c-b16d-d9c6c573d898",
   "metadata": {},
   "outputs": [],
   "source": [
    "all_reactions['time_adjusted'] = all_reactions['time'].apply(lambda t: None if t <= 0 or t > 100 else t)"
   ]
  },
  {
   "cell_type": "code",
   "execution_count": null,
   "id": "2cce5b21-394b-47d6-8189-d36b7705f768",
   "metadata": {},
   "outputs": [],
   "source": [
    "plt.figure(figsize=[20,10])\n",
    "# plt.xlim([-120, 250])\n",
    "all_reactions['time'].hist(bins=100)\n",
    "plt.show()"
   ]
  },
  {
   "cell_type": "code",
   "execution_count": null,
   "id": "2c68e274-c485-42bc-9ad2-3f84a924391a",
   "metadata": {},
   "outputs": [],
   "source": [
    "df_suzuki = pd.read_csv(f'{ORD_PATH}/ORD/suzuki_reactions.csv')\n",
    "# df_amide = pd.read_csv('/homes/fabrizio.ambrogi/Data/Grant_project2/ORD/amide_couplings.csv')"
   ]
  },
  {
   "cell_type": "code",
   "execution_count": null,
   "id": "6de226fe-e02c-416b-8215-6bf5a1c4e394",
   "metadata": {},
   "outputs": [],
   "source": [
    "for key in ('solvents', 'reactants', 'catalysts', 'solvents_names', 'catalysts_names', 'reagents',):\n",
    "    df_suzuki[key] = df_suzuki[key].apply(eval)\n",
    "    df_amide[key] = df_amide[key].apply(eval)"
   ]
  },
  {
   "cell_type": "code",
   "execution_count": null,
   "id": "6b4d4fce-8017-4562-9c24-1ed5b018fc53",
   "metadata": {},
   "outputs": [],
   "source": [
    "df_na_vals(df_suzuki, False)"
   ]
  },
  {
   "cell_type": "code",
   "execution_count": null,
   "id": "9aa8edff-1cd7-466b-885c-0489e4222caa",
   "metadata": {},
   "outputs": [],
   "source": [
    "df_na_vals(df_amide, False)"
   ]
  },
  {
   "cell_type": "markdown",
   "id": "3df628e0-5326-42c0-b0ef-5955bfe58f18",
   "metadata": {
    "tags": []
   },
   "source": [
    "### Solvents"
   ]
  },
  {
   "cell_type": "code",
   "execution_count": null,
   "id": "a8fd9f00-32b6-4753-925c-a002d55f8a75",
   "metadata": {},
   "outputs": [],
   "source": [
    "solvent_names = []\n",
    "solvent_smiles = []\n",
    "for solvents in df_suzuki['solvents']:\n",
    "    for (name, smiles) in solvents:\n",
    "        solvent_names.append(name)\n",
    "        solvent_smiles.append(CanonSmiles(smiles) if smiles else None)\n",
    "        \n",
    "for solvents in df_amide['solvents']:\n",
    "    for (name, smiles) in solvents:\n",
    "        solvent_names.append(name)\n",
    "        solvent_smiles.append(CanonSmiles(smiles) if smiles else None)\n",
    "        \n",
    "df_solvents = pd.DataFrame({'names': solvent_names, 'smiles': solvent_smiles})\n",
    "name_counts = dict(df_solvents.groupby('names')['smiles'].apply(len))\n",
    "\n",
    "df_solvents = df_solvents.groupby('smiles').apply(lambda db: pd.Series({'names': tuple(sorted(set(db['names']))), 'count': len(db)})).sort_values('count', ascending=False)\n",
    "df_solvents['count'] /= len(df_suzuki)\n",
    "\n",
    "df_solvents.reset_index(inplace=True)"
   ]
  },
  {
   "cell_type": "code",
   "execution_count": null,
   "id": "96a8d403-de26-43f8-95b6-e0204b3f8032",
   "metadata": {},
   "outputs": [],
   "source": [
    "solvent_names_map = {}\n",
    "solvent_name2smiles = {}\n",
    "for i, row in df_solvents.iterrows():\n",
    "    solvent_group = row['names']\n",
    "    solvent_smiles = row['smiles']\n",
    "    names = sorted(solvent_group, key=lambda x: -name_counts.get(x, 0))\n",
    "    for name in names:\n",
    "        solvent_names_map[name] = names[0]\n",
    "        solvent_name2smiles[name] = solvent_smiles "
   ]
  },
  {
   "cell_type": "code",
   "execution_count": null,
   "id": "83516016-6dbd-4fb5-8a7a-3d7c021ca278",
   "metadata": {},
   "outputs": [],
   "source": [
    "solvent_names_map['ethylene glycol dimethyl ether'] = 'DME'"
   ]
  },
  {
   "cell_type": "code",
   "execution_count": null,
   "id": "e6dad8b3-6c0d-413c-9dcd-8db7e6004584",
   "metadata": {},
   "outputs": [],
   "source": [
    "df_suzuki['solvents_names'] = df_suzuki['solvents'].apply(lambda x: tuple(sorted(set(solvent_names_map.get(name, name) for name, smiles in x))))"
   ]
  },
  {
   "cell_type": "code",
   "execution_count": null,
   "id": "1f6d04d5-6986-4e07-bfbd-c4b316771104",
   "metadata": {},
   "outputs": [],
   "source": [
    "df_suzuki['solvents_names'].value_counts().head(25)"
   ]
  },
  {
   "cell_type": "code",
   "execution_count": null,
   "id": "d3c648ea-8aa7-4dfd-8fad-9c86f35f74c6",
   "metadata": {},
   "outputs": [],
   "source": [
    "all_solvents = set()\n",
    "df_suzuki['solvents_names'].apply(lambda names: all_solvents.update(set(names)))\n",
    "\n",
    "len(all_solvents)"
   ]
  },
  {
   "cell_type": "code",
   "execution_count": null,
   "id": "b821b1e0-7f9a-40e2-b2f1-e6bb74e974f6",
   "metadata": {},
   "outputs": [],
   "source": [
    "df_amide['solvents_names'] = df_amide['solvents'].apply(lambda x: tuple(sorted(set(solvent_names_map.get(name, name) for name, smiles in x))))"
   ]
  },
  {
   "cell_type": "code",
   "execution_count": null,
   "id": "94c281ab-3013-4d25-824f-4e2c77087eaf",
   "metadata": {},
   "outputs": [],
   "source": [
    "df_amide['solvents_names'].value_counts().head(25)"
   ]
  },
  {
   "cell_type": "code",
   "execution_count": null,
   "id": "0a5988ba-5368-4408-a692-af7263430ce9",
   "metadata": {},
   "outputs": [],
   "source": [
    "all_solvents = set()\n",
    "df_amide['solvents_names'].apply(lambda names: all_solvents.update(set(names)))\n",
    "\n",
    "len(all_solvents)"
   ]
  },
  {
   "cell_type": "markdown",
   "id": "d77693c8-6e9e-45d2-9a29-c492d9af25ed",
   "metadata": {},
   "source": [
    "### Catalysts"
   ]
  },
  {
   "cell_type": "code",
   "execution_count": null,
   "id": "030790a2-628e-4d68-a497-ac384584a2a9",
   "metadata": {},
   "outputs": [],
   "source": [
    "catalyst_names = []\n",
    "catalyst_smiles = []\n",
    "for cat in df_suzuki['catalysts']:\n",
    "    for (name, smiles) in cat:\n",
    "        catalyst_names.append(name)\n",
    "        catalyst_smiles.append(CanonSmiles(smiles) if smiles else None)\n",
    "\n",
    "for cat in df_amide['catalysts']:\n",
    "    for (name, smiles) in cat:\n",
    "        catalyst_names.append(name)\n",
    "        catalyst_smiles.append(CanonSmiles(smiles) if smiles else None)\n",
    "\n",
    "df_catalysts = pd.DataFrame({'names': catalyst_names, 'smiles': catalyst_smiles})\n",
    "name_counts = dict(df_catalysts.groupby('names')['smiles'].apply(len))\n",
    "\n",
    "df_catalysts = df_catalysts.groupby('smiles').apply(lambda db: pd.Series({'names': set(db['names']), 'count': len(db)})).sort_values('count', ascending=False)\n",
    "df_catalysts['count'] /= len(df_suzuki)\n",
    "\n",
    "df_catalysts.reset_index(inplace=True)"
   ]
  },
  {
   "cell_type": "code",
   "execution_count": null,
   "id": "a39d17bd-92e3-4803-b391-82d35f82864a",
   "metadata": {},
   "outputs": [],
   "source": [
    "catalyst_names_map = {}\n",
    "catalyst_name2smiles = {}\n",
    "for i, row in df_catalysts.iterrows():\n",
    "    catalyst_group = row['names']\n",
    "    catalyst_smiles = row['smiles']\n",
    "    names = sorted(catalyst_group, key=lambda x: -name_counts.get(x, 0))\n",
    "    for name in names:\n",
    "        catalyst_names_map[name] = names[0]\n",
    "        catalyst_name2smiles[name] = catalyst_smiles "
   ]
  },
  {
   "cell_type": "code",
   "execution_count": null,
   "id": "9c7ddc1d-80a5-42d6-b64f-804b435b2837",
   "metadata": {},
   "outputs": [],
   "source": [
    "catalyst_names_map.update({x: 'Pd/C' for x in ('palladium-carbon', 'palladium carbon', 'Palladium carbon',\n",
    "                                                'Pd carbon', 'Palladium-carbon', 'carbon palladium',\n",
    "                                                'Pd—C', 'Pd Carbon', 'palladiumcarbon')})"
   ]
  },
  {
   "cell_type": "code",
   "execution_count": null,
   "id": "3fb65bcb-ea81-4a0b-bf13-cd243585c269",
   "metadata": {},
   "outputs": [],
   "source": [
    "df_suzuki['catalysts_names'] = df_suzuki['catalysts'].apply(lambda x: tuple(sorted(set(catalyst_names_map.get(name, name) for name, smiles in x))))"
   ]
  },
  {
   "cell_type": "code",
   "execution_count": null,
   "id": "50668b0f-c020-4c40-8496-1d89617530e9",
   "metadata": {},
   "outputs": [],
   "source": [
    "df_suzuki['catalysts_names'].value_counts().head(25)"
   ]
  },
  {
   "cell_type": "code",
   "execution_count": null,
   "id": "f1a85595-432e-4a06-9e9b-3c8c827c4ea7",
   "metadata": {},
   "outputs": [],
   "source": [
    "df_amide['catalysts_names'] = df_amide['catalysts'].apply(lambda x: tuple(sorted(set(catalyst_names_map.get(name, name) for name, smiles in x))))"
   ]
  },
  {
   "cell_type": "code",
   "execution_count": null,
   "id": "7fc77adc-2d77-4cea-91d8-d4b5c2f661cb",
   "metadata": {},
   "outputs": [],
   "source": [
    "df_amide['catalysts_names'].value_counts().head(25)"
   ]
  },
  {
   "cell_type": "markdown",
   "id": "063d5eb0-a38a-46ae-834d-e4d93e849dc2",
   "metadata": {
    "tags": []
   },
   "source": [
    "### Reactants"
   ]
  },
  {
   "cell_type": "code",
   "execution_count": null,
   "id": "82138419-c060-4c63-b5bd-bb4d5e5c92bf",
   "metadata": {},
   "outputs": [],
   "source": [
    "reactant_names = []\n",
    "reactant_smiles = []\n",
    "for reactants in df_suzuki['reactants']:\n",
    "    for (name, smiles) in reactants:\n",
    "        reactant_names.append(name)\n",
    "        try:\n",
    "            reactant_smiles.append(CanonSmiles(smiles) if smiles else None)\n",
    "        except:\n",
    "            reactant_smiles.append(smiles)\n",
    "        \n",
    "for reactants in df_amide['reactants']:\n",
    "    for (name, smiles) in reactants:\n",
    "        reactant_names.append(name)\n",
    "        try:\n",
    "            reactant_smiles.append(CanonSmiles(smiles) if smiles else None)\n",
    "        except:\n",
    "            reactant_smiles.append(smiles)\n",
    "        \n",
    "df_reactants = pd.DataFrame({'names': reactant_names, 'smiles': reactant_smiles})\n",
    "name_counts = dict(df_reactants.groupby('names')['smiles'].apply(len))\n",
    "\n",
    "df_reactants = df_reactants.groupby('smiles').apply(lambda db: pd.Series({'names': set(db['names']), 'count': len(db)})).sort_values('count', ascending=False)\n",
    "df_reactants['count'] /= len(df_suzuki)\n",
    "\n",
    "df_reactants.reset_index(inplace=True)"
   ]
  },
  {
   "cell_type": "code",
   "execution_count": null,
   "id": "bf04ffda-a7d8-4420-8f8c-326daf480128",
   "metadata": {},
   "outputs": [],
   "source": [
    "df_reactants.head()"
   ]
  },
  {
   "cell_type": "code",
   "execution_count": null,
   "id": "8926c5d4-b338-42ec-be1d-1994d1f9e277",
   "metadata": {},
   "outputs": [],
   "source": [
    "reactant_names_map = {}\n",
    "reactant_name2smiles = {}\n",
    "for i, row in df_reactants.iterrows():\n",
    "    reactant_group = row['names']\n",
    "    reactant_smiles = row['smiles']\n",
    "    names = sorted(reactant_group, key=lambda x: -name_counts.get(x, 0))\n",
    "    for name in names:\n",
    "        reactant_names_map[name] = names[0]\n",
    "        reactant_name2smiles[name] = reactant_smiles "
   ]
  },
  {
   "cell_type": "code",
   "execution_count": null,
   "id": "a73de43c-9fe9-4b52-b99d-f6686bffabc6",
   "metadata": {},
   "outputs": [],
   "source": [
    "df_suzuki['reactants_names'] = df_suzuki['reactants'].apply(lambda x: tuple(sorted(set((reactant_names_map.get(name, name) for name, smiles in x)))))"
   ]
  },
  {
   "cell_type": "code",
   "execution_count": null,
   "id": "8fee19e4-65cb-4766-b3a2-46c1317667a4",
   "metadata": {},
   "outputs": [],
   "source": [
    "def get_suzuki_reaction_components(reactants_list):\n",
    "    boronic_acid = None\n",
    "    alogen_part = None\n",
    "    reagents = []\n",
    "    for name, smiles in reactants_list:\n",
    "        name = reactant_names_map.get(name, name)\n",
    "        try:\n",
    "            smiles = CanonSmiles(smiles)\n",
    "        except:\n",
    "            pass\n",
    "        \n",
    "        if 'boro' in name.lower():\n",
    "            boronic_acid = smiles\n",
    "        elif any(element in name.lower() for element in ('chlor', 'brom', 'iod')):\n",
    "            alogen_part = smiles\n",
    "        else:\n",
    "            reagents.append((name, smiles))\n",
    "            \n",
    "    return {'Boron reactant': boronic_acid, 'Halogen reactant': alogen_part, 'Reagents': reagents}"
   ]
  },
  {
   "cell_type": "code",
   "execution_count": null,
   "id": "96be4b77-0715-47dc-be11-184dbcc8b8c9",
   "metadata": {},
   "outputs": [],
   "source": [
    "df_suzuki_components = df_suzuki['reactants'].apply(lambda reactants: pd.Series(get_suzuki_reaction_components(reactants)))"
   ]
  },
  {
   "cell_type": "code",
   "execution_count": null,
   "id": "92e89e87-9b04-4f29-8c3a-ae2479f02743",
   "metadata": {},
   "outputs": [],
   "source": []
  },
  {
   "cell_type": "code",
   "execution_count": null,
   "id": "6cb23589-b4b3-4509-bfcf-25ea1c1f2cbb",
   "metadata": {},
   "outputs": [],
   "source": [
    "df_suzuki['reactants'][:1].apply(print)"
   ]
  },
  {
   "cell_type": "code",
   "execution_count": null,
   "id": "2b246f93-8e86-46a8-8ce1-536b53ba8497",
   "metadata": {},
   "outputs": [],
   "source": [
    "df_suzuki_components.head()"
   ]
  },
  {
   "cell_type": "code",
   "execution_count": null,
   "id": "a81fbe66-f444-49dc-80c2-94f8292b5e03",
   "metadata": {},
   "outputs": [],
   "source": [
    "# .drop(columns=['Boron reactant', 'Halogen reactant', 'Reagents'])\n",
    "df_suzuki = df_suzuki.join(df_suzuki_components)"
   ]
  },
  {
   "cell_type": "code",
   "execution_count": null,
   "id": "dd1b5d3a-1aa8-4367-89ba-0aafda4e302d",
   "metadata": {},
   "outputs": [],
   "source": [
    "df_suzuki['reagents_names'] = df_suzuki['Reagents'].apply(lambda reagents: sorted(set(x[0].replace('′',\"'\") for x in reagents)))"
   ]
  },
  {
   "cell_type": "code",
   "execution_count": null,
   "id": "f88c2065-1d67-4384-93ca-f2a3b5e46f9a",
   "metadata": {},
   "outputs": [],
   "source": [
    "print(df_suzuki.shape)\n",
    "df_suzuki.head()"
   ]
  },
  {
   "cell_type": "code",
   "execution_count": null,
   "id": "2a7770dc-626f-496d-b722-25fdde04e31a",
   "metadata": {},
   "outputs": [],
   "source": [
    "df_suzuki.rename(columns={'Boron reactant': 'boronic_acid'})"
   ]
  },
  {
   "cell_type": "code",
   "execution_count": null,
   "id": "f2baf9e0-b9b9-48c3-8fee-092cc7013143",
   "metadata": {},
   "outputs": [],
   "source": [
    "df_amide['reactants_names'] = df_amide['reactants'].apply(lambda x: tuple(sorted(set((reactant_names_map.get(name, name) for name, smiles in x)))))"
   ]
  },
  {
   "cell_type": "code",
   "execution_count": null,
   "id": "eefcf1ee-7441-4cf2-a8ef-8ede873fabf2",
   "metadata": {},
   "outputs": [],
   "source": [
    "df_amide['reactants_names'].value_counts().head(25)"
   ]
  },
  {
   "cell_type": "markdown",
   "id": "51279ed0-8e0e-415a-94b6-315afe36ff8c",
   "metadata": {
    "tags": []
   },
   "source": [
    "## Save"
   ]
  },
  {
   "cell_type": "code",
   "execution_count": null,
   "id": "465f091c-e0ed-4dab-b6ea-e1419b6ce0d1",
   "metadata": {},
   "outputs": [],
   "source": [
    "def adjust_temperature(t):\n",
    "    if isinstance(t, str):\n",
    "        try:\n",
    "            t = eval(t)\n",
    "        except:\n",
    "            if t == 'AMBIENT':\n",
    "                t = 25\n",
    "            else:\n",
    "                t = None\n",
    "    return t"
   ]
  },
  {
   "cell_type": "code",
   "execution_count": null,
   "id": "a7fbc3ef-ee1b-4492-b611-2e0c0eaff704",
   "metadata": {},
   "outputs": [],
   "source": [
    "df_suzuki['temperature'] = df_suzuki['temperature'].apply(adjust_temperature)\n",
    "df_amide['temperature'] = df_amide['temperature'].apply(adjust_temperature)"
   ]
  },
  {
   "cell_type": "code",
   "execution_count": null,
   "id": "f1f092c4-739e-465e-bfa2-4511a732056a",
   "metadata": {},
   "outputs": [],
   "source": [
    "df_suzuki.to_csv('/homes/fabrizio.ambrogi/Data/Grant_project2/ORD/suzuki_reactions.csv', index=False)\n",
    "df_amide.to_csv('/homes/fabrizio.ambrogi/Data/Grant_project2/ORD/amide_couplings.csv', index=False)"
   ]
  }
 ],
 "metadata": {
  "kernelspec": {
   "display_name": "Python 3 (ipykernel)",
   "language": "python",
   "name": "python3"
  },
  "language_info": {
   "codemirror_mode": {
    "name": "ipython",
    "version": 3
   },
   "file_extension": ".py",
   "mimetype": "text/x-python",
   "name": "python",
   "nbconvert_exporter": "python",
   "pygments_lexer": "ipython3",
   "version": "3.8.10"
  }
 },
 "nbformat": 4,
 "nbformat_minor": 5
}
