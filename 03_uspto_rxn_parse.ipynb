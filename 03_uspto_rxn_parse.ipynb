{
 "cells": [
  {
   "cell_type": "code",
   "execution_count": 1,
   "metadata": {
    "collapsed": true
   },
   "outputs": [],
   "source": [
    "import random\n",
    "from glob import glob\n",
    "from time import time\n",
    "from typing import Union\n",
    "\n",
    "import pandas as pd\n",
    "import numpy as np\n",
    "from ord_data_load import ORD_PATH, ORD_REPO_PATH, load_dataset, fahrenheit_to_celsius, df_na_vals\n",
    "\n",
    "pd.set_option('display.max_rows', 500)\n",
    "pd.set_option('display.max_columns', 500)\n",
    "pd.set_option('display.width', 1000)\n",
    "\n",
    "\n",
    "\n",
    "#to disable warnings\n",
    "from rdkit import RDLogger\n",
    "RDLogger.DisableLog('rdApp.*')\n",
    "\n",
    "\n",
    "import os\n",
    "import multiprocessing as mp\n",
    "import gzip\n",
    "from google import protobuf\n",
    "\n",
    "from ord_schema import message_helpers\n",
    "from ord_schema.proto import dataset_pb2\n",
    "from ord_schema.proto import reaction_pb2\n",
    "\n",
    "from time import time\n",
    "from ord_data_load import load_dataset, filter_uspto_filenames\n",
    "from chem_render import draw_reaction\n",
    "\n",
    "%load_ext autoreload\n",
    "%autoreload 2"
   ]
  },
  {
   "cell_type": "code",
   "execution_count": 2,
   "outputs": [
    {
     "name": "stdout",
     "output_type": "stream",
     "text": [
      "uspto_files.csv already exists ... loading\n",
      "CPU times: total: 31.2 ms\n",
      "Wall time: 9 ms\n"
     ]
    }
   ],
   "source": [
    "%%time\n",
    "\n",
    "if os.path.exists(f\"{ORD_PATH}/uspto_files.csv\"):\n",
    "    print(\"uspto_files.csv already exists ... loading\")\n",
    "    uspto_files = pd.read_csv(f\"{ORD_PATH}/uspto_files.csv\").squeeze()\n",
    "else:\n",
    "    print(\"extracting uspto filenames ... \", end=\"\")\n",
    "    n_cores = 24\n",
    "    with mp.Pool(n_cores) as p:\n",
    "        uspto_filenames = p.map(filter_uspto_filenames, glob(f'{ORD_REPO_PATH}/data/*/*.pb.gz'))\n",
    "\n",
    "    # save results\n",
    "    uspto_files = pd.Series(uspto_filenames).dropna()\n",
    "    uspto_files.to_csv(f\"{ORD_PATH}/uspto_files.csv\", index=False)\n",
    "    print(\"saved to uspto_files.csv\")"
   ],
   "metadata": {
    "collapsed": false
   }
  },
  {
   "cell_type": "code",
   "execution_count": 3,
   "outputs": [
    {
     "name": "stdout",
     "output_type": "stream",
     "text": [
      "Dataset size: 17639\n"
     ]
    },
    {
     "data": {
      "text/plain": ""
     },
     "execution_count": 3,
     "metadata": {},
     "output_type": "execute_result"
    }
   ],
   "source": [
    "# dataset = load_dataset(random.choice(uspto_files))\n",
    "dataset = load_dataset(glob(f\"{ORD_REPO_PATH}/data/*/*ord_dataset-c3c1091f873b4f40827973a6f1f9b685.pb.gz\")[0])\n",
    "rxn = random.choice(dataset.reactions)\n",
    "\n",
    "print('Dataset size:', len(dataset.reactions))\n",
    "\n",
    "# rxn.conditions\n",
    "rxn.conditions.temperature"
   ],
   "metadata": {
    "collapsed": false
   }
  },
  {
   "cell_type": "code",
   "execution_count": 4,
   "outputs": [],
   "source": [
    "# rxn.conditions.temperature.control - AMBIENT\n",
    "# rxn.conditions.temperature.setpoint.value, rxn.conditions.temperature.setpoint.units"
   ],
   "metadata": {
    "collapsed": false
   }
  },
  {
   "cell_type": "code",
   "execution_count": 5,
   "outputs": [
    {
     "data": {
      "text/plain": "'To a solution of 8-benzyl-10-(4-chlorophenyl)-11-oxa-3,8-diazaspiro[5.5]undecane (100 mg, 0.28 mmol) and 4-isopropoxy-3-methyl-benzoic acid (54 mg, 0.28 mmol) in DMF (1 mL) was added DIEA (98 μL, 0.56 mmol) followed by the addition of HATU (128 mg, 0.34 mmol). The reaction mixture was stirred for 10 minutes, then quenched with water and the aqueous layer was extracted with ethyl acetate. The combined organic layer was washed with water (twice). The organic layer was dried over MgSO4, filtered and concentrated in vacuo. The residue was purified by silica gel column chromatography using 0 to 50% EtOAc/hexanes as eluent to obtain [8-benzyl-10-(4-chlorophenyl)-11-oxa-3,8-diazaspiro[5.5]undecan-3-yl]-(4-isopropoxy-3-methyl-phenyl)methanone (44 mg, 29%). ESI-MS m/z calc. 532.2. Found 533.3 (M+1)+; Retention time: 2.17 minutes (3 min run).'"
     },
     "execution_count": 5,
     "metadata": {},
     "output_type": "execute_result"
    }
   ],
   "source": [
    "rxn.notes.procedure_details"
   ],
   "metadata": {
    "collapsed": false
   }
  },
  {
   "cell_type": "code",
   "execution_count": 6,
   "outputs": [
    {
     "data": {
      "text/plain": "value: 10.0\nunits: MINUTE"
     },
     "execution_count": 6,
     "metadata": {},
     "output_type": "execute_result"
    }
   ],
   "source": [
    "rxn.provenance.patent\n",
    "rxn.reaction_id\n",
    "rxn.identifiers[0].value # smiles\n",
    "rxn.notes.procedure_details # notes\n",
    "rxn.conditions.temperature.control #AMBIENT\n",
    "rxn.conditions.temperature.setpoint\n",
    "rxn.outcomes[0].reaction_time #time"
   ],
   "metadata": {
    "collapsed": false
   }
  },
  {
   "cell_type": "code",
   "execution_count": 7,
   "outputs": [
    {
     "data": {
      "text/plain": ""
     },
     "execution_count": 7,
     "metadata": {},
     "output_type": "execute_result"
    }
   ],
   "source": [
    "rxn.conditions.temperature.control"
   ],
   "metadata": {
    "collapsed": false
   }
  },
  {
   "cell_type": "code",
   "execution_count": 8,
   "outputs": [],
   "source": [
    "rxn = random.choice(dataset.reactions)\n",
    "\n",
    "for p in rxn.outcomes[0].products:\n",
    "    for m in p.measurements:\n",
    "        if m.type == 3: # yield\n",
    "            print(m.percentage.value)\n",
    "            print(m.details)"
   ],
   "metadata": {
    "collapsed": false
   }
  },
  {
   "cell_type": "code",
   "execution_count": 9,
   "outputs": [
    {
     "data": {
      "text/plain": "array([['ord-43d5b7a6265d46a0ab8a7e2b2db5ad33',\n        '[NH2:1][C:2]1[C:3]([OH:12])=[CH:4][C:5]2[C:10]([CH:11]=1)=[CH:9][CH:8]=[CH:7][CH:6]=2.C(=O)([O-])[O-].[Na+].[Na+].[C:19](Cl)(=[O:21])[CH3:20].Cl>CC(C)=O>[OH:12][C:3]1[C:2]([NH:1][C:19](=[O:21])[CH3:20])=[CH:11][C:10]2[C:5]([CH:4]=1)=[CH:6][CH:7]=[CH:8][CH:9]=2 |f:1.2.3|',\n        1, 4.0, 1, 0.0, None, 78.0, 'USRE045108E1',\n        'An acetone solution (60 ml) of 3-amino-2-naphthol (5.0 g, 31.4 mmol) was added to an aqueous solution (20 ml) of sodium carbonate (4.77 g, 34.5 mmol). The mixture was cooled in an ice-water bath, and then acetyl chloride (2.27 ml, 32.0 mmol) was added to the mixture dropwise over 5 minutes. The resulting mixture was stirred at 0° C. for 4 hours and then allowed to stand at room temperature overnight. 2N Hydrochloric acid was added to the reaction mixture to adjust its pH to 3. The generated insoluble matter was separated, washed with water, and then dried, giving a white powder of N-(3-hydroxynaphthalen-2-yl)acetamide (4.9 g, yield: 78%).'],\n       ['ord-1e9795495fcf41dabac210930fb8b1eb',\n        '[OH:1][C:2]1[C:3]([NH:12][C:13](=[O:15])[CH3:14])=[CH:4][C:5]2[C:10]([CH:11]=1)=[CH:9][CH:8]=[CH:7][CH:6]=2.I[CH2:17][CH2:18][CH3:19].C(=O)([O-])[O-].[K+].[K+]>C(#N)C>[CH2:17]([O:1][C:2]1[C:3]([NH:12][C:13](=[O:15])[CH3:14])=[CH:4][C:5]2[C:10]([CH:11]=1)=[CH:9][CH:8]=[CH:7][CH:6]=2)[CH2:18][CH3:19] |f:2.3.4|',\n        1, 3.0, None, None, 2, 96.0, 'USRE045108E1',\n        'N-(3-Hydroxynaphthalen-2-yl)acetamide (4.87 g, 24.2 mmol) was suspended in acetonitrile (50 ml). A 1-iodopropane (4.52 g, 26.6 mmol) acetonitrile solution (40 ml) and potassium carbonate (4.35 g, 31.5 mmol) were added thereto, and the resulting mixture was stirred for 3 hours while heating under reflux. The mixture was then cooled to room temperature and concentrated to dryness under reduced pressure. Water was added to the residue, followed by extraction using dichloromethane. The thus-obtained organic layer was concentrated to dryness under reduced pressure, and the residue was then purified using silica gel column chromatography (dichloromethane:ethyl acetate=20:1). The purified product was concentrated to dryness under reduced pressure, giving a white powder of N-(3-propoxynaphthalen-2-yl)acetamide (5.64 g, yield: 96%).'],\n       ['ord-531862ea724b4025a6820c232ec276a5',\n        '[CH2:1]([O:4][C:5]1[C:6]([NH:15]C(=O)C)=[CH:7][C:8]2[C:13]([CH:14]=1)=[CH:12][CH:11]=[CH:10][CH:9]=2)[CH2:2][CH3:3].Cl.[OH-].[Na+]>C(O)C>[CH2:1]([O:4][C:5]1[C:6]([NH2:15])=[CH:7][C:8]2[C:13]([CH:14]=1)=[CH:12][CH:11]=[CH:10][CH:9]=2)[CH2:2][CH3:3] |f:2.3|',\n        1, 4.0, None, None, 2, 100.0, 'USRE045108E1',\n        'N-(3-Propoxynaphthalen-2-yl)acetamide (2.5 g, 10.2 mmol) was dissolved in ethanol (10 ml). Concentrated hydrochloric acid (5.2 ml) was added thereto, and the resulting mixture was stirred for 4 hours while heating under reflux. The reaction mixture was cooled to room temperature, and a 5N aqueous sodium hydroxide solution (12.5 ml) was added thereto to adjust its pH to 11, followed by extraction using dichloromethane. The thus-obtained organic layer was concentrated to dryness under reduced pressure, and the residue was then purified using silica gel column chromatography (dichloromethane). The purified product was concentrated to dryness under reduced pressure, giving a white powder of 3-propoxynaphthalen-2-ylamine (2.05 g, yield: 100%).'],\n       ['ord-18a1966deec047d38bc37b60ccbf4c99',\n        '[CH3:1][C:2]1([CH3:10])[O:9][C:7](=[O:8])[CH2:6][C:4](=[O:5])[O:3]1.[CH:11]([O-])([O-])OC.[CH2:16]([O:19][C:20]1[C:21]([NH2:30])=[CH:22][C:23]2[C:28]([CH:29]=1)=[CH:27][CH:26]=[CH:25][CH:24]=2)[CH2:17][CH3:18]>>[CH3:1][C:2]1([CH3:10])[O:9][C:7](=[O:8])[C:6](=[CH:11][NH:30][C:21]2[C:20]([O:19][CH2:16][CH2:17][CH3:18])=[CH:29][C:28]3[C:23](=[CH:24][CH:25]=[CH:26][CH:27]=3)[CH:22]=2)[C:4](=[O:5])[O:3]1',\n        1, 2.0, None, None, 2, None, 'USRE045108E1',\n        \"Meldrum's acid (2.59 g, 17.9 mmol) was added to methyl orthoformate (16 ml), and the mixture was stirred for 2 hours while heating under reflux. 3-Propoxynaphthalen-2-ylamine (2.5 g, 12.4 mmol) was added thereto, and the resulting mixture was stirred for 4 hours while heating under reflux. The reaction mixture was cooled to room temperature and then concentrated to dryness under reduced pressure to recrystallize the residue from methanol, giving a pale brown powder of 2,2-dimethyl-5-[(3-propoxynaphthalen-2-ylamino) methylene][1,3]dioxane-4,6-dione (4.19 g, yield: 95%).\"],\n       ['ord-68defa27afa24eb5b49370275e20cb0f',\n        'CC1(C)O[C:6](=[O:8])[C:5](=[CH:9][NH:10][C:11]2[C:20]([O:21][CH2:22][CH2:23][CH3:24])=[CH:19][C:18]3[C:13](=[CH:14][CH:15]=[CH:16][CH:17]=3)[CH:12]=2)C(=O)O1.C1(OC2C=CC=CC=2)C=CC=CC=1>>[CH2:22]([O:21][C:20]1[C:11]2[NH:10][CH:9]=[CH:5][C:6](=[O:8])[C:12]=2[C:13]2[CH:14]=[CH:15][CH:16]=[CH:17][C:18]=2[CH:19]=1)[CH2:23][CH3:24]',\n        None, None, None, None, 2, 61.0, 'USRE045108E1',\n        '2,2-Dimethyl-5-[(3-propoxynaphthalen-2-ylamino) methylene][1,3]dioxane-4,6-dione (4.19 g, 11.7 mmol) was added to diphenyl ether (15 ml), and the mixture was heated with a mantle heater and then maintained under reflux for 2 hours. The mixture was cooled to room temperature and purified using silica gel column chromatography (dichloromethane:methanol=70:1→9:1). The purified product was concentrated to dryness under reduced pressure, giving a dark brown powder of 5-propoxy-4H-benzo[f]quinolin-1-one (3.15 g, yield: 61%).'],\n       ['ord-12ea6b39e68b49689854239de0fe7cd9',\n        '[CH2:1]([O:4][C:5]1[C:14]2[NH:13][CH:12]=[CH:11][C:10](=[O:15])[C:9]=2[C:8]2[CH:16]=[CH:17][CH:18]=[CH:19][C:7]=2[CH:6]=1)[CH2:2][CH3:3].C(=O)([O-])[O-].[K+].[K+].[I:26]I.S([O-])([O-])(=O)=S.[Na+].[Na+]>CN(C=O)C.C(OCC)(=O)C>[I:26][C:11]1[C:10](=[O:15])[C:9]2[C:8]3[CH:16]=[CH:17][CH:18]=[CH:19][C:7]=3[CH:6]=[C:5]([O:4][CH2:1][CH2:2][CH3:3])[C:14]=2[NH:13][CH:12]=1 |f:1.2.3,5.6.7|',\n        1, 3.0, None, None, 2, 87.0, 'USRE045108E1',\n        '5-Propoxy-4H-benzo[f]quinolin-1-one (2.66 g, 10.5 mmol) was suspended in DMF (20 ml). Potassium carbonate (1.63 g, 11.8 mmol) and iodine (2.95 g, 11.6 mmol) were added to the suspension, followed by stirring at room temperature for 3 hours. The reaction mixture was poured into an aqueous sodium thiosulfate solution (9.14 g, 100 ml), followed by stirring for 5 minutes. Ethyl acetate was added to the reaction mixture and stirred. Subsequently, insoluble matter was collected by filtration, and the filtrate was then separated. The thus-obtained organic layer was washed with an aqueous saturated sodium chloride solution, and then concentrated to dryness under reduced pressure. The residue was added to the collected insoluble matter, followed by purification using silica gel column chromatography (dichloromethane:methanol=50:1→20:1). The purified product was concentrated to dryness under reduced pressure, giving a pale brown powder of 2-iodo-5-propoxy-4H-benzo[f]quinolin-1-one (3.48 g, yield: 87%).'],\n       ['ord-8bd7e5421fc2466a983608bb645ea4df',\n        '[CH2:1]([O:4][C:5]1[C:6]([C:15](=O)[CH3:16])=[CH:7][C:8]2[CH2:9][CH2:10][CH2:11][CH2:12][C:13]=2[CH:14]=1)[CH2:2][CH3:3].Cl.[NH2:19][OH:20].N1C=CC=CC=1>C(Cl)(Cl)Cl.CO>[CH2:1]([O:4][C:5]1[C:6]([C:15](=[N:19][OH:20])[CH3:16])=[CH:7][C:8]2[CH2:9][CH2:10][CH2:11][CH2:12][C:13]=2[CH:14]=1)[CH2:2][CH3:3] |f:1.2|',\n        1, 16.0, None, None, 2, 94.0, 'USRE045108E1',\n        '1-(3-Propoxy-5,6,7,8-tetrahydronaphthalen-2-yl)ethanone (8.88 g, 38.2 mmol) was dissolved in a mixed solvent of chloroform (20 ml) and methanol (80 ml). Hydroxylamine hydrochloride (4.05 g, 58.2 mmol) and pyridine (9.46 ml, 117 mmol) were added to the solution and stirred for 16 hours while heating under reflux. The reaction mixture was cooled to room temperature, and then concentrated to dryness under reduced pressure. 2N hydrochloric acid (30 ml) and water were added to the residue, followed by extraction using dichloromethane. The thus-obtained organic layer was concentrated to dryness under reduced pressure, and the residue was then purified using silica gel column chromatography (n-hexane: ethyl acetate=5:1). The purified product was concentrated to dryness under reduced pressure, giving a pale yellow powder of 1-(3-propoxy-5,6,7,8-tetrahydronaphthalen-2-yl)ethanone oxime (8.87 g, yield: 94%).'],\n       ['ord-94b6820247ad40a4a540fe0a60a08279',\n        'Br[C:2]1[CH:3]=[C:4]2[C:8](=[CH:9][C:10]=1[O:11][CH2:12][CH2:13][CH3:14])[CH2:7][CH2:6][CH2:5]2.C(=[NH:28])(C1C=CC=CC=1)C1C=CC=CC=1.CC1(C)C2C=CC=C(P(C3C=CC=CC=3)C3C=CC=CC=3)C=2OC2C1=CC=CC=2P(C1C=CC=CC=1)C1C=CC=CC=1.C(=O)([O-])[O-].[Cs+].[Cs+].[Cl-].[NH4+]>C1C=CC(/C=C/C(/C=C/C2C=CC=CC=2)=O)=CC=1.C1C=CC(/C=C/C(/C=C/C2C=CC=CC=2)=O)=CC=1.C1C=CC(/C=C/C(/C=C/C2C=CC=CC=2)=O)=CC=1.[Pd].[Pd].O>[CH2:12]([O:11][C:10]1[CH:9]=[C:8]2[C:4]([CH2:5][CH2:6][CH2:7]2)=[CH:3][C:2]=1[NH2:28])[CH2:13][CH3:14] |f:3.4.5,6.7,8.9.10.11.12|',\n        1, 47.0, 1, 100.0, None, 17.0, 'USRE045108E1',\n        'To a 5-bromo-6-propoxyindan (8.24 g, 32.2 mmol) toluene solution (80 ml) were added a benzophenone imine (6.40 g, 35.3 mmol) toluene solution (40 ml), tris(dibenzylideneacetone)dipalladium (742 mg, 0.8 mmol), 9,9-dimethyl-4,5-bis (diphenylphosphino)xanthene (XANTPHOS, 936 mg, 1.6 mmol), and cesium carbonate (15.72 g, 48.3 mmol). The resulting mixture was stirred at 100° C. under a nitrogen atmosphere for 47 hours, and then cooled to room temperature. Water and saturated ammonium chloride solution were added to the reaction mixture, followed by extraction using ethyl acetate. The organic layer was dried over anhydrous magnesium sulfate, and then concentrated to dryness under reduced pressure. The generated residue was dissolved in diethyl ether (130 ml). Concentrated hydrochloric acid (25 ml) was added to the solution, followed by stirring for 2 hours. A 5N aqueous sodium hydroxide solution (72 ml) was added to the reaction mixture to adjust its pH to 11, followed by concentration under reduced pressure. The residue was dissolved in dichloromethane and washed with an aqueous saturated sodium chloride solution. The thus-obtained organic layer was concentrated to dryness under reduced pressure, and the generated residue was then purified using silica gel column chromatography (dichloromethane:ethyl acetate=90:1). The purified product was concentrated to dryness under reduced pressure, giving a pale brown oily substance of 6-propoxy-indan-5-ylamine (1.02 g, yield: 17%).'],\n       ['ord-0a1dc36eb4d748cab40e802e7c0db377',\n        '[OH:1][C:2]1[CH:11]=[C:10]2[C:5]([CH2:6][CH2:7][CH2:8][O:9]2)=[CH:4][C:3]=1[C:12](=[O:14])[CH3:13].[H-].[Na+].I[CH2:18][CH2:19][CH3:20].O>CN(C=O)C>[CH2:18]([O:1][C:2]1[CH:11]=[C:10]2[C:5]([CH2:6][CH2:7][CH2:8][O:9]2)=[CH:4][C:3]=1[C:12](=[O:14])[CH3:13])[CH2:19][CH3:20] |f:1.2|',\n        2, 10.0, None, None, None, 114.9000015258789, 'USRE045108E1',\n        '1-(7-Hydroxychroman-6-yl)ethanone (3.0 g, 15.6 mmol) was dissolved in DMF (20 ml). Sodium hydride (60% oil base, 686 mg, 1.1 equivalent weight) was added thereto while ice cooling, and then stirred for 10 minutes. 1-Iodopropane (2.92 g, 1.1 equivalent weight) was added to the mixture and then stirred at room temperature for 3 hours. Water was added to the reaction mixture, followed by extraction using ethyl acetate. The thus-obtained organic layer was concentrated to dryness under reduced pressure, and the residue was then purified using silica gel column chromatography (n-hexane:ethyl acetate=1:0→0:1). The purified product was concentrated to dryness under reduced pressure, giving a white powder of 1-(7-propoxychroman-6-yl)ethanone (4.2 g, yield: quantitative).'],\n       ['ord-0bbe72ccf63f4142b91348e1b0ccf454',\n        'Br[C:2]1[C:10]2[O:9][CH:8]=[CH:7][C:6]=2[CH:5]=[C:4]([CH3:11])[CH:3]=1.[C:12](=[NH:25])([C:19]1[CH:24]=[CH:23][CH:22]=[CH:21][CH:20]=1)[C:13]1[CH:18]=[CH:17][CH:16]=[CH:15][CH:14]=1.CC(C)([O-])C.[Na+].[Cl-].[NH4+]>C1C=CC(/C=C/C(/C=C/C2C=CC=CC=2)=O)=CC=1.C1C=CC(/C=C/C(/C=C/C2C=CC=CC=2)=O)=CC=1.C1C=CC(/C=C/C(/C=C/C2C=CC=CC=2)=O)=CC=1.[Pd].[Pd].C1(P(C2C=CC=CC=2)C2C=CC3C(=CC=CC=3)C=2C2C3C(=CC=CC=3)C=CC=2P(C2C=CC=CC=2)C2C=CC=CC=2)C=CC=CC=1.O>[C:12](=[N:25][C:2]1[C:10]2[O:9][CH:8]=[CH:7][C:6]=2[CH:5]=[C:4]([CH3:11])[CH:3]=1)([C:19]1[CH:20]=[CH:21][CH:22]=[CH:23][CH:24]=1)[C:13]1[CH:18]=[CH:17][CH:16]=[CH:15][CH:14]=1 |f:2.3,4.5,6.7.8.9.10|',\n        1, 4.0, None, None, 2, 81.0, 'USRE045108E1',\n        'To a 7-bromo-5-methylbenzofuran (9.71 g, 46 mmol) toluene solution (100 ml) were added a benzophenone imine (10.25 g, 56 mmol) toluene solution (55 ml), tris(dibenzylideneacetone)dipalladium (1.1 g, 1 mmol), 2,2′-bis(diphenylphosphino)-1,1′-binaphthyl (BINAP, 2.1 g, 3.45 mmol), and sodium t-butoxide (3.1 g, 31 mmol). The resulting mixture was then stirred for 4 hours while heating under reflux in a nitrogen atmosphere. The reaction mixture was cooled to room temperature, and water and saturated ammonium chloride solution were added thereto, followed by extraction using ethyl acetate. The organic layer was dried over anhydrous magnesium sulfate and then concentrated to dryness under reduced pressure. The residue was purified using silica gel column chromatography (n-hexane:ethyl acetate=10:1). The solvent was removed under a reduced pressure, giving a yellow oily substance of benzhydrylidene(5-methylbenzofuran-7-yl) amine (17.9 g, yield: 81%).']],\n      dtype=object)"
     },
     "execution_count": 9,
     "metadata": {},
     "output_type": "execute_result"
    }
   ],
   "source": [
    "\n",
    "\"\"\"\n",
    "    Numpy array [0 .. N, cols]\n",
    "    cols = ['rxn_id',   'rxn_smiles', 'time_unit', 'time_val', 'temp_unit', 'temp_val', 'temp_control', 'yield', 'patent', 'notes']\n",
    "                0               1            2            3             4             5             6        7        8            9\n",
    "\"\"\"\n",
    "\n",
    "\n",
    "\n",
    "TEMP_CONTROL_MAP = {\n",
    "    2 : 25.0,       # AMBIENT\n",
    "    6 : 0.0,      # ICE_BATH\n",
    "    9 : -78.0,    # DRY_ICE_BATH\n",
    "    11: -120.0    # LIQUID_NITROGEN\n",
    "}\n",
    "\n",
    "\n",
    "N = len(dataset.reactions)\n",
    "arr = np.empty((N, 10), dtype=object)\n",
    "\n",
    "for idx, rxn in enumerate(dataset.reactions):\n",
    "    # fields always present in USPTO\n",
    "    arr[idx, 0] = rxn.reaction_id\n",
    "    arr[idx, 1] = rxn.identifiers[0].value  # rxn_smiles\n",
    "\n",
    "    # time (hours)\n",
    "    if rxn.outcomes[0].HasField('reaction_time'):\n",
    "        time = rxn.outcomes[0].reaction_time\n",
    "        arr[idx, 2] = time.units\n",
    "        arr[idx, 3] = time.value\n",
    "\n",
    "    # temperature (°C)\n",
    "    temp = rxn.conditions.temperature\n",
    "    if temp.HasField('setpoint'):\n",
    "        arr[idx, 4] = temp.setpoint.units\n",
    "        arr[idx, 5] = temp.setpoint.value\n",
    "\n",
    "    # ambient temp control\n",
    "    if temp.HasField('control'):\n",
    "        arr[idx, 6] = temp.control.type\n",
    "\n",
    "\n",
    "    # yield (keep PERCENTYIELD if more than two)\n",
    "    yields = {}\n",
    "    for p in rxn.outcomes[0].products:\n",
    "        for m in p.measurements:\n",
    "            if m.type == 3:  # YIELD\n",
    "                yields[m.details] = m.percentage.value\n",
    "    if yields:\n",
    "        if len(yields) > 1:\n",
    "            y = yields.get(\"PERCENTYIELD\", None)\n",
    "        else:\n",
    "            y = yields.get(\"CALCULATEDPERCENTYIELD\", None)\n",
    "        arr[idx, 7] = y\n",
    "\n",
    "    arr[idx, 8] = rxn.provenance.patent\n",
    "    arr[idx, 9] = rxn.notes.procedure_details\n",
    "\n",
    "arr = arr[:idx]\n",
    "arr[:10]"
   ],
   "metadata": {
    "collapsed": false
   }
  },
  {
   "cell_type": "markdown",
   "source": [
    "# Parse whole USPTO dataset to numpy array of reactions"
   ],
   "metadata": {
    "collapsed": false
   }
  },
  {
   "cell_type": "code",
   "execution_count": 10,
   "outputs": [],
   "source": [
    "import numpy as np\n",
    "import pandas as pd\n",
    "import multiprocessing as mp\n",
    "from ord_data_load import pb2_to_numpy_rxn, ORD_PATH\n",
    "\n",
    "uspto_files = pd.read_csv(f\"{ORD_PATH}/uspto_files.csv\").squeeze()"
   ],
   "metadata": {
    "collapsed": false
   }
  },
  {
   "cell_type": "code",
   "execution_count": 11,
   "outputs": [
    {
     "name": "stdout",
     "output_type": "stream",
     "text": [
      "CPU times: total: 8.5 s\n",
      "Wall time: 18.3 s\n"
     ]
    },
    {
     "data": {
      "text/plain": "489"
     },
     "execution_count": 11,
     "metadata": {},
     "output_type": "execute_result"
    }
   ],
   "source": [
    "%%time\n",
    "n_cores = 24\n",
    "\n",
    "if __name__ == '__main__':\n",
    "    with mp.Pool(n_cores) as p:\n",
    "        res = p.map(pb2_to_numpy_rxn, uspto_files)\n",
    "len(res)"
   ],
   "metadata": {
    "collapsed": false
   }
  },
  {
   "cell_type": "code",
   "execution_count": 12,
   "outputs": [
    {
     "name": "stdout",
     "output_type": "stream",
     "text": [
      "CPU times: total: 156 ms\n",
      "Wall time: 157 ms\n"
     ]
    }
   ],
   "source": [
    "%%time\n",
    "arr = np.vstack(res)"
   ],
   "metadata": {
    "collapsed": false
   }
  },
  {
   "cell_type": "code",
   "execution_count": 13,
   "outputs": [
    {
     "name": "stdout",
     "output_type": "stream",
     "text": [
      "CPU times: total: 7.52 s\n",
      "Wall time: 7.94 s\n"
     ]
    }
   ],
   "source": [
    "%%time\n",
    "np.save(f'{ORD_PATH}/rxn_np.npy', arr)"
   ],
   "metadata": {
    "collapsed": false
   }
  },
  {
   "cell_type": "code",
   "execution_count": 14,
   "outputs": [
    {
     "data": {
      "text/plain": "array([['ord-89aff4b1c18042e4bbb1f88ebba96f86',\n        'S(Cl)([Cl:3])=O.[CH2:5]([O:13][C:14]1[CH:22]=[CH:21][C:17]([C:18](O)=[O:19])=[CH:16][CH:15]=1)[CH2:6][CH2:7][CH2:8][CH2:9][CH2:10][CH2:11][CH3:12]>>[CH2:5]([O:13][C:14]1[CH:22]=[CH:21][C:17]([C:18]([Cl:3])=[O:19])=[CH:16][CH:15]=1)[CH2:6][CH2:7][CH2:8][CH2:9][CH2:10][CH2:11][CH3:12]',\n        None, ..., None, 'US05723069',\n        'A large excess of thionyl chloride was added to 10 g of the p-octyloxybenzoic acid prepared in (1), and the mixture was refluxed for 5 hours. Excessive thionyl chloride was distilled off to give a crude end compound.'],\n       ['ord-c218088b16c541088a933a7606f68c4c',\n        '[OH:1][C:2]1[CH:10]=[CH:9][C:5]([C:6]([OH:8])=[O:7])=[CH:4][CH:3]=1.[C:11](Cl)(=[O:21])[CH2:12][CH2:13][CH2:14][CH2:15][CH2:16][CH2:17][CH2:18][CH2:19][CH3:20].N1C=CC=CC=1>O>[C:11]([O:1][C:2]1[CH:10]=[CH:9][C:5]([C:6]([OH:8])=[O:7])=[CH:4][CH:3]=1)(=[O:21])[CH2:12][CH2:13][CH2:14][CH2:15][CH2:16][CH2:17][CH2:18][CH2:19][CH3:20]',\n        4, ..., None, 'US05723069',\n        '10 Grams of p-hydroxybenzoic acid and 15 g of decanoic acid chloride were stirred at room temperature, and 7.2 g of pyridine was dropwise added. After the mixture was stirred for 1 day, a reaction product was poured into water, and an organic layer was extracted with dichloromethane. The organic layer was washed with 1N hydrochloric acid and dried over anhydrous sodium sulfate, the solvent was distilled off, and then residue was washed with n-hexane and then dried to give a crude end product.'],\n       ['ord-d965967cbe69411f9fd760ac1f990dfb',\n        'F[C:2]1[CH:10]=[C:9]([OH:11])[CH:8]=[CH:7][C:3]=1[C:4]([OH:6])=[O:5].[OH:12][C:13]1C=CC(C(O)=O)=C[CH:14]=1.C(OC1C=CC(C(Cl)=O)=CC=1)(=O)CCCCCCCCC>>[C:13]([O:11][C:9]1[CH:8]=[CH:7][C:3]([C:4]([OH:6])=[O:5])=[CH:2][CH:10]=1)(=[O:12])[CH3:14]',\n        None, ..., None, 'US05723069',\n        'p-Acetoxybenzoic acid was prepared in the same manner as in Example 1(2) except that the 2-fluoro-4-hydroxybenzoic acid was replaced with p-hydroxybenzoic acid. The p-hydroxybenzoic acid was chlorinated in the same manner as in the above (2), to obtain an acid chloride. 1.8 Grams of the acid chloride and 2 g of the (R)-(+)-2-fluoro-4-hydroxy-1-(1-trifluoromethyl-6-ethoxyhexyloxycarbonyl)benzene obtained in Example 1 were dissolved in 50 ml of toluene, 6 ml of pyridine was added, and the mixture was stirred for 1 day. The reaction mixture was poured into water, consecutively washed with a hydrochloric acid aqueous solution, with a sodium hydroxide aqueous solution and with water, and dried over anhydrous sodium sulfate, and the solvent was distilled off to give a crude product. The crude product was purified by silica gel column chromatography(eluting solvent: ethyl acetate/hexane=15/85), to give 2.8 g of an end product.'],\n       ...,\n       ['ord-efddf5d225dc462db60c67a0306a9460',\n        '[OH:1][C:2]1[C:3]([CH3:23])=[C:4]2[C:9](=[C:10]([CH3:13])[C:11]=1[CH3:12])[O:8][C:7]([C:15]([N:17]1[CH2:22][CH2:21][CH2:20][CH2:19][CH2:18]1)=[O:16])([CH3:14])[CH2:6][CH2:5]2.CC([O:28]C)(C)C>O>[OH:28][C:7]([CH3:14])([C:15](=[O:16])[N:17]1[CH2:22][CH2:21][CH2:20][CH2:19][CH2:18]1)[CH2:6][CH2:5][C:4]1[C:9](=[O:8])[C:10]([CH3:13])=[C:11]([CH3:12])[C:2](=[O:1])[C:3]=1[CH3:23]',\n        1, ..., None, 'US07968746B2',\n        'A solution of 319 mg of (6-hydroxy-2,5,7,8-tetramethylchroman-2-yl)(piperidin-1-yl)methanone (1.02 mmol) in 5 mL MTBE which was treated with 1.077 g FeCl3.6H2O in 6 mL H2O. The reaction mixture rapidly turned black which faded to a yellow color over the course of the reaction. An additional 2 mL MTBE was added and stirred vigorously for 3 h at room temp. The reaction was quenched with 10 mL H2O and 10 mL MTBE, the layers separated and the organics washed with H2O until colorless. The combined aqueous phases were extracted 2×10 mL MTBE and the combined organics washed with saturated NaCl and dried over Na2SO4. Flash chromatography yielded 335 mg of 2-(3-hydroxy-3-methyl-4-oxo-4-(piperidin-1-yl)butyl)-3,5,6-trimethylcyclohexa-2,5-diene-1,4-dione as a dark yellow oil.'],\n       ['ord-dc172fbdf10e4ae893a012785f609af2',\n        '[OH:1][C:2]1[C:3]([CH3:18])=[C:4]2[C:9](=[C:10]([CH3:13])[C:11]=1[CH3:12])[O:8][C:7]([CH3:17])([C:14]([OH:16])=[O:15])[CH2:6][CH2:5]2.[CH3:19][C:20](OC(C)=O)=[O:21]>N1C=CC=CC=1>[C:20]([O:1][C:2]1[C:3]([CH3:18])=[C:4]2[C:9](=[C:10]([CH3:13])[C:11]=1[CH3:12])[O:8][C:7]([CH3:17])([C:14]([OH:16])=[O:15])[CH2:6][CH2:5]2)(=[O:21])[CH3:19]',\n        1, ..., None, 'US07968746B2',\n        '6-Hydroxy-2,5,7,8-tetramethylchroman-2-carboxylic acid (5.0 g, 19.99 mmol) was dissolved in pyridine (18 mL) and Ac2O added (10 mL) in one portion. The exothermic reaction warmed to 40° C., was let cool to room temperature and stirred overnight. The crude reaction mixture was quenched with 100 mL H2O, stirred for 1 h followed by additional 100 mL H2O and 1 h of stirring. A fine white precipitate of 6-acetoxy-2,5,7,8-tetramethylchroman-2-carboxylic acid was formed and collected by filtration (4.544 g).'],\n       ['ord-d1adc6bb76454fb9b0b4a2f30a493858',\n        '[C:1]([O:4][C:5]1[C:6]([CH3:21])=[C:7]2[C:12](=[C:13]([CH3:16])[C:14]=1[CH3:15])[O:11][C:10]([C:18](Cl)=[O:19])([CH3:17])[CH2:9][CH2:8]2)(=[O:3])[CH3:2].C(N(C(C)C)CC)(C)C.[CH2:31]([NH2:37])[CH2:32][CH2:33][CH2:34][CH2:35][CH3:36].C(O)(=O)CC(CC(O)=O)(C(O)=O)O>C(Cl)Cl.CCOC(C)=O>[C:1]([O:4][C:5]1[C:6]([CH3:21])=[C:7]2[C:12](=[C:13]([CH3:16])[C:14]=1[CH3:15])[O:11][C:10]([C:18](=[O:19])[NH:37][CH2:31][CH2:32][CH2:33][CH2:34][CH2:35][CH3:36])([CH3:17])[CH2:9][CH2:8]2)(=[O:3])[CH3:2]',\n        None, ..., None, 'US07968746B2',\n        'To one of the above aliquots of crude 2-(chlorocarbonyl)-2,5,7,8-tetramethylchroman-6-yl acetate in 10 mL CH2Cl2 was added 1.0 mL diisopropylethylamine followed by 315 mg 1-hexylamine and overnight stirring. The reaction mixture was poured into 1.0 M citric acid and 50 mL EtOAc added. The organic layer was separated and purified by flash chromatography to give 781 mg of 2-(hexylcarbamoyl)-2,5,7,8-tetramethylchroman-6-yl acetate, as a clear syrup. MS (m/z): M+376.3']],\n      dtype=object)"
     },
     "execution_count": 14,
     "metadata": {},
     "output_type": "execute_result"
    }
   ],
   "source": [
    "arr"
   ],
   "metadata": {
    "collapsed": false
   }
  },
  {
   "cell_type": "code",
   "execution_count": 15,
   "outputs": [
    {
     "name": "stdout",
     "output_type": "stream",
     "text": [
      "CPU times: total: 0 ns\n",
      "Wall time: 999 µs\n"
     ]
    },
    {
     "data": {
      "text/plain": "                                                                             rxn_smiles time_unit time_val temp_unit temp_val temp_control      yield        patent                                              notes\nord-89aff4b1c18042e4bbb1f88ebba96f86  S(Cl)([Cl:3])=O.[CH2:5]([O:13][C:14]1[CH:22]=[...      None     None      None     None         None       None    US05723069  A large excess of thionyl chloride was added t...\nord-c218088b16c541088a933a7606f68c4c  [OH:1][C:2]1[CH:10]=[CH:9][C:5]([C:6]([OH:8])=...         4      1.0      None     None         None       None    US05723069  10 Grams of p-hydroxybenzoic acid and 15 g of ...\nord-d965967cbe69411f9fd760ac1f990dfb  F[C:2]1[CH:10]=[C:9]([OH:11])[CH:8]=[CH:7][C:3...      None     None      None     None         None       None    US05723069  p-Acetoxybenzoic acid was prepared in the same...\nord-e8642ae0ecb248809067cd131fde0eed  [NH2:1][C:2]1[CH:17]=[CH:16][C:5]([C:6]([NH:8]...         2     10.0         1     55.0         None  72.300003    US05723075  4,4'-Diaminobenzanilide (0.658 g, 2.5 mM) was ...\nord-83e2d9b7b08846c09e3e4e23f2dc9784  [NH2:1][C:2]1[CH:17]=[CH:16][C:5]([C:6]([NH:8]...         2     10.0         1     55.0         None  43.400002    US05723075  4,4'-Diaminobenzanilide (0.568 g, 2.5 mM) was ...\n...                                                                                 ...       ...      ...       ...      ...          ...        ...           ...                                                ...\nord-0ba13e40e6ab4628a543d7ac7faf6fdf  [CH3:1][N:2]([CH3:24])[CH2:3][CH2:4][NH:5][C:6...      None     None      None     None         None       None  US07968746B2  N-(2-(dimethylamino)ethyl)-2-hydroxy-2-methyl-...\nord-8fa3fc051e7f496593d7c7ba2a3aa564  [OH:1][C:2]1[C:3]([CH3:18])=[C:4]2[C:9](=[C:10...         1      2.0      None     None            2  78.099998  US07968746B2  6-Hydroxy-2,5,7,8-tetramethylchroman-2-carboxy...\nord-efddf5d225dc462db60c67a0306a9460  [OH:1][C:2]1[C:3]([CH3:23])=[C:4]2[C:9](=[C:10...         1      3.0      None     None            2       None  US07968746B2  A solution of 319 mg of (6-hydroxy-2,5,7,8-tet...\nord-dc172fbdf10e4ae893a012785f609af2  [OH:1][C:2]1[C:3]([CH3:18])=[C:4]2[C:9](=[C:10...         1      8.0         1     40.0         None       None  US07968746B2  6-Hydroxy-2,5,7,8-tetramethylchroman-2-carboxy...\nord-d1adc6bb76454fb9b0b4a2f30a493858  [C:1]([O:4][C:5]1[C:6]([CH3:21])=[C:7]2[C:12](...      None     None      None     None         None       None  US07968746B2  To one of the above aliquots of crude 2-(chlor...\n\n[1770543 rows x 9 columns]",
      "text/html": "<div>\n<style scoped>\n    .dataframe tbody tr th:only-of-type {\n        vertical-align: middle;\n    }\n\n    .dataframe tbody tr th {\n        vertical-align: top;\n    }\n\n    .dataframe thead th {\n        text-align: right;\n    }\n</style>\n<table border=\"1\" class=\"dataframe\">\n  <thead>\n    <tr style=\"text-align: right;\">\n      <th></th>\n      <th>rxn_smiles</th>\n      <th>time_unit</th>\n      <th>time_val</th>\n      <th>temp_unit</th>\n      <th>temp_val</th>\n      <th>temp_control</th>\n      <th>yield</th>\n      <th>patent</th>\n      <th>notes</th>\n    </tr>\n  </thead>\n  <tbody>\n    <tr>\n      <th>ord-89aff4b1c18042e4bbb1f88ebba96f86</th>\n      <td>S(Cl)([Cl:3])=O.[CH2:5]([O:13][C:14]1[CH:22]=[...</td>\n      <td>None</td>\n      <td>None</td>\n      <td>None</td>\n      <td>None</td>\n      <td>None</td>\n      <td>None</td>\n      <td>US05723069</td>\n      <td>A large excess of thionyl chloride was added t...</td>\n    </tr>\n    <tr>\n      <th>ord-c218088b16c541088a933a7606f68c4c</th>\n      <td>[OH:1][C:2]1[CH:10]=[CH:9][C:5]([C:6]([OH:8])=...</td>\n      <td>4</td>\n      <td>1.0</td>\n      <td>None</td>\n      <td>None</td>\n      <td>None</td>\n      <td>None</td>\n      <td>US05723069</td>\n      <td>10 Grams of p-hydroxybenzoic acid and 15 g of ...</td>\n    </tr>\n    <tr>\n      <th>ord-d965967cbe69411f9fd760ac1f990dfb</th>\n      <td>F[C:2]1[CH:10]=[C:9]([OH:11])[CH:8]=[CH:7][C:3...</td>\n      <td>None</td>\n      <td>None</td>\n      <td>None</td>\n      <td>None</td>\n      <td>None</td>\n      <td>None</td>\n      <td>US05723069</td>\n      <td>p-Acetoxybenzoic acid was prepared in the same...</td>\n    </tr>\n    <tr>\n      <th>ord-e8642ae0ecb248809067cd131fde0eed</th>\n      <td>[NH2:1][C:2]1[CH:17]=[CH:16][C:5]([C:6]([NH:8]...</td>\n      <td>2</td>\n      <td>10.0</td>\n      <td>1</td>\n      <td>55.0</td>\n      <td>None</td>\n      <td>72.300003</td>\n      <td>US05723075</td>\n      <td>4,4'-Diaminobenzanilide (0.658 g, 2.5 mM) was ...</td>\n    </tr>\n    <tr>\n      <th>ord-83e2d9b7b08846c09e3e4e23f2dc9784</th>\n      <td>[NH2:1][C:2]1[CH:17]=[CH:16][C:5]([C:6]([NH:8]...</td>\n      <td>2</td>\n      <td>10.0</td>\n      <td>1</td>\n      <td>55.0</td>\n      <td>None</td>\n      <td>43.400002</td>\n      <td>US05723075</td>\n      <td>4,4'-Diaminobenzanilide (0.568 g, 2.5 mM) was ...</td>\n    </tr>\n    <tr>\n      <th>...</th>\n      <td>...</td>\n      <td>...</td>\n      <td>...</td>\n      <td>...</td>\n      <td>...</td>\n      <td>...</td>\n      <td>...</td>\n      <td>...</td>\n      <td>...</td>\n    </tr>\n    <tr>\n      <th>ord-0ba13e40e6ab4628a543d7ac7faf6fdf</th>\n      <td>[CH3:1][N:2]([CH3:24])[CH2:3][CH2:4][NH:5][C:6...</td>\n      <td>None</td>\n      <td>None</td>\n      <td>None</td>\n      <td>None</td>\n      <td>None</td>\n      <td>None</td>\n      <td>US07968746B2</td>\n      <td>N-(2-(dimethylamino)ethyl)-2-hydroxy-2-methyl-...</td>\n    </tr>\n    <tr>\n      <th>ord-8fa3fc051e7f496593d7c7ba2a3aa564</th>\n      <td>[OH:1][C:2]1[C:3]([CH3:18])=[C:4]2[C:9](=[C:10...</td>\n      <td>1</td>\n      <td>2.0</td>\n      <td>None</td>\n      <td>None</td>\n      <td>2</td>\n      <td>78.099998</td>\n      <td>US07968746B2</td>\n      <td>6-Hydroxy-2,5,7,8-tetramethylchroman-2-carboxy...</td>\n    </tr>\n    <tr>\n      <th>ord-efddf5d225dc462db60c67a0306a9460</th>\n      <td>[OH:1][C:2]1[C:3]([CH3:23])=[C:4]2[C:9](=[C:10...</td>\n      <td>1</td>\n      <td>3.0</td>\n      <td>None</td>\n      <td>None</td>\n      <td>2</td>\n      <td>None</td>\n      <td>US07968746B2</td>\n      <td>A solution of 319 mg of (6-hydroxy-2,5,7,8-tet...</td>\n    </tr>\n    <tr>\n      <th>ord-dc172fbdf10e4ae893a012785f609af2</th>\n      <td>[OH:1][C:2]1[C:3]([CH3:18])=[C:4]2[C:9](=[C:10...</td>\n      <td>1</td>\n      <td>8.0</td>\n      <td>1</td>\n      <td>40.0</td>\n      <td>None</td>\n      <td>None</td>\n      <td>US07968746B2</td>\n      <td>6-Hydroxy-2,5,7,8-tetramethylchroman-2-carboxy...</td>\n    </tr>\n    <tr>\n      <th>ord-d1adc6bb76454fb9b0b4a2f30a493858</th>\n      <td>[C:1]([O:4][C:5]1[C:6]([CH3:21])=[C:7]2[C:12](...</td>\n      <td>None</td>\n      <td>None</td>\n      <td>None</td>\n      <td>None</td>\n      <td>None</td>\n      <td>None</td>\n      <td>US07968746B2</td>\n      <td>To one of the above aliquots of crude 2-(chlor...</td>\n    </tr>\n  </tbody>\n</table>\n<p>1770543 rows × 9 columns</p>\n</div>"
     },
     "execution_count": 15,
     "metadata": {},
     "output_type": "execute_result"
    }
   ],
   "source": [
    "%%time\n",
    "cols = ['rxn_smiles', 'time_unit', 'time_val', 'temp_unit', 'temp_val', 'temp_control', 'yield', 'patent', 'notes']\n",
    "df = pd.DataFrame(arr[:, 1:], columns = cols, index=arr[:, 0])\n",
    "df"
   ],
   "metadata": {
    "collapsed": false
   }
  },
  {
   "cell_type": "code",
   "execution_count": 16,
   "outputs": [
    {
     "name": "stdout",
     "output_type": "stream",
     "text": [
      "<class 'pandas.core.frame.DataFrame'>\n",
      "Index: 1770543 entries, ord-89aff4b1c18042e4bbb1f88ebba96f86 to ord-d1adc6bb76454fb9b0b4a2f30a493858\n",
      "Data columns (total 9 columns):\n",
      " #   Column        Dtype \n",
      "---  ------        ----- \n",
      " 0   rxn_smiles    object\n",
      " 1   time_unit     object\n",
      " 2   time_val      object\n",
      " 3   temp_unit     object\n",
      " 4   temp_val      object\n",
      " 5   temp_control  object\n",
      " 6   yield         object\n",
      " 7   patent        object\n",
      " 8   notes         object\n",
      "dtypes: object(9)\n",
      "memory usage: 135.1+ MB\n"
     ]
    }
   ],
   "source": [
    "df.info()"
   ],
   "metadata": {
    "collapsed": false
   }
  },
  {
   "cell_type": "code",
   "execution_count": 17,
   "outputs": [
    {
     "name": "stdout",
     "output_type": "stream",
     "text": [
      "<class 'pandas.core.frame.DataFrame'>\n",
      "Index: 1770543 entries, ord-89aff4b1c18042e4bbb1f88ebba96f86 to ord-d1adc6bb76454fb9b0b4a2f30a493858\n",
      "Data columns (total 9 columns):\n",
      " #   Column        Dtype   \n",
      "---  ------        -----   \n",
      " 0   rxn_smiles    object  \n",
      " 1   time_unit     category\n",
      " 2   time_val      float64 \n",
      " 3   temp_unit     category\n",
      " 4   temp_val      float64 \n",
      " 5   temp_control  category\n",
      " 6   yield         float64 \n",
      " 7   patent        category\n",
      " 8   notes         object  \n",
      "dtypes: category(4), float64(3), object(2)\n",
      "memory usage: 97.9+ MB\n",
      "CPU times: total: 1.97 s\n",
      "Wall time: 1.96 s\n"
     ]
    }
   ],
   "source": [
    "%%time\n",
    "numerical = ['time_val', 'temp_val', 'yield']\n",
    "categorical = ['time_unit', 'temp_unit', 'temp_control', 'patent']\n",
    "\n",
    "for col in numerical:\n",
    "    df[col] = df[col].astype(float)\n",
    "\n",
    "for col in categorical:\n",
    "    df[col] = df[col].astype('category')\n",
    "\n",
    "df.info()"
   ],
   "metadata": {
    "collapsed": false
   }
  },
  {
   "cell_type": "code",
   "execution_count": 18,
   "outputs": [
    {
     "data": {
      "text/plain": "                                                                             rxn_smiles time_unit  time_val temp_unit  temp_val temp_control      yield        patent                                              notes\nord-89aff4b1c18042e4bbb1f88ebba96f86  S(Cl)([Cl:3])=O.[CH2:5]([O:13][C:14]1[CH:22]=[...       NaN       NaN       NaN       NaN          NaN        NaN    US05723069  A large excess of thionyl chloride was added t...\nord-c218088b16c541088a933a7606f68c4c  [OH:1][C:2]1[CH:10]=[CH:9][C:5]([C:6]([OH:8])=...         4       1.0       NaN       NaN          NaN        NaN    US05723069  10 Grams of p-hydroxybenzoic acid and 15 g of ...\nord-d965967cbe69411f9fd760ac1f990dfb  F[C:2]1[CH:10]=[C:9]([OH:11])[CH:8]=[CH:7][C:3...       NaN       NaN       NaN       NaN          NaN        NaN    US05723069  p-Acetoxybenzoic acid was prepared in the same...\nord-e8642ae0ecb248809067cd131fde0eed  [NH2:1][C:2]1[CH:17]=[CH:16][C:5]([C:6]([NH:8]...         2      10.0         1      55.0          NaN  72.300003    US05723075  4,4'-Diaminobenzanilide (0.658 g, 2.5 mM) was ...\nord-83e2d9b7b08846c09e3e4e23f2dc9784  [NH2:1][C:2]1[CH:17]=[CH:16][C:5]([C:6]([NH:8]...         2      10.0         1      55.0          NaN  43.400002    US05723075  4,4'-Diaminobenzanilide (0.568 g, 2.5 mM) was ...\n...                                                                                 ...       ...       ...       ...       ...          ...        ...           ...                                                ...\nord-0ba13e40e6ab4628a543d7ac7faf6fdf  [CH3:1][N:2]([CH3:24])[CH2:3][CH2:4][NH:5][C:6...       NaN       NaN       NaN       NaN          NaN        NaN  US07968746B2  N-(2-(dimethylamino)ethyl)-2-hydroxy-2-methyl-...\nord-8fa3fc051e7f496593d7c7ba2a3aa564  [OH:1][C:2]1[C:3]([CH3:18])=[C:4]2[C:9](=[C:10...         1       2.0       NaN       NaN            2  78.099998  US07968746B2  6-Hydroxy-2,5,7,8-tetramethylchroman-2-carboxy...\nord-efddf5d225dc462db60c67a0306a9460  [OH:1][C:2]1[C:3]([CH3:23])=[C:4]2[C:9](=[C:10...         1       3.0       NaN       NaN            2        NaN  US07968746B2  A solution of 319 mg of (6-hydroxy-2,5,7,8-tet...\nord-dc172fbdf10e4ae893a012785f609af2  [OH:1][C:2]1[C:3]([CH3:18])=[C:4]2[C:9](=[C:10...         1       8.0         1      40.0          NaN        NaN  US07968746B2  6-Hydroxy-2,5,7,8-tetramethylchroman-2-carboxy...\nord-d1adc6bb76454fb9b0b4a2f30a493858  [C:1]([O:4][C:5]1[C:6]([CH3:21])=[C:7]2[C:12](...       NaN       NaN       NaN       NaN          NaN        NaN  US07968746B2  To one of the above aliquots of crude 2-(chlor...\n\n[1770543 rows x 9 columns]",
      "text/html": "<div>\n<style scoped>\n    .dataframe tbody tr th:only-of-type {\n        vertical-align: middle;\n    }\n\n    .dataframe tbody tr th {\n        vertical-align: top;\n    }\n\n    .dataframe thead th {\n        text-align: right;\n    }\n</style>\n<table border=\"1\" class=\"dataframe\">\n  <thead>\n    <tr style=\"text-align: right;\">\n      <th></th>\n      <th>rxn_smiles</th>\n      <th>time_unit</th>\n      <th>time_val</th>\n      <th>temp_unit</th>\n      <th>temp_val</th>\n      <th>temp_control</th>\n      <th>yield</th>\n      <th>patent</th>\n      <th>notes</th>\n    </tr>\n  </thead>\n  <tbody>\n    <tr>\n      <th>ord-89aff4b1c18042e4bbb1f88ebba96f86</th>\n      <td>S(Cl)([Cl:3])=O.[CH2:5]([O:13][C:14]1[CH:22]=[...</td>\n      <td>NaN</td>\n      <td>NaN</td>\n      <td>NaN</td>\n      <td>NaN</td>\n      <td>NaN</td>\n      <td>NaN</td>\n      <td>US05723069</td>\n      <td>A large excess of thionyl chloride was added t...</td>\n    </tr>\n    <tr>\n      <th>ord-c218088b16c541088a933a7606f68c4c</th>\n      <td>[OH:1][C:2]1[CH:10]=[CH:9][C:5]([C:6]([OH:8])=...</td>\n      <td>4</td>\n      <td>1.0</td>\n      <td>NaN</td>\n      <td>NaN</td>\n      <td>NaN</td>\n      <td>NaN</td>\n      <td>US05723069</td>\n      <td>10 Grams of p-hydroxybenzoic acid and 15 g of ...</td>\n    </tr>\n    <tr>\n      <th>ord-d965967cbe69411f9fd760ac1f990dfb</th>\n      <td>F[C:2]1[CH:10]=[C:9]([OH:11])[CH:8]=[CH:7][C:3...</td>\n      <td>NaN</td>\n      <td>NaN</td>\n      <td>NaN</td>\n      <td>NaN</td>\n      <td>NaN</td>\n      <td>NaN</td>\n      <td>US05723069</td>\n      <td>p-Acetoxybenzoic acid was prepared in the same...</td>\n    </tr>\n    <tr>\n      <th>ord-e8642ae0ecb248809067cd131fde0eed</th>\n      <td>[NH2:1][C:2]1[CH:17]=[CH:16][C:5]([C:6]([NH:8]...</td>\n      <td>2</td>\n      <td>10.0</td>\n      <td>1</td>\n      <td>55.0</td>\n      <td>NaN</td>\n      <td>72.300003</td>\n      <td>US05723075</td>\n      <td>4,4'-Diaminobenzanilide (0.658 g, 2.5 mM) was ...</td>\n    </tr>\n    <tr>\n      <th>ord-83e2d9b7b08846c09e3e4e23f2dc9784</th>\n      <td>[NH2:1][C:2]1[CH:17]=[CH:16][C:5]([C:6]([NH:8]...</td>\n      <td>2</td>\n      <td>10.0</td>\n      <td>1</td>\n      <td>55.0</td>\n      <td>NaN</td>\n      <td>43.400002</td>\n      <td>US05723075</td>\n      <td>4,4'-Diaminobenzanilide (0.568 g, 2.5 mM) was ...</td>\n    </tr>\n    <tr>\n      <th>...</th>\n      <td>...</td>\n      <td>...</td>\n      <td>...</td>\n      <td>...</td>\n      <td>...</td>\n      <td>...</td>\n      <td>...</td>\n      <td>...</td>\n      <td>...</td>\n    </tr>\n    <tr>\n      <th>ord-0ba13e40e6ab4628a543d7ac7faf6fdf</th>\n      <td>[CH3:1][N:2]([CH3:24])[CH2:3][CH2:4][NH:5][C:6...</td>\n      <td>NaN</td>\n      <td>NaN</td>\n      <td>NaN</td>\n      <td>NaN</td>\n      <td>NaN</td>\n      <td>NaN</td>\n      <td>US07968746B2</td>\n      <td>N-(2-(dimethylamino)ethyl)-2-hydroxy-2-methyl-...</td>\n    </tr>\n    <tr>\n      <th>ord-8fa3fc051e7f496593d7c7ba2a3aa564</th>\n      <td>[OH:1][C:2]1[C:3]([CH3:18])=[C:4]2[C:9](=[C:10...</td>\n      <td>1</td>\n      <td>2.0</td>\n      <td>NaN</td>\n      <td>NaN</td>\n      <td>2</td>\n      <td>78.099998</td>\n      <td>US07968746B2</td>\n      <td>6-Hydroxy-2,5,7,8-tetramethylchroman-2-carboxy...</td>\n    </tr>\n    <tr>\n      <th>ord-efddf5d225dc462db60c67a0306a9460</th>\n      <td>[OH:1][C:2]1[C:3]([CH3:23])=[C:4]2[C:9](=[C:10...</td>\n      <td>1</td>\n      <td>3.0</td>\n      <td>NaN</td>\n      <td>NaN</td>\n      <td>2</td>\n      <td>NaN</td>\n      <td>US07968746B2</td>\n      <td>A solution of 319 mg of (6-hydroxy-2,5,7,8-tet...</td>\n    </tr>\n    <tr>\n      <th>ord-dc172fbdf10e4ae893a012785f609af2</th>\n      <td>[OH:1][C:2]1[C:3]([CH3:18])=[C:4]2[C:9](=[C:10...</td>\n      <td>1</td>\n      <td>8.0</td>\n      <td>1</td>\n      <td>40.0</td>\n      <td>NaN</td>\n      <td>NaN</td>\n      <td>US07968746B2</td>\n      <td>6-Hydroxy-2,5,7,8-tetramethylchroman-2-carboxy...</td>\n    </tr>\n    <tr>\n      <th>ord-d1adc6bb76454fb9b0b4a2f30a493858</th>\n      <td>[C:1]([O:4][C:5]1[C:6]([CH3:21])=[C:7]2[C:12](...</td>\n      <td>NaN</td>\n      <td>NaN</td>\n      <td>NaN</td>\n      <td>NaN</td>\n      <td>NaN</td>\n      <td>NaN</td>\n      <td>US07968746B2</td>\n      <td>To one of the above aliquots of crude 2-(chlor...</td>\n    </tr>\n  </tbody>\n</table>\n<p>1770543 rows × 9 columns</p>\n</div>"
     },
     "execution_count": 18,
     "metadata": {},
     "output_type": "execute_result"
    }
   ],
   "source": [
    "df"
   ],
   "metadata": {
    "collapsed": false
   }
  },
  {
   "cell_type": "code",
   "execution_count": 19,
   "outputs": [
    {
     "data": {
      "text/plain": "ord-89aff4b1c18042e4bbb1f88ebba96f86       NaN\nord-c218088b16c541088a933a7606f68c4c       DAY\nord-d965967cbe69411f9fd760ac1f990dfb       NaN\nord-e8642ae0ecb248809067cd131fde0eed    MINUTE\nord-83e2d9b7b08846c09e3e4e23f2dc9784    MINUTE\n                                         ...  \nord-0ba13e40e6ab4628a543d7ac7faf6fdf       NaN\nord-8fa3fc051e7f496593d7c7ba2a3aa564      HOUR\nord-efddf5d225dc462db60c67a0306a9460      HOUR\nord-dc172fbdf10e4ae893a012785f609af2      HOUR\nord-d1adc6bb76454fb9b0b4a2f30a493858       NaN\nName: time_unit, Length: 1770543, dtype: category\nCategories (4, object): ['HOUR', 'MINUTE', 'SECOND', 'DAY']"
     },
     "execution_count": 19,
     "metadata": {},
     "output_type": "execute_result"
    }
   ],
   "source": [
    "\"\"\"\n",
    "Definition from reaction.proto\n",
    "\n",
    "enum TimeUnit {\n",
    "UNSPECIFIED = 0;\n",
    "DAY = 4;\n",
    "HOUR = 1;\n",
    "MINUTE = 2;\n",
    "SECOND = 3;\n",
    "}\n",
    "\"\"\"\n",
    "\n",
    "time_unit_map = {\n",
    "    0: 'UNSPECIFIED',\n",
    "    4: 'DAY',\n",
    "    1: 'HOUR',\n",
    "    2: 'MINUTE',\n",
    "    3: 'SECOND'\n",
    "}\n",
    "\n",
    "# df.time_unit = df.time_unit.map(time_unit_map)\n",
    "df['time_unit'] = df.time_unit.map(time_unit_map)\n",
    "df.time_unit"
   ],
   "metadata": {
    "collapsed": false
   }
  },
  {
   "cell_type": "code",
   "execution_count": 20,
   "outputs": [
    {
     "data": {
      "text/plain": "ord-89aff4b1c18042e4bbb1f88ebba96f86        NaN\nord-c218088b16c541088a933a7606f68c4c        NaN\nord-d965967cbe69411f9fd760ac1f990dfb        NaN\nord-e8642ae0ecb248809067cd131fde0eed    CELSIUS\nord-83e2d9b7b08846c09e3e4e23f2dc9784    CELSIUS\n                                         ...   \nord-0ba13e40e6ab4628a543d7ac7faf6fdf        NaN\nord-8fa3fc051e7f496593d7c7ba2a3aa564        NaN\nord-efddf5d225dc462db60c67a0306a9460        NaN\nord-dc172fbdf10e4ae893a012785f609af2    CELSIUS\nord-d1adc6bb76454fb9b0b4a2f30a493858        NaN\nName: temp_unit, Length: 1770543, dtype: category\nCategories (3, object): ['CELSIUS', 'FAHRENHEIT', 'KELVIN']"
     },
     "execution_count": 20,
     "metadata": {},
     "output_type": "execute_result"
    }
   ],
   "source": [
    "\"\"\"\n",
    "Definition from reaction.proto\n",
    "\n",
    "  enum TemperatureUnit {\n",
    "    UNSPECIFIED = 0;\n",
    "    CELSIUS = 1;\n",
    "    FAHRENHEIT = 2;\n",
    "    KELVIN = 3;\n",
    "  }\n",
    "\n",
    "\"\"\"\n",
    "temp_unit_map = {\n",
    "    0: \"UNSPECIFIED\",\n",
    "    1: \"CELSIUS\",\n",
    "    2: \"FAHRENHEIT\",\n",
    "    3: \"KELVIN\"\n",
    "}\n",
    "df['temp_unit'] = df.temp_unit.map(temp_unit_map)\n",
    "df.temp_unit"
   ],
   "metadata": {
    "collapsed": false
   }
  },
  {
   "cell_type": "code",
   "execution_count": 21,
   "outputs": [
    {
     "data": {
      "text/plain": "ord-89aff4b1c18042e4bbb1f88ebba96f86        NaN\nord-c218088b16c541088a933a7606f68c4c        NaN\nord-d965967cbe69411f9fd760ac1f990dfb        NaN\nord-e8642ae0ecb248809067cd131fde0eed        NaN\nord-83e2d9b7b08846c09e3e4e23f2dc9784        NaN\n                                         ...   \nord-0ba13e40e6ab4628a543d7ac7faf6fdf        NaN\nord-8fa3fc051e7f496593d7c7ba2a3aa564    AMBIENT\nord-efddf5d225dc462db60c67a0306a9460    AMBIENT\nord-dc172fbdf10e4ae893a012785f609af2        NaN\nord-d1adc6bb76454fb9b0b4a2f30a493858        NaN\nName: temp_control, Length: 1770543, dtype: category\nCategories (1, object): ['AMBIENT']"
     },
     "execution_count": 21,
     "metadata": {},
     "output_type": "execute_result"
    }
   ],
   "source": [
    "\"\"\"\n",
    "Definition from reaction.proto\n",
    "\n",
    "enum TemperatureControlType {\n",
    "  UNSPECIFIED = 0;\n",
    "  CUSTOM = 1;\n",
    "  AMBIENT = 2;\n",
    "  OIL_BATH = 3;\n",
    "  WATER_BATH = 4;\n",
    "  SAND_BATH = 5;\n",
    "  ICE_BATH = 6;\n",
    "  DRY_ALUMINUM_PLATE = 7;\n",
    "  MICROWAVE = 8;\n",
    "  DRY_ICE_BATH = 9;\n",
    "  AIR_FAN = 10;\n",
    "  LIQUID_NITROGEN = 11;\n",
    "}\n",
    "\"\"\"\n",
    "\n",
    "temp_control_map = {\n",
    "    0: 'UNSPECIFIED',\n",
    "    1: 'CUSTOM',\n",
    "    2: 'AMBIENT',\n",
    "    3: 'OIL_BATH',\n",
    "    4: 'WATER_BATH',\n",
    "    5: 'SAND_BATH',\n",
    "    6: 'ICE_BATH',\n",
    "    7: 'DRY_ALUMINUM_PLATE',\n",
    "    8: 'MICROWAVE',\n",
    "    9: 'DRY_ICE_BATH',\n",
    "    10: 'AIR_FAN',\n",
    "    11: 'LIQUID_NITROGEN',\n",
    "}\n",
    "df['temp_control'] = df.temp_control.map(temp_control_map)\n",
    "df.temp_control"
   ],
   "metadata": {
    "collapsed": false
   }
  },
  {
   "cell_type": "code",
   "execution_count": 22,
   "outputs": [
    {
     "name": "stdout",
     "output_type": "stream",
     "text": [
      "<class 'pandas.core.frame.DataFrame'>\n",
      "Index: 1770543 entries, ord-89aff4b1c18042e4bbb1f88ebba96f86 to ord-d1adc6bb76454fb9b0b4a2f30a493858\n",
      "Data columns (total 9 columns):\n",
      " #   Column        Dtype   \n",
      "---  ------        -----   \n",
      " 0   rxn_smiles    object  \n",
      " 1   time_unit     category\n",
      " 2   time_val      float64 \n",
      " 3   temp_unit     category\n",
      " 4   temp_val      float64 \n",
      " 5   temp_control  category\n",
      " 6   yield         float64 \n",
      " 7   patent        category\n",
      " 8   notes         object  \n",
      "dtypes: category(4), float64(3), object(2)\n",
      "memory usage: 162.4+ MB\n"
     ]
    }
   ],
   "source": [
    "df.info()"
   ],
   "metadata": {
    "collapsed": false
   }
  },
  {
   "cell_type": "code",
   "execution_count": 23,
   "outputs": [
    {
     "data": {
      "text/plain": "                                                                             rxn_smiles time_unit  time_val temp_unit  temp_val temp_control      yield        patent                                              notes\nord-89aff4b1c18042e4bbb1f88ebba96f86  S(Cl)([Cl:3])=O.[CH2:5]([O:13][C:14]1[CH:22]=[...       NaN       NaN       NaN       NaN          NaN        NaN    US05723069  A large excess of thionyl chloride was added t...\nord-c218088b16c541088a933a7606f68c4c  [OH:1][C:2]1[CH:10]=[CH:9][C:5]([C:6]([OH:8])=...       DAY       1.0       NaN       NaN          NaN        NaN    US05723069  10 Grams of p-hydroxybenzoic acid and 15 g of ...\nord-d965967cbe69411f9fd760ac1f990dfb  F[C:2]1[CH:10]=[C:9]([OH:11])[CH:8]=[CH:7][C:3...       NaN       NaN       NaN       NaN          NaN        NaN    US05723069  p-Acetoxybenzoic acid was prepared in the same...\nord-e8642ae0ecb248809067cd131fde0eed  [NH2:1][C:2]1[CH:17]=[CH:16][C:5]([C:6]([NH:8]...    MINUTE      10.0   CELSIUS      55.0          NaN  72.300003    US05723075  4,4'-Diaminobenzanilide (0.658 g, 2.5 mM) was ...\nord-83e2d9b7b08846c09e3e4e23f2dc9784  [NH2:1][C:2]1[CH:17]=[CH:16][C:5]([C:6]([NH:8]...    MINUTE      10.0   CELSIUS      55.0          NaN  43.400002    US05723075  4,4'-Diaminobenzanilide (0.568 g, 2.5 mM) was ...\n...                                                                                 ...       ...       ...       ...       ...          ...        ...           ...                                                ...\nord-0ba13e40e6ab4628a543d7ac7faf6fdf  [CH3:1][N:2]([CH3:24])[CH2:3][CH2:4][NH:5][C:6...       NaN       NaN       NaN       NaN          NaN        NaN  US07968746B2  N-(2-(dimethylamino)ethyl)-2-hydroxy-2-methyl-...\nord-8fa3fc051e7f496593d7c7ba2a3aa564  [OH:1][C:2]1[C:3]([CH3:18])=[C:4]2[C:9](=[C:10...      HOUR       2.0       NaN       NaN      AMBIENT  78.099998  US07968746B2  6-Hydroxy-2,5,7,8-tetramethylchroman-2-carboxy...\nord-efddf5d225dc462db60c67a0306a9460  [OH:1][C:2]1[C:3]([CH3:23])=[C:4]2[C:9](=[C:10...      HOUR       3.0       NaN       NaN      AMBIENT        NaN  US07968746B2  A solution of 319 mg of (6-hydroxy-2,5,7,8-tet...\nord-dc172fbdf10e4ae893a012785f609af2  [OH:1][C:2]1[C:3]([CH3:18])=[C:4]2[C:9](=[C:10...      HOUR       8.0   CELSIUS      40.0          NaN        NaN  US07968746B2  6-Hydroxy-2,5,7,8-tetramethylchroman-2-carboxy...\nord-d1adc6bb76454fb9b0b4a2f30a493858  [C:1]([O:4][C:5]1[C:6]([CH3:21])=[C:7]2[C:12](...       NaN       NaN       NaN       NaN          NaN        NaN  US07968746B2  To one of the above aliquots of crude 2-(chlor...\n\n[1770543 rows x 9 columns]",
      "text/html": "<div>\n<style scoped>\n    .dataframe tbody tr th:only-of-type {\n        vertical-align: middle;\n    }\n\n    .dataframe tbody tr th {\n        vertical-align: top;\n    }\n\n    .dataframe thead th {\n        text-align: right;\n    }\n</style>\n<table border=\"1\" class=\"dataframe\">\n  <thead>\n    <tr style=\"text-align: right;\">\n      <th></th>\n      <th>rxn_smiles</th>\n      <th>time_unit</th>\n      <th>time_val</th>\n      <th>temp_unit</th>\n      <th>temp_val</th>\n      <th>temp_control</th>\n      <th>yield</th>\n      <th>patent</th>\n      <th>notes</th>\n    </tr>\n  </thead>\n  <tbody>\n    <tr>\n      <th>ord-89aff4b1c18042e4bbb1f88ebba96f86</th>\n      <td>S(Cl)([Cl:3])=O.[CH2:5]([O:13][C:14]1[CH:22]=[...</td>\n      <td>NaN</td>\n      <td>NaN</td>\n      <td>NaN</td>\n      <td>NaN</td>\n      <td>NaN</td>\n      <td>NaN</td>\n      <td>US05723069</td>\n      <td>A large excess of thionyl chloride was added t...</td>\n    </tr>\n    <tr>\n      <th>ord-c218088b16c541088a933a7606f68c4c</th>\n      <td>[OH:1][C:2]1[CH:10]=[CH:9][C:5]([C:6]([OH:8])=...</td>\n      <td>DAY</td>\n      <td>1.0</td>\n      <td>NaN</td>\n      <td>NaN</td>\n      <td>NaN</td>\n      <td>NaN</td>\n      <td>US05723069</td>\n      <td>10 Grams of p-hydroxybenzoic acid and 15 g of ...</td>\n    </tr>\n    <tr>\n      <th>ord-d965967cbe69411f9fd760ac1f990dfb</th>\n      <td>F[C:2]1[CH:10]=[C:9]([OH:11])[CH:8]=[CH:7][C:3...</td>\n      <td>NaN</td>\n      <td>NaN</td>\n      <td>NaN</td>\n      <td>NaN</td>\n      <td>NaN</td>\n      <td>NaN</td>\n      <td>US05723069</td>\n      <td>p-Acetoxybenzoic acid was prepared in the same...</td>\n    </tr>\n    <tr>\n      <th>ord-e8642ae0ecb248809067cd131fde0eed</th>\n      <td>[NH2:1][C:2]1[CH:17]=[CH:16][C:5]([C:6]([NH:8]...</td>\n      <td>MINUTE</td>\n      <td>10.0</td>\n      <td>CELSIUS</td>\n      <td>55.0</td>\n      <td>NaN</td>\n      <td>72.300003</td>\n      <td>US05723075</td>\n      <td>4,4'-Diaminobenzanilide (0.658 g, 2.5 mM) was ...</td>\n    </tr>\n    <tr>\n      <th>ord-83e2d9b7b08846c09e3e4e23f2dc9784</th>\n      <td>[NH2:1][C:2]1[CH:17]=[CH:16][C:5]([C:6]([NH:8]...</td>\n      <td>MINUTE</td>\n      <td>10.0</td>\n      <td>CELSIUS</td>\n      <td>55.0</td>\n      <td>NaN</td>\n      <td>43.400002</td>\n      <td>US05723075</td>\n      <td>4,4'-Diaminobenzanilide (0.568 g, 2.5 mM) was ...</td>\n    </tr>\n    <tr>\n      <th>...</th>\n      <td>...</td>\n      <td>...</td>\n      <td>...</td>\n      <td>...</td>\n      <td>...</td>\n      <td>...</td>\n      <td>...</td>\n      <td>...</td>\n      <td>...</td>\n    </tr>\n    <tr>\n      <th>ord-0ba13e40e6ab4628a543d7ac7faf6fdf</th>\n      <td>[CH3:1][N:2]([CH3:24])[CH2:3][CH2:4][NH:5][C:6...</td>\n      <td>NaN</td>\n      <td>NaN</td>\n      <td>NaN</td>\n      <td>NaN</td>\n      <td>NaN</td>\n      <td>NaN</td>\n      <td>US07968746B2</td>\n      <td>N-(2-(dimethylamino)ethyl)-2-hydroxy-2-methyl-...</td>\n    </tr>\n    <tr>\n      <th>ord-8fa3fc051e7f496593d7c7ba2a3aa564</th>\n      <td>[OH:1][C:2]1[C:3]([CH3:18])=[C:4]2[C:9](=[C:10...</td>\n      <td>HOUR</td>\n      <td>2.0</td>\n      <td>NaN</td>\n      <td>NaN</td>\n      <td>AMBIENT</td>\n      <td>78.099998</td>\n      <td>US07968746B2</td>\n      <td>6-Hydroxy-2,5,7,8-tetramethylchroman-2-carboxy...</td>\n    </tr>\n    <tr>\n      <th>ord-efddf5d225dc462db60c67a0306a9460</th>\n      <td>[OH:1][C:2]1[C:3]([CH3:23])=[C:4]2[C:9](=[C:10...</td>\n      <td>HOUR</td>\n      <td>3.0</td>\n      <td>NaN</td>\n      <td>NaN</td>\n      <td>AMBIENT</td>\n      <td>NaN</td>\n      <td>US07968746B2</td>\n      <td>A solution of 319 mg of (6-hydroxy-2,5,7,8-tet...</td>\n    </tr>\n    <tr>\n      <th>ord-dc172fbdf10e4ae893a012785f609af2</th>\n      <td>[OH:1][C:2]1[C:3]([CH3:18])=[C:4]2[C:9](=[C:10...</td>\n      <td>HOUR</td>\n      <td>8.0</td>\n      <td>CELSIUS</td>\n      <td>40.0</td>\n      <td>NaN</td>\n      <td>NaN</td>\n      <td>US07968746B2</td>\n      <td>6-Hydroxy-2,5,7,8-tetramethylchroman-2-carboxy...</td>\n    </tr>\n    <tr>\n      <th>ord-d1adc6bb76454fb9b0b4a2f30a493858</th>\n      <td>[C:1]([O:4][C:5]1[C:6]([CH3:21])=[C:7]2[C:12](...</td>\n      <td>NaN</td>\n      <td>NaN</td>\n      <td>NaN</td>\n      <td>NaN</td>\n      <td>NaN</td>\n      <td>NaN</td>\n      <td>US07968746B2</td>\n      <td>To one of the above aliquots of crude 2-(chlor...</td>\n    </tr>\n  </tbody>\n</table>\n<p>1770543 rows × 9 columns</p>\n</div>"
     },
     "execution_count": 23,
     "metadata": {},
     "output_type": "execute_result"
    }
   ],
   "source": [
    "df"
   ],
   "metadata": {
    "collapsed": false
   }
  },
  {
   "cell_type": "code",
   "execution_count": 24,
   "outputs": [
    {
     "name": "stdout",
     "output_type": "stream",
     "text": [
      "CPU times: total: 10.2 s\n",
      "Wall time: 10.2 s\n"
     ]
    }
   ],
   "source": [
    "%%time\n",
    "df.to_pickle(f\"{ORD_PATH}/uspto_rxn.pkl.zst\")"
   ],
   "metadata": {
    "collapsed": false
   }
  }
 ],
 "metadata": {
  "kernelspec": {
   "display_name": "Python 3",
   "language": "python",
   "name": "python3"
  },
  "language_info": {
   "codemirror_mode": {
    "name": "ipython",
    "version": 2
   },
   "file_extension": ".py",
   "mimetype": "text/x-python",
   "name": "python",
   "nbconvert_exporter": "python",
   "pygments_lexer": "ipython2",
   "version": "2.7.6"
  }
 },
 "nbformat": 4,
 "nbformat_minor": 0
}
