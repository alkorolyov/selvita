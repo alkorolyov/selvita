{
 "cells": [
  {
   "cell_type": "code",
   "execution_count": 5,
   "metadata": {
    "collapsed": true
   },
   "outputs": [
    {
     "name": "stdout",
     "output_type": "stream",
     "text": [
      "The autoreload extension is already loaded. To reload it, use:\n",
      "  %reload_ext autoreload\n"
     ]
    }
   ],
   "source": [
    "import random\n",
    "from glob import glob\n",
    "from time import time\n",
    "from typing import Union\n",
    "\n",
    "import pandas as pd\n",
    "import numpy as np\n",
    "from ord_data_load import ORD_PATH, ORD_REPO_PATH, load_dataset, fahrenheit_to_celsius\n",
    "\n",
    "pd.set_option('display.max_rows', 500)\n",
    "pd.set_option('display.max_columns', 500)\n",
    "pd.set_option('display.width', 1000)\n",
    "\n",
    "#to disable warnings\n",
    "from rdkit import RDLogger\n",
    "RDLogger.DisableLog('rdApp.*')\n",
    "\n",
    "\n",
    "import os\n",
    "import multiprocessing as mp\n",
    "import gzip\n",
    "from google import protobuf\n",
    "\n",
    "from ord_schema import message_helpers\n",
    "from ord_schema.proto import dataset_pb2\n",
    "from ord_schema.proto import reaction_pb2\n",
    "\n",
    "from time import time\n",
    "from ord_data_load import load_dataset, filter_uspto_filenames\n",
    "\n",
    "%load_ext autoreload\n",
    "%autoreload 2"
   ]
  },
  {
   "cell_type": "code",
   "execution_count": 2,
   "outputs": [
    {
     "name": "stdout",
     "output_type": "stream",
     "text": [
      "uspto_files.csv already exists ... loading\n",
      "CPU times: total: 15.6 ms\n",
      "Wall time: 10 ms\n"
     ]
    }
   ],
   "source": [
    "%%time\n",
    "\n",
    "if os.path.exists(f\"{ORD_PATH}/uspto_files.csv\"):\n",
    "    print(\"uspto_files.csv already exists ... loading\")\n",
    "    uspto_files = pd.read_csv(f\"{ORD_PATH}/uspto_files.csv\").squeeze()\n",
    "else:\n",
    "    print(\"extracting uspto filenames ... \", end=\"\")\n",
    "    n_cores = 24\n",
    "    with mp.Pool(n_cores) as p:\n",
    "        uspto_filenames = p.map(filter_uspto_filenames, glob(f'{ORD_REPO_PATH}/data/*/*.pb.gz'))\n",
    "\n",
    "    # save results\n",
    "    uspto_files = pd.Series(uspto_filenames).dropna()\n",
    "    uspto_files.to_csv(f\"{ORD_PATH}/uspto_files.csv\", index=False)\n",
    "    print(\"saved to uspto_files.csv\")"
   ],
   "metadata": {
    "collapsed": false
   }
  },
  {
   "cell_type": "code",
   "execution_count": 432,
   "outputs": [
    {
     "data": {
      "text/plain": "control {\n  type: AMBIENT\n}"
     },
     "execution_count": 432,
     "metadata": {},
     "output_type": "execute_result"
    }
   ],
   "source": [
    "dataset = load_dataset(random.choice(uspto_files))\n",
    "rxn = random.choice(dataset.reactions)\n",
    "\n",
    "# rxn.conditions\n",
    "rxn.conditions.temperature"
   ],
   "metadata": {
    "collapsed": false
   }
  },
  {
   "cell_type": "code",
   "execution_count": 151,
   "outputs": [
    {
     "data": {
      "text/plain": "(0.0, 0)"
     },
     "execution_count": 151,
     "metadata": {},
     "output_type": "execute_result"
    }
   ],
   "source": [
    "# rxn.conditions.temperature.control - AMBIENT\n",
    "# rxn.conditions.temperature.setpoint.value, rxn.conditions.temperature.setpoint.units"
   ],
   "metadata": {
    "collapsed": false
   }
  },
  {
   "cell_type": "code",
   "execution_count": 183,
   "outputs": [
    {
     "data": {
      "text/plain": "'This material was prepared in 52.7% yield from 0.06 mol of LDA and 0.024 mol of product of Example 6 according to the following general procedure as a beige solid, mp 115°-117° C. To a -78° C. solution of 2.5 eq (0.06 mol) of LDA in DME was added a solution of 1 eq (0.024 mol) of starting material, the monocarboxylate product (Example 6) in dry DME. The resulting dark colored solution was stirred for 30 minutes at -78° C. To the above solution was added excess of dry ice. The reaction mixture was stirred at -78° C. for 15 minutes and warmed to room temperature in 1 hour. The reaction mixture was poured into ice water (100 ml) and extracted with ether. The aqueous layer was made acidic. The oil precipitate was extracted with ether. The ether extract was dried (MgSO4) and concentrated in vacuo to give the desired product.'"
     },
     "execution_count": 183,
     "metadata": {},
     "output_type": "execute_result"
    }
   ],
   "source": [
    "rxn.notes.procedure_details"
   ],
   "metadata": {
    "collapsed": false
   }
  },
  {
   "cell_type": "code",
   "execution_count": 372,
   "outputs": [
    {
     "data": {
      "text/plain": ""
     },
     "execution_count": 372,
     "metadata": {},
     "output_type": "execute_result"
    }
   ],
   "source": [
    "rxn.provenance.patent\n",
    "rxn.reaction_id\n",
    "rxn.identifiers[0].value # smiles\n",
    "rxn.notes.procedure_details # notes\n",
    "rxn.conditions.temperature.control #AMBIENT\n",
    "rxn.conditions.temperature.setpoint\n",
    "rxn.outcomes[0].reaction_time #time"
   ],
   "metadata": {
    "collapsed": false
   }
  },
  {
   "cell_type": "code",
   "execution_count": 368,
   "outputs": [
    {
     "data": {
      "text/plain": ""
     },
     "execution_count": 368,
     "metadata": {},
     "output_type": "execute_result"
    }
   ],
   "source": [
    "rxn.conditions.temperature.control"
   ],
   "metadata": {
    "collapsed": false
   }
  },
  {
   "cell_type": "code",
   "execution_count": 303,
   "outputs": [
    {
     "name": "stdout",
     "output_type": "stream",
     "text": [
      "19.0\n",
      "PERCENTYIELD\n",
      "19.200000762939453\n",
      "CALCULATEDPERCENTYIELD\n"
     ]
    }
   ],
   "source": [
    "rxn = random.choice(dataset.reactions)\n",
    "\n",
    "for p in rxn.outcomes[0].products:\n",
    "    for m in p.measurements:\n",
    "        if m.type == 3: # yield\n",
    "            print(m.percentage.value)\n",
    "            print(m.details)"
   ],
   "metadata": {
    "collapsed": false
   }
  },
  {
   "cell_type": "code",
   "execution_count": 434,
   "outputs": [
    {
     "data": {
      "text/plain": "array([['ord-426abac6664346d6b4fd864a7f287fac',\n        '[CH3:1][NH2:2].Cl[CH2:4][CH2:5][CH2:6][CH2:7][CH2:8][CH2:9][CH2:10][CH2:11][CH2:12][OH:13].[OH-].[Na+]>O>[CH3:1][NH:2][CH2:4][CH2:5][CH2:6][CH2:7][CH2:8][CH2:9][CH2:10][CH2:11][CH2:12][OH:13] |f:2.3|',\n        1.0, ..., None, 'US05282983',\n        '400 g a 40% aqueous solution of methylamine and 180 g of 9-chlorononanol were introduced into an autoclave equipped with a stirrer, a thermometer and a pressure pump and heated to 100° C. At the temperature, 93 g of a 48% aqueous solution of sodium hydroxide was forcedly introduced to the autoclave over 6 hours and the resulting mixture was aged for 1 hours. After cooling, the content was taken out from the autoclave and unreacted methylamine and water were removed therefrom under reduced pressure. Then, ethanol was added thereto and sodium chloride thus precipitated was filtered off. Ethanol was distilled off from the filtrate and the resulting solution was further subjected to distillation to give 125 g of 9-(N-methylamino)nonanol.'],\n       ['ord-e7496cd7658346bf942ec90a7f34af53',\n        '[OH2:1].[C:2](=[O:5])([O-:4])[O-:3].[Na+:6].[Na+]>[Cl-].[Na+].O>[OH2:3].[OH2:1].[OH2:3].[OH2:3].[OH2:3].[OH2:3].[OH2:3].[OH2:3].[OH2:3].[OH2:3].[C:2](=[O:3])([O-:5])[O-:4].[Na+:6].[Na+:6] |f:0.1.2.3,4.5.6,7.8.9.10.11.12.13.14.15.16.17.18.19|',\n        100.0, ..., None, 'US05283054',\n        'The neutralized brine stream from line 20 which is combined with recycled mother liquor from the sodium carbonate monohydrate crystallizer from line 45, discussed below, is removed from the combined feed tank 20A through line 21 at a temperature of from about 90° C. to about 110° C. It is then cooled by heat exchange means not shown to a temperature of about 70° C. to about 90° C. and introduced into the first of two sodium carbonate decahydrate crystallizers identified as 21A. The stream from line 21 entering crystallizer 21A normally has a sodium carbonate concentration of about 20% to about 30% with only trace amounts, not above about 1/2% of sodium bicarbonate. In crystallizer 21A, sodium carbonate decahydrate crystals are formed by evaporative cooling of the solution and water vapor is removed via line 22. Evaporative cooling is preferred because it both concentrates the liquor in the crystallizer and this evaporation also cools the solution to crystallize sodium carbonate decahydrate. The crystal slurry formed in crystallizer 21A is then passed via line 24 into an initial centrifuge 24A to separate the decahydrate crystals from their mother liquor. The mother liquor is separated from the decahydrate crystals in centrifuge 24A and sent via line 26 to a second decahydrate crystallizer 26A. The crystals in centrifuge 24A are washed with water which enters through line 25. This is desired to get good separation of impurities from the crystals by washing the sodium carbonate decahydrate crystals to remove the impurities contained in the residual mother liquor remaining on the crystals. This assures obtaining crystals of higher purity.'],\n       ['ord-912dc07a06b6409c893f7068dc620752',\n        '[NH2:1][C:2]1[CH:7]=[CH:6][CH:5]=[CH:4][CH:3]=1.Br[CH2:9][C:10]([C:12]1[CH:17]=[CH:16][CH:15]=[CH:14][CH:13]=1)=[O:11]>C(O)C>[NH:1]([CH2:9][C:10]([C:12]1[CH:17]=[CH:16][CH:15]=[CH:14][CH:13]=1)=[O:11])[C:2]1[CH:7]=[CH:6][CH:5]=[CH:4][CH:3]=1',\n        1.5, ..., 54.0, 'US05283165',\n        'To a solution of 102.44 grams (1.1 mol) of aniline in 500 mL of absolute ethanol stirring at 22° C. was added 99.52 grams (0.5 mol) of 2-bromoacetophenone while maintaining a reaction temperature of 22° C. The reaction was stirred for 1.5 hours at 22° C. during which time a light yellow precipitate formed. The crude product mixture was diluted with 200 mL of ethanol and the precipitated product was collected on a Buchner funnel and washed with 3×200 mL of ethanol, 1×200 mL water, and again 1×200 mL ethanol. The crude product was dried to afford 56.9 grams (0.27 mol, 54% yield) of 2-anilinoacetophenone, m. p.=98°-101° C.'],\n       ...,\n       ['ord-9aab193ce44c4c72b94a72ac0481779d',\n        'N1C=C[CH:4]=[CH:3][C:2]=1[C:7]1C=CC=CN=1.O1CCCC1.[CH2:18]=[CH:19][C:20](=[CH2:22])[CH3:21].C([Li])CCC.C=CC=C.C(O)(=O)C>C1CCCCC1>[CH2:18]=[CH:19][C:20](=[CH2:21])[CH3:22].[CH2:7]=[CH:2][CH:3]=[CH2:4].[CH2:18]=[CH:19][C:20](=[CH2:21])[CH3:22] |f:7.8.9|',\n        1.0, ..., None, 'US05288937',\n        'Three hundred milliliters (ml) of purified, dried cyclohexane (99.5%, Phillips Petroleum) were introduced into a six-hundred milliliter stirred glass reactor. Air was removed from the reactor under vacuum and replaced by dry nitrogen. The reactor was equipped with an air driven stirrer, a pressure gauge, thermocouple, top surface inlet valve, dip tube feeder with valve, heating-mantle and variable controller and combination nitrogen/vacuum inlet with valve. Three ml of a 0.01 M solution of bipyridyl in cyclohexane, 7.3 ml (90 mmol) of tetrahydrofuran freshly distilled from benzophenone ketyl and 1.8 ml (18 mmol) of purified isoprene were injected into the reactor. The temperature of the reactor and its contents was raised to 50° C. The solution was then titrated by addition of 1.6 M butyl lithium until a persistent red color was obtained. Following this, 3.75 ml of 1.6 M butyl lithium was injected into the reactor in order to initiate polymerization of the isoprene. The reaction was allowed to run for one hour, after which 47.5 g of purified butadiene were prepared into the reactor at a rate such that the reaction temperature did not exceed 70° C. After one hour, the reactor pressure had returned to its initial level and the formation of the second block of the copolymer was completed. Isoprene (1.8 ml, 18 mmol) was again injected into the reactor to allow for the formation of the third and final block of the triblock polymer. After one hour, 0.35 ml of acetic acid (4.5 mmol) were injected into the reactor to quench the triblock living anion. The color of the reaction mixture changed from a dark amber to colorless immediately. The mixture was cooled to room temperature, filtered through alumina/Celite, an anti-oxidant, Irganox 1076 from Ciba-Geigy (100 ppm based on dry polymer) was added and solvent was removed under reduced pressure to yield a triblock polymer of about 8400 molecular weight as a clear, colorless, viscous fluid. Infra-red analysis (Fourier Transform) showed the butadiene center block to possess 55% (1,2- and 45% of (1,4)-microstructure.'],\n       ['ord-81f9d35a23d54dfcb7e6e62243f84b1f',\n        '[CH2:1]=[CH:2][C:3](=[CH2:5])[CH3:4].[CH2:6]([Li])[CH2:7][CH2:8][CH3:9].C=CC=C.C(O)(=O)C>C1CCCCC1.O>[CH2:1]=[CH:2][C:3](=[CH2:4])[CH3:5].[CH2:6]=[CH:7][CH:8]=[CH2:9].[CH2:1]=[CH:2][C:3](=[CH2:4])[CH3:5] |f:6.7.8|',\n        1.0, ..., None, 'US05288937',\n        '1500 grams of purified, dried cyclohexane (99.5%, Phillips petroleum) were introduced into a one gallon stirred stainless steel reactor. The reactor was equipped with a stirrer, pressure gauge, thermocouple, top surface inlet, dip tube feeder with valve, variably controlled heater and heat exchange coil. Following the addition of the solvent, 50 ml (0.614 ml) of tetrahydrofuran freshly distilled from benzophenone ketyl, 43.3 ml (0.433 mol) of purified isoprene and an additional 80 g of cyclohexane were pressured into the reactor. The temperature of the reactor and its contents was raised to 50° C. Butyl lithium (61.2 ml of 1.5 M solution, 91.8 mmol) was pressured into the reactor in order to titrate impurities and initiate polymerization of the isoprene. The reaction was allowed to run for one hour, after which 1100 ml of purified butadiene (12.65 mol) were pumped into the reactor at a rate such that the reaction temperature did not exceed 60° C. Cooling water was passed through the heat exchanger during this process to aid in the control of temperature. The butadiene feed was complete within third minutes. One hour later, the formation of the second block of the copolymer was complete and isoprene (43.3 ml, 0.433 mol) in 50 g of cyclohexane was again pressured into the reactor to allow for the formation of the third and final block of the triblock polymer. After one hour, the reaction mixture was cooled and discharged into a vessel containing 5.2 ml of acetic acid (90.8 mmol) to quench the triblock living anion. The mixture was filtered through alumina/Celite, an anti-oxidant (100 ppm based on dry polymer) was added and the solvent was removed under reduced pressure to yield a triblock polymer of about 8200 molecular weight as a clear, colorless, viscous fluid. Infra-red analysis (Fourier Transform) showed the butadiene center block to posses 56 (1,2)- and 44% of (1,4)-microstructure.'],\n       ['ord-77f1a2c51e244b9eba99a144afea50af',\n        '[CH2:1]1[CH2:11][C:9](=[O:10])[C:8]2[C:3](=[CH:4][CH:5]=[CH:6][CH:7]=2)[CH2:2]1.[H-].[Na+].[C:14](=O)([O:18]CC)[O:15][CH2:16][CH3:17].Cl>O>[O:10]=[C:9]1[C:8]2[C:3](=[CH:4][CH:5]=[CH:6][CH:7]=2)[CH2:2][CH2:1][CH:11]1[C:14]([O:15][CH2:16][CH3:17])=[O:18] |f:1.2|',\n        50.0, ..., 57.599998474121094, 'US05288752',\n        'A suspension of 10 g (0.0684 mole) of α-tetralone, 3.56 g (0.0890 mole) of 60% sodium hydride and 32 g (0.2709 mole) of diethyl carbonate was heated under reflux for 1 hour, then poured into water, adjusted with conc. hydrochloric acid to a pH of 1 to 2, and extracted with ether. The ether layer was washed with water and then dried over magnesium sulfate. After evaporation of the solvent, the crude product was purified by silica gel column chromatography (hexane/ethyl acetate=9/1) to obtain 8.6 g of ethyl 1,2,3,4-tetrahydro-1-oxo-2-naphthalenecarboxylate, which was dissolved in tetrahydrofuran (220 ml) and then 1.90 g (0.0475 mole) of 60% sodium hydroxide was added under ice-cooling. After stirring for 30 minutes, 10.0 g (0.0599 mole) of ethyl bromoacetate was added, followed by stirring for 3 hours at room temperature. The reaction mixture was poured into ice-water, extracted with ether, and then the extract was subjected to washing with water, drying and solvent evaporation in a conventional manner. The crude product obtained was purified by silica gel column chromatography (hexane/ethyl acetate=5/1) to obtain 9.03 g of the following ethyl 2-ethoxycarbonyl-1,2,3,4-tetrahydro-1-oxo-2-naphthaleneacetate ##STR13##']],\n      dtype=object)"
     },
     "execution_count": 434,
     "metadata": {},
     "output_type": "execute_result"
    }
   ],
   "source": [
    "\n",
    "# df = pd.DataFrame(columns=['rxn_id', 'rxn_smiles', 'time', 'temp', 'yield', 'patent', 'notes'])\n",
    "\n",
    "\n",
    "TEMP_CONTROL_MAP = {\n",
    "    2 : 25.0,   # AMBIENT\n",
    "    6 : 0.0,      # ICE_BATH\n",
    "    9 : -78.0,    # DRY_ICE_BATH\n",
    "    11: -120.0    # LIQUID_NITROGEN\n",
    "}\n",
    "\n",
    "def parse_dataset_rxn(dataset: dataset_pb2.Dataset) -> np.ndarray:\n",
    "    N = len(dataset.reactions)\n",
    "    arr = np.empty((N, 7), dtype=object)\n",
    "    idx = 0\n",
    "\n",
    "    for rxn in dataset.reactions:\n",
    "        arr[idx, 0] = rxn.reaction_id\n",
    "        arr[idx, 1] = rxn.identifiers[0].value\n",
    "\n",
    "        arr[idx, 5] = rxn.provenance.patent\n",
    "        arr[idx, 6] = rxn.notes.procedure_details\n",
    "\n",
    "        # time (in hours)\n",
    "        time = rxn.outcomes[0].reaction_time\n",
    "        if time:\n",
    "            if time.units == 1:     # HOURS\n",
    "                t = time.value\n",
    "            elif time.units == 2:   # MINUTE\n",
    "                t = time.value / 60\n",
    "            elif time.units == 4:   # DAY\n",
    "                t = time.value * 24\n",
    "            arr[idx, 2] = t\n",
    "\n",
    "        # temperature (celcius)\n",
    "        temp = rxn.conditions.temperature\n",
    "        t = None\n",
    "        if temp.control:\n",
    "            t = TEMP_CONTROL_MAP.get(temp.control.type, None)\n",
    "        if temp.setpoint:\n",
    "            t = temp.setpoint.value\n",
    "            if temp.setpoint.units == 2: # FAHRENHEIT\n",
    "                t = fahrenheit_to_celsius(t)\n",
    "            elif temp.setpoint.units == 3: # KELVIN\n",
    "                t = t - 273.15\n",
    "        if t:\n",
    "            arr[idx, 3] = t\n",
    "\n",
    "        # yield\n",
    "        yields = {}\n",
    "        for p in rxn.outcomes[0].products:\n",
    "            for m in p.measurements:\n",
    "                if m.type == 3: # yield\n",
    "                    yields[m.details] = m.percentage.value\n",
    "        if yields:\n",
    "            if len(yields) > 1:\n",
    "                y = yields.get(\"PERCENTYIELD\", None)\n",
    "            else:\n",
    "                y = yields.get(\"CALCULATEDPERCENTYIELD\", None)\n",
    "            arr[idx, 4] = y\n",
    "        idx += 1\n",
    "    return arr\n",
    "\n",
    "parse_dataset_rxn(dataset)"
   ],
   "metadata": {
    "collapsed": false
   }
  },
  {
   "cell_type": "markdown",
   "source": [
    "# Parse whole USPTO dataset to numpy array of reactions"
   ],
   "metadata": {
    "collapsed": false
   }
  },
  {
   "cell_type": "code",
   "execution_count": 444,
   "outputs": [],
   "source": [
    "import numpy as np\n",
    "import pandas as pd\n",
    "from ord_data_load import pb2_to_numpy_rxn, ORD_PATH\n",
    "\n",
    "uspto_files = pd.read_csv(f\"{ORD_PATH}/uspto_files.csv\").squeeze()"
   ],
   "metadata": {
    "collapsed": false
   }
  },
  {
   "cell_type": "code",
   "execution_count": 445,
   "outputs": [
    {
     "name": "stdout",
     "output_type": "stream",
     "text": [
      "CPU times: total: 9.36 s\n",
      "Wall time: 18.4 s\n"
     ]
    },
    {
     "data": {
      "text/plain": "489"
     },
     "execution_count": 445,
     "metadata": {},
     "output_type": "execute_result"
    }
   ],
   "source": [
    "%%time\n",
    "n_cores = 24\n",
    "\n",
    "if __name__ == '__main__':\n",
    "    with mp.Pool(n_cores) as p:\n",
    "        res = p.map(pb2_to_numpy_rxn, uspto_files)\n",
    "len(res)"
   ],
   "metadata": {
    "collapsed": false
   }
  },
  {
   "cell_type": "code",
   "execution_count": 447,
   "outputs": [
    {
     "name": "stdout",
     "output_type": "stream",
     "text": [
      "CPU times: total: 125 ms\n",
      "Wall time: 127 ms\n"
     ]
    }
   ],
   "source": [
    "%%time\n",
    "arr = np.vstack(res)"
   ],
   "metadata": {
    "collapsed": false
   }
  },
  {
   "cell_type": "code",
   "execution_count": 459,
   "outputs": [
    {
     "name": "stdout",
     "output_type": "stream",
     "text": [
      "CPU times: total: 7.39 s\n",
      "Wall time: 20.5 s\n"
     ]
    }
   ],
   "source": [
    "%%time\n",
    "np.save(f'{ORD_PATH}/rxn_np.npy', arr)"
   ],
   "metadata": {
    "collapsed": false
   }
  },
  {
   "cell_type": "code",
   "execution_count": 458,
   "outputs": [
    {
     "data": {
      "text/plain": "array([['ord-89aff4b1c18042e4bbb1f88ebba96f86',\n        'S(Cl)([Cl:3])=O.[CH2:5]([O:13][C:14]1[CH:22]=[CH:21][C:17]([C:18](O)=[O:19])=[CH:16][CH:15]=1)[CH2:6][CH2:7][CH2:8][CH2:9][CH2:10][CH2:11][CH3:12]>>[CH2:5]([O:13][C:14]1[CH:22]=[CH:21][C:17]([C:18]([Cl:3])=[O:19])=[CH:16][CH:15]=1)[CH2:6][CH2:7][CH2:8][CH2:9][CH2:10][CH2:11][CH3:12]',\n        None, ..., None, 'US05723069',\n        'A large excess of thionyl chloride was added to 10 g of the p-octyloxybenzoic acid prepared in (1), and the mixture was refluxed for 5 hours. Excessive thionyl chloride was distilled off to give a crude end compound.'],\n       ['ord-c218088b16c541088a933a7606f68c4c',\n        '[OH:1][C:2]1[CH:10]=[CH:9][C:5]([C:6]([OH:8])=[O:7])=[CH:4][CH:3]=1.[C:11](Cl)(=[O:21])[CH2:12][CH2:13][CH2:14][CH2:15][CH2:16][CH2:17][CH2:18][CH2:19][CH3:20].N1C=CC=CC=1>O>[C:11]([O:1][C:2]1[CH:10]=[CH:9][C:5]([C:6]([OH:8])=[O:7])=[CH:4][CH:3]=1)(=[O:21])[CH2:12][CH2:13][CH2:14][CH2:15][CH2:16][CH2:17][CH2:18][CH2:19][CH3:20]',\n        24.0, ..., None, 'US05723069',\n        '10 Grams of p-hydroxybenzoic acid and 15 g of decanoic acid chloride were stirred at room temperature, and 7.2 g of pyridine was dropwise added. After the mixture was stirred for 1 day, a reaction product was poured into water, and an organic layer was extracted with dichloromethane. The organic layer was washed with 1N hydrochloric acid and dried over anhydrous sodium sulfate, the solvent was distilled off, and then residue was washed with n-hexane and then dried to give a crude end product.'],\n       ['ord-d965967cbe69411f9fd760ac1f990dfb',\n        'F[C:2]1[CH:10]=[C:9]([OH:11])[CH:8]=[CH:7][C:3]=1[C:4]([OH:6])=[O:5].[OH:12][C:13]1C=CC(C(O)=O)=C[CH:14]=1.C(OC1C=CC(C(Cl)=O)=CC=1)(=O)CCCCCCCCC>>[C:13]([O:11][C:9]1[CH:8]=[CH:7][C:3]([C:4]([OH:6])=[O:5])=[CH:2][CH:10]=1)(=[O:12])[CH3:14]',\n        None, ..., None, 'US05723069',\n        'p-Acetoxybenzoic acid was prepared in the same manner as in Example 1(2) except that the 2-fluoro-4-hydroxybenzoic acid was replaced with p-hydroxybenzoic acid. The p-hydroxybenzoic acid was chlorinated in the same manner as in the above (2), to obtain an acid chloride. 1.8 Grams of the acid chloride and 2 g of the (R)-(+)-2-fluoro-4-hydroxy-1-(1-trifluoromethyl-6-ethoxyhexyloxycarbonyl)benzene obtained in Example 1 were dissolved in 50 ml of toluene, 6 ml of pyridine was added, and the mixture was stirred for 1 day. The reaction mixture was poured into water, consecutively washed with a hydrochloric acid aqueous solution, with a sodium hydroxide aqueous solution and with water, and dried over anhydrous sodium sulfate, and the solvent was distilled off to give a crude product. The crude product was purified by silica gel column chromatography(eluting solvent: ethyl acetate/hexane=15/85), to give 2.8 g of an end product.'],\n       ...,\n       ['ord-dc172fbdf10e4ae893a012785f609af2',\n        '[OH:1][C:2]1[C:3]([CH3:18])=[C:4]2[C:9](=[C:10]([CH3:13])[C:11]=1[CH3:12])[O:8][C:7]([CH3:17])([C:14]([OH:16])=[O:15])[CH2:6][CH2:5]2.[CH3:19][C:20](OC(C)=O)=[O:21]>N1C=CC=CC=1>[C:20]([O:1][C:2]1[C:3]([CH3:18])=[C:4]2[C:9](=[C:10]([CH3:13])[C:11]=1[CH3:12])[O:8][C:7]([CH3:17])([C:14]([OH:16])=[O:15])[CH2:6][CH2:5]2)(=[O:21])[CH3:19]',\n        8.0, ..., None, 'US07968746B2',\n        '6-Hydroxy-2,5,7,8-tetramethylchroman-2-carboxylic acid (5.0 g, 19.99 mmol) was dissolved in pyridine (18 mL) and Ac2O added (10 mL) in one portion. The exothermic reaction warmed to 40° C., was let cool to room temperature and stirred overnight. The crude reaction mixture was quenched with 100 mL H2O, stirred for 1 h followed by additional 100 mL H2O and 1 h of stirring. A fine white precipitate of 6-acetoxy-2,5,7,8-tetramethylchroman-2-carboxylic acid was formed and collected by filtration (4.544 g).'],\n       ['ord-d1adc6bb76454fb9b0b4a2f30a493858',\n        '[C:1]([O:4][C:5]1[C:6]([CH3:21])=[C:7]2[C:12](=[C:13]([CH3:16])[C:14]=1[CH3:15])[O:11][C:10]([C:18](Cl)=[O:19])([CH3:17])[CH2:9][CH2:8]2)(=[O:3])[CH3:2].C(N(C(C)C)CC)(C)C.[CH2:31]([NH2:37])[CH2:32][CH2:33][CH2:34][CH2:35][CH3:36].C(O)(=O)CC(CC(O)=O)(C(O)=O)O>C(Cl)Cl.CCOC(C)=O>[C:1]([O:4][C:5]1[C:6]([CH3:21])=[C:7]2[C:12](=[C:13]([CH3:16])[C:14]=1[CH3:15])[O:11][C:10]([C:18](=[O:19])[NH:37][CH2:31][CH2:32][CH2:33][CH2:34][CH2:35][CH3:36])([CH3:17])[CH2:9][CH2:8]2)(=[O:3])[CH3:2]',\n        None, ..., None, 'US07968746B2',\n        'To one of the above aliquots of crude 2-(chlorocarbonyl)-2,5,7,8-tetramethylchroman-6-yl acetate in 10 mL CH2Cl2 was added 1.0 mL diisopropylethylamine followed by 315 mg 1-hexylamine and overnight stirring. The reaction mixture was poured into 1.0 M citric acid and 50 mL EtOAc added. The organic layer was separated and purified by flash chromatography to give 781 mg of 2-(hexylcarbamoyl)-2,5,7,8-tetramethylchroman-6-yl acetate, as a clear syrup. MS (m/z): M+376.3'],\n       ['ord-2b0f97b346414e2083183fb1d64385e2',\n        'C([O:4][C:5]1[C:6]([CH3:27])=[C:7]2[C:12](=[C:13]([CH3:16])[C:14]=1[CH3:15])[O:11][C:10]([C:18](=[O:26])[NH:19][CH2:20][CH2:21][CH2:22][CH2:23][CH2:24][CH3:25])([CH3:17])[CH2:9][CH2:8]2)(=O)C.C[O-].[Na+].Cl.CCOC(C)=O>CO.O>[CH2:20]([NH:19][C:18]([C:10]1([CH3:17])[CH2:9][CH2:8][C:7]2[C:12](=[C:13]([CH3:16])[C:14]([CH3:15])=[C:5]([OH:4])[C:6]=2[CH3:27])[O:11]1)=[O:26])[CH2:21][CH2:22][CH2:23][CH2:24][CH3:25] |f:1.2|',\n        8.0, ..., 108.0, 'US07968746B2',\n        'Crude 2-(hexylcarbamoyl)-2,5,7,8-tetramethylchroman-6-yl acetate (187 mg, 0.25 mmol) in 1.25 mL MeOH was treated with 33.7 mg (0.625 mmol) NaOMe and let stir overnight. The stirred brown solution then was diluted with water (10 mL), neutralized with 2.5 M HCl (1.5 mL) and 10 mL EtOAc added. The layers were separated and the organics dried over Na2SO4 and concentrated. Flash chromatography yielded 90 mg of N-hexyl-6-hydroxy-2,5,7,8-tetramethylchroman-2-carboxamide.']],\n      dtype=object)"
     },
     "execution_count": 458,
     "metadata": {},
     "output_type": "execute_result"
    }
   ],
   "source": [
    "arr"
   ],
   "metadata": {
    "collapsed": false
   }
  },
  {
   "cell_type": "code",
   "execution_count": 455,
   "outputs": [
    {
     "name": "stdout",
     "output_type": "stream",
     "text": [
      "CPU times: total: 15.6 ms\n",
      "Wall time: 2 ms\n"
     ]
    },
    {
     "data": {
      "text/plain": "                                                                             rxn_smiles      time  temp      yield        patent                                              notes\nord-89aff4b1c18042e4bbb1f88ebba96f86  S(Cl)([Cl:3])=O.[CH2:5]([O:13][C:14]1[CH:22]=[...      None   0.0       None    US05723069  A large excess of thionyl chloride was added t...\nord-c218088b16c541088a933a7606f68c4c  [OH:1][C:2]1[CH:10]=[CH:9][C:5]([C:6]([OH:8])=...      24.0   0.0       None    US05723069  10 Grams of p-hydroxybenzoic acid and 15 g of ...\nord-d965967cbe69411f9fd760ac1f990dfb  F[C:2]1[CH:10]=[C:9]([OH:11])[CH:8]=[CH:7][C:3...      None   0.0       None    US05723069  p-Acetoxybenzoic acid was prepared in the same...\nord-e8642ae0ecb248809067cd131fde0eed  [NH2:1][C:2]1[CH:17]=[CH:16][C:5]([C:6]([NH:8]...  0.166667  55.0  72.300003    US05723075  4,4'-Diaminobenzanilide (0.658 g, 2.5 mM) was ...\nord-83e2d9b7b08846c09e3e4e23f2dc9784  [NH2:1][C:2]1[CH:17]=[CH:16][C:5]([C:6]([NH:8]...  0.166667  55.0  43.400002    US05723075  4,4'-Diaminobenzanilide (0.568 g, 2.5 mM) was ...\n...                                                                                 ...       ...   ...        ...           ...                                                ...\nord-8fa3fc051e7f496593d7c7ba2a3aa564  [OH:1][C:2]1[C:3]([CH3:18])=[C:4]2[C:9](=[C:10...       2.0   0.0  78.099998  US07968746B2  6-Hydroxy-2,5,7,8-tetramethylchroman-2-carboxy...\nord-efddf5d225dc462db60c67a0306a9460  [OH:1][C:2]1[C:3]([CH3:23])=[C:4]2[C:9](=[C:10...       3.0   0.0       None  US07968746B2  A solution of 319 mg of (6-hydroxy-2,5,7,8-tet...\nord-dc172fbdf10e4ae893a012785f609af2  [OH:1][C:2]1[C:3]([CH3:18])=[C:4]2[C:9](=[C:10...       8.0  40.0       None  US07968746B2  6-Hydroxy-2,5,7,8-tetramethylchroman-2-carboxy...\nord-d1adc6bb76454fb9b0b4a2f30a493858  [C:1]([O:4][C:5]1[C:6]([CH3:21])=[C:7]2[C:12](...      None   0.0       None  US07968746B2  To one of the above aliquots of crude 2-(chlor...\nord-2b0f97b346414e2083183fb1d64385e2  C([O:4][C:5]1[C:6]([CH3:27])=[C:7]2[C:12](=[C:...       8.0   0.0      108.0  US07968746B2  Crude 2-(hexylcarbamoyl)-2,5,7,8-tetramethylch...\n\n[1771032 rows x 6 columns]",
      "text/html": "<div>\n<style scoped>\n    .dataframe tbody tr th:only-of-type {\n        vertical-align: middle;\n    }\n\n    .dataframe tbody tr th {\n        vertical-align: top;\n    }\n\n    .dataframe thead th {\n        text-align: right;\n    }\n</style>\n<table border=\"1\" class=\"dataframe\">\n  <thead>\n    <tr style=\"text-align: right;\">\n      <th></th>\n      <th>rxn_smiles</th>\n      <th>time</th>\n      <th>temp</th>\n      <th>yield</th>\n      <th>patent</th>\n      <th>notes</th>\n    </tr>\n  </thead>\n  <tbody>\n    <tr>\n      <th>ord-89aff4b1c18042e4bbb1f88ebba96f86</th>\n      <td>S(Cl)([Cl:3])=O.[CH2:5]([O:13][C:14]1[CH:22]=[...</td>\n      <td>None</td>\n      <td>0.0</td>\n      <td>None</td>\n      <td>US05723069</td>\n      <td>A large excess of thionyl chloride was added t...</td>\n    </tr>\n    <tr>\n      <th>ord-c218088b16c541088a933a7606f68c4c</th>\n      <td>[OH:1][C:2]1[CH:10]=[CH:9][C:5]([C:6]([OH:8])=...</td>\n      <td>24.0</td>\n      <td>0.0</td>\n      <td>None</td>\n      <td>US05723069</td>\n      <td>10 Grams of p-hydroxybenzoic acid and 15 g of ...</td>\n    </tr>\n    <tr>\n      <th>ord-d965967cbe69411f9fd760ac1f990dfb</th>\n      <td>F[C:2]1[CH:10]=[C:9]([OH:11])[CH:8]=[CH:7][C:3...</td>\n      <td>None</td>\n      <td>0.0</td>\n      <td>None</td>\n      <td>US05723069</td>\n      <td>p-Acetoxybenzoic acid was prepared in the same...</td>\n    </tr>\n    <tr>\n      <th>ord-e8642ae0ecb248809067cd131fde0eed</th>\n      <td>[NH2:1][C:2]1[CH:17]=[CH:16][C:5]([C:6]([NH:8]...</td>\n      <td>0.166667</td>\n      <td>55.0</td>\n      <td>72.300003</td>\n      <td>US05723075</td>\n      <td>4,4'-Diaminobenzanilide (0.658 g, 2.5 mM) was ...</td>\n    </tr>\n    <tr>\n      <th>ord-83e2d9b7b08846c09e3e4e23f2dc9784</th>\n      <td>[NH2:1][C:2]1[CH:17]=[CH:16][C:5]([C:6]([NH:8]...</td>\n      <td>0.166667</td>\n      <td>55.0</td>\n      <td>43.400002</td>\n      <td>US05723075</td>\n      <td>4,4'-Diaminobenzanilide (0.568 g, 2.5 mM) was ...</td>\n    </tr>\n    <tr>\n      <th>...</th>\n      <td>...</td>\n      <td>...</td>\n      <td>...</td>\n      <td>...</td>\n      <td>...</td>\n      <td>...</td>\n    </tr>\n    <tr>\n      <th>ord-8fa3fc051e7f496593d7c7ba2a3aa564</th>\n      <td>[OH:1][C:2]1[C:3]([CH3:18])=[C:4]2[C:9](=[C:10...</td>\n      <td>2.0</td>\n      <td>0.0</td>\n      <td>78.099998</td>\n      <td>US07968746B2</td>\n      <td>6-Hydroxy-2,5,7,8-tetramethylchroman-2-carboxy...</td>\n    </tr>\n    <tr>\n      <th>ord-efddf5d225dc462db60c67a0306a9460</th>\n      <td>[OH:1][C:2]1[C:3]([CH3:23])=[C:4]2[C:9](=[C:10...</td>\n      <td>3.0</td>\n      <td>0.0</td>\n      <td>None</td>\n      <td>US07968746B2</td>\n      <td>A solution of 319 mg of (6-hydroxy-2,5,7,8-tet...</td>\n    </tr>\n    <tr>\n      <th>ord-dc172fbdf10e4ae893a012785f609af2</th>\n      <td>[OH:1][C:2]1[C:3]([CH3:18])=[C:4]2[C:9](=[C:10...</td>\n      <td>8.0</td>\n      <td>40.0</td>\n      <td>None</td>\n      <td>US07968746B2</td>\n      <td>6-Hydroxy-2,5,7,8-tetramethylchroman-2-carboxy...</td>\n    </tr>\n    <tr>\n      <th>ord-d1adc6bb76454fb9b0b4a2f30a493858</th>\n      <td>[C:1]([O:4][C:5]1[C:6]([CH3:21])=[C:7]2[C:12](...</td>\n      <td>None</td>\n      <td>0.0</td>\n      <td>None</td>\n      <td>US07968746B2</td>\n      <td>To one of the above aliquots of crude 2-(chlor...</td>\n    </tr>\n    <tr>\n      <th>ord-2b0f97b346414e2083183fb1d64385e2</th>\n      <td>C([O:4][C:5]1[C:6]([CH3:27])=[C:7]2[C:12](=[C:...</td>\n      <td>8.0</td>\n      <td>0.0</td>\n      <td>108.0</td>\n      <td>US07968746B2</td>\n      <td>Crude 2-(hexylcarbamoyl)-2,5,7,8-tetramethylch...</td>\n    </tr>\n  </tbody>\n</table>\n<p>1771032 rows × 6 columns</p>\n</div>"
     },
     "execution_count": 455,
     "metadata": {},
     "output_type": "execute_result"
    }
   ],
   "source": [
    "%%time\n",
    "df = pd.DataFrame(arr[:, 1:], columns=['rxn_smiles', 'time', 'temp', 'yield', 'patent', 'notes'], index=arr[:, 0])\n",
    "df"
   ],
   "metadata": {
    "collapsed": false
   }
  },
  {
   "cell_type": "code",
   "execution_count": 456,
   "outputs": [
    {
     "name": "stdout",
     "output_type": "stream",
     "text": [
      "<class 'pandas.core.frame.DataFrame'>\n",
      "Index: 1771032 entries, ord-89aff4b1c18042e4bbb1f88ebba96f86 to ord-2b0f97b346414e2083183fb1d64385e2\n",
      "Data columns (total 6 columns):\n",
      " #   Column      Dtype \n",
      "---  ------      ----- \n",
      " 0   rxn_smiles  object\n",
      " 1   time        object\n",
      " 2   temp        object\n",
      " 3   yield       object\n",
      " 4   patent      object\n",
      " 5   notes       object\n",
      "dtypes: object(6)\n",
      "memory usage: 94.6+ MB\n"
     ]
    }
   ],
   "source": [
    "df.info()"
   ],
   "metadata": {
    "collapsed": false
   }
  },
  {
   "cell_type": "code",
   "execution_count": 457,
   "outputs": [
    {
     "name": "stdout",
     "output_type": "stream",
     "text": [
      "CPU times: total: 13.3 s\n",
      "Wall time: 13.4 s\n"
     ]
    }
   ],
   "source": [
    "%%time\n",
    "df.to_pickle(f\"{ORD_PATH}/uspto_rxn_df.pkl.zst\")"
   ],
   "metadata": {
    "collapsed": false
   }
  }
 ],
 "metadata": {
  "kernelspec": {
   "display_name": "Python 3",
   "language": "python",
   "name": "python3"
  },
  "language_info": {
   "codemirror_mode": {
    "name": "ipython",
    "version": 2
   },
   "file_extension": ".py",
   "mimetype": "text/x-python",
   "name": "python",
   "nbconvert_exporter": "python",
   "pygments_lexer": "ipython2",
   "version": "2.7.6"
  }
 },
 "nbformat": 4,
 "nbformat_minor": 0
}
